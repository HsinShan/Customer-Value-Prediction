{
  "cells": [
    {
      "cell_type": "code",
      "execution_count": null,
      "metadata": {
        "id": "TOWIMqE4bScp",
        "colab": {
          "base_uri": "https://localhost:8080/"
        },
        "outputId": "9d17137d-5032-4239-adb7-e797e3d4d498"
      },
      "outputs": [
        {
          "output_type": "stream",
          "name": "stdout",
          "text": [
            "Mounted at /content/drive\n"
          ]
        }
      ],
      "source": [
        "from google.colab import drive\n",
        "drive.mount('/content/drive')"
      ]
    },
    {
      "cell_type": "code",
      "execution_count": null,
      "metadata": {
        "id": "E9vDxSuibW_T",
        "colab": {
          "base_uri": "https://localhost:8080/"
        },
        "outputId": "d99e0eb6-e289-4186-906c-0f5f1d5e84dd"
      },
      "outputs": [
        {
          "output_type": "stream",
          "name": "stdout",
          "text": [
            "/content/drive/Shareddrives/My paper\n"
          ]
        }
      ],
      "source": [
        "%cd /content/drive/Shareddrives/My\\ paper"
      ]
    },
    {
      "cell_type": "code",
      "execution_count": null,
      "metadata": {
        "id": "kccKnbTybjMI"
      },
      "outputs": [],
      "source": [
        "import math\n",
        "import ast\n",
        "import pandas as pd\n",
        "import numpy as np\n",
        "import matplotlib.pyplot as plt\n",
        "import seaborn as sns\n",
        "from sklearn.model_selection import train_test_split\n",
        "from collections import Counter\n",
        "from sklearn.preprocessing import MinMaxScaler"
      ]
    },
    {
      "cell_type": "code",
      "execution_count": null,
      "metadata": {
        "id": "t16o5-d-ir5X"
      },
      "outputs": [],
      "source": [
        "# Import the Keras libraries and packages\n",
        "from keras.models import Sequential, Model\n",
        "from keras.layers import Dense, Activation, LSTM, Dropout, TimeDistributed, Embedding, Input\n",
        "from tensorflow.keras.optimizers import RMSprop, Adam, SGD\n",
        "from tensorflow.keras.utils import to_categorical\n",
        "from keras.callbacks import EarlyStopping\n",
        "from tensorflow.keras.preprocessing.sequence import pad_sequences\n",
        "from tensorflow.keras import regularizers\n",
        "from keras import backend as K"
      ]
    },
    {
      "cell_type": "code",
      "source": [
        "from imblearn.under_sampling import NearMiss"
      ],
      "metadata": {
        "id": "fYUSiQA28U3D"
      },
      "execution_count": null,
      "outputs": []
    },
    {
      "cell_type": "code",
      "execution_count": null,
      "metadata": {
        "id": "44iQjplo-ejy"
      },
      "outputs": [],
      "source": [
        "from sklearn.metrics import accuracy_score, f1_score, roc_auc_score, confusion_matrix, classification_report\n",
        "from sklearn import tree\n",
        "from scipy.stats import spearmanr\n",
        "from collections import Counter"
      ]
    },
    {
      "cell_type": "markdown",
      "metadata": {
        "id": "j2zLviu3lR-z"
      },
      "source": [
        "## 處理 y"
      ]
    },
    {
      "cell_type": "code",
      "execution_count": null,
      "metadata": {
        "id": "ZHlBHTcKhdcr"
      },
      "outputs": [],
      "source": [
        "data = pd.read_csv('./Customer Value Prediction/TABLES/Event Sequence.csv')"
      ]
    },
    {
      "cell_type": "code",
      "source": [
        "data.columns"
      ],
      "metadata": {
        "colab": {
          "base_uri": "https://localhost:8080/"
        },
        "id": "kqEHD2s7SOD6",
        "outputId": "da2fcd15-f938-4949-a7b9-9a881828309f"
      },
      "execution_count": null,
      "outputs": [
        {
          "output_type": "execute_result",
          "data": {
            "text/plain": [
              "Index(['MemberID', 'TotalSalesAmount', 'Active', 'VIP', 'bh', 'TimeDiff'], dtype='object')"
            ]
          },
          "metadata": {},
          "execution_count": 8
        }
      ]
    },
    {
      "cell_type": "code",
      "source": [
        "len(data)"
      ],
      "metadata": {
        "colab": {
          "base_uri": "https://localhost:8080/"
        },
        "id": "chtEwekgsHWF",
        "outputId": "baa98407-8885-4bd7-c8f2-ee066ae9aa1d"
      },
      "execution_count": null,
      "outputs": [
        {
          "output_type": "execute_result",
          "data": {
            "text/plain": [
              "3449784"
            ]
          },
          "metadata": {},
          "execution_count": 9
        }
      ]
    },
    {
      "cell_type": "code",
      "source": [
        "data.describe()"
      ],
      "metadata": {
        "colab": {
          "base_uri": "https://localhost:8080/",
          "height": 300
        },
        "id": "-op4zrR5S2zK",
        "outputId": "6d488968-d4a4-4cd2-9b95-0875640829b0"
      },
      "execution_count": null,
      "outputs": [
        {
          "output_type": "execute_result",
          "data": {
            "text/plain": [
              "       TotalSalesAmount        Active           VIP      TimeDiff\n",
              "count      3.449784e+06  3.449784e+06  3.449784e+06  3.449784e+06\n",
              "mean       1.405740e+03  3.001405e-01  1.655625e-01  7.072227e+03\n",
              "std        4.251320e+03  4.583189e-01  3.716875e-01  4.046252e+04\n",
              "min       -1.680000e+03  0.000000e+00  0.000000e+00  0.000000e+00\n",
              "25%        0.000000e+00  0.000000e+00  0.000000e+00  0.000000e+00\n",
              "50%        0.000000e+00  0.000000e+00  0.000000e+00  0.000000e+00\n",
              "75%        1.406000e+03  1.000000e+00  0.000000e+00  1.000000e+00\n",
              "max        1.814280e+05  1.000000e+00  1.000000e+00  5.270230e+05"
            ],
            "text/html": [
              "\n",
              "  <div id=\"df-965b0cc6-015e-4161-97dc-8a37893f834c\">\n",
              "    <div class=\"colab-df-container\">\n",
              "      <div>\n",
              "<style scoped>\n",
              "    .dataframe tbody tr th:only-of-type {\n",
              "        vertical-align: middle;\n",
              "    }\n",
              "\n",
              "    .dataframe tbody tr th {\n",
              "        vertical-align: top;\n",
              "    }\n",
              "\n",
              "    .dataframe thead th {\n",
              "        text-align: right;\n",
              "    }\n",
              "</style>\n",
              "<table border=\"1\" class=\"dataframe\">\n",
              "  <thead>\n",
              "    <tr style=\"text-align: right;\">\n",
              "      <th></th>\n",
              "      <th>TotalSalesAmount</th>\n",
              "      <th>Active</th>\n",
              "      <th>VIP</th>\n",
              "      <th>TimeDiff</th>\n",
              "    </tr>\n",
              "  </thead>\n",
              "  <tbody>\n",
              "    <tr>\n",
              "      <th>count</th>\n",
              "      <td>3.449784e+06</td>\n",
              "      <td>3.449784e+06</td>\n",
              "      <td>3.449784e+06</td>\n",
              "      <td>3.449784e+06</td>\n",
              "    </tr>\n",
              "    <tr>\n",
              "      <th>mean</th>\n",
              "      <td>1.405740e+03</td>\n",
              "      <td>3.001405e-01</td>\n",
              "      <td>1.655625e-01</td>\n",
              "      <td>7.072227e+03</td>\n",
              "    </tr>\n",
              "    <tr>\n",
              "      <th>std</th>\n",
              "      <td>4.251320e+03</td>\n",
              "      <td>4.583189e-01</td>\n",
              "      <td>3.716875e-01</td>\n",
              "      <td>4.046252e+04</td>\n",
              "    </tr>\n",
              "    <tr>\n",
              "      <th>min</th>\n",
              "      <td>-1.680000e+03</td>\n",
              "      <td>0.000000e+00</td>\n",
              "      <td>0.000000e+00</td>\n",
              "      <td>0.000000e+00</td>\n",
              "    </tr>\n",
              "    <tr>\n",
              "      <th>25%</th>\n",
              "      <td>0.000000e+00</td>\n",
              "      <td>0.000000e+00</td>\n",
              "      <td>0.000000e+00</td>\n",
              "      <td>0.000000e+00</td>\n",
              "    </tr>\n",
              "    <tr>\n",
              "      <th>50%</th>\n",
              "      <td>0.000000e+00</td>\n",
              "      <td>0.000000e+00</td>\n",
              "      <td>0.000000e+00</td>\n",
              "      <td>0.000000e+00</td>\n",
              "    </tr>\n",
              "    <tr>\n",
              "      <th>75%</th>\n",
              "      <td>1.406000e+03</td>\n",
              "      <td>1.000000e+00</td>\n",
              "      <td>0.000000e+00</td>\n",
              "      <td>1.000000e+00</td>\n",
              "    </tr>\n",
              "    <tr>\n",
              "      <th>max</th>\n",
              "      <td>1.814280e+05</td>\n",
              "      <td>1.000000e+00</td>\n",
              "      <td>1.000000e+00</td>\n",
              "      <td>5.270230e+05</td>\n",
              "    </tr>\n",
              "  </tbody>\n",
              "</table>\n",
              "</div>\n",
              "      <button class=\"colab-df-convert\" onclick=\"convertToInteractive('df-965b0cc6-015e-4161-97dc-8a37893f834c')\"\n",
              "              title=\"Convert this dataframe to an interactive table.\"\n",
              "              style=\"display:none;\">\n",
              "        \n",
              "  <svg xmlns=\"http://www.w3.org/2000/svg\" height=\"24px\"viewBox=\"0 0 24 24\"\n",
              "       width=\"24px\">\n",
              "    <path d=\"M0 0h24v24H0V0z\" fill=\"none\"/>\n",
              "    <path d=\"M18.56 5.44l.94 2.06.94-2.06 2.06-.94-2.06-.94-.94-2.06-.94 2.06-2.06.94zm-11 1L8.5 8.5l.94-2.06 2.06-.94-2.06-.94L8.5 2.5l-.94 2.06-2.06.94zm10 10l.94 2.06.94-2.06 2.06-.94-2.06-.94-.94-2.06-.94 2.06-2.06.94z\"/><path d=\"M17.41 7.96l-1.37-1.37c-.4-.4-.92-.59-1.43-.59-.52 0-1.04.2-1.43.59L10.3 9.45l-7.72 7.72c-.78.78-.78 2.05 0 2.83L4 21.41c.39.39.9.59 1.41.59.51 0 1.02-.2 1.41-.59l7.78-7.78 2.81-2.81c.8-.78.8-2.07 0-2.86zM5.41 20L4 18.59l7.72-7.72 1.47 1.35L5.41 20z\"/>\n",
              "  </svg>\n",
              "      </button>\n",
              "      \n",
              "  <style>\n",
              "    .colab-df-container {\n",
              "      display:flex;\n",
              "      flex-wrap:wrap;\n",
              "      gap: 12px;\n",
              "    }\n",
              "\n",
              "    .colab-df-convert {\n",
              "      background-color: #E8F0FE;\n",
              "      border: none;\n",
              "      border-radius: 50%;\n",
              "      cursor: pointer;\n",
              "      display: none;\n",
              "      fill: #1967D2;\n",
              "      height: 32px;\n",
              "      padding: 0 0 0 0;\n",
              "      width: 32px;\n",
              "    }\n",
              "\n",
              "    .colab-df-convert:hover {\n",
              "      background-color: #E2EBFA;\n",
              "      box-shadow: 0px 1px 2px rgba(60, 64, 67, 0.3), 0px 1px 3px 1px rgba(60, 64, 67, 0.15);\n",
              "      fill: #174EA6;\n",
              "    }\n",
              "\n",
              "    [theme=dark] .colab-df-convert {\n",
              "      background-color: #3B4455;\n",
              "      fill: #D2E3FC;\n",
              "    }\n",
              "\n",
              "    [theme=dark] .colab-df-convert:hover {\n",
              "      background-color: #434B5C;\n",
              "      box-shadow: 0px 1px 3px 1px rgba(0, 0, 0, 0.15);\n",
              "      filter: drop-shadow(0px 1px 2px rgba(0, 0, 0, 0.3));\n",
              "      fill: #FFFFFF;\n",
              "    }\n",
              "  </style>\n",
              "\n",
              "      <script>\n",
              "        const buttonEl =\n",
              "          document.querySelector('#df-965b0cc6-015e-4161-97dc-8a37893f834c button.colab-df-convert');\n",
              "        buttonEl.style.display =\n",
              "          google.colab.kernel.accessAllowed ? 'block' : 'none';\n",
              "\n",
              "        async function convertToInteractive(key) {\n",
              "          const element = document.querySelector('#df-965b0cc6-015e-4161-97dc-8a37893f834c');\n",
              "          const dataTable =\n",
              "            await google.colab.kernel.invokeFunction('convertToInteractive',\n",
              "                                                     [key], {});\n",
              "          if (!dataTable) return;\n",
              "\n",
              "          const docLinkHtml = 'Like what you see? Visit the ' +\n",
              "            '<a target=\"_blank\" href=https://colab.research.google.com/notebooks/data_table.ipynb>data table notebook</a>'\n",
              "            + ' to learn more about interactive tables.';\n",
              "          element.innerHTML = '';\n",
              "          dataTable['output_type'] = 'display_data';\n",
              "          await google.colab.output.renderOutput(dataTable, element);\n",
              "          const docLink = document.createElement('div');\n",
              "          docLink.innerHTML = docLinkHtml;\n",
              "          element.appendChild(docLink);\n",
              "        }\n",
              "      </script>\n",
              "    </div>\n",
              "  </div>\n",
              "  "
            ]
          },
          "metadata": {},
          "execution_count": 10
        }
      ]
    },
    {
      "cell_type": "markdown",
      "source": [
        "## 處理 Event Sequence -> 每個會員的資料合成一個 row"
      ],
      "metadata": {
        "id": "Li14vSm1TUYS"
      }
    },
    {
      "cell_type": "code",
      "source": [
        "data['bh_codes'] = pd.Categorical(data.bh).codes\n",
        "data['bh_codes'] = data['bh_codes'] + 1 # 因為之後會補 0 "
      ],
      "metadata": {
        "id": "npU7sbpHyMkI"
      },
      "execution_count": null,
      "outputs": []
    },
    {
      "cell_type": "code",
      "source": [
        "bhs = pd.DataFrame(data.groupby('MemberID')['bh'].apply(list))\n",
        "bh_codes= pd.DataFrame(data.groupby('MemberID')['bh_codes'].apply(list))\n",
        "TimeDiffs = pd.DataFrame(data.groupby('MemberID')['TimeDiff'].apply(list))"
      ],
      "metadata": {
        "id": "JPZ-UvI6xfdn"
      },
      "execution_count": null,
      "outputs": []
    },
    {
      "cell_type": "code",
      "source": [
        "data_unified = pd.merge(bhs, bh_codes, on='MemberID')\n",
        "data_unified = pd.merge(data_unified, TimeDiffs, on='MemberID')"
      ],
      "metadata": {
        "id": "ght9ZPxefuZF"
      },
      "execution_count": null,
      "outputs": []
    },
    {
      "cell_type": "code",
      "source": [
        "# get label\n",
        "label_data = data.drop_duplicates(subset=['MemberID'],keep='last')[['MemberID', 'TotalSalesAmount', 'Active', 'VIP']]"
      ],
      "metadata": {
        "id": "B_6ucgtTTTgW"
      },
      "execution_count": null,
      "outputs": []
    },
    {
      "cell_type": "code",
      "source": [
        "# merge X data and y data\n",
        "data_unified = pd.merge(data_unified, label_data, on='MemberID')"
      ],
      "metadata": {
        "id": "17gi-lePU5jR"
      },
      "execution_count": null,
      "outputs": []
    },
    {
      "cell_type": "code",
      "source": [
        "len(data_unified)"
      ],
      "metadata": {
        "colab": {
          "base_uri": "https://localhost:8080/"
        },
        "id": "KSF8DJGZVIdc",
        "outputId": "064ba5ac-05d5-41a5-c516-1d7967f2dd10"
      },
      "execution_count": null,
      "outputs": [
        {
          "output_type": "execute_result",
          "data": {
            "text/plain": [
              "83931"
            ]
          },
          "metadata": {},
          "execution_count": 16
        }
      ]
    },
    {
      "cell_type": "code",
      "source": [
        "Counter(data_unified['VIP'])"
      ],
      "metadata": {
        "colab": {
          "base_uri": "https://localhost:8080/"
        },
        "id": "5x8G8XOzrf05",
        "outputId": "9aef7419-6fbc-4f51-d62f-5814bc5b2ce6"
      },
      "execution_count": null,
      "outputs": [
        {
          "output_type": "execute_result",
          "data": {
            "text/plain": [
              "Counter({0.0: 72733, 1.0: 11198})"
            ]
          },
          "metadata": {},
          "execution_count": 17
        }
      ]
    },
    {
      "cell_type": "markdown",
      "source": [
        "## 準備 undersampling"
      ],
      "metadata": {
        "id": "utL7kN2_VPo6"
      }
    },
    {
      "cell_type": "code",
      "source": [
        "all_event = np.array(data_unified['bh_codes'])"
      ],
      "metadata": {
        "id": "QBEVW1YvVwCE"
      },
      "execution_count": null,
      "outputs": []
    },
    {
      "cell_type": "code",
      "source": [
        "event_cols = []\n",
        "PADDING_LENGTH = 60\n",
        "\n",
        "for i in range(1, PADDING_LENGTH+1):\n",
        "  event_cols.append('e_'+ str(i))"
      ],
      "metadata": {
        "id": "smO2nHSW9B8g"
      },
      "execution_count": null,
      "outputs": []
    },
    {
      "cell_type": "code",
      "source": [
        "X = pd.DataFrame(pad_sequences(all_event, maxlen=PADDING_LENGTH), columns=event_cols)\n",
        "y = data_unified['VIP']"
      ],
      "metadata": {
        "id": "Gcfuamft8pK6"
      },
      "execution_count": null,
      "outputs": []
    },
    {
      "cell_type": "code",
      "source": [
        "X.head()"
      ],
      "metadata": {
        "colab": {
          "base_uri": "https://localhost:8080/",
          "height": 235
        },
        "id": "d3hS-YlTWbvA",
        "outputId": "ff1d88ca-e787-49a2-cf58-7d294fbe3829"
      },
      "execution_count": null,
      "outputs": [
        {
          "output_type": "execute_result",
          "data": {
            "text/plain": [
              "   e_1  e_2  e_3  e_4  e_5  e_6  e_7  e_8  e_9  e_10  ...  e_51  e_52  e_53  \\\n",
              "0    6    6    6    6    6    6    6    6    6    10  ...     9     9     8   \n",
              "1    6    6   10    6    6    6    6    8    6     6  ...     9    10     1   \n",
              "2    9    9    8   10    8   10    8   10    8    10  ...     8     9     9   \n",
              "3    0    0    0    0    0    0    0    0    0     0  ...     0     0     0   \n",
              "4    8    8    9    9    9    9    8    8    9     9  ...    10     8    10   \n",
              "\n",
              "   e_54  e_55  e_56  e_57  e_58  e_59  e_60  \n",
              "0     9     9     8     9     9     8     9  \n",
              "1     8     9     9    10    10    10     9  \n",
              "2     9     9     9    10    10    10    10  \n",
              "3     0     0     0     8     8    10     8  \n",
              "4     8    10     8    10     8     8     9  \n",
              "\n",
              "[5 rows x 60 columns]"
            ],
            "text/html": [
              "\n",
              "  <div id=\"df-f8bce24f-02bf-4dce-a0e1-458911adcf3c\">\n",
              "    <div class=\"colab-df-container\">\n",
              "      <div>\n",
              "<style scoped>\n",
              "    .dataframe tbody tr th:only-of-type {\n",
              "        vertical-align: middle;\n",
              "    }\n",
              "\n",
              "    .dataframe tbody tr th {\n",
              "        vertical-align: top;\n",
              "    }\n",
              "\n",
              "    .dataframe thead th {\n",
              "        text-align: right;\n",
              "    }\n",
              "</style>\n",
              "<table border=\"1\" class=\"dataframe\">\n",
              "  <thead>\n",
              "    <tr style=\"text-align: right;\">\n",
              "      <th></th>\n",
              "      <th>e_1</th>\n",
              "      <th>e_2</th>\n",
              "      <th>e_3</th>\n",
              "      <th>e_4</th>\n",
              "      <th>e_5</th>\n",
              "      <th>e_6</th>\n",
              "      <th>e_7</th>\n",
              "      <th>e_8</th>\n",
              "      <th>e_9</th>\n",
              "      <th>e_10</th>\n",
              "      <th>...</th>\n",
              "      <th>e_51</th>\n",
              "      <th>e_52</th>\n",
              "      <th>e_53</th>\n",
              "      <th>e_54</th>\n",
              "      <th>e_55</th>\n",
              "      <th>e_56</th>\n",
              "      <th>e_57</th>\n",
              "      <th>e_58</th>\n",
              "      <th>e_59</th>\n",
              "      <th>e_60</th>\n",
              "    </tr>\n",
              "  </thead>\n",
              "  <tbody>\n",
              "    <tr>\n",
              "      <th>0</th>\n",
              "      <td>6</td>\n",
              "      <td>6</td>\n",
              "      <td>6</td>\n",
              "      <td>6</td>\n",
              "      <td>6</td>\n",
              "      <td>6</td>\n",
              "      <td>6</td>\n",
              "      <td>6</td>\n",
              "      <td>6</td>\n",
              "      <td>10</td>\n",
              "      <td>...</td>\n",
              "      <td>9</td>\n",
              "      <td>9</td>\n",
              "      <td>8</td>\n",
              "      <td>9</td>\n",
              "      <td>9</td>\n",
              "      <td>8</td>\n",
              "      <td>9</td>\n",
              "      <td>9</td>\n",
              "      <td>8</td>\n",
              "      <td>9</td>\n",
              "    </tr>\n",
              "    <tr>\n",
              "      <th>1</th>\n",
              "      <td>6</td>\n",
              "      <td>6</td>\n",
              "      <td>10</td>\n",
              "      <td>6</td>\n",
              "      <td>6</td>\n",
              "      <td>6</td>\n",
              "      <td>6</td>\n",
              "      <td>8</td>\n",
              "      <td>6</td>\n",
              "      <td>6</td>\n",
              "      <td>...</td>\n",
              "      <td>9</td>\n",
              "      <td>10</td>\n",
              "      <td>1</td>\n",
              "      <td>8</td>\n",
              "      <td>9</td>\n",
              "      <td>9</td>\n",
              "      <td>10</td>\n",
              "      <td>10</td>\n",
              "      <td>10</td>\n",
              "      <td>9</td>\n",
              "    </tr>\n",
              "    <tr>\n",
              "      <th>2</th>\n",
              "      <td>9</td>\n",
              "      <td>9</td>\n",
              "      <td>8</td>\n",
              "      <td>10</td>\n",
              "      <td>8</td>\n",
              "      <td>10</td>\n",
              "      <td>8</td>\n",
              "      <td>10</td>\n",
              "      <td>8</td>\n",
              "      <td>10</td>\n",
              "      <td>...</td>\n",
              "      <td>8</td>\n",
              "      <td>9</td>\n",
              "      <td>9</td>\n",
              "      <td>9</td>\n",
              "      <td>9</td>\n",
              "      <td>9</td>\n",
              "      <td>10</td>\n",
              "      <td>10</td>\n",
              "      <td>10</td>\n",
              "      <td>10</td>\n",
              "    </tr>\n",
              "    <tr>\n",
              "      <th>3</th>\n",
              "      <td>0</td>\n",
              "      <td>0</td>\n",
              "      <td>0</td>\n",
              "      <td>0</td>\n",
              "      <td>0</td>\n",
              "      <td>0</td>\n",
              "      <td>0</td>\n",
              "      <td>0</td>\n",
              "      <td>0</td>\n",
              "      <td>0</td>\n",
              "      <td>...</td>\n",
              "      <td>0</td>\n",
              "      <td>0</td>\n",
              "      <td>0</td>\n",
              "      <td>0</td>\n",
              "      <td>0</td>\n",
              "      <td>0</td>\n",
              "      <td>8</td>\n",
              "      <td>8</td>\n",
              "      <td>10</td>\n",
              "      <td>8</td>\n",
              "    </tr>\n",
              "    <tr>\n",
              "      <th>4</th>\n",
              "      <td>8</td>\n",
              "      <td>8</td>\n",
              "      <td>9</td>\n",
              "      <td>9</td>\n",
              "      <td>9</td>\n",
              "      <td>9</td>\n",
              "      <td>8</td>\n",
              "      <td>8</td>\n",
              "      <td>9</td>\n",
              "      <td>9</td>\n",
              "      <td>...</td>\n",
              "      <td>10</td>\n",
              "      <td>8</td>\n",
              "      <td>10</td>\n",
              "      <td>8</td>\n",
              "      <td>10</td>\n",
              "      <td>8</td>\n",
              "      <td>10</td>\n",
              "      <td>8</td>\n",
              "      <td>8</td>\n",
              "      <td>9</td>\n",
              "    </tr>\n",
              "  </tbody>\n",
              "</table>\n",
              "<p>5 rows × 60 columns</p>\n",
              "</div>\n",
              "      <button class=\"colab-df-convert\" onclick=\"convertToInteractive('df-f8bce24f-02bf-4dce-a0e1-458911adcf3c')\"\n",
              "              title=\"Convert this dataframe to an interactive table.\"\n",
              "              style=\"display:none;\">\n",
              "        \n",
              "  <svg xmlns=\"http://www.w3.org/2000/svg\" height=\"24px\"viewBox=\"0 0 24 24\"\n",
              "       width=\"24px\">\n",
              "    <path d=\"M0 0h24v24H0V0z\" fill=\"none\"/>\n",
              "    <path d=\"M18.56 5.44l.94 2.06.94-2.06 2.06-.94-2.06-.94-.94-2.06-.94 2.06-2.06.94zm-11 1L8.5 8.5l.94-2.06 2.06-.94-2.06-.94L8.5 2.5l-.94 2.06-2.06.94zm10 10l.94 2.06.94-2.06 2.06-.94-2.06-.94-.94-2.06-.94 2.06-2.06.94z\"/><path d=\"M17.41 7.96l-1.37-1.37c-.4-.4-.92-.59-1.43-.59-.52 0-1.04.2-1.43.59L10.3 9.45l-7.72 7.72c-.78.78-.78 2.05 0 2.83L4 21.41c.39.39.9.59 1.41.59.51 0 1.02-.2 1.41-.59l7.78-7.78 2.81-2.81c.8-.78.8-2.07 0-2.86zM5.41 20L4 18.59l7.72-7.72 1.47 1.35L5.41 20z\"/>\n",
              "  </svg>\n",
              "      </button>\n",
              "      \n",
              "  <style>\n",
              "    .colab-df-container {\n",
              "      display:flex;\n",
              "      flex-wrap:wrap;\n",
              "      gap: 12px;\n",
              "    }\n",
              "\n",
              "    .colab-df-convert {\n",
              "      background-color: #E8F0FE;\n",
              "      border: none;\n",
              "      border-radius: 50%;\n",
              "      cursor: pointer;\n",
              "      display: none;\n",
              "      fill: #1967D2;\n",
              "      height: 32px;\n",
              "      padding: 0 0 0 0;\n",
              "      width: 32px;\n",
              "    }\n",
              "\n",
              "    .colab-df-convert:hover {\n",
              "      background-color: #E2EBFA;\n",
              "      box-shadow: 0px 1px 2px rgba(60, 64, 67, 0.3), 0px 1px 3px 1px rgba(60, 64, 67, 0.15);\n",
              "      fill: #174EA6;\n",
              "    }\n",
              "\n",
              "    [theme=dark] .colab-df-convert {\n",
              "      background-color: #3B4455;\n",
              "      fill: #D2E3FC;\n",
              "    }\n",
              "\n",
              "    [theme=dark] .colab-df-convert:hover {\n",
              "      background-color: #434B5C;\n",
              "      box-shadow: 0px 1px 3px 1px rgba(0, 0, 0, 0.15);\n",
              "      filter: drop-shadow(0px 1px 2px rgba(0, 0, 0, 0.3));\n",
              "      fill: #FFFFFF;\n",
              "    }\n",
              "  </style>\n",
              "\n",
              "      <script>\n",
              "        const buttonEl =\n",
              "          document.querySelector('#df-f8bce24f-02bf-4dce-a0e1-458911adcf3c button.colab-df-convert');\n",
              "        buttonEl.style.display =\n",
              "          google.colab.kernel.accessAllowed ? 'block' : 'none';\n",
              "\n",
              "        async function convertToInteractive(key) {\n",
              "          const element = document.querySelector('#df-f8bce24f-02bf-4dce-a0e1-458911adcf3c');\n",
              "          const dataTable =\n",
              "            await google.colab.kernel.invokeFunction('convertToInteractive',\n",
              "                                                     [key], {});\n",
              "          if (!dataTable) return;\n",
              "\n",
              "          const docLinkHtml = 'Like what you see? Visit the ' +\n",
              "            '<a target=\"_blank\" href=https://colab.research.google.com/notebooks/data_table.ipynb>data table notebook</a>'\n",
              "            + ' to learn more about interactive tables.';\n",
              "          element.innerHTML = '';\n",
              "          dataTable['output_type'] = 'display_data';\n",
              "          await google.colab.output.renderOutput(dataTable, element);\n",
              "          const docLink = document.createElement('div');\n",
              "          docLink.innerHTML = docLinkHtml;\n",
              "          element.appendChild(docLink);\n",
              "        }\n",
              "      </script>\n",
              "    </div>\n",
              "  </div>\n",
              "  "
            ]
          },
          "metadata": {},
          "execution_count": 21
        }
      ]
    },
    {
      "cell_type": "code",
      "source": [
        "counter = Counter(y)\n",
        "print(counter)"
      ],
      "metadata": {
        "id": "9_JuxTmzsxhn",
        "colab": {
          "base_uri": "https://localhost:8080/"
        },
        "outputId": "675fd21b-e709-4688-a642-a477c7541575"
      },
      "execution_count": null,
      "outputs": [
        {
          "output_type": "stream",
          "name": "stdout",
          "text": [
            "Counter({0.0: 72733, 1.0: 11198})\n"
          ]
        }
      ]
    },
    {
      "cell_type": "markdown",
      "source": [
        "## 做 undersampling"
      ],
      "metadata": {
        "id": "Obq-FBPf6nWE"
      }
    },
    {
      "cell_type": "code",
      "source": [
        "class DataUds():\n",
        "  def __init__(self, minor_weight, X, y):\n",
        "    self.minor_weight = minor_weight\n",
        "    self.X = X\n",
        "    self.y = y\n",
        "\n",
        "    self.reset()\n",
        "\n",
        "  def reset(self):\n",
        "    self.X_res = []\n",
        "    self.y_res = []\n",
        "\n",
        "  def get_major_num(self):\n",
        "    counter = Counter(self.y)\n",
        "    print('Orginal num:', counter)\n",
        "    major_num = int(counter[1] * ((1-self.minor_weight)/self.minor_weight))\n",
        "    return major_num\n",
        "\n",
        "  def undersample(self, major_num):\n",
        "    nm = NearMiss(sampling_strategy={0: major_num}, version=1)\n",
        "    self.X_res, self.y_res = nm.fit_resample(X, y) \n",
        "    print('Undersmapling num:', Counter(self.y_res))\n",
        "\n",
        "  def run(self):\n",
        "    major_num = self.get_major_num()\n",
        "    self.undersample(major_num)"
      ],
      "metadata": {
        "id": "6wb96D3-EXfW"
      },
      "execution_count": null,
      "outputs": []
    },
    {
      "cell_type": "code",
      "source": [
        "uds_1 = DataUds(0.5, X, y)\n",
        "uds_1.run()"
      ],
      "metadata": {
        "colab": {
          "base_uri": "https://localhost:8080/"
        },
        "id": "x5-Uj4SQGjid",
        "outputId": "b64e207a-bcee-4e16-83ff-cfd8566e2165"
      },
      "execution_count": null,
      "outputs": [
        {
          "output_type": "stream",
          "name": "stdout",
          "text": [
            "Orginal num: Counter({0.0: 72733, 1.0: 11198})\n"
          ]
        }
      ]
    },
    {
      "cell_type": "code",
      "source": [
        "X_res = uds_1.X_res\n",
        "y_res = uds_1.y_res"
      ],
      "metadata": {
        "id": "jD6QHeRCG_-e"
      },
      "execution_count": null,
      "outputs": []
    },
    {
      "cell_type": "code",
      "source": [
        "X_uds = np.array(X_res[event_cols]).reshape(len(X_res), PADDING_LENGTH, 1)\n",
        "y_uds = y_res"
      ],
      "metadata": {
        "id": "AEU46JpVsqv2"
      },
      "execution_count": null,
      "outputs": []
    },
    {
      "cell_type": "code",
      "source": [
        "data_uds = pd.concat([X_res, y_res], axis=1)"
      ],
      "metadata": {
        "id": "R0-DFU4zueYf"
      },
      "execution_count": null,
      "outputs": []
    },
    {
      "cell_type": "code",
      "source": [
        "# data_uds.to_csv('Event Sequence Undersampled Data.csv', index=False)"
      ],
      "metadata": {
        "id": "F90i2ZYXtEZQ"
      },
      "execution_count": null,
      "outputs": []
    },
    {
      "cell_type": "markdown",
      "source": [
        "## 切割訓練測試集"
      ],
      "metadata": {
        "id": "rQmuA0AG6uuF"
      }
    },
    {
      "cell_type": "code",
      "execution_count": null,
      "metadata": {
        "id": "PQWt_smrjwqC"
      },
      "outputs": [],
      "source": [
        "X_train, X_test, y_train, y_test = train_test_split(X_uds, y_uds, test_size=0.2, random_state=123)"
      ]
    },
    {
      "cell_type": "code",
      "execution_count": null,
      "metadata": {
        "colab": {
          "base_uri": "https://localhost:8080/"
        },
        "id": "sUXHJ7L6teKm",
        "outputId": "c86317a3-b3c6-475d-a9ae-9069337c2807"
      },
      "outputs": [
        {
          "output_type": "stream",
          "name": "stdout",
          "text": [
            "17916 17916 4480 4480\n"
          ]
        }
      ],
      "source": [
        "print(len(X_train), len(y_train), len(X_test), len(y_test))"
      ]
    },
    {
      "cell_type": "code",
      "source": [
        "X_train.shape"
      ],
      "metadata": {
        "colab": {
          "base_uri": "https://localhost:8080/"
        },
        "id": "QIpCBr2JvP7R",
        "outputId": "83b6f2d4-12f3-4c7d-a08d-c3b6cb353bdf"
      },
      "execution_count": null,
      "outputs": [
        {
          "output_type": "execute_result",
          "data": {
            "text/plain": [
              "(17916, 60, 1)"
            ]
          },
          "metadata": {},
          "execution_count": 29
        }
      ]
    },
    {
      "cell_type": "code",
      "source": [
        "y_train.shape"
      ],
      "metadata": {
        "colab": {
          "base_uri": "https://localhost:8080/"
        },
        "id": "WrRfFlENxBtP",
        "outputId": "864656da-9b82-4798-9cfe-3d580b61da59"
      },
      "execution_count": null,
      "outputs": [
        {
          "output_type": "execute_result",
          "data": {
            "text/plain": [
              "(17916,)"
            ]
          },
          "metadata": {},
          "execution_count": 30
        }
      ]
    },
    {
      "cell_type": "code",
      "source": [
        "Counter(y_train)"
      ],
      "metadata": {
        "id": "wQDQwE4eJteH",
        "colab": {
          "base_uri": "https://localhost:8080/"
        },
        "outputId": "394c52e9-f6df-46a5-97e5-578cbcd46ed9"
      },
      "execution_count": null,
      "outputs": [
        {
          "output_type": "execute_result",
          "data": {
            "text/plain": [
              "Counter({0.0: 9004, 1.0: 8912})"
            ]
          },
          "metadata": {},
          "execution_count": 33
        }
      ]
    },
    {
      "cell_type": "code",
      "source": [
        "Counter(y_test)"
      ],
      "metadata": {
        "colab": {
          "base_uri": "https://localhost:8080/"
        },
        "id": "CvCpI-af_PJp",
        "outputId": "50dc9900-8474-48cd-c526-d1e11e6d5899"
      },
      "execution_count": null,
      "outputs": [
        {
          "output_type": "execute_result",
          "data": {
            "text/plain": [
              "Counter({0.0: 2194, 1.0: 2286})"
            ]
          },
          "metadata": {},
          "execution_count": 34
        }
      ]
    },
    {
      "cell_type": "code",
      "source": [
        "data_uds['Train/Test'] = ['Test'] * len(data_uds)\n",
        "data_uds.loc[y_train.index, 'Train/Test'] = 'Train'"
      ],
      "metadata": {
        "id": "yUGWzncHt5-w"
      },
      "execution_count": null,
      "outputs": []
    },
    {
      "cell_type": "code",
      "source": [
        "data_uds.to_csv('Train Test Data.csv', index=False)"
      ],
      "metadata": {
        "id": "eh1JGtYntfLy"
      },
      "execution_count": null,
      "outputs": []
    },
    {
      "cell_type": "markdown",
      "metadata": {
        "id": "r5g081O0jJ57"
      },
      "source": [
        "## LSTM"
      ]
    },
    {
      "cell_type": "markdown",
      "metadata": {
        "id": "_caFvn8L1PAA"
      },
      "source": [
        "## model 試驗"
      ]
    },
    {
      "cell_type": "code",
      "execution_count": null,
      "metadata": {
        "id": "-wL7tSzQLcMq",
        "colab": {
          "base_uri": "https://localhost:8080/"
        },
        "outputId": "084a64a0-9d4c-46b0-d747-d29e7c525264"
      },
      "outputs": [
        {
          "output_type": "stream",
          "name": "stdout",
          "text": [
            "Model: \"sequential_3\"\n",
            "_________________________________________________________________\n",
            " Layer (type)                Output Shape              Param #   \n",
            "=================================================================\n",
            " embedding_3 (Embedding)     (None, None, 8)           88        \n",
            "                                                                 \n",
            " lstm_3 (LSTM)               (None, None, 64)          18688     \n",
            "                                                                 \n",
            " dense_3 (Dense)             (None, None, 1)           65        \n",
            "                                                                 \n",
            "=================================================================\n",
            "Total params: 18,841\n",
            "Trainable params: 18,841\n",
            "Non-trainable params: 0\n",
            "_________________________________________________________________\n"
          ]
        },
        {
          "output_type": "stream",
          "name": "stderr",
          "text": [
            "/usr/local/lib/python3.7/dist-packages/keras/optimizer_v2/adam.py:105: UserWarning: The `lr` argument is deprecated, use `learning_rate` instead.\n",
            "  super(Adam, self).__init__(name, **kwargs)\n"
          ]
        }
      ],
      "source": [
        "model = Sequential()\n",
        "  \n",
        "model.add(Embedding(input_dim=11, output_dim=8))\n",
        "model.add(LSTM(64, input_shape=(PADDING_LENGTH, 2), return_sequences=True))        \n",
        "model.add(Dense(1, activation='sigmoid'))\n",
        "\n",
        "opt = Adam(lr=0.01)\n",
        "\n",
        "model.compile(loss='binary_crossentropy', optimizer=opt, metrics=['accuracy'])\n",
        "model.summary()"
      ]
    },
    {
      "cell_type": "code",
      "execution_count": null,
      "metadata": {
        "colab": {
          "base_uri": "https://localhost:8080/"
        },
        "id": "m5DGN4tdDJlH",
        "outputId": "dc2a637f-15d1-4d1f-f86d-940ffd5c52f1"
      },
      "outputs": [
        {
          "output_type": "stream",
          "name": "stdout",
          "text": [
            "Epoch 1/20\n",
            "28/28 [==============================] - 10s 277ms/step - loss: 0.4021 - accuracy: 0.8490 - val_loss: 0.3250 - val_accuracy: 0.8920\n",
            "Epoch 2/20\n",
            "28/28 [==============================] - 7s 255ms/step - loss: 0.3139 - accuracy: 0.8972 - val_loss: 0.3127 - val_accuracy: 0.8954\n",
            "Epoch 3/20\n",
            "28/28 [==============================] - 7s 252ms/step - loss: 0.2965 - accuracy: 0.8980 - val_loss: 0.2804 - val_accuracy: 0.8942\n",
            "Epoch 4/20\n",
            "28/28 [==============================] - 7s 254ms/step - loss: 0.2770 - accuracy: 0.8955 - val_loss: 0.2732 - val_accuracy: 0.8924\n",
            "Epoch 5/20\n",
            "28/28 [==============================] - 7s 255ms/step - loss: 0.2663 - accuracy: 0.9004 - val_loss: 0.2723 - val_accuracy: 0.8954\n",
            "Epoch 6/20\n",
            "28/28 [==============================] - 7s 257ms/step - loss: 0.2618 - accuracy: 0.9028 - val_loss: 0.2615 - val_accuracy: 0.9007\n",
            "Epoch 7/20\n",
            "28/28 [==============================] - 7s 259ms/step - loss: 0.2574 - accuracy: 0.9060 - val_loss: 0.2581 - val_accuracy: 0.9036\n",
            "Epoch 8/20\n",
            "28/28 [==============================] - 7s 254ms/step - loss: 0.2539 - accuracy: 0.9073 - val_loss: 0.2579 - val_accuracy: 0.9050\n",
            "Epoch 9/20\n",
            "28/28 [==============================] - 7s 253ms/step - loss: 0.2605 - accuracy: 0.9049 - val_loss: 0.2623 - val_accuracy: 0.9013\n",
            "Epoch 10/20\n",
            "28/28 [==============================] - 7s 255ms/step - loss: 0.2565 - accuracy: 0.9061 - val_loss: 0.2560 - val_accuracy: 0.9041\n",
            "Epoch 11/20\n",
            "28/28 [==============================] - 7s 255ms/step - loss: 0.2521 - accuracy: 0.9080 - val_loss: 0.2529 - val_accuracy: 0.9056\n",
            "Epoch 12/20\n",
            "28/28 [==============================] - 7s 253ms/step - loss: 0.2509 - accuracy: 0.9082 - val_loss: 0.2533 - val_accuracy: 0.9042\n",
            "Epoch 13/20\n",
            "28/28 [==============================] - 7s 253ms/step - loss: 0.2499 - accuracy: 0.9091 - val_loss: 0.2500 - val_accuracy: 0.9076\n",
            "Epoch 14/20\n",
            "28/28 [==============================] - 7s 257ms/step - loss: 0.2475 - accuracy: 0.9101 - val_loss: 0.2527 - val_accuracy: 0.9055\n",
            "Epoch 15/20\n",
            "28/28 [==============================] - 7s 258ms/step - loss: 0.2472 - accuracy: 0.9115 - val_loss: 0.2492 - val_accuracy: 0.9083\n",
            "Epoch 16/20\n",
            "28/28 [==============================] - 7s 253ms/step - loss: 0.2480 - accuracy: 0.9105 - val_loss: 0.2512 - val_accuracy: 0.9071\n",
            "Epoch 17/20\n",
            "28/28 [==============================] - 7s 257ms/step - loss: 0.2442 - accuracy: 0.9121 - val_loss: 0.2469 - val_accuracy: 0.9083\n",
            "Epoch 18/20\n",
            "28/28 [==============================] - 8s 282ms/step - loss: 0.2445 - accuracy: 0.9120 - val_loss: 0.2503 - val_accuracy: 0.9072\n",
            "Epoch 19/20\n",
            "28/28 [==============================] - 8s 302ms/step - loss: 0.2443 - accuracy: 0.9121 - val_loss: 0.2475 - val_accuracy: 0.9088\n",
            "Epoch 20/20\n",
            "28/28 [==============================] - 7s 259ms/step - loss: 0.2431 - accuracy: 0.9125 - val_loss: 0.2482 - val_accuracy: 0.9089\n"
          ]
        }
      ],
      "source": [
        "callback = EarlyStopping(monitor='loss', patience=3)\n",
        "EPOCHS = 20\n",
        "BATCH_SIZE = 512\n",
        "history = model.fit(X_train, y_train, batch_size=BATCH_SIZE, epochs=EPOCHS, validation_split=0.2, callbacks=[callback], verbose=1)"
      ]
    },
    {
      "cell_type": "code",
      "execution_count": null,
      "metadata": {
        "id": "iQU2lWj98eQ0",
        "colab": {
          "base_uri": "https://localhost:8080/",
          "height": 279
        },
        "outputId": "3e05ad33-3e98-40b4-ebaf-9bd8d05cc5af"
      },
      "outputs": [
        {
          "output_type": "display_data",
          "data": {
            "text/plain": [
              "<Figure size 432x288 with 1 Axes>"
            ],
            "image/png": "[encoded data removed]"
          },
          "metadata": {
            "needs_background": "light"
          }
        }
      ],
      "source": [
        "plt.plot(history.history['accuracy'], label='train')\n",
        "plt.plot(history.history['val_accuracy'], label='test')\n",
        "plt.xlabel('Epoch')\n",
        "plt.ylabel('Accuracy')\n",
        "plt.legend()\n",
        "plt.show()"
      ]
    },
    {
      "cell_type": "code",
      "execution_count": null,
      "metadata": {
        "id": "6zKui5stA-dc"
      },
      "outputs": [],
      "source": [
        "prediction = model.predict(X_test)"
      ]
    },
    {
      "cell_type": "code",
      "source": [
        "y_pred = (prediction[:, PADDING_LENGTH-1] > 0.5)\n",
        "print(\"Accuracy of the model : \", accuracy_score(y_pred, y_test))\n",
        "print('F1 score: ', f1_score(y_pred, y_test))\n",
        "print('AUC score: ', roc_auc_score(y_pred, y_test))\n",
        "print('Confusion matrix:')\n",
        "confusion_matrix(y_test,y_pred)"
      ],
      "metadata": {
        "id": "PkPbjShl55MX",
        "colab": {
          "base_uri": "https://localhost:8080/"
        },
        "outputId": "4365f362-16e8-489c-a472-daa85a2fb46e"
      },
      "execution_count": null,
      "outputs": [
        {
          "output_type": "stream",
          "name": "stdout",
          "text": [
            "Accuracy of the model :  0.9381696428571429\n",
            "F1 score:  0.9387574618615963\n",
            "AUC score:  0.9381841804164589\n",
            "Confusion matrix:\n"
          ]
        },
        {
          "output_type": "execute_result",
          "data": {
            "text/plain": [
              "array([[2080,  114],\n",
              "       [ 163, 2123]])"
            ]
          },
          "metadata": {},
          "execution_count": 133
        }
      ]
    },
    {
      "cell_type": "code",
      "execution_count": null,
      "metadata": {
        "id": "qK2xvtrxApt8"
      },
      "outputs": [],
      "source": [
        "labels = ['NotVIP', 'VIP']"
      ]
    },
    {
      "cell_type": "code",
      "source": [
        "Counter(y_test)"
      ],
      "metadata": {
        "colab": {
          "base_uri": "https://localhost:8080/"
        },
        "id": "zjoY_NAyE6QP",
        "outputId": "4c651c19-d710-4b11-a6a0-ce8dceb782af"
      },
      "execution_count": null,
      "outputs": [
        {
          "output_type": "execute_result",
          "data": {
            "text/plain": [
              "Counter({0.0: 2194, 1.0: 2286})"
            ]
          },
          "metadata": {},
          "execution_count": 135
        }
      ]
    },
    {
      "cell_type": "code",
      "execution_count": null,
      "metadata": {
        "id": "Y83PCR4Dx31B",
        "colab": {
          "base_uri": "https://localhost:8080/",
          "height": 295
        },
        "outputId": "2ccae22f-a237-4626-d23b-3a479e20935f"
      },
      "outputs": [
        {
          "output_type": "display_data",
          "data": {
            "text/plain": [
              "<Figure size 288x288 with 1 Axes>"
            ],
            "image/png": "[encoded data removed]"
          },
          "metadata": {
            "needs_background": "light"
          }
        }
      ],
      "source": [
        "matric = confusion_matrix(y_pred, y_test)\n",
        "plt.figure(figsize=(4,4))\n",
        "sns.heatmap(matric,square=True,annot=True,cbar=False,fmt='d',xticklabels=labels, yticklabels=labels)\n",
        "plt.ylabel(\"predict value\")\n",
        "plt.xlabel(\"true value\")\n",
        "plt.title(\"confusion matrix\")\n",
        "plt.show()"
      ]
    },
    {
      "cell_type": "code",
      "execution_count": null,
      "metadata": {
        "id": "IYNaD_tp6psV",
        "colab": {
          "base_uri": "https://localhost:8080/"
        },
        "outputId": "1f228f21-df2f-4a4a-c398-bb13e19439a8"
      },
      "outputs": [
        {
          "output_type": "stream",
          "name": "stdout",
          "text": [
            "report:\n",
            "               precision    recall  f1-score   support\n",
            "\n",
            "      NotVIP       0.95      0.93      0.94      2243\n",
            "         VIP       0.93      0.95      0.94      2237\n",
            "\n",
            "    accuracy                           0.94      4480\n",
            "   macro avg       0.94      0.94      0.94      4480\n",
            "weighted avg       0.94      0.94      0.94      4480\n",
            "\n"
          ]
        }
      ],
      "source": [
        "print(\"report:\\n\",classification_report(y_pred, y_test,labels=[0, 1],target_names=labels))"
      ]
    },
    {
      "cell_type": "code",
      "execution_count": null,
      "metadata": {
        "id": "EoIRhjEw3NTN"
      },
      "outputs": [],
      "source": [
        "X_all = np.rot90(np.array(X).reshape(len(X), 1, PADDING_LENGTH), 3, (1, 2))\n",
        "prediction_all = model.predict(X_all)"
      ]
    },
    {
      "cell_type": "code",
      "source": [
        "y_pred_all = (prediction_all[:, -1] > 0.5)\n",
        "print(\"Accuracy of the model : \", accuracy_score(y_pred_all, y))\n",
        "print('F1 score: ', f1_score(y_pred_all, y))\n",
        "print('AUC score: ', roc_auc_score(y_pred_all, y))\n",
        "print('Confusion matrix:')\n",
        "confusion_matrix(y_pred_all, y)"
      ],
      "metadata": {
        "id": "yTcxR3X-3NTQ",
        "colab": {
          "base_uri": "https://localhost:8080/"
        },
        "outputId": "fd659584-8206-4367-92f3-a34b524a4949"
      },
      "execution_count": null,
      "outputs": [
        {
          "output_type": "stream",
          "name": "stdout",
          "text": [
            "Accuracy of the model :  0.2689947695130524\n",
            "F1 score:  0.25450789793438644\n",
            "AUC score:  0.5453914230306358\n",
            "Confusion matrix:\n"
          ]
        },
        {
          "output_type": "execute_result",
          "data": {
            "text/plain": [
              "array([[12104,   725],\n",
              "       [60629, 10473]])"
            ]
          },
          "metadata": {},
          "execution_count": 139
        }
      ]
    },
    {
      "cell_type": "code",
      "execution_count": null,
      "metadata": {
        "id": "LuUKVuPg3NTR",
        "colab": {
          "base_uri": "https://localhost:8080/",
          "height": 295
        },
        "outputId": "b524f5e5-9829-464f-f3f9-296b29e2cfd8"
      },
      "outputs": [
        {
          "output_type": "display_data",
          "data": {
            "text/plain": [
              "<Figure size 288x288 with 1 Axes>"
            ],
            "image/png": "[encoded data removed]"
          },
          "metadata": {
            "needs_background": "light"
          }
        }
      ],
      "source": [
        "matric = confusion_matrix(y_pred_all, y)\n",
        "plt.figure(figsize=(4,4))\n",
        "sns.heatmap(matric,square=True,annot=True,cbar=False,fmt='d',xticklabels=labels, yticklabels=labels)\n",
        "plt.ylabel(\"predict value\")\n",
        "plt.xlabel(\"true value\")\n",
        "plt.title(\"confusion matrix\")\n",
        "plt.show()"
      ]
    },
    {
      "cell_type": "code",
      "execution_count": null,
      "metadata": {
        "id": "h2pNzxek3NTR",
        "colab": {
          "base_uri": "https://localhost:8080/"
        },
        "outputId": "da52bc24-d93c-4892-862d-24319a210988"
      },
      "outputs": [
        {
          "output_type": "stream",
          "name": "stdout",
          "text": [
            "report:\n",
            "               precision    recall  f1-score   support\n",
            "\n",
            "      NotVIP       0.17      0.94      0.28     12829\n",
            "         VIP       0.94      0.15      0.25     71102\n",
            "\n",
            "    accuracy                           0.27     83931\n",
            "   macro avg       0.55      0.55      0.27     83931\n",
            "weighted avg       0.82      0.27      0.26     83931\n",
            "\n"
          ]
        }
      ],
      "source": [
        "print(\"report:\\n\",classification_report(y_pred_all, y,labels=[0, 1],target_names=labels))"
      ]
    },
    {
      "cell_type": "markdown",
      "source": [
        "## 取得每次 output"
      ],
      "metadata": {
        "id": "AXTSXf42cWhZ"
      }
    },
    {
      "cell_type": "code",
      "source": [
        "model.layers[0].get_weights()[0].shape"
      ],
      "metadata": {
        "colab": {
          "base_uri": "https://localhost:8080/"
        },
        "id": "br2rpSbQFhDY",
        "outputId": "fa7237da-a340-4f78-9f0f-1311cc0aeca7"
      },
      "execution_count": null,
      "outputs": [
        {
          "output_type": "execute_result",
          "data": {
            "text/plain": [
              "(11, 8)"
            ]
          },
          "metadata": {},
          "execution_count": 117
        }
      ]
    },
    {
      "cell_type": "code",
      "source": [
        "def get_layer_output(X, idx):\n",
        "  get_output = K.function([model.layers[0].input], [model.layers[idx].output])\n",
        "  return get_output([X])"
      ],
      "metadata": {
        "id": "hyty4I989Rtx"
      },
      "execution_count": null,
      "outputs": []
    },
    {
      "cell_type": "code",
      "source": [
        "layer_output_1 = get_layer_output(X_test, 0)\n",
        "layer_output_2 = get_layer_output(X_test, 2)"
      ],
      "metadata": {
        "id": "hTWIA-o_8Dfx"
      },
      "execution_count": null,
      "outputs": []
    },
    {
      "cell_type": "code",
      "source": [
        "ot = pd.DataFrame(layer_output_2[0][:, PADDING_LENGTH-1], columns=['P'])\n",
        "ot[ot['P']>0.5]"
      ],
      "metadata": {
        "colab": {
          "base_uri": "https://localhost:8080/",
          "height": 423
        },
        "id": "lK760e-gXqyu",
        "outputId": "a4a3bf85-815d-4c1e-9c26-c3127334a352"
      },
      "execution_count": null,
      "outputs": [
        {
          "output_type": "execute_result",
          "data": {
            "text/plain": [
              "             P\n",
              "0     0.990734\n",
              "3     0.989843\n",
              "4     0.990498\n",
              "5     0.990704\n",
              "6     0.989714\n",
              "...        ...\n",
              "4471  0.989869\n",
              "4472  0.990693\n",
              "4475  0.990679\n",
              "4476  0.990549\n",
              "4477  0.989766\n",
              "\n",
              "[2202 rows x 1 columns]"
            ],
            "text/html": [
              "\n",
              "  <div id=\"df-5741b435-1acb-49f7-a7fa-7f21d7e25c81\">\n",
              "    <div class=\"colab-df-container\">\n",
              "      <div>\n",
              "<style scoped>\n",
              "    .dataframe tbody tr th:only-of-type {\n",
              "        vertical-align: middle;\n",
              "    }\n",
              "\n",
              "    .dataframe tbody tr th {\n",
              "        vertical-align: top;\n",
              "    }\n",
              "\n",
              "    .dataframe thead th {\n",
              "        text-align: right;\n",
              "    }\n",
              "</style>\n",
              "<table border=\"1\" class=\"dataframe\">\n",
              "  <thead>\n",
              "    <tr style=\"text-align: right;\">\n",
              "      <th></th>\n",
              "      <th>P</th>\n",
              "    </tr>\n",
              "  </thead>\n",
              "  <tbody>\n",
              "    <tr>\n",
              "      <th>0</th>\n",
              "      <td>0.990734</td>\n",
              "    </tr>\n",
              "    <tr>\n",
              "      <th>3</th>\n",
              "      <td>0.989843</td>\n",
              "    </tr>\n",
              "    <tr>\n",
              "      <th>4</th>\n",
              "      <td>0.990498</td>\n",
              "    </tr>\n",
              "    <tr>\n",
              "      <th>5</th>\n",
              "      <td>0.990704</td>\n",
              "    </tr>\n",
              "    <tr>\n",
              "      <th>6</th>\n",
              "      <td>0.989714</td>\n",
              "    </tr>\n",
              "    <tr>\n",
              "      <th>...</th>\n",
              "      <td>...</td>\n",
              "    </tr>\n",
              "    <tr>\n",
              "      <th>4471</th>\n",
              "      <td>0.989869</td>\n",
              "    </tr>\n",
              "    <tr>\n",
              "      <th>4472</th>\n",
              "      <td>0.990693</td>\n",
              "    </tr>\n",
              "    <tr>\n",
              "      <th>4475</th>\n",
              "      <td>0.990679</td>\n",
              "    </tr>\n",
              "    <tr>\n",
              "      <th>4476</th>\n",
              "      <td>0.990549</td>\n",
              "    </tr>\n",
              "    <tr>\n",
              "      <th>4477</th>\n",
              "      <td>0.989766</td>\n",
              "    </tr>\n",
              "  </tbody>\n",
              "</table>\n",
              "<p>2202 rows × 1 columns</p>\n",
              "</div>\n",
              "      <button class=\"colab-df-convert\" onclick=\"convertToInteractive('df-5741b435-1acb-49f7-a7fa-7f21d7e25c81')\"\n",
              "              title=\"Convert this dataframe to an interactive table.\"\n",
              "              style=\"display:none;\">\n",
              "        \n",
              "  <svg xmlns=\"http://www.w3.org/2000/svg\" height=\"24px\"viewBox=\"0 0 24 24\"\n",
              "       width=\"24px\">\n",
              "    <path d=\"M0 0h24v24H0V0z\" fill=\"none\"/>\n",
              "    <path d=\"M18.56 5.44l.94 2.06.94-2.06 2.06-.94-2.06-.94-.94-2.06-.94 2.06-2.06.94zm-11 1L8.5 8.5l.94-2.06 2.06-.94-2.06-.94L8.5 2.5l-.94 2.06-2.06.94zm10 10l.94 2.06.94-2.06 2.06-.94-2.06-.94-.94-2.06-.94 2.06-2.06.94z\"/><path d=\"M17.41 7.96l-1.37-1.37c-.4-.4-.92-.59-1.43-.59-.52 0-1.04.2-1.43.59L10.3 9.45l-7.72 7.72c-.78.78-.78 2.05 0 2.83L4 21.41c.39.39.9.59 1.41.59.51 0 1.02-.2 1.41-.59l7.78-7.78 2.81-2.81c.8-.78.8-2.07 0-2.86zM5.41 20L4 18.59l7.72-7.72 1.47 1.35L5.41 20z\"/>\n",
              "  </svg>\n",
              "      </button>\n",
              "      \n",
              "  <style>\n",
              "    .colab-df-container {\n",
              "      display:flex;\n",
              "      flex-wrap:wrap;\n",
              "      gap: 12px;\n",
              "    }\n",
              "\n",
              "    .colab-df-convert {\n",
              "      background-color: #E8F0FE;\n",
              "      border: none;\n",
              "      border-radius: 50%;\n",
              "      cursor: pointer;\n",
              "      display: none;\n",
              "      fill: #1967D2;\n",
              "      height: 32px;\n",
              "      padding: 0 0 0 0;\n",
              "      width: 32px;\n",
              "    }\n",
              "\n",
              "    .colab-df-convert:hover {\n",
              "      background-color: #E2EBFA;\n",
              "      box-shadow: 0px 1px 2px rgba(60, 64, 67, 0.3), 0px 1px 3px 1px rgba(60, 64, 67, 0.15);\n",
              "      fill: #174EA6;\n",
              "    }\n",
              "\n",
              "    [theme=dark] .colab-df-convert {\n",
              "      background-color: #3B4455;\n",
              "      fill: #D2E3FC;\n",
              "    }\n",
              "\n",
              "    [theme=dark] .colab-df-convert:hover {\n",
              "      background-color: #434B5C;\n",
              "      box-shadow: 0px 1px 3px 1px rgba(0, 0, 0, 0.15);\n",
              "      filter: drop-shadow(0px 1px 2px rgba(0, 0, 0, 0.3));\n",
              "      fill: #FFFFFF;\n",
              "    }\n",
              "  </style>\n",
              "\n",
              "      <script>\n",
              "        const buttonEl =\n",
              "          document.querySelector('#df-5741b435-1acb-49f7-a7fa-7f21d7e25c81 button.colab-df-convert');\n",
              "        buttonEl.style.display =\n",
              "          google.colab.kernel.accessAllowed ? 'block' : 'none';\n",
              "\n",
              "        async function convertToInteractive(key) {\n",
              "          const element = document.querySelector('#df-5741b435-1acb-49f7-a7fa-7f21d7e25c81');\n",
              "          const dataTable =\n",
              "            await google.colab.kernel.invokeFunction('convertToInteractive',\n",
              "                                                     [key], {});\n",
              "          if (!dataTable) return;\n",
              "\n",
              "          const docLinkHtml = 'Like what you see? Visit the ' +\n",
              "            '<a target=\"_blank\" href=https://colab.research.google.com/notebooks/data_table.ipynb>data table notebook</a>'\n",
              "            + ' to learn more about interactive tables.';\n",
              "          element.innerHTML = '';\n",
              "          dataTable['output_type'] = 'display_data';\n",
              "          await google.colab.output.renderOutput(dataTable, element);\n",
              "          const docLink = document.createElement('div');\n",
              "          docLink.innerHTML = docLinkHtml;\n",
              "          element.appendChild(docLink);\n",
              "        }\n",
              "      </script>\n",
              "    </div>\n",
              "  </div>\n",
              "  "
            ]
          },
          "metadata": {},
          "execution_count": 54
        }
      ]
    },
    {
      "cell_type": "markdown",
      "source": [
        "## 結果解釋"
      ],
      "metadata": {
        "id": "0RhgZ-_BKxW8"
      }
    },
    {
      "cell_type": "code",
      "source": [
        "bh_dict = ['None', 'add', 'checkout', 'purchase', 'register', 'search', 'traffic', 'viewactivity', 'viewcategory', 'viewmainpage', 'viewproduct']"
      ],
      "metadata": {
        "id": "pFQIkV4lHD-d"
      },
      "execution_count": null,
      "outputs": []
    },
    {
      "cell_type": "code",
      "source": [
        "def get_output_df(idx):\n",
        "  bh_eg = list(X_test[idx].reshape(1,PADDING_LENGTH)[0])\n",
        "  bh_eg = [i for i in bh_eg if i != 0] # 把 padding 的 event 拿掉\n",
        "  output_eg = list(layer_output_2[0][idx].reshape(1,PADDING_LENGTH)[0])[-len(bh_eg):]\n",
        "  bh_name_eg = [bh_dict[x] for x in bh_eg]\n",
        "\n",
        "  df_eg = pd.DataFrame([idx] * len(bh_eg), columns=['Member'])\n",
        "  df_eg['bh'] = bh_name_eg\n",
        "  df_eg['Output'] = output_eg\n",
        "\n",
        "  return df_eg"
      ],
      "metadata": {
        "id": "kyti7tl_yC7w"
      },
      "execution_count": null,
      "outputs": []
    },
    {
      "cell_type": "code",
      "source": [
        "def output_ex(idx):\n",
        "  eg_1 = list(X_test[idx].reshape(1,PADDING_LENGTH)[0])\n",
        "  eg_1 = [i for i in eg_1 if i != 0] # 把 padding 的 event 拿掉\n",
        "  output_1 = list(layer_output_2[0][idx].reshape(1,PADDING_LENGTH)[0])[-len(eg_1):]\n",
        "\n",
        "  # 開始繪圖\n",
        "  x_axis = range(len(eg_1))\n",
        "  base = [0.5] * len(x_axis)\n",
        "  eg_1_bh = [bh_dict[x] for x in eg_1]\n",
        "\n",
        "  plt.figure(figsize=(12,6))\n",
        "  plt.plot(x_axis, output_1, color=\"red\", marker='o', markerfacecolor='black', markersize=4)\n",
        "  plt.plot(x_axis, base, color=\"blue\", linestyle='dashed')\n",
        "  plt.xticks(x_axis,eg_1_bh,rotation=90)\n",
        "  plt.xlabel('Behavior Events')\n",
        "  plt.ylabel('P(VIP)')\n",
        "  plt.show()"
      ],
      "metadata": {
        "id": "Or3e1jPRxqmv"
      },
      "execution_count": null,
      "outputs": []
    },
    {
      "cell_type": "code",
      "source": [
        "output_ex(2)"
      ],
      "metadata": {
        "colab": {
          "base_uri": "https://localhost:8080/",
          "height": 451
        },
        "id": "1cVyhFfPKu81",
        "outputId": "799a1719-6c5a-4998-eda7-2b4e724727cd"
      },
      "execution_count": null,
      "outputs": [
        {
          "output_type": "display_data",
          "data": {
            "text/plain": [
              "<Figure size 864x432 with 1 Axes>"
            ],
            "image/png": "[encoded data removed]"
          },
          "metadata": {
            "needs_background": "light"
          }
        }
      ]
    },
    {
      "cell_type": "code",
      "source": [
        "output_ex(200)"
      ],
      "metadata": {
        "colab": {
          "base_uri": "https://localhost:8080/",
          "height": 445
        },
        "id": "Y8ypcZE8PbIQ",
        "outputId": "03153ae8-bbb0-4fd5-8691-394af7d5f05b"
      },
      "execution_count": null,
      "outputs": [
        {
          "output_type": "display_data",
          "data": {
            "text/plain": [
              "<Figure size 864x432 with 1 Axes>"
            ],
            "image/png": "[encoded data removed]"
          },
          "metadata": {
            "needs_background": "light"
          }
        }
      ]
    },
    {
      "cell_type": "code",
      "source": [
        ""
      ],
      "metadata": {
        "id": "cpJY2yu9QNOr"
      },
      "execution_count": null,
      "outputs": []
    },
    {
      "cell_type": "markdown",
      "source": [
        "## Tune LSTM"
      ],
      "metadata": {
        "id": "wS3Ii4JoUc3N"
      }
    },
    {
      "cell_type": "code",
      "source": [
        "def tune_LSTM(X_train, y_train, X_test, y_test, embedding_num, layers, neurons, lr, epochs, batch_size):\n",
        "  model = Sequential()\n",
        "  model.add(Embedding(input_dim=11, output_dim=embedding_num))\n",
        "  model.add(LSTM(neurons, input_shape=(PADDING_LENGTH, embedding_num), return_sequences=True))\n",
        "\n",
        "  if layers > 1:\n",
        "    for i in range(1, layers):\n",
        "      model.add(LSTM(neurons, return_sequences=True))\n",
        "\n",
        "  model.add(Dense(1, activation='sigmoid'))\n",
        "\n",
        "  decay_rate = lr / epochs\n",
        "  opt = Adam(learning_rate=lr, decay=decay_rate)\n",
        "\n",
        "  # Classification\n",
        "  model.compile(loss='binary_crossentropy', optimizer=opt, metrics=['accuracy'])\n",
        "  callback = EarlyStopping(monitor='loss', patience=3)\n",
        "  history = model.fit(X_train, y_train, batch_size=batch_size, epochs=epochs, validation_split=0.2, callbacks=[callback])\n",
        "\n",
        "  prediction = model.predict(X_test)\n",
        "  y_pred = (prediction[:, PADDING_LENGTH-1] > 0.5)\n",
        "  test_acc = accuracy_score(y_pred, y_test)\n",
        "  test_f1 = f1_score(y_pred, y_test)\n",
        "  test_AUC = roc_auc_score(y_pred, y_test)\n",
        "\n",
        "  result = {\n",
        "      'train_acc': history.history['accuracy'][-1],\n",
        "      'val_acc': history.history['val_accuracy'][-1],\n",
        "      'test_acc': test_acc,\n",
        "      'test_f1': test_f1,\n",
        "      'test_AUC': test_AUC\n",
        "  }\n",
        "  return result"
      ],
      "metadata": {
        "id": "4QyZyl1XUetP"
      },
      "execution_count": null,
      "outputs": []
    },
    {
      "cell_type": "code",
      "source": [
        "EPOCHS = 20\n",
        "BATCH_SIZE = 512\n",
        "LR = 0.01 "
      ],
      "metadata": {
        "id": "SBRzD6stz4Xm"
      },
      "execution_count": null,
      "outputs": []
    },
    {
      "cell_type": "code",
      "source": [
        "embedding_nums = [6, 8 ,10 ,16]\n",
        "layers = [1, 2, 3]\n",
        "neurons = [8, 16, 32, 64]"
      ],
      "metadata": {
        "id": "ezOM_B1EvxUW"
      },
      "execution_count": null,
      "outputs": []
    },
    {
      "cell_type": "markdown",
      "source": [
        "### Embedding Neurons"
      ],
      "metadata": {
        "id": "9bMDMfu2zwfl"
      }
    },
    {
      "cell_type": "code",
      "source": [
        "LAYERS = 1\n",
        "NEURONS = 32"
      ],
      "metadata": {
        "id": "maON3FLJq8gz"
      },
      "execution_count": null,
      "outputs": []
    },
    {
      "cell_type": "code",
      "source": [
        "model_list = []\n",
        "\n",
        "for embedding_num in embedding_nums:\n",
        "  print(embedding_num)\n",
        "  model = tune_LSTM(X_train, y_train, X_test, y_test, embedding_num, LAYERS, NEURONS, LR, EPOCHS, BATCH_SIZE)\n",
        "  model_list.append(model)"
      ],
      "metadata": {
        "colab": {
          "base_uri": "https://localhost:8080/"
        },
        "id": "x4T-tvkMsQAw",
        "outputId": "4d74ca8b-404e-4e18-8183-49dc18afc202"
      },
      "execution_count": null,
      "outputs": [
        {
          "output_type": "stream",
          "name": "stdout",
          "text": [
            "6\n",
            "Epoch 1/20\n",
            "28/28 [==============================] - 13s 194ms/step - loss: 0.4020 - accuracy: 0.8366 - val_loss: 0.3207 - val_accuracy: 0.8926\n",
            "Epoch 2/20\n",
            "28/28 [==============================] - 5s 186ms/step - loss: 0.3107 - accuracy: 0.8977 - val_loss: 0.3139 - val_accuracy: 0.8954\n",
            "Epoch 3/20\n",
            "28/28 [==============================] - 5s 163ms/step - loss: 0.3049 - accuracy: 0.8990 - val_loss: 0.3039 - val_accuracy: 0.8968\n",
            "Epoch 4/20\n",
            "28/28 [==============================] - 4s 149ms/step - loss: 0.2947 - accuracy: 0.8997 - val_loss: 0.2868 - val_accuracy: 0.9003\n",
            "Epoch 5/20\n",
            "28/28 [==============================] - 4s 151ms/step - loss: 0.2750 - accuracy: 0.9039 - val_loss: 0.3023 - val_accuracy: 0.8915\n",
            "Epoch 6/20\n",
            "28/28 [==============================] - 5s 180ms/step - loss: 0.2657 - accuracy: 0.9029 - val_loss: 0.2635 - val_accuracy: 0.9015\n",
            "Epoch 7/20\n",
            "28/28 [==============================] - 5s 162ms/step - loss: 0.2572 - accuracy: 0.9057 - val_loss: 0.2581 - val_accuracy: 0.9034\n",
            "Epoch 8/20\n",
            "28/28 [==============================] - 3s 104ms/step - loss: 0.2532 - accuracy: 0.9072 - val_loss: 0.2642 - val_accuracy: 0.8994\n",
            "Epoch 9/20\n",
            "28/28 [==============================] - 3s 100ms/step - loss: 0.2571 - accuracy: 0.9052 - val_loss: 0.2597 - val_accuracy: 0.9018\n",
            "Epoch 10/20\n",
            "28/28 [==============================] - 3s 102ms/step - loss: 0.2521 - accuracy: 0.9078 - val_loss: 0.2536 - val_accuracy: 0.9046\n",
            "Epoch 11/20\n",
            "28/28 [==============================] - 3s 102ms/step - loss: 0.2485 - accuracy: 0.9096 - val_loss: 0.2509 - val_accuracy: 0.9062\n",
            "Epoch 12/20\n",
            "28/28 [==============================] - 3s 101ms/step - loss: 0.2501 - accuracy: 0.9086 - val_loss: 0.2511 - val_accuracy: 0.9061\n",
            "Epoch 13/20\n",
            "28/28 [==============================] - 3s 102ms/step - loss: 0.2497 - accuracy: 0.9090 - val_loss: 0.2517 - val_accuracy: 0.9064\n",
            "Epoch 14/20\n",
            "28/28 [==============================] - 3s 101ms/step - loss: 0.2474 - accuracy: 0.9101 - val_loss: 0.2492 - val_accuracy: 0.9081\n",
            "Epoch 15/20\n",
            "28/28 [==============================] - 3s 100ms/step - loss: 0.2491 - accuracy: 0.9098 - val_loss: 0.2580 - val_accuracy: 0.9028\n",
            "Epoch 16/20\n",
            "28/28 [==============================] - 3s 100ms/step - loss: 0.2487 - accuracy: 0.9093 - val_loss: 0.2508 - val_accuracy: 0.9063\n",
            "Epoch 17/20\n",
            "28/28 [==============================] - 3s 102ms/step - loss: 0.2456 - accuracy: 0.9112 - val_loss: 0.2475 - val_accuracy: 0.9080\n",
            "Epoch 18/20\n",
            "28/28 [==============================] - 3s 102ms/step - loss: 0.2444 - accuracy: 0.9117 - val_loss: 0.2543 - val_accuracy: 0.9055\n",
            "Epoch 19/20\n",
            "28/28 [==============================] - 3s 101ms/step - loss: 0.2458 - accuracy: 0.9109 - val_loss: 0.2481 - val_accuracy: 0.9087\n",
            "Epoch 20/20\n",
            "28/28 [==============================] - 4s 144ms/step - loss: 0.2449 - accuracy: 0.9116 - val_loss: 0.2619 - val_accuracy: 0.9035\n",
            "8\n",
            "Epoch 1/20\n",
            "28/28 [==============================] - 9s 128ms/step - loss: 0.3970 - accuracy: 0.8326 - val_loss: 0.3180 - val_accuracy: 0.8934\n",
            "Epoch 2/20\n",
            "28/28 [==============================] - 4s 150ms/step - loss: 0.3113 - accuracy: 0.8981 - val_loss: 0.3141 - val_accuracy: 0.8955\n",
            "Epoch 3/20\n",
            "28/28 [==============================] - 4s 147ms/step - loss: 0.3052 - accuracy: 0.8991 - val_loss: 0.3061 - val_accuracy: 0.8960\n",
            "Epoch 4/20\n",
            "28/28 [==============================] - 5s 185ms/step - loss: 0.2898 - accuracy: 0.8995 - val_loss: 0.2975 - val_accuracy: 0.8967\n",
            "Epoch 5/20\n",
            "28/28 [==============================] - 4s 153ms/step - loss: 0.2772 - accuracy: 0.9010 - val_loss: 0.2803 - val_accuracy: 0.8979\n",
            "Epoch 6/20\n",
            "28/28 [==============================] - 4s 152ms/step - loss: 0.2705 - accuracy: 0.9033 - val_loss: 0.2715 - val_accuracy: 0.8987\n",
            "Epoch 7/20\n",
            "28/28 [==============================] - 5s 181ms/step - loss: 0.2750 - accuracy: 0.9040 - val_loss: 0.2680 - val_accuracy: 0.9018\n",
            "Epoch 8/20\n",
            "28/28 [==============================] - 4s 158ms/step - loss: 0.2722 - accuracy: 0.9027 - val_loss: 0.2725 - val_accuracy: 0.8974\n",
            "Epoch 9/20\n",
            "28/28 [==============================] - 3s 121ms/step - loss: 0.2671 - accuracy: 0.9031 - val_loss: 0.2710 - val_accuracy: 0.8995\n",
            "Epoch 10/20\n",
            "28/28 [==============================] - 3s 103ms/step - loss: 0.2634 - accuracy: 0.9040 - val_loss: 0.2636 - val_accuracy: 0.9006\n",
            "Epoch 11/20\n",
            "28/28 [==============================] - 3s 104ms/step - loss: 0.2580 - accuracy: 0.9052 - val_loss: 0.2636 - val_accuracy: 0.9018\n",
            "Epoch 12/20\n",
            "28/28 [==============================] - 3s 103ms/step - loss: 0.2586 - accuracy: 0.9052 - val_loss: 0.2611 - val_accuracy: 0.9020\n",
            "Epoch 13/20\n",
            "28/28 [==============================] - 3s 104ms/step - loss: 0.2538 - accuracy: 0.9067 - val_loss: 0.2525 - val_accuracy: 0.9045\n",
            "Epoch 14/20\n",
            "28/28 [==============================] - 3s 104ms/step - loss: 0.2505 - accuracy: 0.9083 - val_loss: 0.2520 - val_accuracy: 0.9061\n",
            "Epoch 15/20\n",
            "28/28 [==============================] - 3s 103ms/step - loss: 0.2476 - accuracy: 0.9097 - val_loss: 0.2488 - val_accuracy: 0.9070\n",
            "Epoch 16/20\n",
            "28/28 [==============================] - 3s 103ms/step - loss: 0.2517 - accuracy: 0.9088 - val_loss: 0.2562 - val_accuracy: 0.9051\n",
            "Epoch 17/20\n",
            "28/28 [==============================] - 3s 103ms/step - loss: 0.2473 - accuracy: 0.9104 - val_loss: 0.2511 - val_accuracy: 0.9066\n",
            "Epoch 18/20\n",
            "28/28 [==============================] - 3s 103ms/step - loss: 0.2449 - accuracy: 0.9113 - val_loss: 0.2477 - val_accuracy: 0.9079\n",
            "Epoch 19/20\n",
            "28/28 [==============================] - 3s 104ms/step - loss: 0.2462 - accuracy: 0.9106 - val_loss: 0.2480 - val_accuracy: 0.9089\n",
            "Epoch 20/20\n",
            "28/28 [==============================] - 3s 102ms/step - loss: 0.2471 - accuracy: 0.9108 - val_loss: 0.2493 - val_accuracy: 0.9077\n",
            "10\n",
            "Epoch 1/20\n",
            "28/28 [==============================] - 5s 124ms/step - loss: 0.3775 - accuracy: 0.8633 - val_loss: 0.3173 - val_accuracy: 0.8940\n",
            "Epoch 2/20\n",
            "28/28 [==============================] - 3s 104ms/step - loss: 0.3090 - accuracy: 0.8982 - val_loss: 0.3095 - val_accuracy: 0.8961\n",
            "Epoch 3/20\n",
            "28/28 [==============================] - 3s 105ms/step - loss: 0.2980 - accuracy: 0.8999 - val_loss: 0.3105 - val_accuracy: 0.8943\n",
            "Epoch 4/20\n",
            "28/28 [==============================] - 3s 104ms/step - loss: 0.2927 - accuracy: 0.8986 - val_loss: 0.2863 - val_accuracy: 0.8956\n",
            "Epoch 5/20\n",
            "28/28 [==============================] - 3s 105ms/step - loss: 0.2740 - accuracy: 0.9001 - val_loss: 0.2714 - val_accuracy: 0.8994\n",
            "Epoch 6/20\n",
            "28/28 [==============================] - 3s 104ms/step - loss: 0.2648 - accuracy: 0.9040 - val_loss: 0.2683 - val_accuracy: 0.9019\n",
            "Epoch 7/20\n",
            "28/28 [==============================] - 3s 105ms/step - loss: 0.2640 - accuracy: 0.9042 - val_loss: 0.2720 - val_accuracy: 0.9018\n",
            "Epoch 8/20\n",
            "28/28 [==============================] - 3s 105ms/step - loss: 0.2619 - accuracy: 0.9043 - val_loss: 0.2653 - val_accuracy: 0.9033\n",
            "Epoch 9/20\n",
            "28/28 [==============================] - 3s 105ms/step - loss: 0.2604 - accuracy: 0.9061 - val_loss: 0.2598 - val_accuracy: 0.9028\n",
            "Epoch 10/20\n",
            "28/28 [==============================] - 3s 105ms/step - loss: 0.2540 - accuracy: 0.9072 - val_loss: 0.2543 - val_accuracy: 0.9042\n",
            "Epoch 11/20\n",
            "28/28 [==============================] - 4s 135ms/step - loss: 0.2485 - accuracy: 0.9092 - val_loss: 0.2495 - val_accuracy: 0.9058\n",
            "Epoch 12/20\n",
            "28/28 [==============================] - 3s 103ms/step - loss: 0.2516 - accuracy: 0.9077 - val_loss: 0.2514 - val_accuracy: 0.9053\n",
            "Epoch 13/20\n",
            "28/28 [==============================] - 3s 104ms/step - loss: 0.2474 - accuracy: 0.9105 - val_loss: 0.2500 - val_accuracy: 0.9078\n",
            "Epoch 14/20\n",
            "28/28 [==============================] - 3s 104ms/step - loss: 0.2459 - accuracy: 0.9111 - val_loss: 0.2475 - val_accuracy: 0.9079\n",
            "Epoch 15/20\n",
            "28/28 [==============================] - 3s 105ms/step - loss: 0.2447 - accuracy: 0.9119 - val_loss: 0.2460 - val_accuracy: 0.9091\n",
            "Epoch 16/20\n",
            "28/28 [==============================] - 3s 105ms/step - loss: 0.2453 - accuracy: 0.9115 - val_loss: 0.2479 - val_accuracy: 0.9078\n",
            "Epoch 17/20\n",
            "28/28 [==============================] - 3s 105ms/step - loss: 0.2438 - accuracy: 0.9120 - val_loss: 0.2469 - val_accuracy: 0.9085\n",
            "Epoch 18/20\n",
            "28/28 [==============================] - 3s 105ms/step - loss: 0.2448 - accuracy: 0.9115 - val_loss: 0.2469 - val_accuracy: 0.9077\n",
            "Epoch 19/20\n",
            "28/28 [==============================] - 3s 104ms/step - loss: 0.2431 - accuracy: 0.9123 - val_loss: 0.2447 - val_accuracy: 0.9095\n",
            "Epoch 20/20\n",
            "28/28 [==============================] - 3s 105ms/step - loss: 0.2438 - accuracy: 0.9120 - val_loss: 0.2483 - val_accuracy: 0.9073\n",
            "16\n",
            "Epoch 1/20\n",
            "28/28 [==============================] - 7s 190ms/step - loss: 0.3958 - accuracy: 0.8450 - val_loss: 0.3157 - val_accuracy: 0.8940\n",
            "Epoch 2/20\n",
            "28/28 [==============================] - 3s 110ms/step - loss: 0.3031 - accuracy: 0.8979 - val_loss: 0.2945 - val_accuracy: 0.8954\n",
            "Epoch 3/20\n",
            "28/28 [==============================] - 3s 111ms/step - loss: 0.2758 - accuracy: 0.9008 - val_loss: 0.2714 - val_accuracy: 0.8988\n",
            "Epoch 4/20\n",
            "28/28 [==============================] - 3s 115ms/step - loss: 0.2674 - accuracy: 0.9016 - val_loss: 0.2733 - val_accuracy: 0.8979\n",
            "Epoch 5/20\n",
            "28/28 [==============================] - 3s 114ms/step - loss: 0.2678 - accuracy: 0.9015 - val_loss: 0.2777 - val_accuracy: 0.8929\n",
            "Epoch 6/20\n",
            "28/28 [==============================] - 3s 115ms/step - loss: 0.2685 - accuracy: 0.9013 - val_loss: 0.2666 - val_accuracy: 0.9001\n",
            "Epoch 7/20\n",
            "28/28 [==============================] - 3s 113ms/step - loss: 0.2629 - accuracy: 0.9039 - val_loss: 0.2654 - val_accuracy: 0.9006\n",
            "Epoch 8/20\n",
            "28/28 [==============================] - 3s 115ms/step - loss: 0.2588 - accuracy: 0.9048 - val_loss: 0.2636 - val_accuracy: 0.9005\n",
            "Epoch 9/20\n",
            "28/28 [==============================] - 3s 113ms/step - loss: 0.2563 - accuracy: 0.9061 - val_loss: 0.2592 - val_accuracy: 0.9022\n",
            "Epoch 10/20\n",
            "28/28 [==============================] - 3s 116ms/step - loss: 0.2545 - accuracy: 0.9065 - val_loss: 0.2596 - val_accuracy: 0.9012\n",
            "Epoch 11/20\n",
            "28/28 [==============================] - 3s 114ms/step - loss: 0.2522 - accuracy: 0.9078 - val_loss: 0.2544 - val_accuracy: 0.9044\n",
            "Epoch 12/20\n",
            "28/28 [==============================] - 3s 115ms/step - loss: 0.2520 - accuracy: 0.9079 - val_loss: 0.2553 - val_accuracy: 0.9042\n",
            "Epoch 13/20\n",
            "28/28 [==============================] - 3s 116ms/step - loss: 0.2498 - accuracy: 0.9089 - val_loss: 0.2523 - val_accuracy: 0.9060\n",
            "Epoch 14/20\n",
            "28/28 [==============================] - 3s 114ms/step - loss: 0.2481 - accuracy: 0.9100 - val_loss: 0.2507 - val_accuracy: 0.9061\n",
            "Epoch 15/20\n",
            "28/28 [==============================] - 3s 114ms/step - loss: 0.2463 - accuracy: 0.9112 - val_loss: 0.2491 - val_accuracy: 0.9084\n",
            "Epoch 16/20\n",
            "28/28 [==============================] - 3s 115ms/step - loss: 0.2462 - accuracy: 0.9110 - val_loss: 0.2522 - val_accuracy: 0.9061\n",
            "Epoch 17/20\n",
            "28/28 [==============================] - 3s 114ms/step - loss: 0.2458 - accuracy: 0.9114 - val_loss: 0.2507 - val_accuracy: 0.9067\n",
            "Epoch 18/20\n",
            "28/28 [==============================] - 3s 114ms/step - loss: 0.2468 - accuracy: 0.9107 - val_loss: 0.2510 - val_accuracy: 0.9059\n",
            "Epoch 19/20\n",
            "28/28 [==============================] - 3s 115ms/step - loss: 0.2448 - accuracy: 0.9116 - val_loss: 0.2530 - val_accuracy: 0.9061\n",
            "Epoch 20/20\n",
            "28/28 [==============================] - 3s 114ms/step - loss: 0.2464 - accuracy: 0.9107 - val_loss: 0.2464 - val_accuracy: 0.9086\n"
          ]
        }
      ]
    },
    {
      "cell_type": "code",
      "source": [
        "result_df = pd.DataFrame(model_list)"
      ],
      "metadata": {
        "id": "FGHWw4SD7NiW"
      },
      "execution_count": null,
      "outputs": []
    },
    {
      "cell_type": "code",
      "source": [
        "result_df"
      ],
      "metadata": {
        "colab": {
          "base_uri": "https://localhost:8080/",
          "height": 175
        },
        "id": "42KC8ih78MJE",
        "outputId": "38e1ab23-b30c-4d0c-de0c-12836c9b9bcc"
      },
      "execution_count": null,
      "outputs": [
        {
          "output_type": "execute_result",
          "data": {
            "text/plain": [
              "   train_acc   val_acc  test_acc   test_f1  test_AUC\n",
              "0   0.911587  0.903511  0.939286  0.937298  0.943270\n",
              "1   0.910766  0.907729  0.932813  0.933890  0.932752\n",
              "2   0.911999  0.907296  0.949554  0.948636  0.951560\n",
              "3   0.910729  0.908571  0.953348  0.952511  0.955339"
            ],
            "text/html": [
              "\n",
              "  <div id=\"df-868174a0-09a2-4281-abf7-985ad61dcd4a\">\n",
              "    <div class=\"colab-df-container\">\n",
              "      <div>\n",
              "<style scoped>\n",
              "    .dataframe tbody tr th:only-of-type {\n",
              "        vertical-align: middle;\n",
              "    }\n",
              "\n",
              "    .dataframe tbody tr th {\n",
              "        vertical-align: top;\n",
              "    }\n",
              "\n",
              "    .dataframe thead th {\n",
              "        text-align: right;\n",
              "    }\n",
              "</style>\n",
              "<table border=\"1\" class=\"dataframe\">\n",
              "  <thead>\n",
              "    <tr style=\"text-align: right;\">\n",
              "      <th></th>\n",
              "      <th>train_acc</th>\n",
              "      <th>val_acc</th>\n",
              "      <th>test_acc</th>\n",
              "      <th>test_f1</th>\n",
              "      <th>test_AUC</th>\n",
              "    </tr>\n",
              "  </thead>\n",
              "  <tbody>\n",
              "    <tr>\n",
              "      <th>0</th>\n",
              "      <td>0.911587</td>\n",
              "      <td>0.903511</td>\n",
              "      <td>0.939286</td>\n",
              "      <td>0.937298</td>\n",
              "      <td>0.943270</td>\n",
              "    </tr>\n",
              "    <tr>\n",
              "      <th>1</th>\n",
              "      <td>0.910766</td>\n",
              "      <td>0.907729</td>\n",
              "      <td>0.932813</td>\n",
              "      <td>0.933890</td>\n",
              "      <td>0.932752</td>\n",
              "    </tr>\n",
              "    <tr>\n",
              "      <th>2</th>\n",
              "      <td>0.911999</td>\n",
              "      <td>0.907296</td>\n",
              "      <td>0.949554</td>\n",
              "      <td>0.948636</td>\n",
              "      <td>0.951560</td>\n",
              "    </tr>\n",
              "    <tr>\n",
              "      <th>3</th>\n",
              "      <td>0.910729</td>\n",
              "      <td>0.908571</td>\n",
              "      <td>0.953348</td>\n",
              "      <td>0.952511</td>\n",
              "      <td>0.955339</td>\n",
              "    </tr>\n",
              "  </tbody>\n",
              "</table>\n",
              "</div>\n",
              "      <button class=\"colab-df-convert\" onclick=\"convertToInteractive('df-868174a0-09a2-4281-abf7-985ad61dcd4a')\"\n",
              "              title=\"Convert this dataframe to an interactive table.\"\n",
              "              style=\"display:none;\">\n",
              "        \n",
              "  <svg xmlns=\"http://www.w3.org/2000/svg\" height=\"24px\"viewBox=\"0 0 24 24\"\n",
              "       width=\"24px\">\n",
              "    <path d=\"M0 0h24v24H0V0z\" fill=\"none\"/>\n",
              "    <path d=\"M18.56 5.44l.94 2.06.94-2.06 2.06-.94-2.06-.94-.94-2.06-.94 2.06-2.06.94zm-11 1L8.5 8.5l.94-2.06 2.06-.94-2.06-.94L8.5 2.5l-.94 2.06-2.06.94zm10 10l.94 2.06.94-2.06 2.06-.94-2.06-.94-.94-2.06-.94 2.06-2.06.94z\"/><path d=\"M17.41 7.96l-1.37-1.37c-.4-.4-.92-.59-1.43-.59-.52 0-1.04.2-1.43.59L10.3 9.45l-7.72 7.72c-.78.78-.78 2.05 0 2.83L4 21.41c.39.39.9.59 1.41.59.51 0 1.02-.2 1.41-.59l7.78-7.78 2.81-2.81c.8-.78.8-2.07 0-2.86zM5.41 20L4 18.59l7.72-7.72 1.47 1.35L5.41 20z\"/>\n",
              "  </svg>\n",
              "      </button>\n",
              "      \n",
              "  <style>\n",
              "    .colab-df-container {\n",
              "      display:flex;\n",
              "      flex-wrap:wrap;\n",
              "      gap: 12px;\n",
              "    }\n",
              "\n",
              "    .colab-df-convert {\n",
              "      background-color: #E8F0FE;\n",
              "      border: none;\n",
              "      border-radius: 50%;\n",
              "      cursor: pointer;\n",
              "      display: none;\n",
              "      fill: #1967D2;\n",
              "      height: 32px;\n",
              "      padding: 0 0 0 0;\n",
              "      width: 32px;\n",
              "    }\n",
              "\n",
              "    .colab-df-convert:hover {\n",
              "      background-color: #E2EBFA;\n",
              "      box-shadow: 0px 1px 2px rgba(60, 64, 67, 0.3), 0px 1px 3px 1px rgba(60, 64, 67, 0.15);\n",
              "      fill: #174EA6;\n",
              "    }\n",
              "\n",
              "    [theme=dark] .colab-df-convert {\n",
              "      background-color: #3B4455;\n",
              "      fill: #D2E3FC;\n",
              "    }\n",
              "\n",
              "    [theme=dark] .colab-df-convert:hover {\n",
              "      background-color: #434B5C;\n",
              "      box-shadow: 0px 1px 3px 1px rgba(0, 0, 0, 0.15);\n",
              "      filter: drop-shadow(0px 1px 2px rgba(0, 0, 0, 0.3));\n",
              "      fill: #FFFFFF;\n",
              "    }\n",
              "  </style>\n",
              "\n",
              "      <script>\n",
              "        const buttonEl =\n",
              "          document.querySelector('#df-868174a0-09a2-4281-abf7-985ad61dcd4a button.colab-df-convert');\n",
              "        buttonEl.style.display =\n",
              "          google.colab.kernel.accessAllowed ? 'block' : 'none';\n",
              "\n",
              "        async function convertToInteractive(key) {\n",
              "          const element = document.querySelector('#df-868174a0-09a2-4281-abf7-985ad61dcd4a');\n",
              "          const dataTable =\n",
              "            await google.colab.kernel.invokeFunction('convertToInteractive',\n",
              "                                                     [key], {});\n",
              "          if (!dataTable) return;\n",
              "\n",
              "          const docLinkHtml = 'Like what you see? Visit the ' +\n",
              "            '<a target=\"_blank\" href=https://colab.research.google.com/notebooks/data_table.ipynb>data table notebook</a>'\n",
              "            + ' to learn more about interactive tables.';\n",
              "          element.innerHTML = '';\n",
              "          dataTable['output_type'] = 'display_data';\n",
              "          await google.colab.output.renderOutput(dataTable, element);\n",
              "          const docLink = document.createElement('div');\n",
              "          docLink.innerHTML = docLinkHtml;\n",
              "          element.appendChild(docLink);\n",
              "        }\n",
              "      </script>\n",
              "    </div>\n",
              "  </div>\n",
              "  "
            ]
          },
          "metadata": {},
          "execution_count": 92
        }
      ]
    },
    {
      "cell_type": "code",
      "source": [
        "plt.figure(figsize=(4,3))\n",
        "plt.plot(range(len(embedding_nums)), result_df['train_acc'], color=\"blue\", marker='o', markerfacecolor='black', markersize=4,  label='train acc')\n",
        "plt.plot(range(len(embedding_nums)), result_df['val_acc'], color=\"darkblue\", marker='o', markerfacecolor='black', markersize=4, label='val acc')\n",
        "plt.plot(range(len(embedding_nums)), result_df['test_acc'], color=\"green\", marker='o', markerfacecolor='black', markersize=4, label='test acc')\n",
        "plt.plot(range(len(embedding_nums)), result_df['test_f1'], color=\"red\", marker='o', markerfacecolor='black', markersize=4, label='test f1')\n",
        "plt.plot(range(len(embedding_nums)), result_df['test_AUC'], color=\"orange\", marker='o', markerfacecolor='black', markersize=4, label='test auc')\n",
        "plt.xticks(range(len(embedding_nums)), embedding_nums)\n",
        "plt.title('Hidden Neurons of Embedding Layer')\n",
        "plt.xlabel('neurons')\n",
        "plt.ylabel('Score')\n",
        "plt.legend()\n",
        "plt.show()"
      ],
      "metadata": {
        "colab": {
          "base_uri": "https://localhost:8080/",
          "height": 241
        },
        "id": "H2Ad63zSjB1z",
        "outputId": "dddbdc9a-0465-4e05-ab42-30f5405239ad"
      },
      "execution_count": null,
      "outputs": [
        {
          "output_type": "display_data",
          "data": {
            "text/plain": [
              "<Figure size 288x216 with 1 Axes>"
            ],
            "image/png": "[encoded data removed]"
          },
          "metadata": {
            "needs_background": "light"
          }
        }
      ]
    },
    {
      "cell_type": "markdown",
      "source": [
        "### LSTM Layers"
      ],
      "metadata": {
        "id": "nGmb5j-R0GZW"
      }
    },
    {
      "cell_type": "code",
      "source": [
        "EMBEDDING = 16\n",
        "NEURONS = 32"
      ],
      "metadata": {
        "id": "g4gbMSNC0GZW"
      },
      "execution_count": null,
      "outputs": []
    },
    {
      "cell_type": "code",
      "source": [
        "model_list = []\n",
        "\n",
        "for layer in layers:\n",
        "  print(layer)\n",
        "  model = tune_LSTM(X_train, y_train, X_test, y_test, EMBEDDING, layer, NEURONS, LR, EPOCHS, BATCH_SIZE)\n",
        "  model_list.append(model)"
      ],
      "metadata": {
        "colab": {
          "base_uri": "https://localhost:8080/"
        },
        "outputId": "d32e68eb-4c7f-4f55-f5de-077e4317c1bf",
        "id": "7nN3MRRF0GZW"
      },
      "execution_count": null,
      "outputs": [
        {
          "output_type": "stream",
          "name": "stdout",
          "text": [
            "1\n",
            "Epoch 1/20\n",
            "28/28 [==============================] - 6s 128ms/step - loss: 0.3784 - accuracy: 0.8601 - val_loss: 0.3170 - val_accuracy: 0.8945\n",
            "Epoch 2/20\n",
            "28/28 [==============================] - 3s 111ms/step - loss: 0.3079 - accuracy: 0.8984 - val_loss: 0.3066 - val_accuracy: 0.8956\n",
            "Epoch 3/20\n",
            "28/28 [==============================] - 3s 111ms/step - loss: 0.2929 - accuracy: 0.8990 - val_loss: 0.2804 - val_accuracy: 0.8964\n",
            "Epoch 4/20\n",
            "28/28 [==============================] - 3s 111ms/step - loss: 0.2724 - accuracy: 0.8997 - val_loss: 0.2738 - val_accuracy: 0.8995\n",
            "Epoch 5/20\n",
            "28/28 [==============================] - 3s 110ms/step - loss: 0.2705 - accuracy: 0.9031 - val_loss: 0.2736 - val_accuracy: 0.8998\n",
            "Epoch 6/20\n",
            "28/28 [==============================] - 3s 110ms/step - loss: 0.2637 - accuracy: 0.9037 - val_loss: 0.2663 - val_accuracy: 0.8990\n",
            "Epoch 7/20\n",
            "28/28 [==============================] - 3s 111ms/step - loss: 0.2617 - accuracy: 0.9041 - val_loss: 0.2620 - val_accuracy: 0.9021\n",
            "Epoch 8/20\n",
            "28/28 [==============================] - 4s 149ms/step - loss: 0.2546 - accuracy: 0.9066 - val_loss: 0.2544 - val_accuracy: 0.9050\n",
            "Epoch 9/20\n",
            "28/28 [==============================] - 3s 111ms/step - loss: 0.2591 - accuracy: 0.9058 - val_loss: 0.2602 - val_accuracy: 0.9025\n",
            "Epoch 10/20\n",
            "28/28 [==============================] - 3s 111ms/step - loss: 0.2548 - accuracy: 0.9069 - val_loss: 0.2577 - val_accuracy: 0.9034\n",
            "Epoch 11/20\n",
            "28/28 [==============================] - 3s 111ms/step - loss: 0.2504 - accuracy: 0.9087 - val_loss: 0.2528 - val_accuracy: 0.9054\n",
            "Epoch 12/20\n",
            "28/28 [==============================] - 3s 110ms/step - loss: 0.2494 - accuracy: 0.9095 - val_loss: 0.2624 - val_accuracy: 0.9003\n",
            "Epoch 13/20\n",
            "28/28 [==============================] - 3s 112ms/step - loss: 0.2522 - accuracy: 0.9073 - val_loss: 0.2525 - val_accuracy: 0.9058\n",
            "Epoch 14/20\n",
            "28/28 [==============================] - 4s 141ms/step - loss: 0.2475 - accuracy: 0.9098 - val_loss: 0.2489 - val_accuracy: 0.9076\n",
            "Epoch 15/20\n",
            "28/28 [==============================] - 4s 155ms/step - loss: 0.2460 - accuracy: 0.9107 - val_loss: 0.2501 - val_accuracy: 0.9066\n",
            "Epoch 16/20\n",
            "28/28 [==============================] - 4s 155ms/step - loss: 0.2445 - accuracy: 0.9114 - val_loss: 0.2469 - val_accuracy: 0.9078\n",
            "Epoch 17/20\n",
            "28/28 [==============================] - 3s 110ms/step - loss: 0.2465 - accuracy: 0.9110 - val_loss: 0.2487 - val_accuracy: 0.9075\n",
            "Epoch 18/20\n",
            "28/28 [==============================] - 4s 144ms/step - loss: 0.2457 - accuracy: 0.9109 - val_loss: 0.2475 - val_accuracy: 0.9075\n",
            "Epoch 19/20\n",
            "28/28 [==============================] - 5s 200ms/step - loss: 0.2450 - accuracy: 0.9111 - val_loss: 0.2473 - val_accuracy: 0.9081\n",
            "2\n",
            "Epoch 1/20\n",
            "28/28 [==============================] - 13s 335ms/step - loss: 0.3810 - accuracy: 0.8469 - val_loss: 0.3210 - val_accuracy: 0.8925\n",
            "Epoch 2/20\n",
            "28/28 [==============================] - 9s 324ms/step - loss: 0.3111 - accuracy: 0.8975 - val_loss: 0.3187 - val_accuracy: 0.8950\n",
            "Epoch 3/20\n",
            "28/28 [==============================] - 9s 336ms/step - loss: 0.3016 - accuracy: 0.8985 - val_loss: 0.3028 - val_accuracy: 0.8957\n",
            "Epoch 4/20\n",
            "28/28 [==============================] - 9s 327ms/step - loss: 0.2920 - accuracy: 0.8991 - val_loss: 0.3053 - val_accuracy: 0.8957\n",
            "Epoch 5/20\n",
            "28/28 [==============================] - 10s 361ms/step - loss: 0.2827 - accuracy: 0.9000 - val_loss: 0.2727 - val_accuracy: 0.8996\n",
            "Epoch 6/20\n",
            "28/28 [==============================] - 9s 333ms/step - loss: 0.2715 - accuracy: 0.9027 - val_loss: 0.2734 - val_accuracy: 0.8988\n",
            "Epoch 7/20\n",
            "28/28 [==============================] - 10s 353ms/step - loss: 0.2668 - accuracy: 0.9040 - val_loss: 0.2670 - val_accuracy: 0.9001\n",
            "Epoch 8/20\n",
            "28/28 [==============================] - 9s 313ms/step - loss: 0.2596 - accuracy: 0.9053 - val_loss: 0.2601 - val_accuracy: 0.9021\n",
            "Epoch 9/20\n",
            "28/28 [==============================] - 8s 286ms/step - loss: 0.2548 - accuracy: 0.9065 - val_loss: 0.2537 - val_accuracy: 0.9052\n",
            "Epoch 10/20\n",
            "28/28 [==============================] - 9s 320ms/step - loss: 0.2521 - accuracy: 0.9075 - val_loss: 0.2509 - val_accuracy: 0.9063\n",
            "Epoch 11/20\n",
            "28/28 [==============================] - 10s 345ms/step - loss: 0.2506 - accuracy: 0.9091 - val_loss: 0.2490 - val_accuracy: 0.9073\n",
            "Epoch 12/20\n",
            "28/28 [==============================] - 9s 319ms/step - loss: 0.2572 - accuracy: 0.9072 - val_loss: 0.2618 - val_accuracy: 0.9015\n",
            "Epoch 13/20\n",
            "28/28 [==============================] - 9s 330ms/step - loss: 0.2562 - accuracy: 0.9065 - val_loss: 0.2570 - val_accuracy: 0.9032\n",
            "Epoch 14/20\n",
            "28/28 [==============================] - 6s 210ms/step - loss: 0.2497 - accuracy: 0.9090 - val_loss: 0.2509 - val_accuracy: 0.9062\n",
            "Epoch 15/20\n",
            "28/28 [==============================] - 6s 214ms/step - loss: 0.2458 - accuracy: 0.9112 - val_loss: 0.2494 - val_accuracy: 0.9082\n",
            "Epoch 16/20\n",
            "28/28 [==============================] - 6s 216ms/step - loss: 0.2439 - accuracy: 0.9121 - val_loss: 0.2457 - val_accuracy: 0.9082\n",
            "Epoch 17/20\n",
            "28/28 [==============================] - 6s 218ms/step - loss: 0.2452 - accuracy: 0.9111 - val_loss: 0.2497 - val_accuracy: 0.9077\n",
            "Epoch 18/20\n",
            "28/28 [==============================] - 6s 218ms/step - loss: 0.2434 - accuracy: 0.9123 - val_loss: 0.2466 - val_accuracy: 0.9084\n",
            "Epoch 19/20\n",
            "28/28 [==============================] - 6s 219ms/step - loss: 0.2433 - accuracy: 0.9121 - val_loss: 0.2458 - val_accuracy: 0.9081\n",
            "Epoch 20/20\n",
            "28/28 [==============================] - 7s 246ms/step - loss: 0.2427 - accuracy: 0.9125 - val_loss: 0.2436 - val_accuracy: 0.9098\n",
            "3\n",
            "Epoch 1/20\n",
            "28/28 [==============================] - 17s 420ms/step - loss: 0.3751 - accuracy: 0.8467 - val_loss: 0.3234 - val_accuracy: 0.8921\n",
            "Epoch 2/20\n",
            "28/28 [==============================] - 9s 315ms/step - loss: 0.3119 - accuracy: 0.8973 - val_loss: 0.3143 - val_accuracy: 0.8949\n",
            "Epoch 3/20\n",
            "28/28 [==============================] - 9s 314ms/step - loss: 0.3044 - accuracy: 0.8985 - val_loss: 0.3028 - val_accuracy: 0.8953\n",
            "Epoch 4/20\n",
            "28/28 [==============================] - 9s 313ms/step - loss: 0.2915 - accuracy: 0.8993 - val_loss: 0.2912 - val_accuracy: 0.8970\n",
            "Epoch 5/20\n",
            "28/28 [==============================] - 9s 314ms/step - loss: 0.2805 - accuracy: 0.9045 - val_loss: 0.2698 - val_accuracy: 0.9010\n",
            "Epoch 6/20\n",
            "28/28 [==============================] - 9s 313ms/step - loss: 0.2675 - accuracy: 0.9057 - val_loss: 0.2628 - val_accuracy: 0.9017\n",
            "Epoch 7/20\n",
            "28/28 [==============================] - 9s 315ms/step - loss: 0.2615 - accuracy: 0.9056 - val_loss: 0.2608 - val_accuracy: 0.9019\n",
            "Epoch 8/20\n",
            "28/28 [==============================] - 9s 313ms/step - loss: 0.2582 - accuracy: 0.9061 - val_loss: 0.2542 - val_accuracy: 0.9032\n",
            "Epoch 9/20\n",
            "28/28 [==============================] - 9s 314ms/step - loss: 0.2550 - accuracy: 0.9058 - val_loss: 0.2666 - val_accuracy: 0.8967\n",
            "Epoch 10/20\n",
            "28/28 [==============================] - 9s 315ms/step - loss: 0.2580 - accuracy: 0.9050 - val_loss: 0.2595 - val_accuracy: 0.9033\n",
            "Epoch 11/20\n",
            "28/28 [==============================] - 9s 319ms/step - loss: 0.2511 - accuracy: 0.9087 - val_loss: 0.2589 - val_accuracy: 0.9021\n",
            "Epoch 12/20\n",
            "28/28 [==============================] - 9s 319ms/step - loss: 0.2487 - accuracy: 0.9093 - val_loss: 0.2508 - val_accuracy: 0.9072\n",
            "Epoch 13/20\n",
            "28/28 [==============================] - 9s 315ms/step - loss: 0.2466 - accuracy: 0.9111 - val_loss: 0.2481 - val_accuracy: 0.9080\n",
            "Epoch 14/20\n",
            "28/28 [==============================] - 9s 315ms/step - loss: 0.2485 - accuracy: 0.9100 - val_loss: 0.2529 - val_accuracy: 0.9055\n",
            "Epoch 15/20\n",
            "28/28 [==============================] - 9s 318ms/step - loss: 0.2456 - accuracy: 0.9112 - val_loss: 0.2467 - val_accuracy: 0.9085\n",
            "Epoch 16/20\n",
            "28/28 [==============================] - 9s 316ms/step - loss: 0.2466 - accuracy: 0.9109 - val_loss: 0.2473 - val_accuracy: 0.9077\n",
            "Epoch 17/20\n",
            "28/28 [==============================] - 9s 316ms/step - loss: 0.2441 - accuracy: 0.9117 - val_loss: 0.2466 - val_accuracy: 0.9087\n",
            "Epoch 18/20\n",
            "28/28 [==============================] - 9s 315ms/step - loss: 0.2433 - accuracy: 0.9119 - val_loss: 0.2514 - val_accuracy: 0.9072\n",
            "Epoch 19/20\n",
            "28/28 [==============================] - 9s 316ms/step - loss: 0.2428 - accuracy: 0.9124 - val_loss: 0.2455 - val_accuracy: 0.9097\n",
            "Epoch 20/20\n",
            "28/28 [==============================] - 9s 315ms/step - loss: 0.2433 - accuracy: 0.9121 - val_loss: 0.2512 - val_accuracy: 0.9068\n"
          ]
        }
      ]
    },
    {
      "cell_type": "code",
      "source": [
        "result_df = pd.DataFrame(model_list)"
      ],
      "metadata": {
        "id": "SkjkaSdO9jgJ"
      },
      "execution_count": null,
      "outputs": []
    },
    {
      "cell_type": "code",
      "source": [
        "result_df"
      ],
      "metadata": {
        "colab": {
          "base_uri": "https://localhost:8080/",
          "height": 143
        },
        "outputId": "c76e07ae-e012-40c3-cc96-77e2b22b67bf",
        "id": "34ERL0D29jgK"
      },
      "execution_count": null,
      "outputs": [
        {
          "output_type": "execute_result",
          "data": {
            "text/plain": [
              "   train_acc   val_acc  test_acc   test_f1  test_AUC\n",
              "0   0.911119  0.908087  0.941518  0.941933  0.941599\n",
              "1   0.912452  0.909826  0.952232  0.951953  0.953030\n",
              "2   0.912056  0.906831  0.948884  0.947753  0.951379"
            ],
            "text/html": [
              "\n",
              "  <div id=\"df-e35d3eb8-4f38-4c08-b3ef-1f1a8aa268aa\">\n",
              "    <div class=\"colab-df-container\">\n",
              "      <div>\n",
              "<style scoped>\n",
              "    .dataframe tbody tr th:only-of-type {\n",
              "        vertical-align: middle;\n",
              "    }\n",
              "\n",
              "    .dataframe tbody tr th {\n",
              "        vertical-align: top;\n",
              "    }\n",
              "\n",
              "    .dataframe thead th {\n",
              "        text-align: right;\n",
              "    }\n",
              "</style>\n",
              "<table border=\"1\" class=\"dataframe\">\n",
              "  <thead>\n",
              "    <tr style=\"text-align: right;\">\n",
              "      <th></th>\n",
              "      <th>train_acc</th>\n",
              "      <th>val_acc</th>\n",
              "      <th>test_acc</th>\n",
              "      <th>test_f1</th>\n",
              "      <th>test_AUC</th>\n",
              "    </tr>\n",
              "  </thead>\n",
              "  <tbody>\n",
              "    <tr>\n",
              "      <th>0</th>\n",
              "      <td>0.911119</td>\n",
              "      <td>0.908087</td>\n",
              "      <td>0.941518</td>\n",
              "      <td>0.941933</td>\n",
              "      <td>0.941599</td>\n",
              "    </tr>\n",
              "    <tr>\n",
              "      <th>1</th>\n",
              "      <td>0.912452</td>\n",
              "      <td>0.909826</td>\n",
              "      <td>0.952232</td>\n",
              "      <td>0.951953</td>\n",
              "      <td>0.953030</td>\n",
              "    </tr>\n",
              "    <tr>\n",
              "      <th>2</th>\n",
              "      <td>0.912056</td>\n",
              "      <td>0.906831</td>\n",
              "      <td>0.948884</td>\n",
              "      <td>0.947753</td>\n",
              "      <td>0.951379</td>\n",
              "    </tr>\n",
              "  </tbody>\n",
              "</table>\n",
              "</div>\n",
              "      <button class=\"colab-df-convert\" onclick=\"convertToInteractive('df-e35d3eb8-4f38-4c08-b3ef-1f1a8aa268aa')\"\n",
              "              title=\"Convert this dataframe to an interactive table.\"\n",
              "              style=\"display:none;\">\n",
              "        \n",
              "  <svg xmlns=\"http://www.w3.org/2000/svg\" height=\"24px\"viewBox=\"0 0 24 24\"\n",
              "       width=\"24px\">\n",
              "    <path d=\"M0 0h24v24H0V0z\" fill=\"none\"/>\n",
              "    <path d=\"M18.56 5.44l.94 2.06.94-2.06 2.06-.94-2.06-.94-.94-2.06-.94 2.06-2.06.94zm-11 1L8.5 8.5l.94-2.06 2.06-.94-2.06-.94L8.5 2.5l-.94 2.06-2.06.94zm10 10l.94 2.06.94-2.06 2.06-.94-2.06-.94-.94-2.06-.94 2.06-2.06.94z\"/><path d=\"M17.41 7.96l-1.37-1.37c-.4-.4-.92-.59-1.43-.59-.52 0-1.04.2-1.43.59L10.3 9.45l-7.72 7.72c-.78.78-.78 2.05 0 2.83L4 21.41c.39.39.9.59 1.41.59.51 0 1.02-.2 1.41-.59l7.78-7.78 2.81-2.81c.8-.78.8-2.07 0-2.86zM5.41 20L4 18.59l7.72-7.72 1.47 1.35L5.41 20z\"/>\n",
              "  </svg>\n",
              "      </button>\n",
              "      \n",
              "  <style>\n",
              "    .colab-df-container {\n",
              "      display:flex;\n",
              "      flex-wrap:wrap;\n",
              "      gap: 12px;\n",
              "    }\n",
              "\n",
              "    .colab-df-convert {\n",
              "      background-color: #E8F0FE;\n",
              "      border: none;\n",
              "      border-radius: 50%;\n",
              "      cursor: pointer;\n",
              "      display: none;\n",
              "      fill: #1967D2;\n",
              "      height: 32px;\n",
              "      padding: 0 0 0 0;\n",
              "      width: 32px;\n",
              "    }\n",
              "\n",
              "    .colab-df-convert:hover {\n",
              "      background-color: #E2EBFA;\n",
              "      box-shadow: 0px 1px 2px rgba(60, 64, 67, 0.3), 0px 1px 3px 1px rgba(60, 64, 67, 0.15);\n",
              "      fill: #174EA6;\n",
              "    }\n",
              "\n",
              "    [theme=dark] .colab-df-convert {\n",
              "      background-color: #3B4455;\n",
              "      fill: #D2E3FC;\n",
              "    }\n",
              "\n",
              "    [theme=dark] .colab-df-convert:hover {\n",
              "      background-color: #434B5C;\n",
              "      box-shadow: 0px 1px 3px 1px rgba(0, 0, 0, 0.15);\n",
              "      filter: drop-shadow(0px 1px 2px rgba(0, 0, 0, 0.3));\n",
              "      fill: #FFFFFF;\n",
              "    }\n",
              "  </style>\n",
              "\n",
              "      <script>\n",
              "        const buttonEl =\n",
              "          document.querySelector('#df-e35d3eb8-4f38-4c08-b3ef-1f1a8aa268aa button.colab-df-convert');\n",
              "        buttonEl.style.display =\n",
              "          google.colab.kernel.accessAllowed ? 'block' : 'none';\n",
              "\n",
              "        async function convertToInteractive(key) {\n",
              "          const element = document.querySelector('#df-e35d3eb8-4f38-4c08-b3ef-1f1a8aa268aa');\n",
              "          const dataTable =\n",
              "            await google.colab.kernel.invokeFunction('convertToInteractive',\n",
              "                                                     [key], {});\n",
              "          if (!dataTable) return;\n",
              "\n",
              "          const docLinkHtml = 'Like what you see? Visit the ' +\n",
              "            '<a target=\"_blank\" href=https://colab.research.google.com/notebooks/data_table.ipynb>data table notebook</a>'\n",
              "            + ' to learn more about interactive tables.';\n",
              "          element.innerHTML = '';\n",
              "          dataTable['output_type'] = 'display_data';\n",
              "          await google.colab.output.renderOutput(dataTable, element);\n",
              "          const docLink = document.createElement('div');\n",
              "          docLink.innerHTML = docLinkHtml;\n",
              "          element.appendChild(docLink);\n",
              "        }\n",
              "      </script>\n",
              "    </div>\n",
              "  </div>\n",
              "  "
            ]
          },
          "metadata": {},
          "execution_count": 99
        }
      ]
    },
    {
      "cell_type": "code",
      "source": [
        "plt.figure(figsize=(4,3))\n",
        "plt.plot(range(len(layers)), result_df['train_acc'], color=\"blue\", marker='o', markerfacecolor='black', markersize=4,  label='train acc')\n",
        "plt.plot(range(len(layers)), result_df['val_acc'], color=\"darkblue\", marker='o', markerfacecolor='black', markersize=4, label='val acc')\n",
        "plt.plot(range(len(layers)), result_df['test_acc'], color=\"green\", marker='o', markerfacecolor='black', markersize=4, label='test acc')\n",
        "plt.plot(range(len(layers)), result_df['test_f1'], color=\"red\", marker='o', markerfacecolor='black', markersize=4, label='test f1')\n",
        "plt.plot(range(len(layers)), result_df['test_AUC'], color=\"orange\", marker='o', markerfacecolor='black', markersize=4, label='test auc')\n",
        "plt.xticks(range(len(layers)), layers)\n",
        "plt.title('Numbers of LSTM Layer')\n",
        "plt.xlabel('Layers')\n",
        "plt.ylabel('Score')\n",
        "plt.legend()\n",
        "plt.show()"
      ],
      "metadata": {
        "colab": {
          "base_uri": "https://localhost:8080/",
          "height": 241
        },
        "outputId": "a5b185d5-714c-4204-d07b-aa11fa311c16",
        "id": "-plKFDKs9jgK"
      },
      "execution_count": null,
      "outputs": [
        {
          "output_type": "display_data",
          "data": {
            "text/plain": [
              "<Figure size 288x216 with 1 Axes>"
            ],
            "image/png": "[encoded data removed]"
          },
          "metadata": {
            "needs_background": "light"
          }
        }
      ]
    },
    {
      "cell_type": "markdown",
      "source": [
        "### Hidden Neurons of LSTM Layers"
      ],
      "metadata": {
        "id": "Azg7G4WA0gui"
      }
    },
    {
      "cell_type": "code",
      "source": [
        "EMBEDDING = 16\n",
        "LAYERS = 2"
      ],
      "metadata": {
        "id": "f8_TpKL50gui"
      },
      "execution_count": null,
      "outputs": []
    },
    {
      "cell_type": "code",
      "source": [
        "model_list = []\n",
        "\n",
        "for neuron in neurons:\n",
        "  print(neuron)\n",
        "  model = tune_LSTM(X_train, y_train, X_test, y_test, EMBEDDING, LAYERS, neuron, LR, EPOCHS, BATCH_SIZE)\n",
        "  model_list.append(model)"
      ],
      "metadata": {
        "colab": {
          "base_uri": "https://localhost:8080/"
        },
        "outputId": "d0ef9fba-56a5-4e67-c15f-e253530a359b",
        "id": "BqW0ENWc0gui"
      },
      "execution_count": null,
      "outputs": [
        {
          "output_type": "stream",
          "name": "stdout",
          "text": [
            "8\n",
            "Epoch 1/20\n",
            "28/28 [==============================] - 11s 150ms/step - loss: 0.4103 - accuracy: 0.8641 - val_loss: 0.3242 - val_accuracy: 0.8925\n",
            "Epoch 2/20\n",
            "28/28 [==============================] - 2s 81ms/step - loss: 0.3136 - accuracy: 0.8970 - val_loss: 0.3156 - val_accuracy: 0.8937\n",
            "Epoch 3/20\n",
            "28/28 [==============================] - 2s 81ms/step - loss: 0.3087 - accuracy: 0.8974 - val_loss: 0.3133 - val_accuracy: 0.8943\n",
            "Epoch 4/20\n",
            "28/28 [==============================] - 2s 81ms/step - loss: 0.3046 - accuracy: 0.8976 - val_loss: 0.3094 - val_accuracy: 0.8947\n",
            "Epoch 5/20\n",
            "28/28 [==============================] - 2s 82ms/step - loss: 0.2984 - accuracy: 0.8983 - val_loss: 0.2990 - val_accuracy: 0.8953\n",
            "Epoch 6/20\n",
            "28/28 [==============================] - 3s 117ms/step - loss: 0.2903 - accuracy: 0.8995 - val_loss: 0.2943 - val_accuracy: 0.8987\n",
            "Epoch 7/20\n",
            "28/28 [==============================] - 3s 115ms/step - loss: 0.2869 - accuracy: 0.9025 - val_loss: 0.2917 - val_accuracy: 0.8996\n",
            "Epoch 8/20\n",
            "28/28 [==============================] - 3s 119ms/step - loss: 0.2826 - accuracy: 0.9050 - val_loss: 0.2844 - val_accuracy: 0.9011\n",
            "Epoch 9/20\n",
            "28/28 [==============================] - 3s 100ms/step - loss: 0.2754 - accuracy: 0.9056 - val_loss: 0.2771 - val_accuracy: 0.9022\n",
            "Epoch 10/20\n",
            "28/28 [==============================] - 2s 82ms/step - loss: 0.2674 - accuracy: 0.9064 - val_loss: 0.2652 - val_accuracy: 0.9042\n",
            "Epoch 11/20\n",
            "28/28 [==============================] - 2s 80ms/step - loss: 0.2634 - accuracy: 0.9067 - val_loss: 0.2652 - val_accuracy: 0.9034\n",
            "Epoch 12/20\n",
            "28/28 [==============================] - 2s 81ms/step - loss: 0.2589 - accuracy: 0.9080 - val_loss: 0.2599 - val_accuracy: 0.9060\n",
            "Epoch 13/20\n",
            "28/28 [==============================] - 2s 81ms/step - loss: 0.2570 - accuracy: 0.9092 - val_loss: 0.2663 - val_accuracy: 0.9031\n",
            "Epoch 14/20\n",
            "28/28 [==============================] - 2s 81ms/step - loss: 0.2590 - accuracy: 0.9079 - val_loss: 0.2589 - val_accuracy: 0.9052\n",
            "Epoch 15/20\n",
            "28/28 [==============================] - 2s 83ms/step - loss: 0.2530 - accuracy: 0.9098 - val_loss: 0.2526 - val_accuracy: 0.9073\n",
            "Epoch 16/20\n",
            "28/28 [==============================] - 2s 81ms/step - loss: 0.2504 - accuracy: 0.9102 - val_loss: 0.2874 - val_accuracy: 0.9057\n",
            "Epoch 17/20\n",
            "28/28 [==============================] - 2s 81ms/step - loss: 0.2626 - accuracy: 0.9104 - val_loss: 0.2635 - val_accuracy: 0.9047\n",
            "Epoch 18/20\n",
            "28/28 [==============================] - 2s 82ms/step - loss: 0.2604 - accuracy: 0.9103 - val_loss: 0.2611 - val_accuracy: 0.9065\n",
            "Epoch 19/20\n",
            "28/28 [==============================] - 2s 82ms/step - loss: 0.2552 - accuracy: 0.9101 - val_loss: 0.2561 - val_accuracy: 0.9068\n",
            "16\n",
            "Epoch 1/20\n",
            "28/28 [==============================] - 8s 147ms/step - loss: 0.3874 - accuracy: 0.8590 - val_loss: 0.3212 - val_accuracy: 0.8928\n",
            "Epoch 2/20\n",
            "28/28 [==============================] - 3s 117ms/step - loss: 0.3126 - accuracy: 0.8974 - val_loss: 0.3164 - val_accuracy: 0.8947\n",
            "Epoch 3/20\n",
            "28/28 [==============================] - 3s 116ms/step - loss: 0.3055 - accuracy: 0.8994 - val_loss: 0.3031 - val_accuracy: 0.8969\n",
            "Epoch 4/20\n",
            "28/28 [==============================] - 3s 116ms/step - loss: 0.2941 - accuracy: 0.9004 - val_loss: 0.3014 - val_accuracy: 0.8916\n",
            "Epoch 5/20\n",
            "28/28 [==============================] - 3s 116ms/step - loss: 0.2860 - accuracy: 0.8977 - val_loss: 0.2847 - val_accuracy: 0.8950\n",
            "Epoch 6/20\n",
            "28/28 [==============================] - 3s 115ms/step - loss: 0.2773 - accuracy: 0.9009 - val_loss: 0.2763 - val_accuracy: 0.8986\n",
            "Epoch 7/20\n",
            "28/28 [==============================] - 3s 116ms/step - loss: 0.2681 - accuracy: 0.9032 - val_loss: 0.2654 - val_accuracy: 0.9000\n",
            "Epoch 8/20\n",
            "28/28 [==============================] - 3s 116ms/step - loss: 0.2600 - accuracy: 0.9041 - val_loss: 0.2655 - val_accuracy: 0.8987\n",
            "Epoch 9/20\n",
            "28/28 [==============================] - 3s 114ms/step - loss: 0.2562 - accuracy: 0.9057 - val_loss: 0.2572 - val_accuracy: 0.9035\n",
            "Epoch 10/20\n",
            "28/28 [==============================] - 3s 114ms/step - loss: 0.2553 - accuracy: 0.9078 - val_loss: 0.2617 - val_accuracy: 0.9046\n",
            "Epoch 11/20\n",
            "28/28 [==============================] - 3s 114ms/step - loss: 0.2558 - accuracy: 0.9085 - val_loss: 0.2550 - val_accuracy: 0.9064\n",
            "Epoch 12/20\n",
            "28/28 [==============================] - 3s 114ms/step - loss: 0.2540 - accuracy: 0.9090 - val_loss: 0.2527 - val_accuracy: 0.9064\n",
            "Epoch 13/20\n",
            "28/28 [==============================] - 3s 115ms/step - loss: 0.2508 - accuracy: 0.9094 - val_loss: 0.2533 - val_accuracy: 0.9052\n",
            "Epoch 14/20\n",
            "28/28 [==============================] - 3s 114ms/step - loss: 0.2476 - accuracy: 0.9101 - val_loss: 0.2479 - val_accuracy: 0.9071\n",
            "Epoch 15/20\n",
            "28/28 [==============================] - 3s 114ms/step - loss: 0.2440 - accuracy: 0.9117 - val_loss: 0.2514 - val_accuracy: 0.9066\n",
            "Epoch 16/20\n",
            "28/28 [==============================] - 3s 114ms/step - loss: 0.2437 - accuracy: 0.9119 - val_loss: 0.2458 - val_accuracy: 0.9090\n",
            "Epoch 17/20\n",
            "28/28 [==============================] - 3s 115ms/step - loss: 0.2436 - accuracy: 0.9119 - val_loss: 0.2471 - val_accuracy: 0.9084\n",
            "Epoch 18/20\n",
            "28/28 [==============================] - 3s 115ms/step - loss: 0.2429 - accuracy: 0.9123 - val_loss: 0.2449 - val_accuracy: 0.9096\n",
            "Epoch 19/20\n",
            "28/28 [==============================] - 3s 115ms/step - loss: 0.2436 - accuracy: 0.9120 - val_loss: 0.2491 - val_accuracy: 0.9075\n",
            "Epoch 20/20\n",
            "28/28 [==============================] - 3s 115ms/step - loss: 0.2443 - accuracy: 0.9118 - val_loss: 0.2459 - val_accuracy: 0.9094\n",
            "32\n",
            "Epoch 1/20\n",
            "28/28 [==============================] - 11s 249ms/step - loss: 0.3746 - accuracy: 0.8521 - val_loss: 0.3201 - val_accuracy: 0.8933\n",
            "Epoch 2/20\n",
            "28/28 [==============================] - 6s 218ms/step - loss: 0.3101 - accuracy: 0.8981 - val_loss: 0.3141 - val_accuracy: 0.8954\n",
            "Epoch 3/20\n",
            "28/28 [==============================] - 6s 217ms/step - loss: 0.3058 - accuracy: 0.8985 - val_loss: 0.3028 - val_accuracy: 0.8933\n",
            "Epoch 4/20\n",
            "28/28 [==============================] - 6s 216ms/step - loss: 0.2920 - accuracy: 0.8986 - val_loss: 0.2874 - val_accuracy: 0.8954\n",
            "Epoch 5/20\n",
            "28/28 [==============================] - 6s 218ms/step - loss: 0.2774 - accuracy: 0.9009 - val_loss: 0.2778 - val_accuracy: 0.8978\n",
            "Epoch 6/20\n",
            "28/28 [==============================] - 6s 218ms/step - loss: 0.2667 - accuracy: 0.9026 - val_loss: 0.2648 - val_accuracy: 0.8990\n",
            "Epoch 7/20\n",
            "28/28 [==============================] - 6s 219ms/step - loss: 0.2628 - accuracy: 0.9034 - val_loss: 0.2621 - val_accuracy: 0.8997\n",
            "Epoch 8/20\n",
            "28/28 [==============================] - 6s 217ms/step - loss: 0.2568 - accuracy: 0.9058 - val_loss: 0.2576 - val_accuracy: 0.9024\n",
            "Epoch 9/20\n",
            "28/28 [==============================] - 6s 218ms/step - loss: 0.2591 - accuracy: 0.9041 - val_loss: 0.2678 - val_accuracy: 0.9008\n",
            "Epoch 10/20\n",
            "28/28 [==============================] - 6s 219ms/step - loss: 0.2604 - accuracy: 0.9049 - val_loss: 0.2631 - val_accuracy: 0.9011\n",
            "Epoch 11/20\n",
            "28/28 [==============================] - 6s 218ms/step - loss: 0.2543 - accuracy: 0.9060 - val_loss: 0.2591 - val_accuracy: 0.9020\n",
            "Epoch 12/20\n",
            "28/28 [==============================] - 6s 219ms/step - loss: 0.2514 - accuracy: 0.9077 - val_loss: 0.2521 - val_accuracy: 0.9057\n",
            "Epoch 13/20\n",
            "28/28 [==============================] - 6s 217ms/step - loss: 0.2488 - accuracy: 0.9093 - val_loss: 0.2522 - val_accuracy: 0.9057\n",
            "Epoch 14/20\n",
            "28/28 [==============================] - 6s 219ms/step - loss: 0.2463 - accuracy: 0.9102 - val_loss: 0.2488 - val_accuracy: 0.9070\n",
            "Epoch 15/20\n",
            "28/28 [==============================] - 6s 217ms/step - loss: 0.2505 - accuracy: 0.9083 - val_loss: 0.2525 - val_accuracy: 0.9057\n",
            "Epoch 16/20\n",
            "28/28 [==============================] - 6s 216ms/step - loss: 0.2455 - accuracy: 0.9114 - val_loss: 0.2481 - val_accuracy: 0.9075\n",
            "Epoch 17/20\n",
            "28/28 [==============================] - 6s 219ms/step - loss: 0.2428 - accuracy: 0.9124 - val_loss: 0.2558 - val_accuracy: 0.9054\n",
            "Epoch 18/20\n",
            "28/28 [==============================] - 6s 218ms/step - loss: 0.2461 - accuracy: 0.9107 - val_loss: 0.2462 - val_accuracy: 0.9094\n",
            "Epoch 19/20\n",
            "28/28 [==============================] - 6s 218ms/step - loss: 0.2430 - accuracy: 0.9127 - val_loss: 0.2458 - val_accuracy: 0.9100\n",
            "Epoch 20/20\n",
            "28/28 [==============================] - 6s 218ms/step - loss: 0.2438 - accuracy: 0.9121 - val_loss: 0.2472 - val_accuracy: 0.9072\n",
            "64\n",
            "Epoch 1/20\n",
            "28/28 [==============================] - 20s 576ms/step - loss: 0.3690 - accuracy: 0.8747 - val_loss: 0.3194 - val_accuracy: 0.8941\n",
            "Epoch 2/20\n",
            "28/28 [==============================] - 16s 580ms/step - loss: 0.2991 - accuracy: 0.8985 - val_loss: 0.3018 - val_accuracy: 0.8941\n",
            "Epoch 3/20\n",
            "28/28 [==============================] - 16s 576ms/step - loss: 0.2882 - accuracy: 0.8987 - val_loss: 0.2774 - val_accuracy: 0.8969\n",
            "Epoch 4/20\n",
            "28/28 [==============================] - 15s 534ms/step - loss: 0.2687 - accuracy: 0.9003 - val_loss: 0.2695 - val_accuracy: 0.8988\n",
            "Epoch 5/20\n",
            "28/28 [==============================] - 14s 520ms/step - loss: 0.2705 - accuracy: 0.9009 - val_loss: 0.2715 - val_accuracy: 0.8977\n",
            "Epoch 6/20\n",
            "28/28 [==============================] - 15s 524ms/step - loss: 0.2669 - accuracy: 0.9016 - val_loss: 0.2689 - val_accuracy: 0.8977\n",
            "Epoch 7/20\n",
            "28/28 [==============================] - 15s 523ms/step - loss: 0.2648 - accuracy: 0.9032 - val_loss: 0.2676 - val_accuracy: 0.8998\n",
            "Epoch 8/20\n",
            "28/28 [==============================] - 15s 546ms/step - loss: 0.2632 - accuracy: 0.9028 - val_loss: 0.2679 - val_accuracy: 0.9005\n",
            "Epoch 9/20\n",
            "28/28 [==============================] - 14s 518ms/step - loss: 0.2575 - accuracy: 0.9054 - val_loss: 0.2539 - val_accuracy: 0.9045\n",
            "Epoch 10/20\n",
            "28/28 [==============================] - 15s 525ms/step - loss: 0.2595 - accuracy: 0.9045 - val_loss: 0.2575 - val_accuracy: 0.9026\n",
            "Epoch 11/20\n",
            "28/28 [==============================] - 15s 532ms/step - loss: 0.2534 - accuracy: 0.9065 - val_loss: 0.2555 - val_accuracy: 0.9036\n",
            "Epoch 12/20\n",
            "28/28 [==============================] - 15s 531ms/step - loss: 0.2495 - accuracy: 0.9093 - val_loss: 0.2500 - val_accuracy: 0.9076\n",
            "Epoch 13/20\n",
            "28/28 [==============================] - 14s 514ms/step - loss: 0.2540 - accuracy: 0.9087 - val_loss: 0.2540 - val_accuracy: 0.9055\n",
            "Epoch 14/20\n",
            "28/28 [==============================] - 15s 534ms/step - loss: 0.2479 - accuracy: 0.9103 - val_loss: 0.2481 - val_accuracy: 0.9078\n",
            "Epoch 15/20\n",
            "28/28 [==============================] - 15s 543ms/step - loss: 0.2527 - accuracy: 0.9089 - val_loss: 0.2552 - val_accuracy: 0.9048\n",
            "Epoch 16/20\n",
            "28/28 [==============================] - 15s 543ms/step - loss: 0.2486 - accuracy: 0.9099 - val_loss: 0.2484 - val_accuracy: 0.9081\n",
            "Epoch 17/20\n",
            "28/28 [==============================] - 15s 540ms/step - loss: 0.2450 - accuracy: 0.9118 - val_loss: 0.2473 - val_accuracy: 0.9084\n",
            "Epoch 18/20\n",
            "28/28 [==============================] - 15s 521ms/step - loss: 0.2431 - accuracy: 0.9125 - val_loss: 0.2453 - val_accuracy: 0.9090\n",
            "Epoch 19/20\n",
            "28/28 [==============================] - 15s 527ms/step - loss: 0.2427 - accuracy: 0.9124 - val_loss: 0.2449 - val_accuracy: 0.9098\n",
            "Epoch 20/20\n",
            "28/28 [==============================] - 15s 531ms/step - loss: 0.2424 - accuracy: 0.9127 - val_loss: 0.2450 - val_accuracy: 0.9090\n"
          ]
        }
      ]
    },
    {
      "cell_type": "code",
      "source": [
        "result_df = pd.DataFrame(model_list)"
      ],
      "metadata": {
        "id": "0xpgDwQt91cg"
      },
      "execution_count": null,
      "outputs": []
    },
    {
      "cell_type": "code",
      "source": [
        "result_df"
      ],
      "metadata": {
        "colab": {
          "base_uri": "https://localhost:8080/",
          "height": 175
        },
        "outputId": "3e8a07f0-6edf-4da9-8fd0-f940462c3b1e",
        "id": "tASLg7QZ91ch"
      },
      "execution_count": null,
      "outputs": [
        {
          "output_type": "execute_result",
          "data": {
            "text/plain": [
              "   train_acc   val_acc  test_acc   test_f1  test_AUC\n",
              "0   0.910116  0.906841  0.943750  0.943523  0.944406\n",
              "1   0.911830  0.909408  0.933705  0.935025  0.933674\n",
              "2   0.912150  0.907217  0.952902  0.952381  0.954154\n",
              "3   0.912672  0.908994  0.951562  0.950916  0.953039"
            ],
            "text/html": [
              "\n",
              "  <div id=\"df-a874189b-cc44-4e5f-8958-f0324343be05\">\n",
              "    <div class=\"colab-df-container\">\n",
              "      <div>\n",
              "<style scoped>\n",
              "    .dataframe tbody tr th:only-of-type {\n",
              "        vertical-align: middle;\n",
              "    }\n",
              "\n",
              "    .dataframe tbody tr th {\n",
              "        vertical-align: top;\n",
              "    }\n",
              "\n",
              "    .dataframe thead th {\n",
              "        text-align: right;\n",
              "    }\n",
              "</style>\n",
              "<table border=\"1\" class=\"dataframe\">\n",
              "  <thead>\n",
              "    <tr style=\"text-align: right;\">\n",
              "      <th></th>\n",
              "      <th>train_acc</th>\n",
              "      <th>val_acc</th>\n",
              "      <th>test_acc</th>\n",
              "      <th>test_f1</th>\n",
              "      <th>test_AUC</th>\n",
              "    </tr>\n",
              "  </thead>\n",
              "  <tbody>\n",
              "    <tr>\n",
              "      <th>0</th>\n",
              "      <td>0.910116</td>\n",
              "      <td>0.906841</td>\n",
              "      <td>0.943750</td>\n",
              "      <td>0.943523</td>\n",
              "      <td>0.944406</td>\n",
              "    </tr>\n",
              "    <tr>\n",
              "      <th>1</th>\n",
              "      <td>0.911830</td>\n",
              "      <td>0.909408</td>\n",
              "      <td>0.933705</td>\n",
              "      <td>0.935025</td>\n",
              "      <td>0.933674</td>\n",
              "    </tr>\n",
              "    <tr>\n",
              "      <th>2</th>\n",
              "      <td>0.912150</td>\n",
              "      <td>0.907217</td>\n",
              "      <td>0.952902</td>\n",
              "      <td>0.952381</td>\n",
              "      <td>0.954154</td>\n",
              "    </tr>\n",
              "    <tr>\n",
              "      <th>3</th>\n",
              "      <td>0.912672</td>\n",
              "      <td>0.908994</td>\n",
              "      <td>0.951562</td>\n",
              "      <td>0.950916</td>\n",
              "      <td>0.953039</td>\n",
              "    </tr>\n",
              "  </tbody>\n",
              "</table>\n",
              "</div>\n",
              "      <button class=\"colab-df-convert\" onclick=\"convertToInteractive('df-a874189b-cc44-4e5f-8958-f0324343be05')\"\n",
              "              title=\"Convert this dataframe to an interactive table.\"\n",
              "              style=\"display:none;\">\n",
              "        \n",
              "  <svg xmlns=\"http://www.w3.org/2000/svg\" height=\"24px\"viewBox=\"0 0 24 24\"\n",
              "       width=\"24px\">\n",
              "    <path d=\"M0 0h24v24H0V0z\" fill=\"none\"/>\n",
              "    <path d=\"M18.56 5.44l.94 2.06.94-2.06 2.06-.94-2.06-.94-.94-2.06-.94 2.06-2.06.94zm-11 1L8.5 8.5l.94-2.06 2.06-.94-2.06-.94L8.5 2.5l-.94 2.06-2.06.94zm10 10l.94 2.06.94-2.06 2.06-.94-2.06-.94-.94-2.06-.94 2.06-2.06.94z\"/><path d=\"M17.41 7.96l-1.37-1.37c-.4-.4-.92-.59-1.43-.59-.52 0-1.04.2-1.43.59L10.3 9.45l-7.72 7.72c-.78.78-.78 2.05 0 2.83L4 21.41c.39.39.9.59 1.41.59.51 0 1.02-.2 1.41-.59l7.78-7.78 2.81-2.81c.8-.78.8-2.07 0-2.86zM5.41 20L4 18.59l7.72-7.72 1.47 1.35L5.41 20z\"/>\n",
              "  </svg>\n",
              "      </button>\n",
              "      \n",
              "  <style>\n",
              "    .colab-df-container {\n",
              "      display:flex;\n",
              "      flex-wrap:wrap;\n",
              "      gap: 12px;\n",
              "    }\n",
              "\n",
              "    .colab-df-convert {\n",
              "      background-color: #E8F0FE;\n",
              "      border: none;\n",
              "      border-radius: 50%;\n",
              "      cursor: pointer;\n",
              "      display: none;\n",
              "      fill: #1967D2;\n",
              "      height: 32px;\n",
              "      padding: 0 0 0 0;\n",
              "      width: 32px;\n",
              "    }\n",
              "\n",
              "    .colab-df-convert:hover {\n",
              "      background-color: #E2EBFA;\n",
              "      box-shadow: 0px 1px 2px rgba(60, 64, 67, 0.3), 0px 1px 3px 1px rgba(60, 64, 67, 0.15);\n",
              "      fill: #174EA6;\n",
              "    }\n",
              "\n",
              "    [theme=dark] .colab-df-convert {\n",
              "      background-color: #3B4455;\n",
              "      fill: #D2E3FC;\n",
              "    }\n",
              "\n",
              "    [theme=dark] .colab-df-convert:hover {\n",
              "      background-color: #434B5C;\n",
              "      box-shadow: 0px 1px 3px 1px rgba(0, 0, 0, 0.15);\n",
              "      filter: drop-shadow(0px 1px 2px rgba(0, 0, 0, 0.3));\n",
              "      fill: #FFFFFF;\n",
              "    }\n",
              "  </style>\n",
              "\n",
              "      <script>\n",
              "        const buttonEl =\n",
              "          document.querySelector('#df-a874189b-cc44-4e5f-8958-f0324343be05 button.colab-df-convert');\n",
              "        buttonEl.style.display =\n",
              "          google.colab.kernel.accessAllowed ? 'block' : 'none';\n",
              "\n",
              "        async function convertToInteractive(key) {\n",
              "          const element = document.querySelector('#df-a874189b-cc44-4e5f-8958-f0324343be05');\n",
              "          const dataTable =\n",
              "            await google.colab.kernel.invokeFunction('convertToInteractive',\n",
              "                                                     [key], {});\n",
              "          if (!dataTable) return;\n",
              "\n",
              "          const docLinkHtml = 'Like what you see? Visit the ' +\n",
              "            '<a target=\"_blank\" href=https://colab.research.google.com/notebooks/data_table.ipynb>data table notebook</a>'\n",
              "            + ' to learn more about interactive tables.';\n",
              "          element.innerHTML = '';\n",
              "          dataTable['output_type'] = 'display_data';\n",
              "          await google.colab.output.renderOutput(dataTable, element);\n",
              "          const docLink = document.createElement('div');\n",
              "          docLink.innerHTML = docLinkHtml;\n",
              "          element.appendChild(docLink);\n",
              "        }\n",
              "      </script>\n",
              "    </div>\n",
              "  </div>\n",
              "  "
            ]
          },
          "metadata": {},
          "execution_count": 106
        }
      ]
    },
    {
      "cell_type": "code",
      "source": [
        "plt.figure(figsize=(4,3))\n",
        "plt.plot(range(len(neurons)), result_df['train_acc'], color=\"blue\", marker='o', markerfacecolor='black', markersize=4,  label='train acc')\n",
        "plt.plot(range(len(neurons)), result_df['val_acc'], color=\"darkblue\", marker='o', markerfacecolor='black', markersize=4, label='val acc')\n",
        "plt.plot(range(len(neurons)), result_df['test_acc'], color=\"green\", marker='o', markerfacecolor='black', markersize=4, label='test acc')\n",
        "plt.plot(range(len(neurons)), result_df['test_f1'], color=\"red\", marker='o', markerfacecolor='black', markersize=4, label='test f1')\n",
        "plt.plot(range(len(neurons)), result_df['test_AUC'], color=\"orange\", marker='o', markerfacecolor='black', markersize=4, label='test auc')\n",
        "plt.xticks(range(len(neurons)), neurons)\n",
        "plt.title('Hidden Neurons of LSTM Layer')\n",
        "plt.xlabel('neurons')\n",
        "plt.ylabel('Scores')\n",
        "plt.legend()\n",
        "plt.show()"
      ],
      "metadata": {
        "colab": {
          "base_uri": "https://localhost:8080/",
          "height": 241
        },
        "outputId": "824955ba-44f7-4c1e-c1a6-1091bb3f3ce8",
        "id": "3g0vN09o91ch"
      },
      "execution_count": null,
      "outputs": [
        {
          "output_type": "display_data",
          "data": {
            "text/plain": [
              "<Figure size 288x216 with 1 Axes>"
            ],
            "image/png": "[encoded data removed]"
          },
          "metadata": {
            "needs_background": "light"
          }
        }
      ]
    },
    {
      "cell_type": "markdown",
      "source": [
        "### 決定 learning rate"
      ],
      "metadata": {
        "id": "zc1fmk92qrgQ"
      }
    },
    {
      "cell_type": "code",
      "source": [
        "EMBEDDING = 16\n",
        "LAYERS = 2\n",
        "NEURONS = 32\n",
        "\n",
        "EPOCHS = 20\n",
        "BATCH_SIZE = 512\n",
        "LRs = [0.1, 0.01, 0.001]"
      ],
      "metadata": {
        "id": "sLORmcecpFDy"
      },
      "execution_count": null,
      "outputs": []
    },
    {
      "cell_type": "code",
      "source": [
        "model_list = []\n",
        "\n",
        "for LR in LRs:\n",
        "  print(LR)\n",
        "  model = tune_LSTM(X_train, y_train, X_test, y_test, EMBEDDING, LAYERS, NEURONS, LR, EPOCHS, BATCH_SIZE)\n",
        "  model_list.append(model)"
      ],
      "metadata": {
        "colab": {
          "base_uri": "https://localhost:8080/"
        },
        "id": "8UwFY02hrN4z",
        "outputId": "b4e017ad-360c-4703-f343-92c8e7524164"
      },
      "execution_count": null,
      "outputs": [
        {
          "output_type": "stream",
          "name": "stdout",
          "text": [
            "0.1\n",
            "Epoch 1/20\n",
            "28/28 [==============================] - 10s 240ms/step - loss: 0.3934 - accuracy: 0.8382 - val_loss: 0.2995 - val_accuracy: 0.8982\n",
            "Epoch 2/20\n",
            "28/28 [==============================] - 6s 209ms/step - loss: 0.2850 - accuracy: 0.8999 - val_loss: 0.2727 - val_accuracy: 0.8988\n",
            "Epoch 3/20\n",
            "28/28 [==============================] - 6s 210ms/step - loss: 0.2742 - accuracy: 0.9021 - val_loss: 0.2726 - val_accuracy: 0.8972\n",
            "Epoch 4/20\n",
            "28/28 [==============================] - 6s 212ms/step - loss: 0.2652 - accuracy: 0.9042 - val_loss: 0.2697 - val_accuracy: 0.8986\n",
            "Epoch 5/20\n",
            "28/28 [==============================] - 6s 210ms/step - loss: 0.2614 - accuracy: 0.9049 - val_loss: 0.2541 - val_accuracy: 0.9032\n",
            "Epoch 6/20\n",
            "28/28 [==============================] - 6s 211ms/step - loss: 0.2646 - accuracy: 0.9028 - val_loss: 0.2585 - val_accuracy: 0.9023\n",
            "Epoch 7/20\n",
            "28/28 [==============================] - 6s 212ms/step - loss: 0.2537 - accuracy: 0.9075 - val_loss: 0.2609 - val_accuracy: 0.9028\n",
            "Epoch 8/20\n",
            "28/28 [==============================] - 6s 211ms/step - loss: 0.2488 - accuracy: 0.9094 - val_loss: 0.2521 - val_accuracy: 0.9074\n",
            "Epoch 9/20\n",
            "28/28 [==============================] - 6s 212ms/step - loss: 0.2484 - accuracy: 0.9095 - val_loss: 0.2547 - val_accuracy: 0.9045\n",
            "Epoch 10/20\n",
            "28/28 [==============================] - 6s 212ms/step - loss: 0.2468 - accuracy: 0.9101 - val_loss: 0.2600 - val_accuracy: 0.9044\n",
            "Epoch 11/20\n",
            "28/28 [==============================] - 6s 210ms/step - loss: 0.2512 - accuracy: 0.9087 - val_loss: 0.2498 - val_accuracy: 0.9081\n",
            "Epoch 12/20\n",
            "28/28 [==============================] - 6s 211ms/step - loss: 0.2493 - accuracy: 0.9093 - val_loss: 0.2515 - val_accuracy: 0.9053\n",
            "Epoch 13/20\n",
            "28/28 [==============================] - 6s 211ms/step - loss: 0.2454 - accuracy: 0.9104 - val_loss: 0.2468 - val_accuracy: 0.9083\n",
            "Epoch 14/20\n",
            "28/28 [==============================] - 6s 211ms/step - loss: 0.2450 - accuracy: 0.9107 - val_loss: 0.2468 - val_accuracy: 0.9091\n",
            "Epoch 15/20\n",
            "28/28 [==============================] - 6s 210ms/step - loss: 0.2440 - accuracy: 0.9115 - val_loss: 0.2478 - val_accuracy: 0.9079\n",
            "Epoch 16/20\n",
            "28/28 [==============================] - 6s 211ms/step - loss: 0.2423 - accuracy: 0.9118 - val_loss: 0.2451 - val_accuracy: 0.9085\n",
            "Epoch 17/20\n",
            "28/28 [==============================] - 6s 211ms/step - loss: 0.2416 - accuracy: 0.9119 - val_loss: 0.2467 - val_accuracy: 0.9082\n",
            "Epoch 18/20\n",
            "28/28 [==============================] - 6s 210ms/step - loss: 0.2426 - accuracy: 0.9118 - val_loss: 0.2457 - val_accuracy: 0.9071\n",
            "Epoch 19/20\n",
            "28/28 [==============================] - 6s 210ms/step - loss: 0.2458 - accuracy: 0.9106 - val_loss: 0.2609 - val_accuracy: 0.9023\n",
            "Epoch 20/20\n",
            "28/28 [==============================] - 6s 213ms/step - loss: 0.2473 - accuracy: 0.9100 - val_loss: 0.2474 - val_accuracy: 0.9088\n",
            "0.01\n",
            "Epoch 1/20\n",
            "28/28 [==============================] - 10s 237ms/step - loss: 0.3721 - accuracy: 0.8620 - val_loss: 0.3210 - val_accuracy: 0.8929\n",
            "Epoch 2/20\n",
            "28/28 [==============================] - 6s 206ms/step - loss: 0.3118 - accuracy: 0.8978 - val_loss: 0.3139 - val_accuracy: 0.8955\n",
            "Epoch 3/20\n",
            "28/28 [==============================] - 6s 204ms/step - loss: 0.2915 - accuracy: 0.8986 - val_loss: 0.2837 - val_accuracy: 0.8962\n",
            "Epoch 4/20\n",
            "28/28 [==============================] - 6s 205ms/step - loss: 0.2754 - accuracy: 0.9024 - val_loss: 0.2748 - val_accuracy: 0.8983\n",
            "Epoch 5/20\n",
            "28/28 [==============================] - 6s 204ms/step - loss: 0.2740 - accuracy: 0.9024 - val_loss: 0.2749 - val_accuracy: 0.9002\n",
            "Epoch 6/20\n",
            "28/28 [==============================] - 6s 205ms/step - loss: 0.2660 - accuracy: 0.9048 - val_loss: 0.2613 - val_accuracy: 0.9026\n",
            "Epoch 7/20\n",
            "28/28 [==============================] - 6s 205ms/step - loss: 0.2618 - accuracy: 0.9045 - val_loss: 0.2591 - val_accuracy: 0.9018\n",
            "Epoch 8/20\n",
            "28/28 [==============================] - 6s 205ms/step - loss: 0.2636 - accuracy: 0.9059 - val_loss: 0.2634 - val_accuracy: 0.9014\n",
            "Epoch 9/20\n",
            "28/28 [==============================] - 6s 205ms/step - loss: 0.2562 - accuracy: 0.9062 - val_loss: 0.2584 - val_accuracy: 0.9027\n",
            "Epoch 10/20\n",
            "28/28 [==============================] - 6s 206ms/step - loss: 0.2544 - accuracy: 0.9065 - val_loss: 0.2547 - val_accuracy: 0.9032\n",
            "Epoch 11/20\n",
            "28/28 [==============================] - 6s 204ms/step - loss: 0.2503 - accuracy: 0.9079 - val_loss: 0.2528 - val_accuracy: 0.9045\n",
            "Epoch 12/20\n",
            "28/28 [==============================] - 6s 205ms/step - loss: 0.2506 - accuracy: 0.9084 - val_loss: 0.2517 - val_accuracy: 0.9052\n",
            "Epoch 13/20\n",
            "28/28 [==============================] - 6s 206ms/step - loss: 0.2463 - accuracy: 0.9103 - val_loss: 0.2467 - val_accuracy: 0.9090\n",
            "Epoch 14/20\n",
            "28/28 [==============================] - 6s 205ms/step - loss: 0.2442 - accuracy: 0.9117 - val_loss: 0.2475 - val_accuracy: 0.9071\n",
            "Epoch 15/20\n",
            "28/28 [==============================] - 6s 209ms/step - loss: 0.2449 - accuracy: 0.9113 - val_loss: 0.2478 - val_accuracy: 0.9084\n",
            "Epoch 16/20\n",
            "28/28 [==============================] - 6s 207ms/step - loss: 0.2435 - accuracy: 0.9123 - val_loss: 0.2450 - val_accuracy: 0.9095\n",
            "Epoch 17/20\n",
            "28/28 [==============================] - 6s 210ms/step - loss: 0.2419 - accuracy: 0.9128 - val_loss: 0.2451 - val_accuracy: 0.9090\n",
            "Epoch 18/20\n",
            "28/28 [==============================] - 6s 208ms/step - loss: 0.2421 - accuracy: 0.9126 - val_loss: 0.2440 - val_accuracy: 0.9093\n",
            "Epoch 19/20\n",
            "28/28 [==============================] - 6s 210ms/step - loss: 0.2419 - accuracy: 0.9127 - val_loss: 0.2455 - val_accuracy: 0.9088\n",
            "Epoch 20/20\n",
            "28/28 [==============================] - 6s 208ms/step - loss: 0.2425 - accuracy: 0.9125 - val_loss: 0.2439 - val_accuracy: 0.9093\n",
            "0.001\n",
            "Epoch 1/20\n",
            "28/28 [==============================] - 10s 240ms/step - loss: 0.5899 - accuracy: 0.7975 - val_loss: 0.4078 - val_accuracy: 0.8713\n",
            "Epoch 2/20\n",
            "28/28 [==============================] - 6s 211ms/step - loss: 0.3530 - accuracy: 0.8783 - val_loss: 0.3394 - val_accuracy: 0.8851\n",
            "Epoch 3/20\n",
            "28/28 [==============================] - 6s 212ms/step - loss: 0.3294 - accuracy: 0.8940 - val_loss: 0.3315 - val_accuracy: 0.8924\n",
            "Epoch 4/20\n",
            "28/28 [==============================] - 6s 212ms/step - loss: 0.3251 - accuracy: 0.8963 - val_loss: 0.3282 - val_accuracy: 0.8927\n",
            "Epoch 5/20\n",
            "28/28 [==============================] - 6s 213ms/step - loss: 0.3220 - accuracy: 0.8967 - val_loss: 0.3243 - val_accuracy: 0.8937\n",
            "Epoch 6/20\n",
            "28/28 [==============================] - 6s 212ms/step - loss: 0.3177 - accuracy: 0.8980 - val_loss: 0.3187 - val_accuracy: 0.8954\n",
            "Epoch 7/20\n",
            "28/28 [==============================] - 6s 215ms/step - loss: 0.3131 - accuracy: 0.8990 - val_loss: 0.3143 - val_accuracy: 0.8966\n",
            "Epoch 8/20\n",
            "28/28 [==============================] - 6s 213ms/step - loss: 0.3077 - accuracy: 0.9005 - val_loss: 0.3085 - val_accuracy: 0.8984\n",
            "Epoch 9/20\n",
            "28/28 [==============================] - 6s 215ms/step - loss: 0.3030 - accuracy: 0.9015 - val_loss: 0.3035 - val_accuracy: 0.8982\n",
            "Epoch 10/20\n",
            "28/28 [==============================] - 6s 212ms/step - loss: 0.2882 - accuracy: 0.9020 - val_loss: 0.2804 - val_accuracy: 0.8993\n",
            "Epoch 11/20\n",
            "28/28 [==============================] - 6s 213ms/step - loss: 0.2798 - accuracy: 0.9020 - val_loss: 0.2744 - val_accuracy: 0.9002\n",
            "Epoch 12/20\n",
            "28/28 [==============================] - 6s 214ms/step - loss: 0.2690 - accuracy: 0.9027 - val_loss: 0.2653 - val_accuracy: 0.9005\n",
            "Epoch 13/20\n",
            "28/28 [==============================] - 6s 212ms/step - loss: 0.2628 - accuracy: 0.9047 - val_loss: 0.2640 - val_accuracy: 0.9024\n",
            "Epoch 14/20\n",
            "28/28 [==============================] - 6s 215ms/step - loss: 0.2613 - accuracy: 0.9061 - val_loss: 0.2616 - val_accuracy: 0.9032\n",
            "Epoch 15/20\n",
            "28/28 [==============================] - 6s 215ms/step - loss: 0.2565 - accuracy: 0.9078 - val_loss: 0.2615 - val_accuracy: 0.9036\n",
            "Epoch 16/20\n",
            "28/28 [==============================] - 6s 215ms/step - loss: 0.2631 - accuracy: 0.9055 - val_loss: 0.2619 - val_accuracy: 0.9030\n",
            "Epoch 17/20\n",
            "28/28 [==============================] - 6s 214ms/step - loss: 0.2556 - accuracy: 0.9082 - val_loss: 0.2566 - val_accuracy: 0.9051\n",
            "Epoch 18/20\n",
            "28/28 [==============================] - 6s 213ms/step - loss: 0.2549 - accuracy: 0.9084 - val_loss: 0.2554 - val_accuracy: 0.9055\n",
            "Epoch 19/20\n",
            "28/28 [==============================] - 6s 215ms/step - loss: 0.2521 - accuracy: 0.9093 - val_loss: 0.2551 - val_accuracy: 0.9052\n",
            "Epoch 20/20\n",
            "28/28 [==============================] - 6s 214ms/step - loss: 0.2547 - accuracy: 0.9082 - val_loss: 0.2582 - val_accuracy: 0.9044\n"
          ]
        }
      ]
    },
    {
      "cell_type": "code",
      "source": [
        "result_df = pd.DataFrame(model_list)"
      ],
      "metadata": {
        "id": "p7pqD_Ek-BD2"
      },
      "execution_count": null,
      "outputs": []
    },
    {
      "cell_type": "code",
      "source": [
        "result_df"
      ],
      "metadata": {
        "colab": {
          "base_uri": "https://localhost:8080/",
          "height": 143
        },
        "outputId": "7166618a-1334-4671-a7da-7f02eaf482d5",
        "id": "D1rw3F3E-BD3"
      },
      "execution_count": null,
      "outputs": [
        {
          "output_type": "execute_result",
          "data": {
            "text/plain": [
              "   train_acc   val_acc  test_acc   test_f1  test_AUC\n",
              "0   0.910011  0.908780  0.950670  0.950011  0.952144\n",
              "1   0.912465  0.909315  0.952902  0.952510  0.953905\n",
              "2   0.908236  0.904432  0.905134  0.908935  0.906097"
            ],
            "text/html": [
              "\n",
              "  <div id=\"df-8dd09a08-9a19-4ca8-9c62-92aa84a2584f\">\n",
              "    <div class=\"colab-df-container\">\n",
              "      <div>\n",
              "<style scoped>\n",
              "    .dataframe tbody tr th:only-of-type {\n",
              "        vertical-align: middle;\n",
              "    }\n",
              "\n",
              "    .dataframe tbody tr th {\n",
              "        vertical-align: top;\n",
              "    }\n",
              "\n",
              "    .dataframe thead th {\n",
              "        text-align: right;\n",
              "    }\n",
              "</style>\n",
              "<table border=\"1\" class=\"dataframe\">\n",
              "  <thead>\n",
              "    <tr style=\"text-align: right;\">\n",
              "      <th></th>\n",
              "      <th>train_acc</th>\n",
              "      <th>val_acc</th>\n",
              "      <th>test_acc</th>\n",
              "      <th>test_f1</th>\n",
              "      <th>test_AUC</th>\n",
              "    </tr>\n",
              "  </thead>\n",
              "  <tbody>\n",
              "    <tr>\n",
              "      <th>0</th>\n",
              "      <td>0.910011</td>\n",
              "      <td>0.908780</td>\n",
              "      <td>0.950670</td>\n",
              "      <td>0.950011</td>\n",
              "      <td>0.952144</td>\n",
              "    </tr>\n",
              "    <tr>\n",
              "      <th>1</th>\n",
              "      <td>0.912465</td>\n",
              "      <td>0.909315</td>\n",
              "      <td>0.952902</td>\n",
              "      <td>0.952510</td>\n",
              "      <td>0.953905</td>\n",
              "    </tr>\n",
              "    <tr>\n",
              "      <th>2</th>\n",
              "      <td>0.908236</td>\n",
              "      <td>0.904432</td>\n",
              "      <td>0.905134</td>\n",
              "      <td>0.908935</td>\n",
              "      <td>0.906097</td>\n",
              "    </tr>\n",
              "  </tbody>\n",
              "</table>\n",
              "</div>\n",
              "      <button class=\"colab-df-convert\" onclick=\"convertToInteractive('df-8dd09a08-9a19-4ca8-9c62-92aa84a2584f')\"\n",
              "              title=\"Convert this dataframe to an interactive table.\"\n",
              "              style=\"display:none;\">\n",
              "        \n",
              "  <svg xmlns=\"http://www.w3.org/2000/svg\" height=\"24px\"viewBox=\"0 0 24 24\"\n",
              "       width=\"24px\">\n",
              "    <path d=\"M0 0h24v24H0V0z\" fill=\"none\"/>\n",
              "    <path d=\"M18.56 5.44l.94 2.06.94-2.06 2.06-.94-2.06-.94-.94-2.06-.94 2.06-2.06.94zm-11 1L8.5 8.5l.94-2.06 2.06-.94-2.06-.94L8.5 2.5l-.94 2.06-2.06.94zm10 10l.94 2.06.94-2.06 2.06-.94-2.06-.94-.94-2.06-.94 2.06-2.06.94z\"/><path d=\"M17.41 7.96l-1.37-1.37c-.4-.4-.92-.59-1.43-.59-.52 0-1.04.2-1.43.59L10.3 9.45l-7.72 7.72c-.78.78-.78 2.05 0 2.83L4 21.41c.39.39.9.59 1.41.59.51 0 1.02-.2 1.41-.59l7.78-7.78 2.81-2.81c.8-.78.8-2.07 0-2.86zM5.41 20L4 18.59l7.72-7.72 1.47 1.35L5.41 20z\"/>\n",
              "  </svg>\n",
              "      </button>\n",
              "      \n",
              "  <style>\n",
              "    .colab-df-container {\n",
              "      display:flex;\n",
              "      flex-wrap:wrap;\n",
              "      gap: 12px;\n",
              "    }\n",
              "\n",
              "    .colab-df-convert {\n",
              "      background-color: #E8F0FE;\n",
              "      border: none;\n",
              "      border-radius: 50%;\n",
              "      cursor: pointer;\n",
              "      display: none;\n",
              "      fill: #1967D2;\n",
              "      height: 32px;\n",
              "      padding: 0 0 0 0;\n",
              "      width: 32px;\n",
              "    }\n",
              "\n",
              "    .colab-df-convert:hover {\n",
              "      background-color: #E2EBFA;\n",
              "      box-shadow: 0px 1px 2px rgba(60, 64, 67, 0.3), 0px 1px 3px 1px rgba(60, 64, 67, 0.15);\n",
              "      fill: #174EA6;\n",
              "    }\n",
              "\n",
              "    [theme=dark] .colab-df-convert {\n",
              "      background-color: #3B4455;\n",
              "      fill: #D2E3FC;\n",
              "    }\n",
              "\n",
              "    [theme=dark] .colab-df-convert:hover {\n",
              "      background-color: #434B5C;\n",
              "      box-shadow: 0px 1px 3px 1px rgba(0, 0, 0, 0.15);\n",
              "      filter: drop-shadow(0px 1px 2px rgba(0, 0, 0, 0.3));\n",
              "      fill: #FFFFFF;\n",
              "    }\n",
              "  </style>\n",
              "\n",
              "      <script>\n",
              "        const buttonEl =\n",
              "          document.querySelector('#df-8dd09a08-9a19-4ca8-9c62-92aa84a2584f button.colab-df-convert');\n",
              "        buttonEl.style.display =\n",
              "          google.colab.kernel.accessAllowed ? 'block' : 'none';\n",
              "\n",
              "        async function convertToInteractive(key) {\n",
              "          const element = document.querySelector('#df-8dd09a08-9a19-4ca8-9c62-92aa84a2584f');\n",
              "          const dataTable =\n",
              "            await google.colab.kernel.invokeFunction('convertToInteractive',\n",
              "                                                     [key], {});\n",
              "          if (!dataTable) return;\n",
              "\n",
              "          const docLinkHtml = 'Like what you see? Visit the ' +\n",
              "            '<a target=\"_blank\" href=https://colab.research.google.com/notebooks/data_table.ipynb>data table notebook</a>'\n",
              "            + ' to learn more about interactive tables.';\n",
              "          element.innerHTML = '';\n",
              "          dataTable['output_type'] = 'display_data';\n",
              "          await google.colab.output.renderOutput(dataTable, element);\n",
              "          const docLink = document.createElement('div');\n",
              "          docLink.innerHTML = docLinkHtml;\n",
              "          element.appendChild(docLink);\n",
              "        }\n",
              "      </script>\n",
              "    </div>\n",
              "  </div>\n",
              "  "
            ]
          },
          "metadata": {},
          "execution_count": 111
        }
      ]
    },
    {
      "cell_type": "code",
      "source": [
        "plt.figure(figsize=(4,3))\n",
        "plt.plot(range(len(LRs)), result_df['train_acc'], color=\"blue\", marker='o', markerfacecolor='black', markersize=4,  label='train acc')\n",
        "plt.plot(range(len(LRs)), result_df['val_acc'], color=\"darkblue\", marker='o', markerfacecolor='black', markersize=4, label='val acc')\n",
        "plt.plot(range(len(LRs)), result_df['test_acc'], color=\"green\", marker='o', markerfacecolor='black', markersize=4, label='test acc')\n",
        "plt.plot(range(len(LRs)), result_df['test_f1'], color=\"red\", marker='o', markerfacecolor='black', markersize=4, label='test f1')\n",
        "plt.plot(range(len(LRs)), result_df['test_AUC'], color=\"orange\", marker='o', markerfacecolor='black', markersize=4, label='test auc')\n",
        "plt.xticks(range(len(LRs)), LRs)\n",
        "plt.title('Learning rate')\n",
        "plt.xlabel('Learning rate')\n",
        "plt.ylabel('Scores')\n",
        "plt.legend()\n",
        "plt.show()"
      ],
      "metadata": {
        "colab": {
          "base_uri": "https://localhost:8080/",
          "height": 241
        },
        "outputId": "74efac94-560b-42fa-b4eb-3156fbf0fb29",
        "id": "EeAjanWk-BD3"
      },
      "execution_count": null,
      "outputs": [
        {
          "output_type": "display_data",
          "data": {
            "text/plain": [
              "<Figure size 288x216 with 1 Axes>"
            ],
            "image/png": "[encoded data removed]"
          },
          "metadata": {
            "needs_background": "light"
          }
        }
      ]
    },
    {
      "cell_type": "code",
      "source": [
        "model_list[1]"
      ],
      "metadata": {
        "colab": {
          "base_uri": "https://localhost:8080/"
        },
        "id": "OmKITeNx4-Gc",
        "outputId": "5512d013-f7fc-4387-9889-c88fef28a4c4"
      },
      "execution_count": null,
      "outputs": [
        {
          "output_type": "execute_result",
          "data": {
            "text/plain": [
              "{'test_AUC': 0.9539054437583808,\n",
              " 'test_acc': 0.9529017857142857,\n",
              " 'test_f1': 0.9525095656088229,\n",
              " 'train_acc': 0.91246497631073,\n",
              " 'val_acc': 0.9093145728111267}"
            ]
          },
          "metadata": {},
          "execution_count": 114
        }
      ]
    },
    {
      "cell_type": "markdown",
      "metadata": {
        "id": "U9EHNrEntKh3"
      },
      "source": [
        "## 最佳 model 訓練"
      ]
    },
    {
      "cell_type": "code",
      "execution_count": null,
      "metadata": {
        "colab": {
          "base_uri": "https://localhost:8080/"
        },
        "outputId": "a2cb8afe-88da-4561-a818-5ba8f1cf0a0b",
        "id": "C4NDaBYctKh9"
      },
      "outputs": [
        {
          "output_type": "stream",
          "name": "stdout",
          "text": [
            "Model: \"sequential_31\"\n",
            "_________________________________________________________________\n",
            " Layer (type)                Output Shape              Param #   \n",
            "=================================================================\n",
            " embedding_31 (Embedding)    (None, None, 16)          176       \n",
            "                                                                 \n",
            " lstm_45 (LSTM)              (None, None, 32)          6272      \n",
            "                                                                 \n",
            " lstm_46 (LSTM)              (None, None, 32)          8320      \n",
            "                                                                 \n",
            " dense_31 (Dense)            (None, None, 1)           33        \n",
            "                                                                 \n",
            "=================================================================\n",
            "Total params: 14,801\n",
            "Trainable params: 14,801\n",
            "Non-trainable params: 0\n",
            "_________________________________________________________________\n"
          ]
        },
        {
          "output_type": "stream",
          "name": "stderr",
          "text": [
            "/usr/local/lib/python3.7/dist-packages/keras/optimizer_v2/adam.py:105: UserWarning: The `lr` argument is deprecated, use `learning_rate` instead.\n",
            "  super(Adam, self).__init__(name, **kwargs)\n"
          ]
        }
      ],
      "source": [
        "model = Sequential()\n",
        "  \n",
        "model.add(Embedding(input_dim=11, output_dim=16))\n",
        "model.add(LSTM(32, input_shape=(PADDING_LENGTH, 16), return_sequences=True))\n",
        "model.add(LSTM(32, return_sequences=True))\n",
        "model.add(Dense(1, activation='sigmoid'))\n",
        "\n",
        "decay_rate = 0.01 / 20\n",
        "opt = Adam(lr=0.01, decay=decay_rate)\n",
        "model.compile(loss='binary_crossentropy', optimizer=opt, metrics=['accuracy'])\n",
        "model.summary()"
      ]
    },
    {
      "cell_type": "code",
      "execution_count": null,
      "metadata": {
        "colab": {
          "base_uri": "https://localhost:8080/"
        },
        "outputId": "3e6d1f2a-e372-46c0-c4bb-699eb9c1206e",
        "id": "zK5EtuZmtKh9"
      },
      "outputs": [
        {
          "output_type": "stream",
          "name": "stdout",
          "text": [
            "Epoch 1/20\n",
            "28/28 [==============================] - 11s 241ms/step - loss: 0.3731 - accuracy: 0.8589 - val_loss: 0.3190 - val_accuracy: 0.8935\n",
            "Epoch 2/20\n",
            "28/28 [==============================] - 6s 206ms/step - loss: 0.3092 - accuracy: 0.8984 - val_loss: 0.3123 - val_accuracy: 0.8951\n",
            "Epoch 3/20\n",
            "28/28 [==============================] - 6s 206ms/step - loss: 0.3061 - accuracy: 0.8990 - val_loss: 0.3069 - val_accuracy: 0.8963\n",
            "Epoch 4/20\n",
            "28/28 [==============================] - 6s 207ms/step - loss: 0.2968 - accuracy: 0.9000 - val_loss: 0.2948 - val_accuracy: 0.8979\n",
            "Epoch 5/20\n",
            "28/28 [==============================] - 6s 207ms/step - loss: 0.2791 - accuracy: 0.9013 - val_loss: 0.2685 - val_accuracy: 0.8983\n",
            "Epoch 6/20\n",
            "28/28 [==============================] - 6s 207ms/step - loss: 0.2647 - accuracy: 0.9047 - val_loss: 0.2620 - val_accuracy: 0.9032\n",
            "Epoch 7/20\n",
            "28/28 [==============================] - 6s 206ms/step - loss: 0.2604 - accuracy: 0.9067 - val_loss: 0.2587 - val_accuracy: 0.9053\n",
            "Epoch 8/20\n",
            "28/28 [==============================] - 6s 206ms/step - loss: 0.2597 - accuracy: 0.9066 - val_loss: 0.2591 - val_accuracy: 0.9011\n",
            "Epoch 9/20\n",
            "28/28 [==============================] - 6s 206ms/step - loss: 0.2749 - accuracy: 0.8971 - val_loss: 0.2749 - val_accuracy: 0.8962\n",
            "Epoch 10/20\n",
            "28/28 [==============================] - 6s 205ms/step - loss: 0.2592 - accuracy: 0.9036 - val_loss: 0.2559 - val_accuracy: 0.9024\n",
            "Epoch 11/20\n",
            "28/28 [==============================] - 6s 204ms/step - loss: 0.2520 - accuracy: 0.9070 - val_loss: 0.2508 - val_accuracy: 0.9063\n",
            "Epoch 12/20\n",
            "28/28 [==============================] - 6s 205ms/step - loss: 0.2481 - accuracy: 0.9100 - val_loss: 0.2504 - val_accuracy: 0.9069\n",
            "Epoch 13/20\n",
            "28/28 [==============================] - 6s 204ms/step - loss: 0.2448 - accuracy: 0.9116 - val_loss: 0.2481 - val_accuracy: 0.9083\n",
            "Epoch 14/20\n",
            "28/28 [==============================] - 7s 235ms/step - loss: 0.2459 - accuracy: 0.9110 - val_loss: 0.2500 - val_accuracy: 0.9080\n",
            "Epoch 15/20\n",
            "28/28 [==============================] - 6s 205ms/step - loss: 0.2434 - accuracy: 0.9125 - val_loss: 0.2490 - val_accuracy: 0.9072\n",
            "Epoch 16/20\n",
            "28/28 [==============================] - 6s 205ms/step - loss: 0.2452 - accuracy: 0.9111 - val_loss: 0.2471 - val_accuracy: 0.9077\n",
            "Epoch 17/20\n",
            "28/28 [==============================] - 6s 206ms/step - loss: 0.2439 - accuracy: 0.9119 - val_loss: 0.2458 - val_accuracy: 0.9085\n",
            "Epoch 18/20\n",
            "28/28 [==============================] - 6s 205ms/step - loss: 0.2429 - accuracy: 0.9125 - val_loss: 0.2458 - val_accuracy: 0.9092\n",
            "Epoch 19/20\n",
            "28/28 [==============================] - 6s 206ms/step - loss: 0.2428 - accuracy: 0.9126 - val_loss: 0.2450 - val_accuracy: 0.9095\n",
            "Epoch 20/20\n",
            "28/28 [==============================] - 6s 205ms/step - loss: 0.2468 - accuracy: 0.9107 - val_loss: 0.2481 - val_accuracy: 0.9087\n"
          ]
        }
      ],
      "source": [
        "callback = EarlyStopping(monitor='loss', patience=3)\n",
        "EPOCHS = 20\n",
        "BATCH_SIZE = 512\n",
        "history = model.fit(X_train, y_train, batch_size=BATCH_SIZE, epochs=EPOCHS, validation_split=0.2, callbacks=[callback], verbose=1)"
      ]
    },
    {
      "cell_type": "code",
      "execution_count": null,
      "metadata": {
        "colab": {
          "base_uri": "https://localhost:8080/",
          "height": 279
        },
        "outputId": "50964b88-7864-4b6f-9def-fdec7cd44673",
        "id": "auEKEJumtKh-"
      },
      "outputs": [
        {
          "output_type": "display_data",
          "data": {
            "text/plain": [
              "<Figure size 432x288 with 1 Axes>"
            ],
            "image/png": "[encoded data removed]"
          },
          "metadata": {
            "needs_background": "light"
          }
        }
      ],
      "source": [
        "plt.plot(history.history['accuracy'], label='train')\n",
        "plt.plot(history.history['val_accuracy'], label='test')\n",
        "plt.xlabel('Epoch')\n",
        "plt.ylabel('Accuracy')\n",
        "plt.legend()\n",
        "plt.show()"
      ]
    },
    {
      "cell_type": "code",
      "execution_count": null,
      "metadata": {
        "id": "NYVnZ4gZtKh-"
      },
      "outputs": [],
      "source": [
        "prediction = model.predict(X_test)"
      ]
    },
    {
      "cell_type": "code",
      "source": [
        "y_pred = (prediction[:, PADDING_LENGTH-1] > 0.5)\n",
        "print(\"Accuracy of the model : \", accuracy_score(y_pred, y_test))\n",
        "print('F1 score: ', f1_score(y_pred, y_test))\n",
        "print('AUC score: ', roc_auc_score(y_pred, y_test))\n",
        "print('Confusion matrix:')\n",
        "confusion_matrix(y_test,y_pred)"
      ],
      "metadata": {
        "colab": {
          "base_uri": "https://localhost:8080/"
        },
        "outputId": "3321b170-fe5b-473e-d306-57aabb76394e",
        "id": "HJLLOBKytKh-"
      },
      "execution_count": null,
      "outputs": [
        {
          "output_type": "stream",
          "name": "stdout",
          "text": [
            "Accuracy of the model :  0.9515625\n",
            "F1 score:  0.9507601542999774\n",
            "AUC score:  0.9533875600362071\n",
            "Confusion matrix:\n"
          ]
        },
        {
          "output_type": "execute_result",
          "data": {
            "text/plain": [
              "array([[2168,   26],\n",
              "       [ 191, 2095]])"
            ]
          },
          "metadata": {},
          "execution_count": 120
        }
      ]
    },
    {
      "cell_type": "code",
      "execution_count": null,
      "metadata": {
        "id": "5GLkE57GtKh-"
      },
      "outputs": [],
      "source": [
        "labels = ['NotVIP', 'VIP']"
      ]
    },
    {
      "cell_type": "code",
      "source": [
        "Counter(y_test)"
      ],
      "metadata": {
        "colab": {
          "base_uri": "https://localhost:8080/"
        },
        "outputId": "dbd0963f-60a4-46f4-9b33-90c3515344a0",
        "id": "sK2pMLrotKh-"
      },
      "execution_count": null,
      "outputs": [
        {
          "output_type": "execute_result",
          "data": {
            "text/plain": [
              "Counter({0.0: 2194, 1.0: 2286})"
            ]
          },
          "metadata": {},
          "execution_count": 122
        }
      ]
    },
    {
      "cell_type": "code",
      "execution_count": null,
      "metadata": {
        "colab": {
          "base_uri": "https://localhost:8080/",
          "height": 295
        },
        "outputId": "8cf810f9-a1cf-4020-c51d-485146c9b598",
        "id": "MC1sKFj9tKh-"
      },
      "outputs": [
        {
          "output_type": "display_data",
          "data": {
            "text/plain": [
              "<Figure size 288x288 with 1 Axes>"
            ],
            "image/png": "[encoded data removed]"
          },
          "metadata": {
            "needs_background": "light"
          }
        }
      ],
      "source": [
        "matric = confusion_matrix(y_pred, y_test)\n",
        "plt.figure(figsize=(4,4))\n",
        "sns.heatmap(matric,square=True,annot=True,cbar=False,fmt='d',xticklabels=labels, yticklabels=labels)\n",
        "plt.ylabel(\"predict value\")\n",
        "plt.xlabel(\"true value\")\n",
        "plt.title(\"confusion matrix\")\n",
        "plt.show()"
      ]
    },
    {
      "cell_type": "code",
      "execution_count": null,
      "metadata": {
        "colab": {
          "base_uri": "https://localhost:8080/"
        },
        "outputId": "4fd05fe6-317f-4194-a812-f2d03f35a69e",
        "id": "3uUKxr7htKh-"
      },
      "outputs": [
        {
          "output_type": "stream",
          "name": "stdout",
          "text": [
            "report:\n",
            "               precision    recall  f1-score   support\n",
            "\n",
            "      NotVIP       0.99      0.92      0.95      2359\n",
            "         VIP       0.92      0.99      0.95      2121\n",
            "\n",
            "    accuracy                           0.95      4480\n",
            "   macro avg       0.95      0.95      0.95      4480\n",
            "weighted avg       0.95      0.95      0.95      4480\n",
            "\n"
          ]
        }
      ],
      "source": [
        "print(\"report:\\n\",classification_report(y_pred, y_test,labels=[0, 1],target_names=labels))"
      ]
    },
    {
      "cell_type": "code",
      "execution_count": null,
      "metadata": {
        "id": "5ToL-QTDtKh-"
      },
      "outputs": [],
      "source": [
        "prediction_all = model.predict(np.array(X).reshape(len(X), PADDING_LENGTH, 1))"
      ]
    },
    {
      "cell_type": "code",
      "source": [
        "y_pred_all = (prediction_all[:, -1] > 0.5)\n",
        "print(\"Accuracy of the model : \", accuracy_score(y_pred_all, y))\n",
        "print('F1 score: ', f1_score(y_pred_all, y))\n",
        "print('AUC score: ', roc_auc_score(y_pred_all, y))\n",
        "print('Confusion matrix:')\n",
        "confusion_matrix(y_pred_all, y)"
      ],
      "metadata": {
        "colab": {
          "base_uri": "https://localhost:8080/"
        },
        "outputId": "7d0bb27e-22a1-43c0-b515-8e43b5e7bf35",
        "id": "NPoxSAd4tKh_"
      },
      "execution_count": null,
      "outputs": [
        {
          "output_type": "stream",
          "name": "stdout",
          "text": [
            "Accuracy of the model :  0.2833041426886371\n",
            "F1 score:  0.2561673818150342\n",
            "AUC score:  0.5448820737772077\n",
            "Confusion matrix:\n"
          ]
        },
        {
          "output_type": "execute_result",
          "data": {
            "text/plain": [
              "array([[13420,   840],\n",
              "       [59313, 10358]])"
            ]
          },
          "metadata": {},
          "execution_count": 127
        }
      ]
    },
    {
      "cell_type": "code",
      "execution_count": null,
      "metadata": {
        "colab": {
          "base_uri": "https://localhost:8080/",
          "height": 295
        },
        "outputId": "b420c9ce-b93b-4ef0-f35e-22362d3e38d7",
        "id": "31coDIcmtKh_"
      },
      "outputs": [
        {
          "output_type": "display_data",
          "data": {
            "text/plain": [
              "<Figure size 288x288 with 1 Axes>"
            ],
            "image/png": "[encoded data removed]"
          },
          "metadata": {
            "needs_background": "light"
          }
        }
      ],
      "source": [
        "matric = confusion_matrix(y_pred_all, y)\n",
        "plt.figure(figsize=(4,4))\n",
        "sns.heatmap(matric,square=True,annot=True,cbar=False,fmt='d',xticklabels=labels, yticklabels=labels)\n",
        "plt.ylabel(\"predict value\")\n",
        "plt.xlabel(\"true value\")\n",
        "plt.title(\"confusion matrix\")\n",
        "plt.show()"
      ]
    },
    {
      "cell_type": "code",
      "execution_count": null,
      "metadata": {
        "colab": {
          "base_uri": "https://localhost:8080/"
        },
        "outputId": "5c281395-959d-489f-c33b-84e3805abc1c",
        "id": "XVVDU8autKh_"
      },
      "outputs": [
        {
          "output_type": "stream",
          "name": "stdout",
          "text": [
            "report:\n",
            "               precision    recall  f1-score   support\n",
            "\n",
            "      NotVIP       0.18      0.94      0.31     14260\n",
            "         VIP       0.92      0.15      0.26     69671\n",
            "\n",
            "    accuracy                           0.28     83931\n",
            "   macro avg       0.55      0.54      0.28     83931\n",
            "weighted avg       0.80      0.28      0.27     83931\n",
            "\n"
          ]
        }
      ],
      "source": [
        "print(\"report:\\n\",classification_report(y_pred_all, y,labels=[0, 1],target_names=labels))"
      ]
    },
    {
      "cell_type": "markdown",
      "source": [
        "## 取得每層 layer output"
      ],
      "metadata": {
        "id": "H3Ha6h1sF-WE"
      }
    },
    {
      "cell_type": "code",
      "source": [
        "model.layers[0].get_weights()[0].shape"
      ],
      "metadata": {
        "colab": {
          "base_uri": "https://localhost:8080/"
        },
        "outputId": "8fddcc7a-0c24-470c-bf19-33d65cbd1887",
        "id": "b5ZgACmJtKh_"
      },
      "execution_count": null,
      "outputs": [
        {
          "output_type": "execute_result",
          "data": {
            "text/plain": [
              "(11, 16)"
            ]
          },
          "metadata": {},
          "execution_count": 130
        }
      ]
    },
    {
      "cell_type": "code",
      "source": [
        "def get_layer_output(X, idx):\n",
        "  get_output = K.function([model.layers[0].input], [model.layers[idx].output])\n",
        "  return get_output([X])"
      ],
      "metadata": {
        "id": "bOcsBC-8tKh_"
      },
      "execution_count": null,
      "outputs": []
    },
    {
      "cell_type": "code",
      "source": [
        "embedding_layer = get_layer_output(X_test, 0)\n",
        "output_layer = get_layer_output(X_test, 3)\n",
        "all_output_layer = get_layer_output(X_uds, 3)\n",
        "# layer_output_3 = get_layer_output(X_test, 2)\n",
        "# layer_output_5 = get_layer_output(X_test, 4)"
      ],
      "metadata": {
        "id": "TA1SAIODtKh_"
      },
      "execution_count": null,
      "outputs": []
    },
    {
      "cell_type": "code",
      "source": [
        "len(all_output_layer[0])"
      ],
      "metadata": {
        "colab": {
          "base_uri": "https://localhost:8080/"
        },
        "id": "6RWXKVIjKRpE",
        "outputId": "4c70f5b5-e9dd-448e-f59a-023f7d77a2ad"
      },
      "execution_count": null,
      "outputs": [
        {
          "output_type": "execute_result",
          "data": {
            "text/plain": [
              "22396"
            ]
          },
          "metadata": {},
          "execution_count": 163
        }
      ]
    },
    {
      "cell_type": "code",
      "source": [
        "len(output_layer[0])"
      ],
      "metadata": {
        "colab": {
          "base_uri": "https://localhost:8080/"
        },
        "id": "yzbFkkp0KWyD",
        "outputId": "6e563afe-fb99-4234-f3d4-b03247026764"
      },
      "execution_count": null,
      "outputs": [
        {
          "output_type": "execute_result",
          "data": {
            "text/plain": [
              "4480"
            ]
          },
          "metadata": {},
          "execution_count": 164
        }
      ]
    },
    {
      "cell_type": "code",
      "source": [
        "ot = pd.DataFrame(output_layer[0][:, PADDING_LENGTH-1], columns=['P'])\n",
        "ot[ot['P']>0.5]"
      ],
      "metadata": {
        "colab": {
          "base_uri": "https://localhost:8080/",
          "height": 423
        },
        "outputId": "297b92a8-6359-44ba-8e31-866e11c92684",
        "id": "WUrbZLwTtKh_"
      },
      "execution_count": null,
      "outputs": [
        {
          "output_type": "execute_result",
          "data": {
            "text/plain": [
              "             P\n",
              "0     0.999912\n",
              "3     0.999801\n",
              "4     0.999895\n",
              "5     0.999914\n",
              "6     0.999600\n",
              "...        ...\n",
              "4471  0.999702\n",
              "4472  0.999916\n",
              "4475  0.999915\n",
              "4476  0.999858\n",
              "4477  0.998705\n",
              "\n",
              "[2121 rows x 1 columns]"
            ],
            "text/html": [
              "\n",
              "  <div id=\"df-45a50ff9-b835-49b5-bc81-00dfbf8a99fa\">\n",
              "    <div class=\"colab-df-container\">\n",
              "      <div>\n",
              "<style scoped>\n",
              "    .dataframe tbody tr th:only-of-type {\n",
              "        vertical-align: middle;\n",
              "    }\n",
              "\n",
              "    .dataframe tbody tr th {\n",
              "        vertical-align: top;\n",
              "    }\n",
              "\n",
              "    .dataframe thead th {\n",
              "        text-align: right;\n",
              "    }\n",
              "</style>\n",
              "<table border=\"1\" class=\"dataframe\">\n",
              "  <thead>\n",
              "    <tr style=\"text-align: right;\">\n",
              "      <th></th>\n",
              "      <th>P</th>\n",
              "    </tr>\n",
              "  </thead>\n",
              "  <tbody>\n",
              "    <tr>\n",
              "      <th>0</th>\n",
              "      <td>0.999912</td>\n",
              "    </tr>\n",
              "    <tr>\n",
              "      <th>3</th>\n",
              "      <td>0.999801</td>\n",
              "    </tr>\n",
              "    <tr>\n",
              "      <th>4</th>\n",
              "      <td>0.999895</td>\n",
              "    </tr>\n",
              "    <tr>\n",
              "      <th>5</th>\n",
              "      <td>0.999914</td>\n",
              "    </tr>\n",
              "    <tr>\n",
              "      <th>6</th>\n",
              "      <td>0.999600</td>\n",
              "    </tr>\n",
              "    <tr>\n",
              "      <th>...</th>\n",
              "      <td>...</td>\n",
              "    </tr>\n",
              "    <tr>\n",
              "      <th>4471</th>\n",
              "      <td>0.999702</td>\n",
              "    </tr>\n",
              "    <tr>\n",
              "      <th>4472</th>\n",
              "      <td>0.999916</td>\n",
              "    </tr>\n",
              "    <tr>\n",
              "      <th>4475</th>\n",
              "      <td>0.999915</td>\n",
              "    </tr>\n",
              "    <tr>\n",
              "      <th>4476</th>\n",
              "      <td>0.999858</td>\n",
              "    </tr>\n",
              "    <tr>\n",
              "      <th>4477</th>\n",
              "      <td>0.998705</td>\n",
              "    </tr>\n",
              "  </tbody>\n",
              "</table>\n",
              "<p>2121 rows × 1 columns</p>\n",
              "</div>\n",
              "      <button class=\"colab-df-convert\" onclick=\"convertToInteractive('df-45a50ff9-b835-49b5-bc81-00dfbf8a99fa')\"\n",
              "              title=\"Convert this dataframe to an interactive table.\"\n",
              "              style=\"display:none;\">\n",
              "        \n",
              "  <svg xmlns=\"http://www.w3.org/2000/svg\" height=\"24px\"viewBox=\"0 0 24 24\"\n",
              "       width=\"24px\">\n",
              "    <path d=\"M0 0h24v24H0V0z\" fill=\"none\"/>\n",
              "    <path d=\"M18.56 5.44l.94 2.06.94-2.06 2.06-.94-2.06-.94-.94-2.06-.94 2.06-2.06.94zm-11 1L8.5 8.5l.94-2.06 2.06-.94-2.06-.94L8.5 2.5l-.94 2.06-2.06.94zm10 10l.94 2.06.94-2.06 2.06-.94-2.06-.94-.94-2.06-.94 2.06-2.06.94z\"/><path d=\"M17.41 7.96l-1.37-1.37c-.4-.4-.92-.59-1.43-.59-.52 0-1.04.2-1.43.59L10.3 9.45l-7.72 7.72c-.78.78-.78 2.05 0 2.83L4 21.41c.39.39.9.59 1.41.59.51 0 1.02-.2 1.41-.59l7.78-7.78 2.81-2.81c.8-.78.8-2.07 0-2.86zM5.41 20L4 18.59l7.72-7.72 1.47 1.35L5.41 20z\"/>\n",
              "  </svg>\n",
              "      </button>\n",
              "      \n",
              "  <style>\n",
              "    .colab-df-container {\n",
              "      display:flex;\n",
              "      flex-wrap:wrap;\n",
              "      gap: 12px;\n",
              "    }\n",
              "\n",
              "    .colab-df-convert {\n",
              "      background-color: #E8F0FE;\n",
              "      border: none;\n",
              "      border-radius: 50%;\n",
              "      cursor: pointer;\n",
              "      display: none;\n",
              "      fill: #1967D2;\n",
              "      height: 32px;\n",
              "      padding: 0 0 0 0;\n",
              "      width: 32px;\n",
              "    }\n",
              "\n",
              "    .colab-df-convert:hover {\n",
              "      background-color: #E2EBFA;\n",
              "      box-shadow: 0px 1px 2px rgba(60, 64, 67, 0.3), 0px 1px 3px 1px rgba(60, 64, 67, 0.15);\n",
              "      fill: #174EA6;\n",
              "    }\n",
              "\n",
              "    [theme=dark] .colab-df-convert {\n",
              "      background-color: #3B4455;\n",
              "      fill: #D2E3FC;\n",
              "    }\n",
              "\n",
              "    [theme=dark] .colab-df-convert:hover {\n",
              "      background-color: #434B5C;\n",
              "      box-shadow: 0px 1px 3px 1px rgba(0, 0, 0, 0.15);\n",
              "      filter: drop-shadow(0px 1px 2px rgba(0, 0, 0, 0.3));\n",
              "      fill: #FFFFFF;\n",
              "    }\n",
              "  </style>\n",
              "\n",
              "      <script>\n",
              "        const buttonEl =\n",
              "          document.querySelector('#df-45a50ff9-b835-49b5-bc81-00dfbf8a99fa button.colab-df-convert');\n",
              "        buttonEl.style.display =\n",
              "          google.colab.kernel.accessAllowed ? 'block' : 'none';\n",
              "\n",
              "        async function convertToInteractive(key) {\n",
              "          const element = document.querySelector('#df-45a50ff9-b835-49b5-bc81-00dfbf8a99fa');\n",
              "          const dataTable =\n",
              "            await google.colab.kernel.invokeFunction('convertToInteractive',\n",
              "                                                     [key], {});\n",
              "          if (!dataTable) return;\n",
              "\n",
              "          const docLinkHtml = 'Like what you see? Visit the ' +\n",
              "            '<a target=\"_blank\" href=https://colab.research.google.com/notebooks/data_table.ipynb>data table notebook</a>'\n",
              "            + ' to learn more about interactive tables.';\n",
              "          element.innerHTML = '';\n",
              "          dataTable['output_type'] = 'display_data';\n",
              "          await google.colab.output.renderOutput(dataTable, element);\n",
              "          const docLink = document.createElement('div');\n",
              "          docLink.innerHTML = docLinkHtml;\n",
              "          element.appendChild(docLink);\n",
              "        }\n",
              "      </script>\n",
              "    </div>\n",
              "  </div>\n",
              "  "
            ]
          },
          "metadata": {},
          "execution_count": 165
        }
      ]
    },
    {
      "cell_type": "markdown",
      "source": [
        "## 結果解釋"
      ],
      "metadata": {
        "id": "zeJCoIXtF5f_"
      }
    },
    {
      "cell_type": "code",
      "source": [
        "bh_dict = ['None', 'add', 'checkout', 'purchase', 'register', 'search', 'traffic', 'viewactivity', 'viewcategory', 'viewmainpage', 'viewproduct']"
      ],
      "metadata": {
        "id": "KazFzBQzF5f_"
      },
      "execution_count": null,
      "outputs": []
    },
    {
      "cell_type": "code",
      "source": [
        "def get_output_df(idx, data, output_layer):\n",
        "  bh_eg = list(data[idx].reshape(1,PADDING_LENGTH)[0])\n",
        "  bh_eg = [i for i in bh_eg if i != 0] # 把 padding 的 event 拿掉\n",
        "  output_eg = list(output_layer[0][idx].reshape(1,PADDING_LENGTH)[0])[-len(bh_eg):]\n",
        "  bh_name_eg = [bh_dict[x] for x in bh_eg]\n",
        "\n",
        "  df_eg = pd.DataFrame([idx] * len(bh_eg), columns=['Member'])\n",
        "  df_eg['bh'] = bh_name_eg\n",
        "  df_eg['Output'] = output_eg\n",
        "\n",
        "  return df_eg"
      ],
      "metadata": {
        "id": "T6EX5vB1F5f_"
      },
      "execution_count": null,
      "outputs": []
    },
    {
      "cell_type": "markdown",
      "source": [
        "### 取得 all output of test data"
      ],
      "metadata": {
        "id": "Y8CQwzzZIp1L"
      }
    },
    {
      "cell_type": "code",
      "source": [
        "df_egs = []\n",
        "for i in range(len(X_test)):\n",
        "  df_eg = get_output_df(i, X_test, output_layer)\n",
        "  df_egs.append(df_eg)"
      ],
      "metadata": {
        "id": "l_2PTzB4GG_-"
      },
      "execution_count": null,
      "outputs": []
    },
    {
      "cell_type": "code",
      "source": [
        "test_output = pd.concat(df_egs)"
      ],
      "metadata": {
        "id": "WI5zQ5qVGgVY"
      },
      "execution_count": null,
      "outputs": []
    },
    {
      "cell_type": "code",
      "source": [
        "len(test_output['Member'].unique())"
      ],
      "metadata": {
        "colab": {
          "base_uri": "https://localhost:8080/"
        },
        "id": "nNWH5xn3l1nd",
        "outputId": "45d50b14-aa69-425b-e74b-ef1e2ee2d544"
      },
      "execution_count": null,
      "outputs": [
        {
          "output_type": "execute_result",
          "data": {
            "text/plain": [
              "4480"
            ]
          },
          "metadata": {},
          "execution_count": 188
        }
      ]
    },
    {
      "cell_type": "code",
      "source": [
        "test_output.to_csv('Event Sequence Outputs for test data.csv', index=False)"
      ],
      "metadata": {
        "id": "GUxenwV8GyVk"
      },
      "execution_count": null,
      "outputs": []
    },
    {
      "cell_type": "markdown",
      "source": [
        "### 取得 all output of all undersampled data"
      ],
      "metadata": {
        "id": "HFwLZxN-I4xk"
      }
    },
    {
      "cell_type": "code",
      "source": [
        "df_egs = []\n",
        "for i in range(len(X_uds)):\n",
        "  df_eg = get_output_df(i, X_uds, all_output_layer)\n",
        "  df_egs.append(df_eg)"
      ],
      "metadata": {
        "id": "A4qkrDwxI4xl"
      },
      "execution_count": null,
      "outputs": []
    },
    {
      "cell_type": "code",
      "source": [
        "all_output = pd.concat(df_egs)"
      ],
      "metadata": {
        "id": "olKhImZxI4xl"
      },
      "execution_count": null,
      "outputs": []
    },
    {
      "cell_type": "code",
      "source": [
        "len(all_output['Member'].unique())"
      ],
      "metadata": {
        "colab": {
          "base_uri": "https://localhost:8080/"
        },
        "id": "dHmTqiw1lUvR",
        "outputId": "80433044-6938-4d47-9630-e9f4f5976223"
      },
      "execution_count": null,
      "outputs": [
        {
          "output_type": "execute_result",
          "data": {
            "text/plain": [
              "22396"
            ]
          },
          "metadata": {},
          "execution_count": 187
        }
      ]
    },
    {
      "cell_type": "code",
      "source": [
        "all_output.to_csv('Event Sequence Outputs.csv', index=False)"
      ],
      "metadata": {
        "id": "y8mokspYI4xl"
      },
      "execution_count": null,
      "outputs": []
    },
    {
      "cell_type": "markdown",
      "source": [
        "### 整理 ALL data output"
      ],
      "metadata": {
        "id": "PQdmU9VTz48u"
      }
    },
    {
      "cell_type": "code",
      "source": [
        "all_output"
      ],
      "metadata": {
        "colab": {
          "base_uri": "https://localhost:8080/",
          "height": 423
        },
        "id": "21cgUNWHz-1J",
        "outputId": "d57bffb1-0109-4768-88e9-5de92b5a2a1e"
      },
      "execution_count": null,
      "outputs": [
        {
          "output_type": "execute_result",
          "data": {
            "text/plain": [
              "    Member            bh    Output\n",
              "0        0  viewmainpage  0.089915\n",
              "1        0  viewmainpage  0.091846\n",
              "2        0  viewcategory  0.093958\n",
              "0        1  viewmainpage  0.087862\n",
              "1        1  viewmainpage  0.090038\n",
              "..     ...           ...       ...\n",
              "55   22395  viewmainpage  0.999752\n",
              "56   22395  viewmainpage  0.999732\n",
              "57   22395  viewmainpage  0.999713\n",
              "58   22395   viewproduct  0.999857\n",
              "59   22395  viewmainpage  0.999771\n",
              "\n",
              "[643301 rows x 3 columns]"
            ],
            "text/html": [
              "\n",
              "  <div id=\"df-9aa022ac-3709-41d4-8bb2-f0993b85ccb7\">\n",
              "    <div class=\"colab-df-container\">\n",
              "      <div>\n",
              "<style scoped>\n",
              "    .dataframe tbody tr th:only-of-type {\n",
              "        vertical-align: middle;\n",
              "    }\n",
              "\n",
              "    .dataframe tbody tr th {\n",
              "        vertical-align: top;\n",
              "    }\n",
              "\n",
              "    .dataframe thead th {\n",
              "        text-align: right;\n",
              "    }\n",
              "</style>\n",
              "<table border=\"1\" class=\"dataframe\">\n",
              "  <thead>\n",
              "    <tr style=\"text-align: right;\">\n",
              "      <th></th>\n",
              "      <th>Member</th>\n",
              "      <th>bh</th>\n",
              "      <th>Output</th>\n",
              "    </tr>\n",
              "  </thead>\n",
              "  <tbody>\n",
              "    <tr>\n",
              "      <th>0</th>\n",
              "      <td>0</td>\n",
              "      <td>viewmainpage</td>\n",
              "      <td>0.089915</td>\n",
              "    </tr>\n",
              "    <tr>\n",
              "      <th>1</th>\n",
              "      <td>0</td>\n",
              "      <td>viewmainpage</td>\n",
              "      <td>0.091846</td>\n",
              "    </tr>\n",
              "    <tr>\n",
              "      <th>2</th>\n",
              "      <td>0</td>\n",
              "      <td>viewcategory</td>\n",
              "      <td>0.093958</td>\n",
              "    </tr>\n",
              "    <tr>\n",
              "      <th>0</th>\n",
              "      <td>1</td>\n",
              "      <td>viewmainpage</td>\n",
              "      <td>0.087862</td>\n",
              "    </tr>\n",
              "    <tr>\n",
              "      <th>1</th>\n",
              "      <td>1</td>\n",
              "      <td>viewmainpage</td>\n",
              "      <td>0.090038</td>\n",
              "    </tr>\n",
              "    <tr>\n",
              "      <th>...</th>\n",
              "      <td>...</td>\n",
              "      <td>...</td>\n",
              "      <td>...</td>\n",
              "    </tr>\n",
              "    <tr>\n",
              "      <th>55</th>\n",
              "      <td>22395</td>\n",
              "      <td>viewmainpage</td>\n",
              "      <td>0.999752</td>\n",
              "    </tr>\n",
              "    <tr>\n",
              "      <th>56</th>\n",
              "      <td>22395</td>\n",
              "      <td>viewmainpage</td>\n",
              "      <td>0.999732</td>\n",
              "    </tr>\n",
              "    <tr>\n",
              "      <th>57</th>\n",
              "      <td>22395</td>\n",
              "      <td>viewmainpage</td>\n",
              "      <td>0.999713</td>\n",
              "    </tr>\n",
              "    <tr>\n",
              "      <th>58</th>\n",
              "      <td>22395</td>\n",
              "      <td>viewproduct</td>\n",
              "      <td>0.999857</td>\n",
              "    </tr>\n",
              "    <tr>\n",
              "      <th>59</th>\n",
              "      <td>22395</td>\n",
              "      <td>viewmainpage</td>\n",
              "      <td>0.999771</td>\n",
              "    </tr>\n",
              "  </tbody>\n",
              "</table>\n",
              "<p>643301 rows × 3 columns</p>\n",
              "</div>\n",
              "      <button class=\"colab-df-convert\" onclick=\"convertToInteractive('df-9aa022ac-3709-41d4-8bb2-f0993b85ccb7')\"\n",
              "              title=\"Convert this dataframe to an interactive table.\"\n",
              "              style=\"display:none;\">\n",
              "        \n",
              "  <svg xmlns=\"http://www.w3.org/2000/svg\" height=\"24px\"viewBox=\"0 0 24 24\"\n",
              "       width=\"24px\">\n",
              "    <path d=\"M0 0h24v24H0V0z\" fill=\"none\"/>\n",
              "    <path d=\"M18.56 5.44l.94 2.06.94-2.06 2.06-.94-2.06-.94-.94-2.06-.94 2.06-2.06.94zm-11 1L8.5 8.5l.94-2.06 2.06-.94-2.06-.94L8.5 2.5l-.94 2.06-2.06.94zm10 10l.94 2.06.94-2.06 2.06-.94-2.06-.94-.94-2.06-.94 2.06-2.06.94z\"/><path d=\"M17.41 7.96l-1.37-1.37c-.4-.4-.92-.59-1.43-.59-.52 0-1.04.2-1.43.59L10.3 9.45l-7.72 7.72c-.78.78-.78 2.05 0 2.83L4 21.41c.39.39.9.59 1.41.59.51 0 1.02-.2 1.41-.59l7.78-7.78 2.81-2.81c.8-.78.8-2.07 0-2.86zM5.41 20L4 18.59l7.72-7.72 1.47 1.35L5.41 20z\"/>\n",
              "  </svg>\n",
              "      </button>\n",
              "      \n",
              "  <style>\n",
              "    .colab-df-container {\n",
              "      display:flex;\n",
              "      flex-wrap:wrap;\n",
              "      gap: 12px;\n",
              "    }\n",
              "\n",
              "    .colab-df-convert {\n",
              "      background-color: #E8F0FE;\n",
              "      border: none;\n",
              "      border-radius: 50%;\n",
              "      cursor: pointer;\n",
              "      display: none;\n",
              "      fill: #1967D2;\n",
              "      height: 32px;\n",
              "      padding: 0 0 0 0;\n",
              "      width: 32px;\n",
              "    }\n",
              "\n",
              "    .colab-df-convert:hover {\n",
              "      background-color: #E2EBFA;\n",
              "      box-shadow: 0px 1px 2px rgba(60, 64, 67, 0.3), 0px 1px 3px 1px rgba(60, 64, 67, 0.15);\n",
              "      fill: #174EA6;\n",
              "    }\n",
              "\n",
              "    [theme=dark] .colab-df-convert {\n",
              "      background-color: #3B4455;\n",
              "      fill: #D2E3FC;\n",
              "    }\n",
              "\n",
              "    [theme=dark] .colab-df-convert:hover {\n",
              "      background-color: #434B5C;\n",
              "      box-shadow: 0px 1px 3px 1px rgba(0, 0, 0, 0.15);\n",
              "      filter: drop-shadow(0px 1px 2px rgba(0, 0, 0, 0.3));\n",
              "      fill: #FFFFFF;\n",
              "    }\n",
              "  </style>\n",
              "\n",
              "      <script>\n",
              "        const buttonEl =\n",
              "          document.querySelector('#df-9aa022ac-3709-41d4-8bb2-f0993b85ccb7 button.colab-df-convert');\n",
              "        buttonEl.style.display =\n",
              "          google.colab.kernel.accessAllowed ? 'block' : 'none';\n",
              "\n",
              "        async function convertToInteractive(key) {\n",
              "          const element = document.querySelector('#df-9aa022ac-3709-41d4-8bb2-f0993b85ccb7');\n",
              "          const dataTable =\n",
              "            await google.colab.kernel.invokeFunction('convertToInteractive',\n",
              "                                                     [key], {});\n",
              "          if (!dataTable) return;\n",
              "\n",
              "          const docLinkHtml = 'Like what you see? Visit the ' +\n",
              "            '<a target=\"_blank\" href=https://colab.research.google.com/notebooks/data_table.ipynb>data table notebook</a>'\n",
              "            + ' to learn more about interactive tables.';\n",
              "          element.innerHTML = '';\n",
              "          dataTable['output_type'] = 'display_data';\n",
              "          await google.colab.output.renderOutput(dataTable, element);\n",
              "          const docLink = document.createElement('div');\n",
              "          docLink.innerHTML = docLinkHtml;\n",
              "          element.appendChild(docLink);\n",
              "        }\n",
              "      </script>\n",
              "    </div>\n",
              "  </div>\n",
              "  "
            ]
          },
          "metadata": {},
          "execution_count": 196
        }
      ]
    },
    {
      "cell_type": "markdown",
      "source": [
        "## 繪圖"
      ],
      "metadata": {
        "id": "0JQWdcysKu-M"
      }
    },
    {
      "cell_type": "code",
      "source": [
        "from matplotlib import rcParams\n",
        "rcParams.update({'figure.autolayout': True})"
      ],
      "metadata": {
        "id": "dxPtagqgKaor"
      },
      "execution_count": null,
      "outputs": []
    },
    {
      "cell_type": "code",
      "source": [
        "def output_ex(idx):\n",
        "  eg_1 = list(X_uds[idx].reshape(1,PADDING_LENGTH)[0])\n",
        "  eg_1 = [i for i in eg_1 if i != 0] # 把 padding 的 event 拿掉\n",
        "  output_1 = list(all_output_layer[0][idx].reshape(1,PADDING_LENGTH)[0])[-len(eg_1):]\n",
        "\n",
        "  # 開始繪圖\n",
        "  x_axis = range(len(eg_1))\n",
        "  base = [0.5] * len(x_axis)\n",
        "  eg_1_bh = [bh_dict[x] for x in eg_1]\n",
        "\n",
        "  plt.figure(figsize=(12,6))\n",
        "  plt.tight_layout()\n",
        "  plt.plot(x_axis, output_1, color=\"red\", marker='o', markerfacecolor='black', markersize=4)\n",
        "  plt.plot(x_axis, base, color=\"blue\", linestyle='dashed')\n",
        "  plt.xticks(x_axis,eg_1_bh,rotation=90)\n",
        "  plt.xlabel('Behavior Events')\n",
        "  plt.ylabel('P(VIP)')\n",
        "  plt.savefig('Customer Value Prediction/IMG/Event Sequence Prediction/'+ str(idx)+'.png')\n",
        "  plt.close()  "
      ],
      "metadata": {
        "id": "7Wy8d8C1F5f_"
      },
      "execution_count": null,
      "outputs": []
    },
    {
      "cell_type": "code",
      "source": [
        "# for i in range(len(X_uds)):\n",
        "#   output_ex(i)"
      ],
      "metadata": {
        "id": "6DllxMVMIJvP"
      },
      "execution_count": null,
      "outputs": []
    },
    {
      "cell_type": "code",
      "source": [
        "output_ex(9)"
      ],
      "metadata": {
        "colab": {
          "base_uri": "https://localhost:8080/",
          "height": 408
        },
        "outputId": "43a9dca8-c0b5-4828-8701-804e4e7cea24",
        "id": "C_EHAwavF5f_"
      },
      "execution_count": null,
      "outputs": [
        {
          "output_type": "display_data",
          "data": {
            "text/plain": [
              "<Figure size 864x432 with 1 Axes>"
            ],
            "image/png": "[encoded data removed]"
          },
          "metadata": {
            "needs_background": "light"
          }
        }
      ]
    },
    {
      "cell_type": "code",
      "source": [
        "output_ex(200)"
      ],
      "metadata": {
        "colab": {
          "base_uri": "https://localhost:8080/",
          "height": 445
        },
        "outputId": "69a5f02d-5dc2-4cc8-958f-32c455b3140e",
        "id": "y2p5UiPjF5f_"
      },
      "execution_count": null,
      "outputs": [
        {
          "output_type": "display_data",
          "data": {
            "text/plain": [
              "<Figure size 864x432 with 1 Axes>"
            ],
            "image/png": "[encoded data removed]"
          },
          "metadata": {
            "needs_background": "light"
          }
        }
      ]
    },
    {
      "cell_type": "code",
      "source": [
        ""
      ],
      "metadata": {
        "id": "TGPr4-MvF5f_"
      },
      "execution_count": null,
      "outputs": []
    }
  ],
  "metadata": {
    "colab": {
      "collapsed_sections": [],
      "name": "Event Sequence Prediction",
      "provenance": []
    },
    "kernelspec": {
      "display_name": "Python 3",
      "name": "python3"
    },
    "language_info": {
      "name": "python"
    }
  },
  "nbformat": 4,
  "nbformat_minor": 0
}