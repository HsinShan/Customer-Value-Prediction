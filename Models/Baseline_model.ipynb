{
  "cells": [
    {
      "cell_type": "code",
      "execution_count": null,
      "metadata": {
        "colab": {
          "base_uri": "https://localhost:8080/"
        },
        "id": "TOWIMqE4bScp",
        "outputId": "35f93df4-fe10-4863-aed3-e16e6db957ce"
      },
      "outputs": [
        {
          "output_type": "stream",
          "name": "stdout",
          "text": [
            "Drive already mounted at /content/drive; to attempt to forcibly remount, call drive.mount(\"/content/drive\", force_remount=True).\n"
          ]
        }
      ],
      "source": [
        "from google.colab import drive\n",
        "drive.mount('/content/drive')"
      ]
    },
    {
      "cell_type": "code",
      "execution_count": null,
      "metadata": {
        "colab": {
          "base_uri": "https://localhost:8080/"
        },
        "id": "E9vDxSuibW_T",
        "outputId": "7cad4a82-bc42-4b00-ea68-adc3332cb451"
      },
      "outputs": [
        {
          "output_type": "stream",
          "name": "stdout",
          "text": [
            "/content/drive/Shareddrives/My paper\n"
          ]
        }
      ],
      "source": [
        "%cd /content/drive/Shareddrives/My\\ paper"
      ]
    },
    {
      "cell_type": "code",
      "execution_count": null,
      "metadata": {
        "id": "kccKnbTybjMI",
        "colab": {
          "base_uri": "https://localhost:8080/"
        },
        "outputId": "defbac45-2005-4503-e7a1-f2c87c4aec2c"
      },
      "outputs": [
        {
          "output_type": "stream",
          "name": "stderr",
          "text": [
            "/usr/local/lib/python3.7/dist-packages/statsmodels/tools/_testing.py:19: FutureWarning: pandas.util.testing is deprecated. Use the functions in the public API at pandas.testing instead.\n",
            "  import pandas.util.testing as tm\n"
          ]
        }
      ],
      "source": [
        "import pandas as pd\n",
        "import numpy as np\n",
        "import matplotlib.pyplot as plt\n",
        "import seaborn as sns\n",
        "import statsmodels.api as sm\n",
        "from scipy import stats\n",
        "from imblearn.under_sampling import NearMiss\n",
        "from collections import Counter\n",
        "from sklearn.model_selection import train_test_split, cross_val_score\n",
        "from sklearn import tree\n",
        "from sklearn.metrics import confusion_matrix, classification_report, roc_curve, roc_auc_score, f1_score\n",
        "from sklearn.ensemble import RandomForestClassifier\n",
        "from xgboost import XGBClassifier, plot_tree\n",
        "from sklearn.model_selection import GridSearchCV"
      ]
    },
    {
      "cell_type": "code",
      "source": [
        "data = pd.read_csv('./Customer Value Prediction/TABLES/Handcrafted Features.csv')"
      ],
      "metadata": {
        "id": "26jv2hn4ynGm"
      },
      "execution_count": null,
      "outputs": []
    },
    {
      "cell_type": "code",
      "source": [
        "len(data)"
      ],
      "metadata": {
        "colab": {
          "base_uri": "https://localhost:8080/"
        },
        "id": "7kKGkjRsHiXv",
        "outputId": "ba41619f-3c8c-4c03-a984-798469459879"
      },
      "execution_count": null,
      "outputs": [
        {
          "output_type": "execute_result",
          "data": {
            "text/plain": [
              "83931"
            ]
          },
          "metadata": {},
          "execution_count": 5
        }
      ]
    },
    {
      "cell_type": "code",
      "source": [
        "Counter(data['VIP'])"
      ],
      "metadata": {
        "colab": {
          "base_uri": "https://localhost:8080/"
        },
        "id": "V-ohypB-LqYo",
        "outputId": "b018b606-9d64-4ac9-8a34-510966c6de71"
      },
      "execution_count": null,
      "outputs": [
        {
          "output_type": "execute_result",
          "data": {
            "text/plain": [
              "Counter({0.0: 72733, 1.0: 11198})"
            ]
          },
          "metadata": {},
          "execution_count": 6
        }
      ]
    },
    {
      "cell_type": "code",
      "execution_count": null,
      "metadata": {
        "id": "0s35dL4lgYoq"
      },
      "outputs": [],
      "source": [
        "# all X columns\n",
        "X_cols = ['Lifespan_days', 'CAI', 'Monetary', 'Recency', 'Frequency', 'ActiveDays', 'PromotionUsedRate', 'CompleteOrders', 'ReturnRate']"
      ]
    },
    {
      "cell_type": "markdown",
      "source": [
        "## Build Model"
      ],
      "metadata": {
        "id": "V43P_Inegmei"
      }
    },
    {
      "cell_type": "code",
      "execution_count": null,
      "metadata": {
        "id": "ogSDcIcJYmYx"
      },
      "outputs": [],
      "source": [
        "X = data[X_cols]\n",
        "y = data['VIP'].astype(int)"
      ]
    },
    {
      "cell_type": "markdown",
      "metadata": {
        "id": "Gs1d00sW_RyR"
      },
      "source": [
        "### Step 1: Undersampling major class Experiment "
      ]
    },
    {
      "cell_type": "code",
      "execution_count": null,
      "metadata": {
        "colab": {
          "base_uri": "https://localhost:8080/"
        },
        "id": "mO7iglJE-B04",
        "outputId": "d1a5be5d-d386-404f-9117-bd5b1f9b1485"
      },
      "outputs": [
        {
          "output_type": "stream",
          "name": "stdout",
          "text": [
            "Counter({0: 72733, 1: 11198})\n"
          ]
        }
      ],
      "source": [
        "# summarize class distribution\n",
        "counter = Counter(y)\n",
        "print(counter)"
      ]
    },
    {
      "cell_type": "code",
      "source": [
        "print('Total: ', len(data))\n",
        "print('Not VIP %:', counter[0]/len(data))\n",
        "print('VIP %:', counter[1]/len(data))"
      ],
      "metadata": {
        "colab": {
          "base_uri": "https://localhost:8080/"
        },
        "id": "zejbmyTVheNf",
        "outputId": "21a855f0-c171-4635-b9c6-e0ebaf9abe17"
      },
      "execution_count": null,
      "outputs": [
        {
          "output_type": "stream",
          "name": "stdout",
          "text": [
            "Total:  83931\n",
            "Not VIP %: 0.8665808819149063\n",
            "VIP %: 0.1334191180850937\n"
          ]
        }
      ]
    },
    {
      "cell_type": "code",
      "source": [
        "class ActivePrediction():\n",
        "  def __init__(self, X, y, active_weight, X_cols):\n",
        "    self.X = X\n",
        "    self.y = y\n",
        "    self.active_weight = active_weight\n",
        "    self.X_cols = X_cols\n",
        "\n",
        "    self.reset()\n",
        "\n",
        "  def reset(self):\n",
        "    self.data_res = []\n",
        "    self.X_binary = []\n",
        "    self.y_binary = []\n",
        "\n",
        "    self.cv_score_accuracy = []\n",
        "    self.cv_score_roc = []\n",
        "\n",
        "    self.train_accuracy = 0\n",
        "    self.test_accuracy = 0\n",
        "    self.test_F1 = 0\n",
        "    self.test_auc = 0\n",
        "\n",
        "    self.classification_report = []\n",
        "\n",
        "    self.y_test = []\n",
        "    self.y_preds = []\n",
        "\n",
        "  def undersampling(self):\n",
        "    print('------------------- Start to undersampling-------------------------')\n",
        "    counter = Counter(y)\n",
        "    inactive_num = int(counter[1]*(1-self.active_weight)/self.active_weight)\n",
        "    nm = NearMiss(sampling_strategy={0: inactive_num}, version=1)\n",
        "    X_res, y_res = nm.fit_resample(self.X, self.y)\n",
        "\n",
        "    # summarize the new class distribution\n",
        "    counter = Counter(y_res)\n",
        "    print('undersampling:', counter)\n",
        "    print('------------------- Finished to undersampling-------------------------')\n",
        "    return pd.concat([X_res, y_res], axis=1)\n",
        "    \n",
        "\n",
        "  def cross_val(self, score, X_train, y_train):\n",
        "    rfc_cv_score = cross_val_score(self.model, X_train, y_train, cv=5, scoring=score)\n",
        "    return {'scores': rfc_cv_score, 'Mean score': rfc_cv_score.mean()}\n",
        "\n",
        "  def train_RF_model(self, X_train, X_test, y_train, y_test):\n",
        "    self.model = RandomForestClassifier(max_depth=5,n_estimators=200)\n",
        "    self.model.fit(X_train, y_train)\n",
        "    self.y_pred = self.model.predict(X_test)\n",
        "    print('------------------- Start to CV-------------------------')\n",
        "    self.cv_score_accuracy = self.cross_val('accuracy', X_train, y_train)\n",
        "    self.cv_score_roc = self.cross_val('roc_auc_ovr', X_train, y_train)\n",
        "    print('------------------- Finished to CV-------------------------')\n",
        "\n",
        "    print(\"Accuracy score on train data:\", self.model.score(X_train, y_train))\n",
        "    print(\"Accuracy score on test data:\", self.model.score(X_test, y_test))\n",
        "    \n",
        "    self.train_accuracy = self.model.score(X_train, y_train)\n",
        "    self.test_accuracy = self.model.score(X_test, y_test)\n",
        "\n",
        "    self.test_F1 = f1_score(y_test, self.y_pred)\n",
        "    self.test_auc = roc_auc_score(y_test, self.y_pred)\n",
        "    print('F1 score on test data:', self.test_F1)\n",
        "    print('AUC score on test data:', self.test_auc)\n",
        " \n",
        "    labels = [0, 1]\n",
        "    label_names = ['inactive', 'active']\n",
        "    self.classification_report = classification_report(y_test, self.y_pred,labels=labels,target_names=label_names)\n",
        "\n",
        "  def build_model(self):\n",
        "    if self.active_weight == 0:\n",
        "      self.data_res = pd.concat([self.X, self.y], axis=1)\n",
        "      X_binary = self.X\n",
        "      y_binary = self.y\n",
        "    else:\n",
        "      self.data_res = self.undersampling()\n",
        "      X_binary = self.data_res[X_cols]\n",
        "      y_binary = self.data_res['VIP'].astype(int)\n",
        "\n",
        "    X_train, X_test, y_train, y_test = train_test_split(X_binary, y_binary, test_size=0.2, random_state=123)\n",
        "\n",
        "    self.train_RF_model(X_train, X_test, y_train, y_test)\n",
        "    self.y_test = y_test"
      ],
      "metadata": {
        "id": "Cyg7PqIIUrgt"
      },
      "execution_count": null,
      "outputs": []
    },
    {
      "cell_type": "code",
      "source": [
        "active_weights = [0.3, 0.4, 0.5]\n",
        "models = []\n",
        "\n",
        "for w in active_weights:\n",
        "  print('Active_weight:', w)\n",
        "  model = ActivePrediction(X, y, w, X_cols)\n",
        "  model.build_model()\n",
        "\n",
        "  models.append(model)"
      ],
      "metadata": {
        "colab": {
          "base_uri": "https://localhost:8080/"
        },
        "id": "Pmw5d6__2qiQ",
        "outputId": "29c4fa1e-f0df-46d9-ede0-c487056818f5"
      },
      "execution_count": null,
      "outputs": [
        {
          "output_type": "stream",
          "name": "stdout",
          "text": [
            "Active_weight: 0.3\n",
            "------------------- Start to undersampling-------------------------\n",
            "undersampling: Counter({0: 26128, 1: 11198})\n",
            "------------------- Finished to undersampling-------------------------\n",
            "------------------- Start to CV-------------------------\n",
            "------------------- Finished to CV-------------------------\n",
            "Accuracy score on train data: 0.9078365706630944\n",
            "Accuracy score on test data: 0.9022234128047147\n",
            "F1 score on test data: 0.8160282258064516\n",
            "AUC score on test data: 0.8479121424153289\n",
            "Active_weight: 0.4\n",
            "------------------- Start to undersampling-------------------------\n",
            "undersampling: Counter({0: 16797, 1: 11198})\n",
            "------------------- Finished to undersampling-------------------------\n",
            "------------------- Start to CV-------------------------\n",
            "------------------- Finished to CV-------------------------\n",
            "Accuracy score on train data: 0.9146276120735846\n",
            "Accuracy score on test data: 0.9135559921414538\n",
            "F1 score on test data: 0.8836538461538461\n",
            "AUC score on test data: 0.8975551850687633\n",
            "Active_weight: 0.5\n",
            "------------------- Start to undersampling-------------------------\n",
            "undersampling: Counter({0: 11198, 1: 11198})\n",
            "------------------- Finished to undersampling-------------------------\n",
            "------------------- Start to CV-------------------------\n",
            "------------------- Finished to CV-------------------------\n",
            "Accuracy score on train data: 0.9230296941281536\n",
            "Accuracy score on test data: 0.9243303571428572\n",
            "F1 score on test data: 0.9213274541656997\n",
            "AUC score on test data: 0.9255044976716106\n"
          ]
        }
      ]
    },
    {
      "cell_type": "code",
      "source": [
        "pd.DataFrame([models[0].cv_score_accuracy, models[1].cv_score_accuracy, models[2].cv_score_accuracy])"
      ],
      "metadata": {
        "colab": {
          "base_uri": "https://localhost:8080/",
          "height": 143
        },
        "id": "8QjPBUf0plmC",
        "outputId": "69e5c83d-232e-40d0-9353-b92524d41879"
      },
      "execution_count": null,
      "outputs": [
        {
          "output_type": "execute_result",
          "data": {
            "text/plain": [
              "                                              scores  Mean score\n",
              "0  [0.9099129269926323, 0.9084058941728065, 0.903...    0.906397\n",
              "1  [0.9131696428571429, 0.9153828979682965, 0.912...    0.911547\n",
              "2  [0.9196428571428571, 0.9198995255372593, 0.927...    0.919011"
            ],
            "text/html": [
              "\n",
              "  <div id=\"df-458461af-5ee0-4f42-8420-6af5ad746836\">\n",
              "    <div class=\"colab-df-container\">\n",
              "      <div>\n",
              "<style scoped>\n",
              "    .dataframe tbody tr th:only-of-type {\n",
              "        vertical-align: middle;\n",
              "    }\n",
              "\n",
              "    .dataframe tbody tr th {\n",
              "        vertical-align: top;\n",
              "    }\n",
              "\n",
              "    .dataframe thead th {\n",
              "        text-align: right;\n",
              "    }\n",
              "</style>\n",
              "<table border=\"1\" class=\"dataframe\">\n",
              "  <thead>\n",
              "    <tr style=\"text-align: right;\">\n",
              "      <th></th>\n",
              "      <th>scores</th>\n",
              "      <th>Mean score</th>\n",
              "    </tr>\n",
              "  </thead>\n",
              "  <tbody>\n",
              "    <tr>\n",
              "      <th>0</th>\n",
              "      <td>[0.9099129269926323, 0.9084058941728065, 0.903...</td>\n",
              "      <td>0.906397</td>\n",
              "    </tr>\n",
              "    <tr>\n",
              "      <th>1</th>\n",
              "      <td>[0.9131696428571429, 0.9153828979682965, 0.912...</td>\n",
              "      <td>0.911547</td>\n",
              "    </tr>\n",
              "    <tr>\n",
              "      <th>2</th>\n",
              "      <td>[0.9196428571428571, 0.9198995255372593, 0.927...</td>\n",
              "      <td>0.919011</td>\n",
              "    </tr>\n",
              "  </tbody>\n",
              "</table>\n",
              "</div>\n",
              "      <button class=\"colab-df-convert\" onclick=\"convertToInteractive('df-458461af-5ee0-4f42-8420-6af5ad746836')\"\n",
              "              title=\"Convert this dataframe to an interactive table.\"\n",
              "              style=\"display:none;\">\n",
              "        \n",
              "  <svg xmlns=\"http://www.w3.org/2000/svg\" height=\"24px\"viewBox=\"0 0 24 24\"\n",
              "       width=\"24px\">\n",
              "    <path d=\"M0 0h24v24H0V0z\" fill=\"none\"/>\n",
              "    <path d=\"M18.56 5.44l.94 2.06.94-2.06 2.06-.94-2.06-.94-.94-2.06-.94 2.06-2.06.94zm-11 1L8.5 8.5l.94-2.06 2.06-.94-2.06-.94L8.5 2.5l-.94 2.06-2.06.94zm10 10l.94 2.06.94-2.06 2.06-.94-2.06-.94-.94-2.06-.94 2.06-2.06.94z\"/><path d=\"M17.41 7.96l-1.37-1.37c-.4-.4-.92-.59-1.43-.59-.52 0-1.04.2-1.43.59L10.3 9.45l-7.72 7.72c-.78.78-.78 2.05 0 2.83L4 21.41c.39.39.9.59 1.41.59.51 0 1.02-.2 1.41-.59l7.78-7.78 2.81-2.81c.8-.78.8-2.07 0-2.86zM5.41 20L4 18.59l7.72-7.72 1.47 1.35L5.41 20z\"/>\n",
              "  </svg>\n",
              "      </button>\n",
              "      \n",
              "  <style>\n",
              "    .colab-df-container {\n",
              "      display:flex;\n",
              "      flex-wrap:wrap;\n",
              "      gap: 12px;\n",
              "    }\n",
              "\n",
              "    .colab-df-convert {\n",
              "      background-color: #E8F0FE;\n",
              "      border: none;\n",
              "      border-radius: 50%;\n",
              "      cursor: pointer;\n",
              "      display: none;\n",
              "      fill: #1967D2;\n",
              "      height: 32px;\n",
              "      padding: 0 0 0 0;\n",
              "      width: 32px;\n",
              "    }\n",
              "\n",
              "    .colab-df-convert:hover {\n",
              "      background-color: #E2EBFA;\n",
              "      box-shadow: 0px 1px 2px rgba(60, 64, 67, 0.3), 0px 1px 3px 1px rgba(60, 64, 67, 0.15);\n",
              "      fill: #174EA6;\n",
              "    }\n",
              "\n",
              "    [theme=dark] .colab-df-convert {\n",
              "      background-color: #3B4455;\n",
              "      fill: #D2E3FC;\n",
              "    }\n",
              "\n",
              "    [theme=dark] .colab-df-convert:hover {\n",
              "      background-color: #434B5C;\n",
              "      box-shadow: 0px 1px 3px 1px rgba(0, 0, 0, 0.15);\n",
              "      filter: drop-shadow(0px 1px 2px rgba(0, 0, 0, 0.3));\n",
              "      fill: #FFFFFF;\n",
              "    }\n",
              "  </style>\n",
              "\n",
              "      <script>\n",
              "        const buttonEl =\n",
              "          document.querySelector('#df-458461af-5ee0-4f42-8420-6af5ad746836 button.colab-df-convert');\n",
              "        buttonEl.style.display =\n",
              "          google.colab.kernel.accessAllowed ? 'block' : 'none';\n",
              "\n",
              "        async function convertToInteractive(key) {\n",
              "          const element = document.querySelector('#df-458461af-5ee0-4f42-8420-6af5ad746836');\n",
              "          const dataTable =\n",
              "            await google.colab.kernel.invokeFunction('convertToInteractive',\n",
              "                                                     [key], {});\n",
              "          if (!dataTable) return;\n",
              "\n",
              "          const docLinkHtml = 'Like what you see? Visit the ' +\n",
              "            '<a target=\"_blank\" href=https://colab.research.google.com/notebooks/data_table.ipynb>data table notebook</a>'\n",
              "            + ' to learn more about interactive tables.';\n",
              "          element.innerHTML = '';\n",
              "          dataTable['output_type'] = 'display_data';\n",
              "          await google.colab.output.renderOutput(dataTable, element);\n",
              "          const docLink = document.createElement('div');\n",
              "          docLink.innerHTML = docLinkHtml;\n",
              "          element.appendChild(docLink);\n",
              "        }\n",
              "      </script>\n",
              "    </div>\n",
              "  </div>\n",
              "  "
            ]
          },
          "metadata": {},
          "execution_count": 25
        }
      ]
    },
    {
      "cell_type": "code",
      "source": [
        "pd.DataFrame([models[0].cv_score_roc, models[1].cv_score_roc, models[2].cv_score_roc])"
      ],
      "metadata": {
        "colab": {
          "base_uri": "https://localhost:8080/",
          "height": 143
        },
        "outputId": "56d258e5-a541-4bbf-820d-5152441b82bf",
        "id": "6aqkNRW1AVwO"
      },
      "execution_count": null,
      "outputs": [
        {
          "output_type": "execute_result",
          "data": {
            "text/plain": [
              "                                              scores  Mean score\n",
              "0  [0.9212356259492298, 0.9190463371449847, 0.910...    0.915152\n",
              "1  [0.9448699565597517, 0.9473924806942025, 0.939...    0.941806\n",
              "2  [0.9582675605843703, 0.9626422384246277, 0.962...    0.958012"
            ],
            "text/html": [
              "\n",
              "  <div id=\"df-6dd20af6-f0f8-44df-947b-c2ee6dbad441\">\n",
              "    <div class=\"colab-df-container\">\n",
              "      <div>\n",
              "<style scoped>\n",
              "    .dataframe tbody tr th:only-of-type {\n",
              "        vertical-align: middle;\n",
              "    }\n",
              "\n",
              "    .dataframe tbody tr th {\n",
              "        vertical-align: top;\n",
              "    }\n",
              "\n",
              "    .dataframe thead th {\n",
              "        text-align: right;\n",
              "    }\n",
              "</style>\n",
              "<table border=\"1\" class=\"dataframe\">\n",
              "  <thead>\n",
              "    <tr style=\"text-align: right;\">\n",
              "      <th></th>\n",
              "      <th>scores</th>\n",
              "      <th>Mean score</th>\n",
              "    </tr>\n",
              "  </thead>\n",
              "  <tbody>\n",
              "    <tr>\n",
              "      <th>0</th>\n",
              "      <td>[0.9212356259492298, 0.9190463371449847, 0.910...</td>\n",
              "      <td>0.915152</td>\n",
              "    </tr>\n",
              "    <tr>\n",
              "      <th>1</th>\n",
              "      <td>[0.9448699565597517, 0.9473924806942025, 0.939...</td>\n",
              "      <td>0.941806</td>\n",
              "    </tr>\n",
              "    <tr>\n",
              "      <th>2</th>\n",
              "      <td>[0.9582675605843703, 0.9626422384246277, 0.962...</td>\n",
              "      <td>0.958012</td>\n",
              "    </tr>\n",
              "  </tbody>\n",
              "</table>\n",
              "</div>\n",
              "      <button class=\"colab-df-convert\" onclick=\"convertToInteractive('df-6dd20af6-f0f8-44df-947b-c2ee6dbad441')\"\n",
              "              title=\"Convert this dataframe to an interactive table.\"\n",
              "              style=\"display:none;\">\n",
              "        \n",
              "  <svg xmlns=\"http://www.w3.org/2000/svg\" height=\"24px\"viewBox=\"0 0 24 24\"\n",
              "       width=\"24px\">\n",
              "    <path d=\"M0 0h24v24H0V0z\" fill=\"none\"/>\n",
              "    <path d=\"M18.56 5.44l.94 2.06.94-2.06 2.06-.94-2.06-.94-.94-2.06-.94 2.06-2.06.94zm-11 1L8.5 8.5l.94-2.06 2.06-.94-2.06-.94L8.5 2.5l-.94 2.06-2.06.94zm10 10l.94 2.06.94-2.06 2.06-.94-2.06-.94-.94-2.06-.94 2.06-2.06.94z\"/><path d=\"M17.41 7.96l-1.37-1.37c-.4-.4-.92-.59-1.43-.59-.52 0-1.04.2-1.43.59L10.3 9.45l-7.72 7.72c-.78.78-.78 2.05 0 2.83L4 21.41c.39.39.9.59 1.41.59.51 0 1.02-.2 1.41-.59l7.78-7.78 2.81-2.81c.8-.78.8-2.07 0-2.86zM5.41 20L4 18.59l7.72-7.72 1.47 1.35L5.41 20z\"/>\n",
              "  </svg>\n",
              "      </button>\n",
              "      \n",
              "  <style>\n",
              "    .colab-df-container {\n",
              "      display:flex;\n",
              "      flex-wrap:wrap;\n",
              "      gap: 12px;\n",
              "    }\n",
              "\n",
              "    .colab-df-convert {\n",
              "      background-color: #E8F0FE;\n",
              "      border: none;\n",
              "      border-radius: 50%;\n",
              "      cursor: pointer;\n",
              "      display: none;\n",
              "      fill: #1967D2;\n",
              "      height: 32px;\n",
              "      padding: 0 0 0 0;\n",
              "      width: 32px;\n",
              "    }\n",
              "\n",
              "    .colab-df-convert:hover {\n",
              "      background-color: #E2EBFA;\n",
              "      box-shadow: 0px 1px 2px rgba(60, 64, 67, 0.3), 0px 1px 3px 1px rgba(60, 64, 67, 0.15);\n",
              "      fill: #174EA6;\n",
              "    }\n",
              "\n",
              "    [theme=dark] .colab-df-convert {\n",
              "      background-color: #3B4455;\n",
              "      fill: #D2E3FC;\n",
              "    }\n",
              "\n",
              "    [theme=dark] .colab-df-convert:hover {\n",
              "      background-color: #434B5C;\n",
              "      box-shadow: 0px 1px 3px 1px rgba(0, 0, 0, 0.15);\n",
              "      filter: drop-shadow(0px 1px 2px rgba(0, 0, 0, 0.3));\n",
              "      fill: #FFFFFF;\n",
              "    }\n",
              "  </style>\n",
              "\n",
              "      <script>\n",
              "        const buttonEl =\n",
              "          document.querySelector('#df-6dd20af6-f0f8-44df-947b-c2ee6dbad441 button.colab-df-convert');\n",
              "        buttonEl.style.display =\n",
              "          google.colab.kernel.accessAllowed ? 'block' : 'none';\n",
              "\n",
              "        async function convertToInteractive(key) {\n",
              "          const element = document.querySelector('#df-6dd20af6-f0f8-44df-947b-c2ee6dbad441');\n",
              "          const dataTable =\n",
              "            await google.colab.kernel.invokeFunction('convertToInteractive',\n",
              "                                                     [key], {});\n",
              "          if (!dataTable) return;\n",
              "\n",
              "          const docLinkHtml = 'Like what you see? Visit the ' +\n",
              "            '<a target=\"_blank\" href=https://colab.research.google.com/notebooks/data_table.ipynb>data table notebook</a>'\n",
              "            + ' to learn more about interactive tables.';\n",
              "          element.innerHTML = '';\n",
              "          dataTable['output_type'] = 'display_data';\n",
              "          await google.colab.output.renderOutput(dataTable, element);\n",
              "          const docLink = document.createElement('div');\n",
              "          docLink.innerHTML = docLinkHtml;\n",
              "          element.appendChild(docLink);\n",
              "        }\n",
              "      </script>\n",
              "    </div>\n",
              "  </div>\n",
              "  "
            ]
          },
          "metadata": {},
          "execution_count": 15
        }
      ]
    },
    {
      "cell_type": "code",
      "execution_count": null,
      "metadata": {
        "id": "Qlnradb-vZpG"
      },
      "outputs": [],
      "source": [
        "labels = [0, 1]\n",
        "label_names = ['Not VIP', 'VIP']"
      ]
    },
    {
      "cell_type": "code",
      "execution_count": null,
      "metadata": {
        "id": "p64QHiTqvZpG",
        "colab": {
          "base_uri": "https://localhost:8080/",
          "height": 241
        },
        "outputId": "7555b1d9-b471-468c-c5c1-e5186ccb35ad"
      },
      "outputs": [
        {
          "output_type": "display_data",
          "data": {
            "text/plain": [
              "<Figure size 216x216 with 1 Axes>"
            ],
            "image/png": "[encoded data removed]"
          },
          "metadata": {
            "needs_background": "light"
          }
        }
      ],
      "source": [
        "matric = confusion_matrix(models[0].y_pred, models[0].y_test)\n",
        "plt.figure(figsize=(3,3))\n",
        "sns.heatmap(matric,square=True,annot=True,cbar=False,fmt='d',xticklabels=label_names, yticklabels=label_names)\n",
        "plt.ylabel(\"predict value\")\n",
        "plt.xlabel(\"true value\")\n",
        "plt.title(\"confusion matrix\")\n",
        "plt.show()"
      ]
    },
    {
      "cell_type": "code",
      "source": [
        "matric = confusion_matrix(models[1].y_pred, models[1].y_test)\n",
        "plt.figure(figsize=(3,3))\n",
        "sns.heatmap(matric,square=True,annot=True,cbar=False,fmt='d',xticklabels=label_names, yticklabels=label_names)\n",
        "plt.ylabel(\"predict value\")\n",
        "plt.xlabel(\"true value\")\n",
        "plt.title(\"confusion matrix\")\n",
        "plt.show()"
      ],
      "metadata": {
        "colab": {
          "base_uri": "https://localhost:8080/",
          "height": 241
        },
        "id": "hd5qBjNCvuwr",
        "outputId": "9a8b2496-9ec8-4165-cac6-782b7f7c2a40"
      },
      "execution_count": null,
      "outputs": [
        {
          "output_type": "display_data",
          "data": {
            "text/plain": [
              "<Figure size 216x216 with 1 Axes>"
            ],
            "image/png": "[encoded data removed]"
          },
          "metadata": {
            "needs_background": "light"
          }
        }
      ]
    },
    {
      "cell_type": "code",
      "source": [
        "matric = confusion_matrix(models[2].y_pred, models[2].y_test)\n",
        "plt.figure(figsize=(3,3))\n",
        "sns.heatmap(matric,square=True,annot=True,cbar=False,fmt='d',xticklabels=label_names, yticklabels=label_names)\n",
        "plt.ylabel(\"predict value\")\n",
        "plt.xlabel(\"true value\")\n",
        "plt.title(\"confusion matrix\")\n",
        "plt.show()"
      ],
      "metadata": {
        "colab": {
          "base_uri": "https://localhost:8080/",
          "height": 241
        },
        "id": "tQHmiza17Myg",
        "outputId": "0a7283ef-cc72-44e1-993f-f4e94385a08e"
      },
      "execution_count": null,
      "outputs": [
        {
          "output_type": "display_data",
          "data": {
            "text/plain": [
              "<Figure size 216x216 with 1 Axes>"
            ],
            "image/png": "[encoded data removed]"
          },
          "metadata": {
            "needs_background": "light"
          }
        }
      ]
    },
    {
      "cell_type": "code",
      "execution_count": null,
      "metadata": {
        "colab": {
          "base_uri": "https://localhost:8080/"
        },
        "outputId": "44800534-67ac-4f6b-e8e4-e9e7f3de3958",
        "id": "BL80kyrIvGoV"
      },
      "outputs": [
        {
          "output_type": "stream",
          "name": "stdout",
          "text": [
            "report:\n",
            "               precision    recall  f1-score   support\n",
            "\n",
            "    inactive       0.88      0.99      0.93      5178\n",
            "      active       0.96      0.71      0.82      2288\n",
            "\n",
            "    accuracy                           0.90      7466\n",
            "   macro avg       0.92      0.85      0.87      7466\n",
            "weighted avg       0.91      0.90      0.90      7466\n",
            "\n"
          ]
        }
      ],
      "source": [
        "print(\"report:\\n\",models[0].classification_report)"
      ]
    },
    {
      "cell_type": "code",
      "source": [
        "print(\"report:\\n\",models[1].classification_report)"
      ],
      "metadata": {
        "colab": {
          "base_uri": "https://localhost:8080/"
        },
        "id": "sLw1Xw-NvNMF",
        "outputId": "a5df5b67-de8c-4d21-d150-ff241c899621"
      },
      "execution_count": null,
      "outputs": [
        {
          "output_type": "stream",
          "name": "stdout",
          "text": [
            "report:\n",
            "               precision    recall  f1-score   support\n",
            "\n",
            "    inactive       0.89      0.98      0.93      3345\n",
            "      active       0.96      0.82      0.88      2254\n",
            "\n",
            "    accuracy                           0.91      5599\n",
            "   macro avg       0.93      0.90      0.91      5599\n",
            "weighted avg       0.92      0.91      0.91      5599\n",
            "\n"
          ]
        }
      ]
    },
    {
      "cell_type": "code",
      "source": [
        "print(\"report:\\n\",models[2].classification_report)"
      ],
      "metadata": {
        "colab": {
          "base_uri": "https://localhost:8080/"
        },
        "id": "3q2bM-Ke7hMv",
        "outputId": "cfa8286f-be38-49e5-9cf8-a73b22243418"
      },
      "execution_count": null,
      "outputs": [
        {
          "output_type": "stream",
          "name": "stdout",
          "text": [
            "report:\n",
            "               precision    recall  f1-score   support\n",
            "\n",
            "    inactive       0.88      0.98      0.93      2194\n",
            "      active       0.98      0.87      0.92      2286\n",
            "\n",
            "    accuracy                           0.92      4480\n",
            "   macro avg       0.93      0.93      0.92      4480\n",
            "weighted avg       0.93      0.92      0.92      4480\n",
            "\n"
          ]
        }
      ]
    },
    {
      "cell_type": "code",
      "source": [
        "plt.plot(models[0].cv_score_accuracy['scores'], linestyle='--', marker='o', color='b', label='7:3')\n",
        "plt.plot(models[1].cv_score_accuracy['scores'], linestyle='--', marker='o', color='g', label='6:4')\n",
        "plt.plot(models[2].cv_score_accuracy['scores'], linestyle='--', marker='o', color='r', label='5:5')\n",
        "plt.title('5-fold Cross Validation Accuracy Scores')\n",
        "plt.legend()"
      ],
      "metadata": {
        "colab": {
          "base_uri": "https://localhost:8080/",
          "height": 299
        },
        "id": "7HrneNLUEFWT",
        "outputId": "5e9a5e8b-46ea-44d8-fa8a-48e96987b45f"
      },
      "execution_count": null,
      "outputs": [
        {
          "output_type": "execute_result",
          "data": {
            "text/plain": [
              "<matplotlib.legend.Legend at 0x7f89463abed0>"
            ]
          },
          "metadata": {},
          "execution_count": 26
        },
        {
          "output_type": "display_data",
          "data": {
            "text/plain": [
              "<Figure size 432x288 with 1 Axes>"
            ],
            "image/png": "[encoded data removed]"
          },
          "metadata": {
            "needs_background": "light"
          }
        }
      ]
    },
    {
      "cell_type": "code",
      "source": [
        "plt.plot(models[0].cv_score_roc['scores'], linestyle='--', marker='o', color='b', label='7:3')\n",
        "plt.plot(models[1].cv_score_roc['scores'], linestyle='--', marker='o', color='g', label='6:4')\n",
        "plt.plot(models[2].cv_score_roc['scores'], linestyle='--', marker='o', color='r', label='5:5')\n",
        "plt.title('5-fold Cross Validation AUC Scores')\n",
        "plt.legend()"
      ],
      "metadata": {
        "colab": {
          "base_uri": "https://localhost:8080/",
          "height": 299
        },
        "id": "_V77UQt4FErD",
        "outputId": "d043b85e-1906-416b-f17e-d994ca7c0dcd"
      },
      "execution_count": null,
      "outputs": [
        {
          "output_type": "execute_result",
          "data": {
            "text/plain": [
              "<matplotlib.legend.Legend at 0x7f89462b6a90>"
            ]
          },
          "metadata": {},
          "execution_count": 27
        },
        {
          "output_type": "display_data",
          "data": {
            "text/plain": [
              "<Figure size 432x288 with 1 Axes>"
            ],
            "image/png": "[encoded data removed]"
          },
          "metadata": {
            "needs_background": "light"
          }
        }
      ]
    },
    {
      "cell_type": "markdown",
      "source": [
        "### Train Binary Model"
      ],
      "metadata": {
        "id": "HjJYWyDA2N92"
      }
    },
    {
      "cell_type": "code",
      "source": [
        "counter = Counter(y)"
      ],
      "metadata": {
        "id": "eStWAeevffhQ"
      },
      "execution_count": null,
      "outputs": []
    },
    {
      "cell_type": "code",
      "source": [
        "active_weight = 0.5\n",
        "inactive_num = int(counter[1]*(1-active_weight)/active_weight)\n",
        "nm = NearMiss(sampling_strategy={0: inactive_num}, version=1)\n",
        "X_res, y_res = nm.fit_resample(X, y)\n",
        "\n",
        "# summarize the new class distribution\n",
        "counter = Counter(y_res)\n",
        "print('undersampling:', counter)"
      ],
      "metadata": {
        "id": "iU5ymMy-wdnj",
        "colab": {
          "base_uri": "https://localhost:8080/"
        },
        "outputId": "92cc240b-7bfa-457b-8a9f-86bc0328c911"
      },
      "execution_count": null,
      "outputs": [
        {
          "output_type": "stream",
          "name": "stdout",
          "text": [
            "undersampling: Counter({0: 11198, 1: 11198})\n"
          ]
        }
      ]
    },
    {
      "cell_type": "code",
      "source": [
        "data_res = pd.concat([X_res, y_res], axis=1)"
      ],
      "metadata": {
        "id": "Lgwbey7Ew08q"
      },
      "execution_count": null,
      "outputs": []
    },
    {
      "cell_type": "code",
      "source": [
        "data_res.to_csv('Random Forest UnderSampled Data.csv', index=False)"
      ],
      "metadata": {
        "id": "36cnV2JfUOaN"
      },
      "execution_count": null,
      "outputs": []
    },
    {
      "cell_type": "markdown",
      "metadata": {
        "id": "wJQshwlWeaRF"
      },
      "source": [
        "### 訓練 model"
      ]
    },
    {
      "cell_type": "code",
      "execution_count": null,
      "metadata": {
        "id": "pOdOIpakeaRK"
      },
      "outputs": [],
      "source": [
        "X_train, X_test, y_train, y_test = train_test_split(X_res, y_res, test_size=0.2, random_state=123)"
      ]
    },
    {
      "cell_type": "markdown",
      "metadata": {
        "id": "16UQZlKreaRK"
      },
      "source": [
        "### Hyperparameter Tuning"
      ]
    },
    {
      "cell_type": "code",
      "execution_count": null,
      "metadata": {
        "id": "NnmOXOf7eaRK",
        "colab": {
          "base_uri": "https://localhost:8080/"
        },
        "outputId": "83707fee-0eee-4493-8c31-5d79e7c7a925"
      },
      "outputs": [
        {
          "output_type": "stream",
          "name": "stdout",
          "text": [
            "Fitting 5 folds for each of 13 candidates, totalling 65 fits\n"
          ]
        },
        {
          "output_type": "stream",
          "name": "stderr",
          "text": [
            "/usr/local/lib/python3.7/dist-packages/sklearn/model_selection/_validation.py:372: FitFailedWarning: \n",
            "5 fits failed out of a total of 65.\n",
            "The score on these train-test partitions for these parameters will be set to nan.\n",
            "If these failures are not expected, you can try to debug them by setting error_score='raise'.\n",
            "\n",
            "Below are more details about the failures:\n",
            "--------------------------------------------------------------------------------\n",
            "5 fits failed with the following error:\n",
            "Traceback (most recent call last):\n",
            "  File \"/usr/local/lib/python3.7/dist-packages/sklearn/model_selection/_validation.py\", line 680, in _fit_and_score\n",
            "    estimator.fit(X_train, y_train, **fit_params)\n",
            "  File \"/usr/local/lib/python3.7/dist-packages/sklearn/ensemble/_forest.py\", line 467, in fit\n",
            "    for i, t in enumerate(trees)\n",
            "  File \"/usr/local/lib/python3.7/dist-packages/joblib/parallel.py\", line 1043, in __call__\n",
            "    if self.dispatch_one_batch(iterator):\n",
            "  File \"/usr/local/lib/python3.7/dist-packages/joblib/parallel.py\", line 861, in dispatch_one_batch\n",
            "    self._dispatch(tasks)\n",
            "  File \"/usr/local/lib/python3.7/dist-packages/joblib/parallel.py\", line 779, in _dispatch\n",
            "    job = self._backend.apply_async(batch, callback=cb)\n",
            "  File \"/usr/local/lib/python3.7/dist-packages/joblib/_parallel_backends.py\", line 208, in apply_async\n",
            "    result = ImmediateResult(func)\n",
            "  File \"/usr/local/lib/python3.7/dist-packages/joblib/_parallel_backends.py\", line 572, in __init__\n",
            "    self.results = batch()\n",
            "  File \"/usr/local/lib/python3.7/dist-packages/joblib/parallel.py\", line 263, in __call__\n",
            "    for func, args, kwargs in self.items]\n",
            "  File \"/usr/local/lib/python3.7/dist-packages/joblib/parallel.py\", line 263, in <listcomp>\n",
            "    for func, args, kwargs in self.items]\n",
            "  File \"/usr/local/lib/python3.7/dist-packages/sklearn/utils/fixes.py\", line 216, in __call__\n",
            "    return self.function(*args, **kwargs)\n",
            "  File \"/usr/local/lib/python3.7/dist-packages/sklearn/ensemble/_forest.py\", line 185, in _parallel_build_trees\n",
            "    tree.fit(X, y, sample_weight=curr_sample_weight, check_input=False)\n",
            "  File \"/usr/local/lib/python3.7/dist-packages/sklearn/tree/_classes.py\", line 942, in fit\n",
            "    X_idx_sorted=X_idx_sorted,\n",
            "  File \"/usr/local/lib/python3.7/dist-packages/sklearn/tree/_classes.py\", line 308, in fit\n",
            "    raise ValueError(\"max_features must be in (0, n_features]\")\n",
            "ValueError: max_features must be in (0, n_features]\n",
            "\n",
            "  warnings.warn(some_fits_failed_message, FitFailedWarning)\n",
            "/usr/local/lib/python3.7/dist-packages/sklearn/model_selection/_search.py:972: UserWarning: One or more of the test scores are non-finite: [0.92079702 0.92046205 0.91867608 0.9112526  0.91783887 0.92046223\n",
            " 0.9191225  0.91806199 0.91783864 0.91672238 0.91649918 0.91621993\n",
            "        nan]\n",
            "  category=UserWarning,\n"
          ]
        },
        {
          "output_type": "stream",
          "name": "stdout",
          "text": [
            "Best accuracy: 0.921\n",
            "\n",
            "Best params:\n",
            " {'criterion': 'gini', 'max_depth': 5, 'max_features': 'auto', 'min_samples_leaf': 4, 'min_samples_split': 2, 'n_estimators': 150}\n"
          ]
        }
      ],
      "source": [
        "# Determine optimal parameters:\n",
        "# Declare a baseline classifier:\n",
        "forest = RandomForestClassifier()\n",
        "\n",
        "# Create the grid parameter:\n",
        "grid_rf = {\n",
        "    'n_estimators': [100, 120, 150, 200],\n",
        "    'criterion': ['entropy', 'gini'], \n",
        "    'max_depth': range(2,6),\n",
        "    'max_features': ['auto', 'sqrt', 'log2', 1, 2, 3, 4, 5, 6, 7, 8, 9, 10],  \n",
        "    'min_samples_split': range(2,10),\n",
        "    'min_samples_leaf': range(1,11),\n",
        "    # 'n_estimators': [150],\n",
        "    # 'criterion': ['gini'],\n",
        "    # 'max_depth': [5],\n",
        "    # 'max_features': ['auto'],\n",
        "    # 'min_samples_split': [2],\n",
        "    # 'min_samples_leaf': [4]\n",
        "}\n",
        "\n",
        "# Create the grid:\n",
        "gs_rf = GridSearchCV(forest, grid_rf, cv=5, n_jobs=-1, verbose=1)\n",
        "\n",
        "# Fit using grid search:\n",
        "gs_rf.fit(X_train, y_train)\n",
        "\n",
        "# Print best accuracy and best parameters:\n",
        "print('Best accuracy: %.3f' % gs_rf.best_score_)\n",
        "print('\\nBest params:\\n', gs_rf.best_params_)"
      ]
    },
    {
      "cell_type": "code",
      "execution_count": null,
      "metadata": {
        "id": "SXxnxJk5eaRL"
      },
      "outputs": [],
      "source": [
        "rf_model = RandomForestClassifier(max_depth=5,n_estimators=150,criterion='gini',max_features='auto',min_samples_split=2,min_samples_leaf=4)\n",
        "rf_model.fit(X_train, y_train)\n",
        "y_pred = rf_model.predict(X_test)"
      ]
    },
    {
      "cell_type": "code",
      "execution_count": null,
      "metadata": {
        "id": "L3ACmLPoeaRL"
      },
      "outputs": [],
      "source": [
        "rfc_cv_score = cross_val_score(rf_model, X_train, y_train, cv=5, scoring='accuracy')"
      ]
    },
    {
      "cell_type": "code",
      "execution_count": null,
      "metadata": {
        "id": "prlGPsykeaRL",
        "colab": {
          "base_uri": "https://localhost:8080/"
        },
        "outputId": "1b4807ff-30ae-4ae0-e85e-bb06f4904fce"
      },
      "outputs": [
        {
          "output_type": "stream",
          "name": "stdout",
          "text": [
            "=== All ACCURACY Scores ===\n",
            "[0.91964286 0.92017862 0.92855149 0.91571309 0.91543399]\n",
            "\n",
            "\n",
            "=== Mean ACCURACY Score ===\n",
            "Mean ACCURACY Score - Random Forest:  0.9199040110043459\n"
          ]
        }
      ],
      "source": [
        "print(\"=== All ACCURACY Scores ===\")\n",
        "print(rfc_cv_score)\n",
        "print('\\n')\n",
        "print(\"=== Mean ACCURACY Score ===\")\n",
        "print(\"Mean ACCURACY Score - Random Forest: \", rfc_cv_score.mean())"
      ]
    },
    {
      "cell_type": "code",
      "source": [
        "plt.plot(rfc_cv_score, marker='o', color='b')\n",
        "plt.title('5-fold Cross Validation Accuracy Scores')"
      ],
      "metadata": {
        "colab": {
          "base_uri": "https://localhost:8080/",
          "height": 299
        },
        "id": "47fThr9xYXGm",
        "outputId": "0219ed69-bf6b-4f00-b6dd-e667a7dfb5a1"
      },
      "execution_count": null,
      "outputs": [
        {
          "output_type": "execute_result",
          "data": {
            "text/plain": [
              "Text(0.5, 1.0, '5-fold Cross Validation Accuracy Scores')"
            ]
          },
          "metadata": {},
          "execution_count": 28
        },
        {
          "output_type": "display_data",
          "data": {
            "text/plain": [
              "<Figure size 432x288 with 1 Axes>"
            ],
            "image/png": "[encoded data removed]"
          },
          "metadata": {
            "needs_background": "light"
          }
        }
      ]
    },
    {
      "cell_type": "code",
      "execution_count": null,
      "metadata": {
        "id": "JNbR-4j_wMSU"
      },
      "outputs": [],
      "source": [
        "rfc_cv_score = cross_val_score(rf_model, X_train, y_train, cv=5, scoring='roc_auc_ovr')"
      ]
    },
    {
      "cell_type": "code",
      "execution_count": null,
      "metadata": {
        "id": "cZvKPbodwFbZ",
        "colab": {
          "base_uri": "https://localhost:8080/"
        },
        "outputId": "7b39b207-d9f8-48bd-9e47-e64ada7d93ed"
      },
      "outputs": [
        {
          "output_type": "stream",
          "name": "stdout",
          "text": [
            "=== All ROC Scores ===\n",
            "[0.95730405 0.96241525 0.96330322 0.95184026 0.95399519]\n",
            "\n",
            "\n",
            "=== Mean ROC Score ===\n",
            "Mean ROC Score - Random Forest:  0.9577715941528012\n"
          ]
        }
      ],
      "source": [
        "print(\"=== All ROC Scores ===\")\n",
        "print(rfc_cv_score)\n",
        "print('\\n')\n",
        "print(\"=== Mean ROC Score ===\")\n",
        "print(\"Mean ROC Score - Random Forest: \", rfc_cv_score.mean())"
      ]
    },
    {
      "cell_type": "code",
      "source": [
        "plt.plot(rfc_cv_score, marker='o', color='b')\n",
        "plt.title('5-fold Cross Validation AUC Scores')"
      ],
      "metadata": {
        "colab": {
          "base_uri": "https://localhost:8080/",
          "height": 299
        },
        "outputId": "79f1c1c5-3bec-467d-9082-f54a5298f727",
        "id": "g07pPYMbYvgX"
      },
      "execution_count": null,
      "outputs": [
        {
          "output_type": "execute_result",
          "data": {
            "text/plain": [
              "Text(0.5, 1.0, '5-fold Cross Validation AUC Scores')"
            ]
          },
          "metadata": {},
          "execution_count": 31
        },
        {
          "output_type": "display_data",
          "data": {
            "text/plain": [
              "<Figure size 432x288 with 1 Axes>"
            ],
            "image/png": "[encoded data removed]"
          },
          "metadata": {
            "needs_background": "light"
          }
        }
      ]
    },
    {
      "cell_type": "code",
      "execution_count": null,
      "metadata": {
        "id": "AIDvh1rCeaRL",
        "colab": {
          "base_uri": "https://localhost:8080/"
        },
        "outputId": "4d4c91cd-c7c7-4099-f040-d7420548f25b"
      },
      "outputs": [
        {
          "output_type": "stream",
          "name": "stdout",
          "text": [
            "Accuracy score on train data: 0.9224715338245144\n",
            "Accuracy score on test data: 0.9241071428571429\n",
            "F1 score on test data: 0.9209669920966992\n",
            "AUC score on test data: 0.9253132898041346\n"
          ]
        }
      ],
      "source": [
        "print(\"Accuracy score on train data:\", rf_model.score(X_train, y_train))\n",
        "print(\"Accuracy score on test data:\", rf_model.score(X_test, y_test))\n",
        "print(\"F1 score on test data:\", f1_score(y_test, y_pred))\n",
        "print(\"AUC score on test data:\", roc_auc_score(y_test, y_pred))"
      ]
    },
    {
      "cell_type": "code",
      "source": [
        "def plot_roc_curve(fper, tper):\n",
        "    plt.plot(fper, tper, color='red', label='ROC')\n",
        "    plt.plot([0, 1], [0, 1], color='green', linestyle='--')\n",
        "    plt.xlabel('False Positive Rate')\n",
        "    plt.ylabel('True Positive Rate')\n",
        "    plt.title('Receiver Operating Characteristic Curve')\n",
        "    plt.legend()\n",
        "    plt.show()"
      ],
      "metadata": {
        "id": "ZUbMDUc1Dlmd"
      },
      "execution_count": null,
      "outputs": []
    },
    {
      "cell_type": "code",
      "source": [
        "fper, tper, thresholds = roc_curve(y_test, y_pred)\n",
        "plot_roc_curve(fper, tper)"
      ],
      "metadata": {
        "colab": {
          "base_uri": "https://localhost:8080/",
          "height": 295
        },
        "id": "5hqtLhG8D5Mh",
        "outputId": "03428e2e-b115-4086-da06-92b16508349f"
      },
      "execution_count": null,
      "outputs": [
        {
          "output_type": "display_data",
          "data": {
            "text/plain": [
              "<Figure size 432x288 with 1 Axes>"
            ],
            "image/png": "[encoded data removed]"
          },
          "metadata": {
            "needs_background": "light"
          }
        }
      ]
    },
    {
      "cell_type": "code",
      "execution_count": null,
      "metadata": {
        "id": "89cr42iEeaRM"
      },
      "outputs": [],
      "source": [
        "labels = [0, 1]\n",
        "label_names = ['Not VIP', 'VIP']"
      ]
    },
    {
      "cell_type": "code",
      "source": [
        "len(y_test)"
      ],
      "metadata": {
        "id": "YnuvOzo9wyW5",
        "colab": {
          "base_uri": "https://localhost:8080/"
        },
        "outputId": "425c6df5-4ce0-4117-8953-ad9a8d51c9c9"
      },
      "execution_count": null,
      "outputs": [
        {
          "output_type": "execute_result",
          "data": {
            "text/plain": [
              "4480"
            ]
          },
          "metadata": {},
          "execution_count": 38
        }
      ]
    },
    {
      "cell_type": "code",
      "execution_count": null,
      "metadata": {
        "id": "zo-r3vwbeaRM",
        "colab": {
          "base_uri": "https://localhost:8080/",
          "height": 295
        },
        "outputId": "296d1141-21d6-400e-e42f-aec670dc73be"
      },
      "outputs": [
        {
          "output_type": "display_data",
          "data": {
            "text/plain": [
              "<Figure size 288x288 with 1 Axes>"
            ],
            "image/png": "[encoded data removed]"
          },
          "metadata": {
            "needs_background": "light"
          }
        }
      ],
      "source": [
        "matric = confusion_matrix(y_pred, y_test)\n",
        "plt.figure(figsize=(4,4))\n",
        "sns.heatmap(matric,square=True,annot=True,cbar=False,fmt='d',xticklabels=label_names, yticklabels=label_names)\n",
        "plt.ylabel(\"predict value\")\n",
        "plt.xlabel(\"true value\")\n",
        "plt.title(\"confusion matrix\")\n",
        "plt.show()"
      ]
    },
    {
      "cell_type": "code",
      "execution_count": null,
      "metadata": {
        "id": "08TKorm3eaRM",
        "colab": {
          "base_uri": "https://localhost:8080/"
        },
        "outputId": "3546852a-2940-4da7-b70c-e453c7a474ca"
      },
      "outputs": [
        {
          "output_type": "stream",
          "name": "stdout",
          "text": [
            "report:\n",
            "               precision    recall  f1-score   support\n",
            "\n",
            "     Not VIP       0.88      0.98      0.93      2194\n",
            "         VIP       0.98      0.87      0.92      2286\n",
            "\n",
            "    accuracy                           0.92      4480\n",
            "   macro avg       0.93      0.93      0.92      4480\n",
            "weighted avg       0.93      0.92      0.92      4480\n",
            "\n"
          ]
        }
      ],
      "source": [
        "print(\"report:\\n\",classification_report(y_test, y_pred,labels=labels,target_names=label_names))"
      ]
    },
    {
      "cell_type": "code",
      "execution_count": null,
      "metadata": {
        "id": "m1M_sY0ISCRV",
        "colab": {
          "base_uri": "https://localhost:8080/",
          "height": 299
        },
        "outputId": "2bb63e83-5dac-4108-a884-d3819eb51528"
      },
      "outputs": [
        {
          "output_type": "execute_result",
          "data": {
            "text/plain": [
              "             Columns  Importance\n",
              "7     CompleteOrders    0.341518\n",
              "5         ActiveDays    0.187161\n",
              "4          Frequency    0.128183\n",
              "3            Recency    0.090430\n",
              "2           Monetary    0.085616\n",
              "1                CAI    0.077826\n",
              "0      Lifespan_days    0.076409\n",
              "8         ReturnRate    0.007226\n",
              "6  PromotionUsedRate    0.005631"
            ],
            "text/html": [
              "\n",
              "  <div id=\"df-15612f72-4e4a-46de-8f7b-6e5e23171b7d\">\n",
              "    <div class=\"colab-df-container\">\n",
              "      <div>\n",
              "<style scoped>\n",
              "    .dataframe tbody tr th:only-of-type {\n",
              "        vertical-align: middle;\n",
              "    }\n",
              "\n",
              "    .dataframe tbody tr th {\n",
              "        vertical-align: top;\n",
              "    }\n",
              "\n",
              "    .dataframe thead th {\n",
              "        text-align: right;\n",
              "    }\n",
              "</style>\n",
              "<table border=\"1\" class=\"dataframe\">\n",
              "  <thead>\n",
              "    <tr style=\"text-align: right;\">\n",
              "      <th></th>\n",
              "      <th>Columns</th>\n",
              "      <th>Importance</th>\n",
              "    </tr>\n",
              "  </thead>\n",
              "  <tbody>\n",
              "    <tr>\n",
              "      <th>7</th>\n",
              "      <td>CompleteOrders</td>\n",
              "      <td>0.341518</td>\n",
              "    </tr>\n",
              "    <tr>\n",
              "      <th>5</th>\n",
              "      <td>ActiveDays</td>\n",
              "      <td>0.187161</td>\n",
              "    </tr>\n",
              "    <tr>\n",
              "      <th>4</th>\n",
              "      <td>Frequency</td>\n",
              "      <td>0.128183</td>\n",
              "    </tr>\n",
              "    <tr>\n",
              "      <th>3</th>\n",
              "      <td>Recency</td>\n",
              "      <td>0.090430</td>\n",
              "    </tr>\n",
              "    <tr>\n",
              "      <th>2</th>\n",
              "      <td>Monetary</td>\n",
              "      <td>0.085616</td>\n",
              "    </tr>\n",
              "    <tr>\n",
              "      <th>1</th>\n",
              "      <td>CAI</td>\n",
              "      <td>0.077826</td>\n",
              "    </tr>\n",
              "    <tr>\n",
              "      <th>0</th>\n",
              "      <td>Lifespan_days</td>\n",
              "      <td>0.076409</td>\n",
              "    </tr>\n",
              "    <tr>\n",
              "      <th>8</th>\n",
              "      <td>ReturnRate</td>\n",
              "      <td>0.007226</td>\n",
              "    </tr>\n",
              "    <tr>\n",
              "      <th>6</th>\n",
              "      <td>PromotionUsedRate</td>\n",
              "      <td>0.005631</td>\n",
              "    </tr>\n",
              "  </tbody>\n",
              "</table>\n",
              "</div>\n",
              "      <button class=\"colab-df-convert\" onclick=\"convertToInteractive('df-15612f72-4e4a-46de-8f7b-6e5e23171b7d')\"\n",
              "              title=\"Convert this dataframe to an interactive table.\"\n",
              "              style=\"display:none;\">\n",
              "        \n",
              "  <svg xmlns=\"http://www.w3.org/2000/svg\" height=\"24px\"viewBox=\"0 0 24 24\"\n",
              "       width=\"24px\">\n",
              "    <path d=\"M0 0h24v24H0V0z\" fill=\"none\"/>\n",
              "    <path d=\"M18.56 5.44l.94 2.06.94-2.06 2.06-.94-2.06-.94-.94-2.06-.94 2.06-2.06.94zm-11 1L8.5 8.5l.94-2.06 2.06-.94-2.06-.94L8.5 2.5l-.94 2.06-2.06.94zm10 10l.94 2.06.94-2.06 2.06-.94-2.06-.94-.94-2.06-.94 2.06-2.06.94z\"/><path d=\"M17.41 7.96l-1.37-1.37c-.4-.4-.92-.59-1.43-.59-.52 0-1.04.2-1.43.59L10.3 9.45l-7.72 7.72c-.78.78-.78 2.05 0 2.83L4 21.41c.39.39.9.59 1.41.59.51 0 1.02-.2 1.41-.59l7.78-7.78 2.81-2.81c.8-.78.8-2.07 0-2.86zM5.41 20L4 18.59l7.72-7.72 1.47 1.35L5.41 20z\"/>\n",
              "  </svg>\n",
              "      </button>\n",
              "      \n",
              "  <style>\n",
              "    .colab-df-container {\n",
              "      display:flex;\n",
              "      flex-wrap:wrap;\n",
              "      gap: 12px;\n",
              "    }\n",
              "\n",
              "    .colab-df-convert {\n",
              "      background-color: #E8F0FE;\n",
              "      border: none;\n",
              "      border-radius: 50%;\n",
              "      cursor: pointer;\n",
              "      display: none;\n",
              "      fill: #1967D2;\n",
              "      height: 32px;\n",
              "      padding: 0 0 0 0;\n",
              "      width: 32px;\n",
              "    }\n",
              "\n",
              "    .colab-df-convert:hover {\n",
              "      background-color: #E2EBFA;\n",
              "      box-shadow: 0px 1px 2px rgba(60, 64, 67, 0.3), 0px 1px 3px 1px rgba(60, 64, 67, 0.15);\n",
              "      fill: #174EA6;\n",
              "    }\n",
              "\n",
              "    [theme=dark] .colab-df-convert {\n",
              "      background-color: #3B4455;\n",
              "      fill: #D2E3FC;\n",
              "    }\n",
              "\n",
              "    [theme=dark] .colab-df-convert:hover {\n",
              "      background-color: #434B5C;\n",
              "      box-shadow: 0px 1px 3px 1px rgba(0, 0, 0, 0.15);\n",
              "      filter: drop-shadow(0px 1px 2px rgba(0, 0, 0, 0.3));\n",
              "      fill: #FFFFFF;\n",
              "    }\n",
              "  </style>\n",
              "\n",
              "      <script>\n",
              "        const buttonEl =\n",
              "          document.querySelector('#df-15612f72-4e4a-46de-8f7b-6e5e23171b7d button.colab-df-convert');\n",
              "        buttonEl.style.display =\n",
              "          google.colab.kernel.accessAllowed ? 'block' : 'none';\n",
              "\n",
              "        async function convertToInteractive(key) {\n",
              "          const element = document.querySelector('#df-15612f72-4e4a-46de-8f7b-6e5e23171b7d');\n",
              "          const dataTable =\n",
              "            await google.colab.kernel.invokeFunction('convertToInteractive',\n",
              "                                                     [key], {});\n",
              "          if (!dataTable) return;\n",
              "\n",
              "          const docLinkHtml = 'Like what you see? Visit the ' +\n",
              "            '<a target=\"_blank\" href=https://colab.research.google.com/notebooks/data_table.ipynb>data table notebook</a>'\n",
              "            + ' to learn more about interactive tables.';\n",
              "          element.innerHTML = '';\n",
              "          dataTable['output_type'] = 'display_data';\n",
              "          await google.colab.output.renderOutput(dataTable, element);\n",
              "          const docLink = document.createElement('div');\n",
              "          docLink.innerHTML = docLinkHtml;\n",
              "          element.appendChild(docLink);\n",
              "        }\n",
              "      </script>\n",
              "    </div>\n",
              "  </div>\n",
              "  "
            ]
          },
          "metadata": {},
          "execution_count": 42
        }
      ],
      "source": [
        "importance = list(rf_model.feature_importances_)\n",
        "rf_FS = pd.DataFrame({'Columns': list(X_res.columns), 'Importance': importance}).sort_values(by=[\"Importance\"], ascending=False)\n",
        "rf_FS"
      ]
    },
    {
      "cell_type": "code",
      "execution_count": null,
      "metadata": {
        "colab": {
          "base_uri": "https://localhost:8080/",
          "height": 404
        },
        "id": "eIic9oOLQi4O",
        "outputId": "6a10c062-5734-46cc-d98c-d3fe925a933c"
      },
      "outputs": [
        {
          "output_type": "display_data",
          "data": {
            "text/plain": [
              "<Figure size 432x432 with 1 Axes>"
            ],
            "image/png": "[encoded data removed]"
          },
          "metadata": {
            "needs_background": "light"
          }
        }
      ],
      "source": [
        "values = rf_FS.Importance    \n",
        "idx = rf_FS.Columns\n",
        "plt.figure(figsize=(6,6))\n",
        "clrs = ['green' if (x < max(values)) else 'red' for x in values ]\n",
        "sns.barplot(y=idx,x=values,palette=clrs).set(title='Important features')\n",
        "plt.show()"
      ]
    },
    {
      "cell_type": "code",
      "execution_count": null,
      "metadata": {
        "id": "Q8XDkSR9qNzP"
      },
      "outputs": [],
      "source": [
        "fn=X_res.columns\n",
        "cn=label_names\n",
        "# plt.figure(figsize=(12,12))\n",
        "fig, axes = plt.subplots(nrows = 1,ncols = 1,figsize = (45,8), dpi=800)\n",
        "tree.plot_tree(rf_model.estimators_[0], feature_names = fn, class_names=cn, filled = True, rounded=True, fontsize=7, impurity=False);\n",
        "# fig.savefig('rf_individualtree.png')"
      ]
    },
    {
      "cell_type": "code",
      "source": [
        "y_pred_all = rf_model.predict(X)"
      ],
      "metadata": {
        "id": "SOxTJ-R7lF3t"
      },
      "execution_count": null,
      "outputs": []
    },
    {
      "cell_type": "code",
      "source": [
        "matric = confusion_matrix(y_pred_all, y)\n",
        "plt.figure(figsize=(4,4))\n",
        "sns.heatmap(matric,square=True,annot=True,cbar=False,fmt='d',xticklabels=label_names, yticklabels=label_names)\n",
        "plt.ylabel(\"predict value\")\n",
        "plt.xlabel(\"true value\")\n",
        "plt.title(\"confusion matrix\")\n",
        "plt.show()"
      ],
      "metadata": {
        "colab": {
          "base_uri": "https://localhost:8080/",
          "height": 295
        },
        "id": "sI2THJ0ClObr",
        "outputId": "0e52f936-cfac-4764-ecaa-75e0fe026069"
      },
      "execution_count": null,
      "outputs": [
        {
          "output_type": "display_data",
          "data": {
            "text/plain": [
              "<Figure size 288x288 with 1 Axes>"
            ],
            "image/png": "[encoded data removed]"
          },
          "metadata": {
            "needs_background": "light"
          }
        }
      ]
    },
    {
      "cell_type": "code",
      "source": [
        "print(\"report:\\n\",classification_report(y_pred_all, y,labels=labels,target_names=label_names))"
      ],
      "metadata": {
        "colab": {
          "base_uri": "https://localhost:8080/"
        },
        "id": "731CR2umlfJ6",
        "outputId": "dfc9a74f-9ae1-4f91-e7af-552c5ce47bbe"
      },
      "execution_count": null,
      "outputs": [
        {
          "output_type": "stream",
          "name": "stdout",
          "text": [
            "report:\n",
            "               precision    recall  f1-score   support\n",
            "\n",
            "     Not VIP       0.37      0.95      0.53     28345\n",
            "         VIP       0.86      0.17      0.29     55586\n",
            "\n",
            "    accuracy                           0.43     83931\n",
            "   macro avg       0.62      0.56      0.41     83931\n",
            "weighted avg       0.70      0.43      0.37     83931\n",
            "\n"
          ]
        }
      ]
    },
    {
      "cell_type": "markdown",
      "source": [
        "## 輸出訓練及測試資料"
      ],
      "metadata": {
        "id": "vruuuFUdbVRA"
      }
    },
    {
      "cell_type": "code",
      "source": [
        "pd.concat([X_test, y_test], axis=1).to_csv('Test Data.csv')"
      ],
      "metadata": {
        "id": "5XIM2okNankW"
      },
      "execution_count": null,
      "outputs": []
    },
    {
      "cell_type": "code",
      "source": [
        "pd.concat([X_train, y_train], axis=1).to_csv('Train Data.csv')"
      ],
      "metadata": {
        "id": "fRaUljJWbhUk"
      },
      "execution_count": null,
      "outputs": []
    },
    {
      "cell_type": "code",
      "source": [
        ""
      ],
      "metadata": {
        "id": "df-HwvD7bvws"
      },
      "execution_count": null,
      "outputs": []
    }
  ],
  "metadata": {
    "colab": {
      "collapsed_sections": [],
      "name": "Baseline model",
      "provenance": []
    },
    "kernelspec": {
      "display_name": "Python 3",
      "name": "python3"
    },
    "language_info": {
      "name": "python"
    }
  },
  "nbformat": 4,
  "nbformat_minor": 0
}