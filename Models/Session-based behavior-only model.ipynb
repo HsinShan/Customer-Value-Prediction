{
  "cells": [
    {
      "cell_type": "code",
      "execution_count": null,
      "metadata": {
        "colab": {
          "base_uri": "https://localhost:8080/"
        },
        "id": "TOWIMqE4bScp",
        "outputId": "5c791372-7918-4411-c711-0dda174fcda8"
      },
      "outputs": [
        {
          "output_type": "stream",
          "name": "stdout",
          "text": [
            "Mounted at /content/drive\n"
          ]
        }
      ],
      "source": [
        "from google.colab import drive\n",
        "drive.mount('/content/drive')"
      ]
    },
    {
      "cell_type": "code",
      "execution_count": null,
      "metadata": {
        "colab": {
          "base_uri": "https://localhost:8080/"
        },
        "id": "E9vDxSuibW_T",
        "outputId": "6b9e9c89-f50e-4bd0-a841-8f72f8608d6d"
      },
      "outputs": [
        {
          "output_type": "stream",
          "name": "stdout",
          "text": [
            "/content/drive/Shareddrives/My paper\n"
          ]
        }
      ],
      "source": [
        "%cd /content/drive/Shareddrives/My\\ paper"
      ]
    },
    {
      "cell_type": "code",
      "execution_count": null,
      "metadata": {
        "id": "kccKnbTybjMI"
      },
      "outputs": [],
      "source": [
        "import math\n",
        "import ast\n",
        "import pandas as pd\n",
        "import numpy as np\n",
        "import matplotlib.pyplot as plt\n",
        "import seaborn as sns\n",
        "from sklearn.model_selection import train_test_split\n",
        "from collections import Counter\n",
        "from sklearn.preprocessing import MinMaxScaler"
      ]
    },
    {
      "cell_type": "code",
      "execution_count": null,
      "metadata": {
        "id": "t16o5-d-ir5X"
      },
      "outputs": [],
      "source": [
        "# Import the Keras libraries and packages\n",
        "from keras.models import Sequential, Model\n",
        "from keras.layers import Dense, Activation, LSTM, Dropout, TimeDistributed, Embedding, Input\n",
        "from tensorflow.keras.optimizers import RMSprop, Adam, SGD\n",
        "from tensorflow.keras.utils import to_categorical\n",
        "from keras.callbacks import EarlyStopping\n",
        "from tensorflow.keras.preprocessing.sequence import pad_sequences\n",
        "from tensorflow.keras import regularizers\n",
        "from keras import backend as K"
      ]
    },
    {
      "cell_type": "code",
      "execution_count": null,
      "metadata": {
        "id": "fYUSiQA28U3D"
      },
      "outputs": [],
      "source": [
        "from imblearn.under_sampling import NearMiss"
      ]
    },
    {
      "cell_type": "code",
      "execution_count": null,
      "metadata": {
        "id": "44iQjplo-ejy"
      },
      "outputs": [],
      "source": [
        "from sklearn.metrics import accuracy_score, f1_score, roc_auc_score, confusion_matrix,classification_report\n",
        "from sklearn import tree\n",
        "from scipy.stats import spearmanr\n",
        "from collections import Counter"
      ]
    },
    {
      "cell_type": "markdown",
      "metadata": {
        "id": "j2zLviu3lR-z"
      },
      "source": [
        "## 處理 y"
      ]
    },
    {
      "cell_type": "code",
      "execution_count": null,
      "metadata": {
        "id": "qH683wdN4Ti9"
      },
      "outputs": [],
      "source": [
        "data = pd.read_csv('./Customer Value Prediction/TABLES/Session Behaviors Count.csv')"
      ]
    },
    {
      "cell_type": "code",
      "execution_count": null,
      "metadata": {
        "colab": {
          "base_uri": "https://localhost:8080/",
          "height": 427
        },
        "id": "WZBa-ED3yoKe",
        "outputId": "d7ac72ca-d9d1-404b-b1f9-0378d368e772"
      },
      "outputs": [
        {
          "output_type": "execute_result",
          "data": {
            "text/plain": [
              "                                       MemberID  SessionOrder  add  checkout  \\\n",
              "0  RSQpIPxqSK2ooLPuUwWw8HhTN73mFGsmGPEmdarbdGM=       2127581    1         2   \n",
              "1  AqBrlkHltks4neA3Fmtq+yfiI4F7aZGODqKPeF3zGsA=        921405    0         0   \n",
              "2  AqBrlkHltks4neA3Fmtq+yfiI4F7aZGODqKPeF3zGsA=        921406    3         2   \n",
              "3  AqBrlkHltks4neA3Fmtq+yfiI4F7aZGODqKPeF3zGsA=        921407    0         0   \n",
              "4  AqBrlkHltks4neA3Fmtq+yfiI4F7aZGODqKPeF3zGsA=        921408    1         1   \n",
              "5  AqBrlkHltks4neA3Fmtq+yfiI4F7aZGODqKPeF3zGsA=        921409    0         0   \n",
              "6  AqBrlkHltks4neA3Fmtq+yfiI4F7aZGODqKPeF3zGsA=        921410    0         0   \n",
              "7  AqBrlkHltks4neA3Fmtq+yfiI4F7aZGODqKPeF3zGsA=        921411    0         0   \n",
              "8  x/e5hrkgQCnCkhBzvk8Hs8i5dnX4tHRlrjHtKm6yvLg=       4411285    0         0   \n",
              "9  x/e5hrkgQCnCkhBzvk8Hs8i5dnX4tHRlrjHtKm6yvLg=       4411286    0         0   \n",
              "\n",
              "   purchase  register  search  traffic  viewactivity  viewcategory  \\\n",
              "0         1         0       0        0             0             9   \n",
              "1         0         0       0        0             0             0   \n",
              "2         2         0       0        0             0             5   \n",
              "3         0         0       0        0             0             0   \n",
              "4         1         0       0        0             0             2   \n",
              "5         0         0       0        0             0             0   \n",
              "6         0         0       0        0             0             0   \n",
              "7         0         0       0        0             0             0   \n",
              "8         0         0       0        1             0             0   \n",
              "9         0         0       0        1             0             0   \n",
              "\n",
              "   viewmainpage  viewproduct  TimeDiff  TotalTime  \\\n",
              "0            15            4         0         22   \n",
              "1             1            0         0          0   \n",
              "2             6           22     17443          7   \n",
              "3             1            0      3896          0   \n",
              "4             4            9      1585         30   \n",
              "5             1            0     35815          0   \n",
              "6             1            1       220          0   \n",
              "7             1            0      1396          0   \n",
              "8             0            0         0          0   \n",
              "9             0            0         0          0   \n",
              "\n",
              "                                         uid_filled  TotalSalesAmount  Active  \\\n",
              "0    RSQpIPxqSK2ooLPuUwWw8HhTN73mFGsmGPEmdarbdGM%3D               0.0     0.0   \n",
              "1  AqBrlkHltks4neA3Fmtq%2ByfiI4F7aZGODqKPeF3zGsA%3D               0.0     0.0   \n",
              "2  AqBrlkHltks4neA3Fmtq%2ByfiI4F7aZGODqKPeF3zGsA%3D               0.0     0.0   \n",
              "3  AqBrlkHltks4neA3Fmtq%2ByfiI4F7aZGODqKPeF3zGsA%3D               0.0     0.0   \n",
              "4  AqBrlkHltks4neA3Fmtq%2ByfiI4F7aZGODqKPeF3zGsA%3D               0.0     0.0   \n",
              "5  AqBrlkHltks4neA3Fmtq%2ByfiI4F7aZGODqKPeF3zGsA%3D               0.0     0.0   \n",
              "6  AqBrlkHltks4neA3Fmtq%2ByfiI4F7aZGODqKPeF3zGsA%3D               0.0     0.0   \n",
              "7  AqBrlkHltks4neA3Fmtq%2ByfiI4F7aZGODqKPeF3zGsA%3D               0.0     0.0   \n",
              "8  x%2Fe5hrkgQCnCkhBzvk8Hs8i5dnX4tHRlrjHtKm6yvLg%3D               0.0     0.0   \n",
              "9  x%2Fe5hrkgQCnCkhBzvk8Hs8i5dnX4tHRlrjHtKm6yvLg%3D               0.0     0.0   \n",
              "\n",
              "   VIP  \n",
              "0  0.0  \n",
              "1  0.0  \n",
              "2  0.0  \n",
              "3  0.0  \n",
              "4  0.0  \n",
              "5  0.0  \n",
              "6  0.0  \n",
              "7  0.0  \n",
              "8  0.0  \n",
              "9  0.0  "
            ],
            "text/html": [
              "\n",
              "  <div id=\"df-bea0444e-23e2-4e8a-877e-bba459fb24b3\">\n",
              "    <div class=\"colab-df-container\">\n",
              "      <div>\n",
              "<style scoped>\n",
              "    .dataframe tbody tr th:only-of-type {\n",
              "        vertical-align: middle;\n",
              "    }\n",
              "\n",
              "    .dataframe tbody tr th {\n",
              "        vertical-align: top;\n",
              "    }\n",
              "\n",
              "    .dataframe thead th {\n",
              "        text-align: right;\n",
              "    }\n",
              "</style>\n",
              "<table border=\"1\" class=\"dataframe\">\n",
              "  <thead>\n",
              "    <tr style=\"text-align: right;\">\n",
              "      <th></th>\n",
              "      <th>MemberID</th>\n",
              "      <th>SessionOrder</th>\n",
              "      <th>add</th>\n",
              "      <th>checkout</th>\n",
              "      <th>purchase</th>\n",
              "      <th>register</th>\n",
              "      <th>search</th>\n",
              "      <th>traffic</th>\n",
              "      <th>viewactivity</th>\n",
              "      <th>viewcategory</th>\n",
              "      <th>viewmainpage</th>\n",
              "      <th>viewproduct</th>\n",
              "      <th>TimeDiff</th>\n",
              "      <th>TotalTime</th>\n",
              "      <th>uid_filled</th>\n",
              "      <th>TotalSalesAmount</th>\n",
              "      <th>Active</th>\n",
              "      <th>VIP</th>\n",
              "    </tr>\n",
              "  </thead>\n",
              "  <tbody>\n",
              "    <tr>\n",
              "      <th>0</th>\n",
              "      <td>RSQpIPxqSK2ooLPuUwWw8HhTN73mFGsmGPEmdarbdGM=</td>\n",
              "      <td>2127581</td>\n",
              "      <td>1</td>\n",
              "      <td>2</td>\n",
              "      <td>1</td>\n",
              "      <td>0</td>\n",
              "      <td>0</td>\n",
              "      <td>0</td>\n",
              "      <td>0</td>\n",
              "      <td>9</td>\n",
              "      <td>15</td>\n",
              "      <td>4</td>\n",
              "      <td>0</td>\n",
              "      <td>22</td>\n",
              "      <td>RSQpIPxqSK2ooLPuUwWw8HhTN73mFGsmGPEmdarbdGM%3D</td>\n",
              "      <td>0.0</td>\n",
              "      <td>0.0</td>\n",
              "      <td>0.0</td>\n",
              "    </tr>\n",
              "    <tr>\n",
              "      <th>1</th>\n",
              "      <td>AqBrlkHltks4neA3Fmtq+yfiI4F7aZGODqKPeF3zGsA=</td>\n",
              "      <td>921405</td>\n",
              "      <td>0</td>\n",
              "      <td>0</td>\n",
              "      <td>0</td>\n",
              "      <td>0</td>\n",
              "      <td>0</td>\n",
              "      <td>0</td>\n",
              "      <td>0</td>\n",
              "      <td>0</td>\n",
              "      <td>1</td>\n",
              "      <td>0</td>\n",
              "      <td>0</td>\n",
              "      <td>0</td>\n",
              "      <td>AqBrlkHltks4neA3Fmtq%2ByfiI4F7aZGODqKPeF3zGsA%3D</td>\n",
              "      <td>0.0</td>\n",
              "      <td>0.0</td>\n",
              "      <td>0.0</td>\n",
              "    </tr>\n",
              "    <tr>\n",
              "      <th>2</th>\n",
              "      <td>AqBrlkHltks4neA3Fmtq+yfiI4F7aZGODqKPeF3zGsA=</td>\n",
              "      <td>921406</td>\n",
              "      <td>3</td>\n",
              "      <td>2</td>\n",
              "      <td>2</td>\n",
              "      <td>0</td>\n",
              "      <td>0</td>\n",
              "      <td>0</td>\n",
              "      <td>0</td>\n",
              "      <td>5</td>\n",
              "      <td>6</td>\n",
              "      <td>22</td>\n",
              "      <td>17443</td>\n",
              "      <td>7</td>\n",
              "      <td>AqBrlkHltks4neA3Fmtq%2ByfiI4F7aZGODqKPeF3zGsA%3D</td>\n",
              "      <td>0.0</td>\n",
              "      <td>0.0</td>\n",
              "      <td>0.0</td>\n",
              "    </tr>\n",
              "    <tr>\n",
              "      <th>3</th>\n",
              "      <td>AqBrlkHltks4neA3Fmtq+yfiI4F7aZGODqKPeF3zGsA=</td>\n",
              "      <td>921407</td>\n",
              "      <td>0</td>\n",
              "      <td>0</td>\n",
              "      <td>0</td>\n",
              "      <td>0</td>\n",
              "      <td>0</td>\n",
              "      <td>0</td>\n",
              "      <td>0</td>\n",
              "      <td>0</td>\n",
              "      <td>1</td>\n",
              "      <td>0</td>\n",
              "      <td>3896</td>\n",
              "      <td>0</td>\n",
              "      <td>AqBrlkHltks4neA3Fmtq%2ByfiI4F7aZGODqKPeF3zGsA%3D</td>\n",
              "      <td>0.0</td>\n",
              "      <td>0.0</td>\n",
              "      <td>0.0</td>\n",
              "    </tr>\n",
              "    <tr>\n",
              "      <th>4</th>\n",
              "      <td>AqBrlkHltks4neA3Fmtq+yfiI4F7aZGODqKPeF3zGsA=</td>\n",
              "      <td>921408</td>\n",
              "      <td>1</td>\n",
              "      <td>1</td>\n",
              "      <td>1</td>\n",
              "      <td>0</td>\n",
              "      <td>0</td>\n",
              "      <td>0</td>\n",
              "      <td>0</td>\n",
              "      <td>2</td>\n",
              "      <td>4</td>\n",
              "      <td>9</td>\n",
              "      <td>1585</td>\n",
              "      <td>30</td>\n",
              "      <td>AqBrlkHltks4neA3Fmtq%2ByfiI4F7aZGODqKPeF3zGsA%3D</td>\n",
              "      <td>0.0</td>\n",
              "      <td>0.0</td>\n",
              "      <td>0.0</td>\n",
              "    </tr>\n",
              "    <tr>\n",
              "      <th>5</th>\n",
              "      <td>AqBrlkHltks4neA3Fmtq+yfiI4F7aZGODqKPeF3zGsA=</td>\n",
              "      <td>921409</td>\n",
              "      <td>0</td>\n",
              "      <td>0</td>\n",
              "      <td>0</td>\n",
              "      <td>0</td>\n",
              "      <td>0</td>\n",
              "      <td>0</td>\n",
              "      <td>0</td>\n",
              "      <td>0</td>\n",
              "      <td>1</td>\n",
              "      <td>0</td>\n",
              "      <td>35815</td>\n",
              "      <td>0</td>\n",
              "      <td>AqBrlkHltks4neA3Fmtq%2ByfiI4F7aZGODqKPeF3zGsA%3D</td>\n",
              "      <td>0.0</td>\n",
              "      <td>0.0</td>\n",
              "      <td>0.0</td>\n",
              "    </tr>\n",
              "    <tr>\n",
              "      <th>6</th>\n",
              "      <td>AqBrlkHltks4neA3Fmtq+yfiI4F7aZGODqKPeF3zGsA=</td>\n",
              "      <td>921410</td>\n",
              "      <td>0</td>\n",
              "      <td>0</td>\n",
              "      <td>0</td>\n",
              "      <td>0</td>\n",
              "      <td>0</td>\n",
              "      <td>0</td>\n",
              "      <td>0</td>\n",
              "      <td>0</td>\n",
              "      <td>1</td>\n",
              "      <td>1</td>\n",
              "      <td>220</td>\n",
              "      <td>0</td>\n",
              "      <td>AqBrlkHltks4neA3Fmtq%2ByfiI4F7aZGODqKPeF3zGsA%3D</td>\n",
              "      <td>0.0</td>\n",
              "      <td>0.0</td>\n",
              "      <td>0.0</td>\n",
              "    </tr>\n",
              "    <tr>\n",
              "      <th>7</th>\n",
              "      <td>AqBrlkHltks4neA3Fmtq+yfiI4F7aZGODqKPeF3zGsA=</td>\n",
              "      <td>921411</td>\n",
              "      <td>0</td>\n",
              "      <td>0</td>\n",
              "      <td>0</td>\n",
              "      <td>0</td>\n",
              "      <td>0</td>\n",
              "      <td>0</td>\n",
              "      <td>0</td>\n",
              "      <td>0</td>\n",
              "      <td>1</td>\n",
              "      <td>0</td>\n",
              "      <td>1396</td>\n",
              "      <td>0</td>\n",
              "      <td>AqBrlkHltks4neA3Fmtq%2ByfiI4F7aZGODqKPeF3zGsA%3D</td>\n",
              "      <td>0.0</td>\n",
              "      <td>0.0</td>\n",
              "      <td>0.0</td>\n",
              "    </tr>\n",
              "    <tr>\n",
              "      <th>8</th>\n",
              "      <td>x/e5hrkgQCnCkhBzvk8Hs8i5dnX4tHRlrjHtKm6yvLg=</td>\n",
              "      <td>4411285</td>\n",
              "      <td>0</td>\n",
              "      <td>0</td>\n",
              "      <td>0</td>\n",
              "      <td>0</td>\n",
              "      <td>0</td>\n",
              "      <td>1</td>\n",
              "      <td>0</td>\n",
              "      <td>0</td>\n",
              "      <td>0</td>\n",
              "      <td>0</td>\n",
              "      <td>0</td>\n",
              "      <td>0</td>\n",
              "      <td>x%2Fe5hrkgQCnCkhBzvk8Hs8i5dnX4tHRlrjHtKm6yvLg%3D</td>\n",
              "      <td>0.0</td>\n",
              "      <td>0.0</td>\n",
              "      <td>0.0</td>\n",
              "    </tr>\n",
              "    <tr>\n",
              "      <th>9</th>\n",
              "      <td>x/e5hrkgQCnCkhBzvk8Hs8i5dnX4tHRlrjHtKm6yvLg=</td>\n",
              "      <td>4411286</td>\n",
              "      <td>0</td>\n",
              "      <td>0</td>\n",
              "      <td>0</td>\n",
              "      <td>0</td>\n",
              "      <td>0</td>\n",
              "      <td>1</td>\n",
              "      <td>0</td>\n",
              "      <td>0</td>\n",
              "      <td>0</td>\n",
              "      <td>0</td>\n",
              "      <td>0</td>\n",
              "      <td>0</td>\n",
              "      <td>x%2Fe5hrkgQCnCkhBzvk8Hs8i5dnX4tHRlrjHtKm6yvLg%3D</td>\n",
              "      <td>0.0</td>\n",
              "      <td>0.0</td>\n",
              "      <td>0.0</td>\n",
              "    </tr>\n",
              "  </tbody>\n",
              "</table>\n",
              "</div>\n",
              "      <button class=\"colab-df-convert\" onclick=\"convertToInteractive('df-bea0444e-23e2-4e8a-877e-bba459fb24b3')\"\n",
              "              title=\"Convert this dataframe to an interactive table.\"\n",
              "              style=\"display:none;\">\n",
              "        \n",
              "  <svg xmlns=\"http://www.w3.org/2000/svg\" height=\"24px\"viewBox=\"0 0 24 24\"\n",
              "       width=\"24px\">\n",
              "    <path d=\"M0 0h24v24H0V0z\" fill=\"none\"/>\n",
              "    <path d=\"M18.56 5.44l.94 2.06.94-2.06 2.06-.94-2.06-.94-.94-2.06-.94 2.06-2.06.94zm-11 1L8.5 8.5l.94-2.06 2.06-.94-2.06-.94L8.5 2.5l-.94 2.06-2.06.94zm10 10l.94 2.06.94-2.06 2.06-.94-2.06-.94-.94-2.06-.94 2.06-2.06.94z\"/><path d=\"M17.41 7.96l-1.37-1.37c-.4-.4-.92-.59-1.43-.59-.52 0-1.04.2-1.43.59L10.3 9.45l-7.72 7.72c-.78.78-.78 2.05 0 2.83L4 21.41c.39.39.9.59 1.41.59.51 0 1.02-.2 1.41-.59l7.78-7.78 2.81-2.81c.8-.78.8-2.07 0-2.86zM5.41 20L4 18.59l7.72-7.72 1.47 1.35L5.41 20z\"/>\n",
              "  </svg>\n",
              "      </button>\n",
              "      \n",
              "  <style>\n",
              "    .colab-df-container {\n",
              "      display:flex;\n",
              "      flex-wrap:wrap;\n",
              "      gap: 12px;\n",
              "    }\n",
              "\n",
              "    .colab-df-convert {\n",
              "      background-color: #E8F0FE;\n",
              "      border: none;\n",
              "      border-radius: 50%;\n",
              "      cursor: pointer;\n",
              "      display: none;\n",
              "      fill: #1967D2;\n",
              "      height: 32px;\n",
              "      padding: 0 0 0 0;\n",
              "      width: 32px;\n",
              "    }\n",
              "\n",
              "    .colab-df-convert:hover {\n",
              "      background-color: #E2EBFA;\n",
              "      box-shadow: 0px 1px 2px rgba(60, 64, 67, 0.3), 0px 1px 3px 1px rgba(60, 64, 67, 0.15);\n",
              "      fill: #174EA6;\n",
              "    }\n",
              "\n",
              "    [theme=dark] .colab-df-convert {\n",
              "      background-color: #3B4455;\n",
              "      fill: #D2E3FC;\n",
              "    }\n",
              "\n",
              "    [theme=dark] .colab-df-convert:hover {\n",
              "      background-color: #434B5C;\n",
              "      box-shadow: 0px 1px 3px 1px rgba(0, 0, 0, 0.15);\n",
              "      filter: drop-shadow(0px 1px 2px rgba(0, 0, 0, 0.3));\n",
              "      fill: #FFFFFF;\n",
              "    }\n",
              "  </style>\n",
              "\n",
              "      <script>\n",
              "        const buttonEl =\n",
              "          document.querySelector('#df-bea0444e-23e2-4e8a-877e-bba459fb24b3 button.colab-df-convert');\n",
              "        buttonEl.style.display =\n",
              "          google.colab.kernel.accessAllowed ? 'block' : 'none';\n",
              "\n",
              "        async function convertToInteractive(key) {\n",
              "          const element = document.querySelector('#df-bea0444e-23e2-4e8a-877e-bba459fb24b3');\n",
              "          const dataTable =\n",
              "            await google.colab.kernel.invokeFunction('convertToInteractive',\n",
              "                                                     [key], {});\n",
              "          if (!dataTable) return;\n",
              "\n",
              "          const docLinkHtml = 'Like what you see? Visit the ' +\n",
              "            '<a target=\"_blank\" href=https://colab.research.google.com/notebooks/data_table.ipynb>data table notebook</a>'\n",
              "            + ' to learn more about interactive tables.';\n",
              "          element.innerHTML = '';\n",
              "          dataTable['output_type'] = 'display_data';\n",
              "          await google.colab.output.renderOutput(dataTable, element);\n",
              "          const docLink = document.createElement('div');\n",
              "          docLink.innerHTML = docLinkHtml;\n",
              "          element.appendChild(docLink);\n",
              "        }\n",
              "      </script>\n",
              "    </div>\n",
              "  </div>\n",
              "  "
            ]
          },
          "metadata": {},
          "execution_count": 9
        }
      ],
      "source": [
        "data.head(10)"
      ]
    },
    {
      "cell_type": "code",
      "execution_count": null,
      "metadata": {
        "colab": {
          "base_uri": "https://localhost:8080/"
        },
        "id": "Xba3b7a2yRFT",
        "outputId": "4b1a1c1c-fbe7-4191-84ef-895423100315"
      },
      "outputs": [
        {
          "output_type": "stream",
          "name": "stdout",
          "text": [
            "83931\n"
          ]
        }
      ],
      "source": [
        "memberIDs = data['MemberID'].unique()\n",
        "print(len(memberIDs))"
      ]
    },
    {
      "cell_type": "markdown",
      "source": [
        "## normalize data"
      ],
      "metadata": {
        "id": "EoqVlLHlQsb5"
      }
    },
    {
      "cell_type": "code",
      "execution_count": null,
      "metadata": {
        "id": "4xPhWlSSygIE"
      },
      "outputs": [],
      "source": [
        "cols = ['add', 'checkout', 'purchase', 'register', 'search', 'traffic', 'viewactivity',\n",
        "       'viewcategory', 'viewmainpage', 'viewproduct' , 'TimeDiff', 'TotalTime']"
      ]
    },
    {
      "cell_type": "code",
      "execution_count": null,
      "metadata": {
        "id": "PJTbd5EfyyVu"
      },
      "outputs": [],
      "source": [
        "def normalize(data, scaler):\n",
        "  df = data.copy()\n",
        "  norm_df = df.copy()[['MemberID']]\n",
        "  scaled_df = pd.DataFrame(scaler.fit_transform(df[cols].values.reshape(-1,12)), columns=cols)\n",
        "  norm_df = pd.concat([norm_df, scaled_df], axis=1)\n",
        "  \n",
        "  return norm_df"
      ]
    },
    {
      "cell_type": "code",
      "execution_count": null,
      "metadata": {
        "colab": {
          "base_uri": "https://localhost:8080/",
          "height": 364
        },
        "id": "xmUNHD5cJ5uu",
        "outputId": "6a5156bb-4c06-4592-bc35-e81e56b6c4ac"
      },
      "outputs": [
        {
          "output_type": "execute_result",
          "data": {
            "text/plain": [
              "       SessionOrder            add       checkout       purchase  \\\n",
              "count  7.005130e+05  700513.000000  700513.000000  700513.000000   \n",
              "mean   2.318815e+06       0.166998       0.098234       0.055479   \n",
              "std    1.335184e+06       0.837909       0.635376       0.343568   \n",
              "min    7.400000e+01       0.000000       0.000000       0.000000   \n",
              "25%    1.165879e+06       0.000000       0.000000       0.000000   \n",
              "50%    2.325449e+06       0.000000       0.000000       0.000000   \n",
              "75%    3.482036e+06       0.000000       0.000000       0.000000   \n",
              "max    4.610624e+06      81.000000      62.000000      16.000000   \n",
              "\n",
              "            register         search        traffic   viewactivity  \\\n",
              "count  700513.000000  700513.000000  700513.000000  700513.000000   \n",
              "mean        0.012821       0.062353       0.402852       0.036750   \n",
              "std         0.141419       0.391526       0.490472       0.373704   \n",
              "min         0.000000       0.000000       0.000000       0.000000   \n",
              "25%         0.000000       0.000000       0.000000       0.000000   \n",
              "50%         0.000000       0.000000       0.000000       0.000000   \n",
              "75%         0.000000       0.000000       1.000000       0.000000   \n",
              "max        41.000000      47.000000       1.000000      38.000000   \n",
              "\n",
              "        viewcategory   viewmainpage    viewproduct       TimeDiff  \\\n",
              "count  700513.000000  700513.000000  700513.000000  700513.000000   \n",
              "mean        1.205088       1.284503       1.558018   13576.392959   \n",
              "std         3.212392       2.095138       4.266150   37707.913370   \n",
              "min         0.000000       0.000000       0.000000       0.000000   \n",
              "25%         0.000000       0.000000       0.000000       0.000000   \n",
              "50%         0.000000       1.000000       0.000000     701.000000   \n",
              "75%         1.000000       2.000000       1.000000    7369.000000   \n",
              "max       182.000000     995.000000     247.000000  520331.000000   \n",
              "\n",
              "           TotalTime  TotalSalesAmount         Active            VIP  \n",
              "count  700513.000000     700513.000000  700513.000000  700513.000000  \n",
              "mean        1.747105       1377.119483       0.293521       0.161799  \n",
              "std         5.631009       4220.274239       0.455375       0.368266  \n",
              "min         0.000000      -1680.000000       0.000000       0.000000  \n",
              "25%         0.000000          0.000000       0.000000       0.000000  \n",
              "50%         0.000000          0.000000       0.000000       0.000000  \n",
              "75%         1.000000       1380.000000       1.000000       0.000000  \n",
              "max       190.000000     181428.000000       1.000000       1.000000  "
            ],
            "text/html": [
              "\n",
              "  <div id=\"df-732bd29d-6914-471f-b482-8f57fa04ecbc\">\n",
              "    <div class=\"colab-df-container\">\n",
              "      <div>\n",
              "<style scoped>\n",
              "    .dataframe tbody tr th:only-of-type {\n",
              "        vertical-align: middle;\n",
              "    }\n",
              "\n",
              "    .dataframe tbody tr th {\n",
              "        vertical-align: top;\n",
              "    }\n",
              "\n",
              "    .dataframe thead th {\n",
              "        text-align: right;\n",
              "    }\n",
              "</style>\n",
              "<table border=\"1\" class=\"dataframe\">\n",
              "  <thead>\n",
              "    <tr style=\"text-align: right;\">\n",
              "      <th></th>\n",
              "      <th>SessionOrder</th>\n",
              "      <th>add</th>\n",
              "      <th>checkout</th>\n",
              "      <th>purchase</th>\n",
              "      <th>register</th>\n",
              "      <th>search</th>\n",
              "      <th>traffic</th>\n",
              "      <th>viewactivity</th>\n",
              "      <th>viewcategory</th>\n",
              "      <th>viewmainpage</th>\n",
              "      <th>viewproduct</th>\n",
              "      <th>TimeDiff</th>\n",
              "      <th>TotalTime</th>\n",
              "      <th>TotalSalesAmount</th>\n",
              "      <th>Active</th>\n",
              "      <th>VIP</th>\n",
              "    </tr>\n",
              "  </thead>\n",
              "  <tbody>\n",
              "    <tr>\n",
              "      <th>count</th>\n",
              "      <td>7.005130e+05</td>\n",
              "      <td>700513.000000</td>\n",
              "      <td>700513.000000</td>\n",
              "      <td>700513.000000</td>\n",
              "      <td>700513.000000</td>\n",
              "      <td>700513.000000</td>\n",
              "      <td>700513.000000</td>\n",
              "      <td>700513.000000</td>\n",
              "      <td>700513.000000</td>\n",
              "      <td>700513.000000</td>\n",
              "      <td>700513.000000</td>\n",
              "      <td>700513.000000</td>\n",
              "      <td>700513.000000</td>\n",
              "      <td>700513.000000</td>\n",
              "      <td>700513.000000</td>\n",
              "      <td>700513.000000</td>\n",
              "    </tr>\n",
              "    <tr>\n",
              "      <th>mean</th>\n",
              "      <td>2.318815e+06</td>\n",
              "      <td>0.166998</td>\n",
              "      <td>0.098234</td>\n",
              "      <td>0.055479</td>\n",
              "      <td>0.012821</td>\n",
              "      <td>0.062353</td>\n",
              "      <td>0.402852</td>\n",
              "      <td>0.036750</td>\n",
              "      <td>1.205088</td>\n",
              "      <td>1.284503</td>\n",
              "      <td>1.558018</td>\n",
              "      <td>13576.392959</td>\n",
              "      <td>1.747105</td>\n",
              "      <td>1377.119483</td>\n",
              "      <td>0.293521</td>\n",
              "      <td>0.161799</td>\n",
              "    </tr>\n",
              "    <tr>\n",
              "      <th>std</th>\n",
              "      <td>1.335184e+06</td>\n",
              "      <td>0.837909</td>\n",
              "      <td>0.635376</td>\n",
              "      <td>0.343568</td>\n",
              "      <td>0.141419</td>\n",
              "      <td>0.391526</td>\n",
              "      <td>0.490472</td>\n",
              "      <td>0.373704</td>\n",
              "      <td>3.212392</td>\n",
              "      <td>2.095138</td>\n",
              "      <td>4.266150</td>\n",
              "      <td>37707.913370</td>\n",
              "      <td>5.631009</td>\n",
              "      <td>4220.274239</td>\n",
              "      <td>0.455375</td>\n",
              "      <td>0.368266</td>\n",
              "    </tr>\n",
              "    <tr>\n",
              "      <th>min</th>\n",
              "      <td>7.400000e+01</td>\n",
              "      <td>0.000000</td>\n",
              "      <td>0.000000</td>\n",
              "      <td>0.000000</td>\n",
              "      <td>0.000000</td>\n",
              "      <td>0.000000</td>\n",
              "      <td>0.000000</td>\n",
              "      <td>0.000000</td>\n",
              "      <td>0.000000</td>\n",
              "      <td>0.000000</td>\n",
              "      <td>0.000000</td>\n",
              "      <td>0.000000</td>\n",
              "      <td>0.000000</td>\n",
              "      <td>-1680.000000</td>\n",
              "      <td>0.000000</td>\n",
              "      <td>0.000000</td>\n",
              "    </tr>\n",
              "    <tr>\n",
              "      <th>25%</th>\n",
              "      <td>1.165879e+06</td>\n",
              "      <td>0.000000</td>\n",
              "      <td>0.000000</td>\n",
              "      <td>0.000000</td>\n",
              "      <td>0.000000</td>\n",
              "      <td>0.000000</td>\n",
              "      <td>0.000000</td>\n",
              "      <td>0.000000</td>\n",
              "      <td>0.000000</td>\n",
              "      <td>0.000000</td>\n",
              "      <td>0.000000</td>\n",
              "      <td>0.000000</td>\n",
              "      <td>0.000000</td>\n",
              "      <td>0.000000</td>\n",
              "      <td>0.000000</td>\n",
              "      <td>0.000000</td>\n",
              "    </tr>\n",
              "    <tr>\n",
              "      <th>50%</th>\n",
              "      <td>2.325449e+06</td>\n",
              "      <td>0.000000</td>\n",
              "      <td>0.000000</td>\n",
              "      <td>0.000000</td>\n",
              "      <td>0.000000</td>\n",
              "      <td>0.000000</td>\n",
              "      <td>0.000000</td>\n",
              "      <td>0.000000</td>\n",
              "      <td>0.000000</td>\n",
              "      <td>1.000000</td>\n",
              "      <td>0.000000</td>\n",
              "      <td>701.000000</td>\n",
              "      <td>0.000000</td>\n",
              "      <td>0.000000</td>\n",
              "      <td>0.000000</td>\n",
              "      <td>0.000000</td>\n",
              "    </tr>\n",
              "    <tr>\n",
              "      <th>75%</th>\n",
              "      <td>3.482036e+06</td>\n",
              "      <td>0.000000</td>\n",
              "      <td>0.000000</td>\n",
              "      <td>0.000000</td>\n",
              "      <td>0.000000</td>\n",
              "      <td>0.000000</td>\n",
              "      <td>1.000000</td>\n",
              "      <td>0.000000</td>\n",
              "      <td>1.000000</td>\n",
              "      <td>2.000000</td>\n",
              "      <td>1.000000</td>\n",
              "      <td>7369.000000</td>\n",
              "      <td>1.000000</td>\n",
              "      <td>1380.000000</td>\n",
              "      <td>1.000000</td>\n",
              "      <td>0.000000</td>\n",
              "    </tr>\n",
              "    <tr>\n",
              "      <th>max</th>\n",
              "      <td>4.610624e+06</td>\n",
              "      <td>81.000000</td>\n",
              "      <td>62.000000</td>\n",
              "      <td>16.000000</td>\n",
              "      <td>41.000000</td>\n",
              "      <td>47.000000</td>\n",
              "      <td>1.000000</td>\n",
              "      <td>38.000000</td>\n",
              "      <td>182.000000</td>\n",
              "      <td>995.000000</td>\n",
              "      <td>247.000000</td>\n",
              "      <td>520331.000000</td>\n",
              "      <td>190.000000</td>\n",
              "      <td>181428.000000</td>\n",
              "      <td>1.000000</td>\n",
              "      <td>1.000000</td>\n",
              "    </tr>\n",
              "  </tbody>\n",
              "</table>\n",
              "</div>\n",
              "      <button class=\"colab-df-convert\" onclick=\"convertToInteractive('df-732bd29d-6914-471f-b482-8f57fa04ecbc')\"\n",
              "              title=\"Convert this dataframe to an interactive table.\"\n",
              "              style=\"display:none;\">\n",
              "        \n",
              "  <svg xmlns=\"http://www.w3.org/2000/svg\" height=\"24px\"viewBox=\"0 0 24 24\"\n",
              "       width=\"24px\">\n",
              "    <path d=\"M0 0h24v24H0V0z\" fill=\"none\"/>\n",
              "    <path d=\"M18.56 5.44l.94 2.06.94-2.06 2.06-.94-2.06-.94-.94-2.06-.94 2.06-2.06.94zm-11 1L8.5 8.5l.94-2.06 2.06-.94-2.06-.94L8.5 2.5l-.94 2.06-2.06.94zm10 10l.94 2.06.94-2.06 2.06-.94-2.06-.94-.94-2.06-.94 2.06-2.06.94z\"/><path d=\"M17.41 7.96l-1.37-1.37c-.4-.4-.92-.59-1.43-.59-.52 0-1.04.2-1.43.59L10.3 9.45l-7.72 7.72c-.78.78-.78 2.05 0 2.83L4 21.41c.39.39.9.59 1.41.59.51 0 1.02-.2 1.41-.59l7.78-7.78 2.81-2.81c.8-.78.8-2.07 0-2.86zM5.41 20L4 18.59l7.72-7.72 1.47 1.35L5.41 20z\"/>\n",
              "  </svg>\n",
              "      </button>\n",
              "      \n",
              "  <style>\n",
              "    .colab-df-container {\n",
              "      display:flex;\n",
              "      flex-wrap:wrap;\n",
              "      gap: 12px;\n",
              "    }\n",
              "\n",
              "    .colab-df-convert {\n",
              "      background-color: #E8F0FE;\n",
              "      border: none;\n",
              "      border-radius: 50%;\n",
              "      cursor: pointer;\n",
              "      display: none;\n",
              "      fill: #1967D2;\n",
              "      height: 32px;\n",
              "      padding: 0 0 0 0;\n",
              "      width: 32px;\n",
              "    }\n",
              "\n",
              "    .colab-df-convert:hover {\n",
              "      background-color: #E2EBFA;\n",
              "      box-shadow: 0px 1px 2px rgba(60, 64, 67, 0.3), 0px 1px 3px 1px rgba(60, 64, 67, 0.15);\n",
              "      fill: #174EA6;\n",
              "    }\n",
              "\n",
              "    [theme=dark] .colab-df-convert {\n",
              "      background-color: #3B4455;\n",
              "      fill: #D2E3FC;\n",
              "    }\n",
              "\n",
              "    [theme=dark] .colab-df-convert:hover {\n",
              "      background-color: #434B5C;\n",
              "      box-shadow: 0px 1px 3px 1px rgba(0, 0, 0, 0.15);\n",
              "      filter: drop-shadow(0px 1px 2px rgba(0, 0, 0, 0.3));\n",
              "      fill: #FFFFFF;\n",
              "    }\n",
              "  </style>\n",
              "\n",
              "      <script>\n",
              "        const buttonEl =\n",
              "          document.querySelector('#df-732bd29d-6914-471f-b482-8f57fa04ecbc button.colab-df-convert');\n",
              "        buttonEl.style.display =\n",
              "          google.colab.kernel.accessAllowed ? 'block' : 'none';\n",
              "\n",
              "        async function convertToInteractive(key) {\n",
              "          const element = document.querySelector('#df-732bd29d-6914-471f-b482-8f57fa04ecbc');\n",
              "          const dataTable =\n",
              "            await google.colab.kernel.invokeFunction('convertToInteractive',\n",
              "                                                     [key], {});\n",
              "          if (!dataTable) return;\n",
              "\n",
              "          const docLinkHtml = 'Like what you see? Visit the ' +\n",
              "            '<a target=\"_blank\" href=https://colab.research.google.com/notebooks/data_table.ipynb>data table notebook</a>'\n",
              "            + ' to learn more about interactive tables.';\n",
              "          element.innerHTML = '';\n",
              "          dataTable['output_type'] = 'display_data';\n",
              "          await google.colab.output.renderOutput(dataTable, element);\n",
              "          const docLink = document.createElement('div');\n",
              "          docLink.innerHTML = docLinkHtml;\n",
              "          element.appendChild(docLink);\n",
              "        }\n",
              "      </script>\n",
              "    </div>\n",
              "  </div>\n",
              "  "
            ]
          },
          "metadata": {},
          "execution_count": 17
        }
      ],
      "source": [
        "data.describe()"
      ]
    },
    {
      "cell_type": "code",
      "execution_count": null,
      "metadata": {
        "id": "yZ2xNaBizTOR"
      },
      "outputs": [],
      "source": [
        "scaler = MinMaxScaler()\n",
        "data_scaled = normalize(data, scaler)"
      ]
    },
    {
      "cell_type": "code",
      "execution_count": null,
      "metadata": {
        "colab": {
          "base_uri": "https://localhost:8080/",
          "height": 364
        },
        "id": "sa8deHCOzt4S",
        "outputId": "e50987c3-e673-44ba-93ec-6479631d0914"
      },
      "outputs": [
        {
          "output_type": "execute_result",
          "data": {
            "text/plain": [
              "                 add       checkout       purchase       register  \\\n",
              "count  700513.000000  700513.000000  700513.000000  700513.000000   \n",
              "mean        0.002062       0.001584       0.003467       0.000313   \n",
              "std         0.010345       0.010248       0.021473       0.003449   \n",
              "min         0.000000       0.000000       0.000000       0.000000   \n",
              "25%         0.000000       0.000000       0.000000       0.000000   \n",
              "50%         0.000000       0.000000       0.000000       0.000000   \n",
              "75%         0.000000       0.000000       0.000000       0.000000   \n",
              "max         1.000000       1.000000       1.000000       1.000000   \n",
              "\n",
              "              search        traffic   viewactivity   viewcategory  \\\n",
              "count  700513.000000  700513.000000  700513.000000  700513.000000   \n",
              "mean        0.001327       0.402852       0.000967       0.006621   \n",
              "std         0.008330       0.490472       0.009834       0.017651   \n",
              "min         0.000000       0.000000       0.000000       0.000000   \n",
              "25%         0.000000       0.000000       0.000000       0.000000   \n",
              "50%         0.000000       0.000000       0.000000       0.000000   \n",
              "75%         0.000000       1.000000       0.000000       0.005495   \n",
              "max         1.000000       1.000000       1.000000       1.000000   \n",
              "\n",
              "        viewmainpage    viewproduct       TimeDiff      TotalTime  \n",
              "count  700513.000000  700513.000000  700513.000000  700513.000000  \n",
              "mean        0.001291       0.006308       0.026092       0.009195  \n",
              "std         0.002106       0.017272       0.072469       0.029637  \n",
              "min         0.000000       0.000000       0.000000       0.000000  \n",
              "25%         0.000000       0.000000       0.000000       0.000000  \n",
              "50%         0.001005       0.000000       0.001347       0.000000  \n",
              "75%         0.002010       0.004049       0.014162       0.005263  \n",
              "max         1.000000       1.000000       1.000000       1.000000  "
            ],
            "text/html": [
              "\n",
              "  <div id=\"df-0fd2f3bf-f9b6-4c1a-aeba-e32884085966\">\n",
              "    <div class=\"colab-df-container\">\n",
              "      <div>\n",
              "<style scoped>\n",
              "    .dataframe tbody tr th:only-of-type {\n",
              "        vertical-align: middle;\n",
              "    }\n",
              "\n",
              "    .dataframe tbody tr th {\n",
              "        vertical-align: top;\n",
              "    }\n",
              "\n",
              "    .dataframe thead th {\n",
              "        text-align: right;\n",
              "    }\n",
              "</style>\n",
              "<table border=\"1\" class=\"dataframe\">\n",
              "  <thead>\n",
              "    <tr style=\"text-align: right;\">\n",
              "      <th></th>\n",
              "      <th>add</th>\n",
              "      <th>checkout</th>\n",
              "      <th>purchase</th>\n",
              "      <th>register</th>\n",
              "      <th>search</th>\n",
              "      <th>traffic</th>\n",
              "      <th>viewactivity</th>\n",
              "      <th>viewcategory</th>\n",
              "      <th>viewmainpage</th>\n",
              "      <th>viewproduct</th>\n",
              "      <th>TimeDiff</th>\n",
              "      <th>TotalTime</th>\n",
              "    </tr>\n",
              "  </thead>\n",
              "  <tbody>\n",
              "    <tr>\n",
              "      <th>count</th>\n",
              "      <td>700513.000000</td>\n",
              "      <td>700513.000000</td>\n",
              "      <td>700513.000000</td>\n",
              "      <td>700513.000000</td>\n",
              "      <td>700513.000000</td>\n",
              "      <td>700513.000000</td>\n",
              "      <td>700513.000000</td>\n",
              "      <td>700513.000000</td>\n",
              "      <td>700513.000000</td>\n",
              "      <td>700513.000000</td>\n",
              "      <td>700513.000000</td>\n",
              "      <td>700513.000000</td>\n",
              "    </tr>\n",
              "    <tr>\n",
              "      <th>mean</th>\n",
              "      <td>0.002062</td>\n",
              "      <td>0.001584</td>\n",
              "      <td>0.003467</td>\n",
              "      <td>0.000313</td>\n",
              "      <td>0.001327</td>\n",
              "      <td>0.402852</td>\n",
              "      <td>0.000967</td>\n",
              "      <td>0.006621</td>\n",
              "      <td>0.001291</td>\n",
              "      <td>0.006308</td>\n",
              "      <td>0.026092</td>\n",
              "      <td>0.009195</td>\n",
              "    </tr>\n",
              "    <tr>\n",
              "      <th>std</th>\n",
              "      <td>0.010345</td>\n",
              "      <td>0.010248</td>\n",
              "      <td>0.021473</td>\n",
              "      <td>0.003449</td>\n",
              "      <td>0.008330</td>\n",
              "      <td>0.490472</td>\n",
              "      <td>0.009834</td>\n",
              "      <td>0.017651</td>\n",
              "      <td>0.002106</td>\n",
              "      <td>0.017272</td>\n",
              "      <td>0.072469</td>\n",
              "      <td>0.029637</td>\n",
              "    </tr>\n",
              "    <tr>\n",
              "      <th>min</th>\n",
              "      <td>0.000000</td>\n",
              "      <td>0.000000</td>\n",
              "      <td>0.000000</td>\n",
              "      <td>0.000000</td>\n",
              "      <td>0.000000</td>\n",
              "      <td>0.000000</td>\n",
              "      <td>0.000000</td>\n",
              "      <td>0.000000</td>\n",
              "      <td>0.000000</td>\n",
              "      <td>0.000000</td>\n",
              "      <td>0.000000</td>\n",
              "      <td>0.000000</td>\n",
              "    </tr>\n",
              "    <tr>\n",
              "      <th>25%</th>\n",
              "      <td>0.000000</td>\n",
              "      <td>0.000000</td>\n",
              "      <td>0.000000</td>\n",
              "      <td>0.000000</td>\n",
              "      <td>0.000000</td>\n",
              "      <td>0.000000</td>\n",
              "      <td>0.000000</td>\n",
              "      <td>0.000000</td>\n",
              "      <td>0.000000</td>\n",
              "      <td>0.000000</td>\n",
              "      <td>0.000000</td>\n",
              "      <td>0.000000</td>\n",
              "    </tr>\n",
              "    <tr>\n",
              "      <th>50%</th>\n",
              "      <td>0.000000</td>\n",
              "      <td>0.000000</td>\n",
              "      <td>0.000000</td>\n",
              "      <td>0.000000</td>\n",
              "      <td>0.000000</td>\n",
              "      <td>0.000000</td>\n",
              "      <td>0.000000</td>\n",
              "      <td>0.000000</td>\n",
              "      <td>0.001005</td>\n",
              "      <td>0.000000</td>\n",
              "      <td>0.001347</td>\n",
              "      <td>0.000000</td>\n",
              "    </tr>\n",
              "    <tr>\n",
              "      <th>75%</th>\n",
              "      <td>0.000000</td>\n",
              "      <td>0.000000</td>\n",
              "      <td>0.000000</td>\n",
              "      <td>0.000000</td>\n",
              "      <td>0.000000</td>\n",
              "      <td>1.000000</td>\n",
              "      <td>0.000000</td>\n",
              "      <td>0.005495</td>\n",
              "      <td>0.002010</td>\n",
              "      <td>0.004049</td>\n",
              "      <td>0.014162</td>\n",
              "      <td>0.005263</td>\n",
              "    </tr>\n",
              "    <tr>\n",
              "      <th>max</th>\n",
              "      <td>1.000000</td>\n",
              "      <td>1.000000</td>\n",
              "      <td>1.000000</td>\n",
              "      <td>1.000000</td>\n",
              "      <td>1.000000</td>\n",
              "      <td>1.000000</td>\n",
              "      <td>1.000000</td>\n",
              "      <td>1.000000</td>\n",
              "      <td>1.000000</td>\n",
              "      <td>1.000000</td>\n",
              "      <td>1.000000</td>\n",
              "      <td>1.000000</td>\n",
              "    </tr>\n",
              "  </tbody>\n",
              "</table>\n",
              "</div>\n",
              "      <button class=\"colab-df-convert\" onclick=\"convertToInteractive('df-0fd2f3bf-f9b6-4c1a-aeba-e32884085966')\"\n",
              "              title=\"Convert this dataframe to an interactive table.\"\n",
              "              style=\"display:none;\">\n",
              "        \n",
              "  <svg xmlns=\"http://www.w3.org/2000/svg\" height=\"24px\"viewBox=\"0 0 24 24\"\n",
              "       width=\"24px\">\n",
              "    <path d=\"M0 0h24v24H0V0z\" fill=\"none\"/>\n",
              "    <path d=\"M18.56 5.44l.94 2.06.94-2.06 2.06-.94-2.06-.94-.94-2.06-.94 2.06-2.06.94zm-11 1L8.5 8.5l.94-2.06 2.06-.94-2.06-.94L8.5 2.5l-.94 2.06-2.06.94zm10 10l.94 2.06.94-2.06 2.06-.94-2.06-.94-.94-2.06-.94 2.06-2.06.94z\"/><path d=\"M17.41 7.96l-1.37-1.37c-.4-.4-.92-.59-1.43-.59-.52 0-1.04.2-1.43.59L10.3 9.45l-7.72 7.72c-.78.78-.78 2.05 0 2.83L4 21.41c.39.39.9.59 1.41.59.51 0 1.02-.2 1.41-.59l7.78-7.78 2.81-2.81c.8-.78.8-2.07 0-2.86zM5.41 20L4 18.59l7.72-7.72 1.47 1.35L5.41 20z\"/>\n",
              "  </svg>\n",
              "      </button>\n",
              "      \n",
              "  <style>\n",
              "    .colab-df-container {\n",
              "      display:flex;\n",
              "      flex-wrap:wrap;\n",
              "      gap: 12px;\n",
              "    }\n",
              "\n",
              "    .colab-df-convert {\n",
              "      background-color: #E8F0FE;\n",
              "      border: none;\n",
              "      border-radius: 50%;\n",
              "      cursor: pointer;\n",
              "      display: none;\n",
              "      fill: #1967D2;\n",
              "      height: 32px;\n",
              "      padding: 0 0 0 0;\n",
              "      width: 32px;\n",
              "    }\n",
              "\n",
              "    .colab-df-convert:hover {\n",
              "      background-color: #E2EBFA;\n",
              "      box-shadow: 0px 1px 2px rgba(60, 64, 67, 0.3), 0px 1px 3px 1px rgba(60, 64, 67, 0.15);\n",
              "      fill: #174EA6;\n",
              "    }\n",
              "\n",
              "    [theme=dark] .colab-df-convert {\n",
              "      background-color: #3B4455;\n",
              "      fill: #D2E3FC;\n",
              "    }\n",
              "\n",
              "    [theme=dark] .colab-df-convert:hover {\n",
              "      background-color: #434B5C;\n",
              "      box-shadow: 0px 1px 3px 1px rgba(0, 0, 0, 0.15);\n",
              "      filter: drop-shadow(0px 1px 2px rgba(0, 0, 0, 0.3));\n",
              "      fill: #FFFFFF;\n",
              "    }\n",
              "  </style>\n",
              "\n",
              "      <script>\n",
              "        const buttonEl =\n",
              "          document.querySelector('#df-0fd2f3bf-f9b6-4c1a-aeba-e32884085966 button.colab-df-convert');\n",
              "        buttonEl.style.display =\n",
              "          google.colab.kernel.accessAllowed ? 'block' : 'none';\n",
              "\n",
              "        async function convertToInteractive(key) {\n",
              "          const element = document.querySelector('#df-0fd2f3bf-f9b6-4c1a-aeba-e32884085966');\n",
              "          const dataTable =\n",
              "            await google.colab.kernel.invokeFunction('convertToInteractive',\n",
              "                                                     [key], {});\n",
              "          if (!dataTable) return;\n",
              "\n",
              "          const docLinkHtml = 'Like what you see? Visit the ' +\n",
              "            '<a target=\"_blank\" href=https://colab.research.google.com/notebooks/data_table.ipynb>data table notebook</a>'\n",
              "            + ' to learn more about interactive tables.';\n",
              "          element.innerHTML = '';\n",
              "          dataTable['output_type'] = 'display_data';\n",
              "          await google.colab.output.renderOutput(dataTable, element);\n",
              "          const docLink = document.createElement('div');\n",
              "          docLink.innerHTML = docLinkHtml;\n",
              "          element.appendChild(docLink);\n",
              "        }\n",
              "      </script>\n",
              "    </div>\n",
              "  </div>\n",
              "  "
            ]
          },
          "metadata": {},
          "execution_count": 19
        }
      ],
      "source": [
        "data_scaled.describe()"
      ]
    },
    {
      "cell_type": "markdown",
      "source": [
        "## 整理 X"
      ],
      "metadata": {
        "id": "NwUiPrRqQwVr"
      }
    },
    {
      "cell_type": "code",
      "execution_count": null,
      "metadata": {
        "id": "VuyJx1sm7wHz"
      },
      "outputs": [],
      "source": [
        "g = data_scaled.groupby('MemberID').cumcount()\n",
        "s = 12 - data_scaled.groupby('MemberID').size()"
      ]
    },
    {
      "cell_type": "code",
      "execution_count": null,
      "metadata": {
        "id": "K-kgfqi88ofR"
      },
      "outputs": [],
      "source": [
        "index_df = pd.merge(pd.concat([data_scaled[['MemberID']],pd.DataFrame(g, columns=['count'])[['count']]],axis=1), pd.DataFrame(s, columns=['size'])['size'], on='MemberID')"
      ]
    },
    {
      "cell_type": "code",
      "execution_count": null,
      "metadata": {
        "id": "97Wwge9n-WJK"
      },
      "outputs": [],
      "source": [
        "index_df['new_index'] = index_df['count'] + index_df['size']"
      ]
    },
    {
      "cell_type": "code",
      "execution_count": null,
      "metadata": {
        "id": "-QMYUdgy2z6e"
      },
      "outputs": [],
      "source": [
        "mux = pd.MultiIndex.from_product([data_scaled['MemberID'].unique(), g.unique()])\n",
        "X = np.array(data_scaled.set_index(['MemberID',index_df['new_index']])\n",
        "       .reindex(mux, fill_value=0)\n",
        "       .groupby(level=0)[cols]\n",
        "       .apply(lambda x: x.values.tolist())\n",
        "       .tolist())"
      ]
    },
    {
      "cell_type": "code",
      "execution_count": null,
      "metadata": {
        "id": "682SKbWz_4Nj"
      },
      "outputs": [],
      "source": [
        "data_non_dup = data.drop_duplicates(subset=['MemberID'], keep='last')"
      ]
    },
    {
      "cell_type": "code",
      "execution_count": null,
      "metadata": {
        "colab": {
          "base_uri": "https://localhost:8080/"
        },
        "id": "5x8G8XOzrf05",
        "outputId": "fc0b8626-4385-49d5-e8fd-ca9595944795"
      },
      "outputs": [
        {
          "output_type": "execute_result",
          "data": {
            "text/plain": [
              "Counter({0.0: 72733, 1.0: 11198})"
            ]
          },
          "metadata": {},
          "execution_count": 25
        }
      ],
      "source": [
        "Counter(data_non_dup['VIP'])"
      ]
    },
    {
      "cell_type": "code",
      "execution_count": null,
      "metadata": {
        "id": "uz4u4U0Tss7A"
      },
      "outputs": [],
      "source": [
        "y = data_non_dup['VIP']"
      ]
    },
    {
      "cell_type": "code",
      "execution_count": null,
      "metadata": {
        "colab": {
          "base_uri": "https://localhost:8080/"
        },
        "id": "9_JuxTmzsxhn",
        "outputId": "b2b794ff-6e93-4cae-88c8-a10b9782c676"
      },
      "outputs": [
        {
          "output_type": "stream",
          "name": "stdout",
          "text": [
            "Counter({0.0: 72733, 1.0: 11198})\n"
          ]
        }
      ],
      "source": [
        "counter = Counter(y)\n",
        "print(counter)"
      ]
    },
    {
      "cell_type": "code",
      "execution_count": null,
      "metadata": {
        "colab": {
          "base_uri": "https://localhost:8080/"
        },
        "id": "HBZlc-rsARdE",
        "outputId": "1a138480-eb73-4dc9-ad3e-2ffdd29365c7"
      },
      "outputs": [
        {
          "output_type": "execute_result",
          "data": {
            "text/plain": [
              "(83931, 12, 12)"
            ]
          },
          "metadata": {},
          "execution_count": 28
        }
      ],
      "source": [
        "X.shape"
      ]
    },
    {
      "cell_type": "code",
      "execution_count": null,
      "metadata": {
        "id": "mo2pyOzTAceU"
      },
      "outputs": [],
      "source": [
        "X = pd.DataFrame(X.reshape(len(X), 12*12))"
      ]
    },
    {
      "cell_type": "code",
      "execution_count": null,
      "metadata": {
        "colab": {
          "base_uri": "https://localhost:8080/",
          "height": 487
        },
        "id": "zHv92qQsLUvU",
        "outputId": "8c24d4b8-5d39-4dee-eadf-0b9b8030cde9"
      },
      "outputs": [
        {
          "output_type": "execute_result",
          "data": {
            "text/plain": [
              "            0    1    2    3    4    5    6         7         8         9    \\\n",
              "0      0.000000  0.0  0.0  0.0  0.0  1.0  0.0  0.000000  0.000000  0.000000   \n",
              "1      0.000000  0.0  0.0  0.0  0.0  1.0  0.0  0.005495  0.000000  0.000000   \n",
              "2      0.024691  0.0  0.0  0.0  0.0  0.0  0.0  0.071429  0.001005  0.097166   \n",
              "3      0.000000  0.0  0.0  0.0  0.0  0.0  0.0  0.000000  0.000000  0.000000   \n",
              "4      0.000000  0.0  0.0  0.0  0.0  0.0  0.0  0.021978  0.004020  0.032389   \n",
              "...         ...  ...  ...  ...  ...  ...  ...       ...       ...       ...   \n",
              "83926  0.000000  0.0  0.0  0.0  0.0  1.0  0.0  0.000000  0.000000  0.000000   \n",
              "83927  0.000000  0.0  0.0  0.0  0.0  0.0  0.0  0.000000  0.000000  0.000000   \n",
              "83928  0.000000  0.0  0.0  0.0  0.0  0.0  0.0  0.000000  0.000000  0.004049   \n",
              "83929  0.000000  0.0  0.0  0.0  0.0  1.0  0.0  0.000000  0.000000  0.000000   \n",
              "83930  0.000000  0.0  0.0  0.0  0.0  0.0  0.0  0.000000  0.000000  0.000000   \n",
              "\n",
              "       ...  134  135       136  137  138       139       140       141  \\\n",
              "0      ...  0.0  0.0  0.000000  0.0  0.0  0.005495  0.002010  0.000000   \n",
              "1      ...  0.0  0.0  0.000000  0.0  0.0  0.000000  0.001005  0.000000   \n",
              "2      ...  0.0  0.0  0.000000  0.0  0.0  0.000000  0.002010  0.016194   \n",
              "3      ...  0.0  0.0  0.000000  0.0  0.0  0.005495  0.000000  0.000000   \n",
              "4      ...  0.0  0.0  0.000000  0.0  0.0  0.109890  0.003015  0.060729   \n",
              "...    ...  ...  ...       ...  ...  ...       ...       ...       ...   \n",
              "83926  ...  0.0  0.0  0.000000  1.0  0.0  0.000000  0.000000  0.004049   \n",
              "83927  ...  0.0  0.0  0.000000  0.0  0.0  0.000000  0.002010  0.000000   \n",
              "83928  ...  0.0  0.0  0.000000  0.0  0.0  0.000000  0.001005  0.000000   \n",
              "83929  ...  0.0  0.0  0.000000  1.0  0.0  0.000000  0.000000  0.000000   \n",
              "83930  ...  0.0  0.0  0.021277  0.0  0.0  0.000000  0.003015  0.000000   \n",
              "\n",
              "            142       143  \n",
              "0      0.029352  0.005263  \n",
              "1      0.009346  0.000000  \n",
              "2      0.036475  0.005263  \n",
              "3      0.000919  0.000000  \n",
              "4      0.001149  0.015789  \n",
              "...         ...       ...  \n",
              "83926  0.000000  0.000000  \n",
              "83927  0.127108  0.000000  \n",
              "83928  0.000352  0.000000  \n",
              "83929  0.000000  0.000000  \n",
              "83930  0.136575  0.000000  \n",
              "\n",
              "[83931 rows x 144 columns]"
            ],
            "text/html": [
              "\n",
              "  <div id=\"df-e5ea3f81-4cbb-4de0-a34e-e93a04b46d3d\">\n",
              "    <div class=\"colab-df-container\">\n",
              "      <div>\n",
              "<style scoped>\n",
              "    .dataframe tbody tr th:only-of-type {\n",
              "        vertical-align: middle;\n",
              "    }\n",
              "\n",
              "    .dataframe tbody tr th {\n",
              "        vertical-align: top;\n",
              "    }\n",
              "\n",
              "    .dataframe thead th {\n",
              "        text-align: right;\n",
              "    }\n",
              "</style>\n",
              "<table border=\"1\" class=\"dataframe\">\n",
              "  <thead>\n",
              "    <tr style=\"text-align: right;\">\n",
              "      <th></th>\n",
              "      <th>0</th>\n",
              "      <th>1</th>\n",
              "      <th>2</th>\n",
              "      <th>3</th>\n",
              "      <th>4</th>\n",
              "      <th>5</th>\n",
              "      <th>6</th>\n",
              "      <th>7</th>\n",
              "      <th>8</th>\n",
              "      <th>9</th>\n",
              "      <th>...</th>\n",
              "      <th>134</th>\n",
              "      <th>135</th>\n",
              "      <th>136</th>\n",
              "      <th>137</th>\n",
              "      <th>138</th>\n",
              "      <th>139</th>\n",
              "      <th>140</th>\n",
              "      <th>141</th>\n",
              "      <th>142</th>\n",
              "      <th>143</th>\n",
              "    </tr>\n",
              "  </thead>\n",
              "  <tbody>\n",
              "    <tr>\n",
              "      <th>0</th>\n",
              "      <td>0.000000</td>\n",
              "      <td>0.0</td>\n",
              "      <td>0.0</td>\n",
              "      <td>0.0</td>\n",
              "      <td>0.0</td>\n",
              "      <td>1.0</td>\n",
              "      <td>0.0</td>\n",
              "      <td>0.000000</td>\n",
              "      <td>0.000000</td>\n",
              "      <td>0.000000</td>\n",
              "      <td>...</td>\n",
              "      <td>0.0</td>\n",
              "      <td>0.0</td>\n",
              "      <td>0.000000</td>\n",
              "      <td>0.0</td>\n",
              "      <td>0.0</td>\n",
              "      <td>0.005495</td>\n",
              "      <td>0.002010</td>\n",
              "      <td>0.000000</td>\n",
              "      <td>0.029352</td>\n",
              "      <td>0.005263</td>\n",
              "    </tr>\n",
              "    <tr>\n",
              "      <th>1</th>\n",
              "      <td>0.000000</td>\n",
              "      <td>0.0</td>\n",
              "      <td>0.0</td>\n",
              "      <td>0.0</td>\n",
              "      <td>0.0</td>\n",
              "      <td>1.0</td>\n",
              "      <td>0.0</td>\n",
              "      <td>0.005495</td>\n",
              "      <td>0.000000</td>\n",
              "      <td>0.000000</td>\n",
              "      <td>...</td>\n",
              "      <td>0.0</td>\n",
              "      <td>0.0</td>\n",
              "      <td>0.000000</td>\n",
              "      <td>0.0</td>\n",
              "      <td>0.0</td>\n",
              "      <td>0.000000</td>\n",
              "      <td>0.001005</td>\n",
              "      <td>0.000000</td>\n",
              "      <td>0.009346</td>\n",
              "      <td>0.000000</td>\n",
              "    </tr>\n",
              "    <tr>\n",
              "      <th>2</th>\n",
              "      <td>0.024691</td>\n",
              "      <td>0.0</td>\n",
              "      <td>0.0</td>\n",
              "      <td>0.0</td>\n",
              "      <td>0.0</td>\n",
              "      <td>0.0</td>\n",
              "      <td>0.0</td>\n",
              "      <td>0.071429</td>\n",
              "      <td>0.001005</td>\n",
              "      <td>0.097166</td>\n",
              "      <td>...</td>\n",
              "      <td>0.0</td>\n",
              "      <td>0.0</td>\n",
              "      <td>0.000000</td>\n",
              "      <td>0.0</td>\n",
              "      <td>0.0</td>\n",
              "      <td>0.000000</td>\n",
              "      <td>0.002010</td>\n",
              "      <td>0.016194</td>\n",
              "      <td>0.036475</td>\n",
              "      <td>0.005263</td>\n",
              "    </tr>\n",
              "    <tr>\n",
              "      <th>3</th>\n",
              "      <td>0.000000</td>\n",
              "      <td>0.0</td>\n",
              "      <td>0.0</td>\n",
              "      <td>0.0</td>\n",
              "      <td>0.0</td>\n",
              "      <td>0.0</td>\n",
              "      <td>0.0</td>\n",
              "      <td>0.000000</td>\n",
              "      <td>0.000000</td>\n",
              "      <td>0.000000</td>\n",
              "      <td>...</td>\n",
              "      <td>0.0</td>\n",
              "      <td>0.0</td>\n",
              "      <td>0.000000</td>\n",
              "      <td>0.0</td>\n",
              "      <td>0.0</td>\n",
              "      <td>0.005495</td>\n",
              "      <td>0.000000</td>\n",
              "      <td>0.000000</td>\n",
              "      <td>0.000919</td>\n",
              "      <td>0.000000</td>\n",
              "    </tr>\n",
              "    <tr>\n",
              "      <th>4</th>\n",
              "      <td>0.000000</td>\n",
              "      <td>0.0</td>\n",
              "      <td>0.0</td>\n",
              "      <td>0.0</td>\n",
              "      <td>0.0</td>\n",
              "      <td>0.0</td>\n",
              "      <td>0.0</td>\n",
              "      <td>0.021978</td>\n",
              "      <td>0.004020</td>\n",
              "      <td>0.032389</td>\n",
              "      <td>...</td>\n",
              "      <td>0.0</td>\n",
              "      <td>0.0</td>\n",
              "      <td>0.000000</td>\n",
              "      <td>0.0</td>\n",
              "      <td>0.0</td>\n",
              "      <td>0.109890</td>\n",
              "      <td>0.003015</td>\n",
              "      <td>0.060729</td>\n",
              "      <td>0.001149</td>\n",
              "      <td>0.015789</td>\n",
              "    </tr>\n",
              "    <tr>\n",
              "      <th>...</th>\n",
              "      <td>...</td>\n",
              "      <td>...</td>\n",
              "      <td>...</td>\n",
              "      <td>...</td>\n",
              "      <td>...</td>\n",
              "      <td>...</td>\n",
              "      <td>...</td>\n",
              "      <td>...</td>\n",
              "      <td>...</td>\n",
              "      <td>...</td>\n",
              "      <td>...</td>\n",
              "      <td>...</td>\n",
              "      <td>...</td>\n",
              "      <td>...</td>\n",
              "      <td>...</td>\n",
              "      <td>...</td>\n",
              "      <td>...</td>\n",
              "      <td>...</td>\n",
              "      <td>...</td>\n",
              "      <td>...</td>\n",
              "      <td>...</td>\n",
              "    </tr>\n",
              "    <tr>\n",
              "      <th>83926</th>\n",
              "      <td>0.000000</td>\n",
              "      <td>0.0</td>\n",
              "      <td>0.0</td>\n",
              "      <td>0.0</td>\n",
              "      <td>0.0</td>\n",
              "      <td>1.0</td>\n",
              "      <td>0.0</td>\n",
              "      <td>0.000000</td>\n",
              "      <td>0.000000</td>\n",
              "      <td>0.000000</td>\n",
              "      <td>...</td>\n",
              "      <td>0.0</td>\n",
              "      <td>0.0</td>\n",
              "      <td>0.000000</td>\n",
              "      <td>1.0</td>\n",
              "      <td>0.0</td>\n",
              "      <td>0.000000</td>\n",
              "      <td>0.000000</td>\n",
              "      <td>0.004049</td>\n",
              "      <td>0.000000</td>\n",
              "      <td>0.000000</td>\n",
              "    </tr>\n",
              "    <tr>\n",
              "      <th>83927</th>\n",
              "      <td>0.000000</td>\n",
              "      <td>0.0</td>\n",
              "      <td>0.0</td>\n",
              "      <td>0.0</td>\n",
              "      <td>0.0</td>\n",
              "      <td>0.0</td>\n",
              "      <td>0.0</td>\n",
              "      <td>0.000000</td>\n",
              "      <td>0.000000</td>\n",
              "      <td>0.000000</td>\n",
              "      <td>...</td>\n",
              "      <td>0.0</td>\n",
              "      <td>0.0</td>\n",
              "      <td>0.000000</td>\n",
              "      <td>0.0</td>\n",
              "      <td>0.0</td>\n",
              "      <td>0.000000</td>\n",
              "      <td>0.002010</td>\n",
              "      <td>0.000000</td>\n",
              "      <td>0.127108</td>\n",
              "      <td>0.000000</td>\n",
              "    </tr>\n",
              "    <tr>\n",
              "      <th>83928</th>\n",
              "      <td>0.000000</td>\n",
              "      <td>0.0</td>\n",
              "      <td>0.0</td>\n",
              "      <td>0.0</td>\n",
              "      <td>0.0</td>\n",
              "      <td>0.0</td>\n",
              "      <td>0.0</td>\n",
              "      <td>0.000000</td>\n",
              "      <td>0.000000</td>\n",
              "      <td>0.004049</td>\n",
              "      <td>...</td>\n",
              "      <td>0.0</td>\n",
              "      <td>0.0</td>\n",
              "      <td>0.000000</td>\n",
              "      <td>0.0</td>\n",
              "      <td>0.0</td>\n",
              "      <td>0.000000</td>\n",
              "      <td>0.001005</td>\n",
              "      <td>0.000000</td>\n",
              "      <td>0.000352</td>\n",
              "      <td>0.000000</td>\n",
              "    </tr>\n",
              "    <tr>\n",
              "      <th>83929</th>\n",
              "      <td>0.000000</td>\n",
              "      <td>0.0</td>\n",
              "      <td>0.0</td>\n",
              "      <td>0.0</td>\n",
              "      <td>0.0</td>\n",
              "      <td>1.0</td>\n",
              "      <td>0.0</td>\n",
              "      <td>0.000000</td>\n",
              "      <td>0.000000</td>\n",
              "      <td>0.000000</td>\n",
              "      <td>...</td>\n",
              "      <td>0.0</td>\n",
              "      <td>0.0</td>\n",
              "      <td>0.000000</td>\n",
              "      <td>1.0</td>\n",
              "      <td>0.0</td>\n",
              "      <td>0.000000</td>\n",
              "      <td>0.000000</td>\n",
              "      <td>0.000000</td>\n",
              "      <td>0.000000</td>\n",
              "      <td>0.000000</td>\n",
              "    </tr>\n",
              "    <tr>\n",
              "      <th>83930</th>\n",
              "      <td>0.000000</td>\n",
              "      <td>0.0</td>\n",
              "      <td>0.0</td>\n",
              "      <td>0.0</td>\n",
              "      <td>0.0</td>\n",
              "      <td>0.0</td>\n",
              "      <td>0.0</td>\n",
              "      <td>0.000000</td>\n",
              "      <td>0.000000</td>\n",
              "      <td>0.000000</td>\n",
              "      <td>...</td>\n",
              "      <td>0.0</td>\n",
              "      <td>0.0</td>\n",
              "      <td>0.021277</td>\n",
              "      <td>0.0</td>\n",
              "      <td>0.0</td>\n",
              "      <td>0.000000</td>\n",
              "      <td>0.003015</td>\n",
              "      <td>0.000000</td>\n",
              "      <td>0.136575</td>\n",
              "      <td>0.000000</td>\n",
              "    </tr>\n",
              "  </tbody>\n",
              "</table>\n",
              "<p>83931 rows × 144 columns</p>\n",
              "</div>\n",
              "      <button class=\"colab-df-convert\" onclick=\"convertToInteractive('df-e5ea3f81-4cbb-4de0-a34e-e93a04b46d3d')\"\n",
              "              title=\"Convert this dataframe to an interactive table.\"\n",
              "              style=\"display:none;\">\n",
              "        \n",
              "  <svg xmlns=\"http://www.w3.org/2000/svg\" height=\"24px\"viewBox=\"0 0 24 24\"\n",
              "       width=\"24px\">\n",
              "    <path d=\"M0 0h24v24H0V0z\" fill=\"none\"/>\n",
              "    <path d=\"M18.56 5.44l.94 2.06.94-2.06 2.06-.94-2.06-.94-.94-2.06-.94 2.06-2.06.94zm-11 1L8.5 8.5l.94-2.06 2.06-.94-2.06-.94L8.5 2.5l-.94 2.06-2.06.94zm10 10l.94 2.06.94-2.06 2.06-.94-2.06-.94-.94-2.06-.94 2.06-2.06.94z\"/><path d=\"M17.41 7.96l-1.37-1.37c-.4-.4-.92-.59-1.43-.59-.52 0-1.04.2-1.43.59L10.3 9.45l-7.72 7.72c-.78.78-.78 2.05 0 2.83L4 21.41c.39.39.9.59 1.41.59.51 0 1.02-.2 1.41-.59l7.78-7.78 2.81-2.81c.8-.78.8-2.07 0-2.86zM5.41 20L4 18.59l7.72-7.72 1.47 1.35L5.41 20z\"/>\n",
              "  </svg>\n",
              "      </button>\n",
              "      \n",
              "  <style>\n",
              "    .colab-df-container {\n",
              "      display:flex;\n",
              "      flex-wrap:wrap;\n",
              "      gap: 12px;\n",
              "    }\n",
              "\n",
              "    .colab-df-convert {\n",
              "      background-color: #E8F0FE;\n",
              "      border: none;\n",
              "      border-radius: 50%;\n",
              "      cursor: pointer;\n",
              "      display: none;\n",
              "      fill: #1967D2;\n",
              "      height: 32px;\n",
              "      padding: 0 0 0 0;\n",
              "      width: 32px;\n",
              "    }\n",
              "\n",
              "    .colab-df-convert:hover {\n",
              "      background-color: #E2EBFA;\n",
              "      box-shadow: 0px 1px 2px rgba(60, 64, 67, 0.3), 0px 1px 3px 1px rgba(60, 64, 67, 0.15);\n",
              "      fill: #174EA6;\n",
              "    }\n",
              "\n",
              "    [theme=dark] .colab-df-convert {\n",
              "      background-color: #3B4455;\n",
              "      fill: #D2E3FC;\n",
              "    }\n",
              "\n",
              "    [theme=dark] .colab-df-convert:hover {\n",
              "      background-color: #434B5C;\n",
              "      box-shadow: 0px 1px 3px 1px rgba(0, 0, 0, 0.15);\n",
              "      filter: drop-shadow(0px 1px 2px rgba(0, 0, 0, 0.3));\n",
              "      fill: #FFFFFF;\n",
              "    }\n",
              "  </style>\n",
              "\n",
              "      <script>\n",
              "        const buttonEl =\n",
              "          document.querySelector('#df-e5ea3f81-4cbb-4de0-a34e-e93a04b46d3d button.colab-df-convert');\n",
              "        buttonEl.style.display =\n",
              "          google.colab.kernel.accessAllowed ? 'block' : 'none';\n",
              "\n",
              "        async function convertToInteractive(key) {\n",
              "          const element = document.querySelector('#df-e5ea3f81-4cbb-4de0-a34e-e93a04b46d3d');\n",
              "          const dataTable =\n",
              "            await google.colab.kernel.invokeFunction('convertToInteractive',\n",
              "                                                     [key], {});\n",
              "          if (!dataTable) return;\n",
              "\n",
              "          const docLinkHtml = 'Like what you see? Visit the ' +\n",
              "            '<a target=\"_blank\" href=https://colab.research.google.com/notebooks/data_table.ipynb>data table notebook</a>'\n",
              "            + ' to learn more about interactive tables.';\n",
              "          element.innerHTML = '';\n",
              "          dataTable['output_type'] = 'display_data';\n",
              "          await google.colab.output.renderOutput(dataTable, element);\n",
              "          const docLink = document.createElement('div');\n",
              "          docLink.innerHTML = docLinkHtml;\n",
              "          element.appendChild(docLink);\n",
              "        }\n",
              "      </script>\n",
              "    </div>\n",
              "  </div>\n",
              "  "
            ]
          },
          "metadata": {},
          "execution_count": 30
        }
      ],
      "source": [
        "X"
      ]
    },
    {
      "cell_type": "markdown",
      "metadata": {
        "id": "Obq-FBPf6nWE"
      },
      "source": [
        "## 做 undersampling"
      ]
    },
    {
      "cell_type": "code",
      "execution_count": null,
      "metadata": {
        "id": "6wb96D3-EXfW"
      },
      "outputs": [],
      "source": [
        "class DataUds():\n",
        "  def __init__(self, minor_weight, X, y):\n",
        "    self.minor_weight = minor_weight\n",
        "    self.X = X\n",
        "    self.y = y\n",
        "\n",
        "    self.reset()\n",
        "\n",
        "  def reset(self):\n",
        "    self.X_res = []\n",
        "    self.y_res = []\n",
        "\n",
        "  def get_major_num(self):\n",
        "    counter = Counter(self.y)\n",
        "    print('Orginal num:', counter)\n",
        "    major_num = int(counter[1] * ((1-self.minor_weight)/self.minor_weight))\n",
        "    return major_num\n",
        "\n",
        "  def undersample(self, major_num):\n",
        "    nm = NearMiss(sampling_strategy={0: major_num}, version=1)\n",
        "    self.X_res, self.y_res = nm.fit_resample(X, y) \n",
        "    print('Undersmapling num:', Counter(self.y_res))\n",
        "\n",
        "  def run(self):\n",
        "    major_num = self.get_major_num()\n",
        "    self.undersample(major_num)"
      ]
    },
    {
      "cell_type": "code",
      "execution_count": null,
      "metadata": {
        "colab": {
          "base_uri": "https://localhost:8080/"
        },
        "id": "x5-Uj4SQGjid",
        "outputId": "1efbe6b3-263a-403a-f838-9be0e9f8bf2d"
      },
      "outputs": [
        {
          "output_type": "stream",
          "name": "stdout",
          "text": [
            "Orginal num: Counter({0.0: 72733, 1.0: 11198})\n",
            "Undersmapling num: Counter({0.0: 11198, 1.0: 11198})\n"
          ]
        }
      ],
      "source": [
        "uds_1 = DataUds(0.5, X, y)\n",
        "uds_1.run()"
      ]
    },
    {
      "cell_type": "code",
      "execution_count": null,
      "metadata": {
        "id": "jD6QHeRCG_-e"
      },
      "outputs": [],
      "source": [
        "X_res = uds_1.X_res\n",
        "y_res = uds_1.y_res"
      ]
    },
    {
      "cell_type": "code",
      "execution_count": null,
      "metadata": {
        "id": "AEU46JpVsqv2"
      },
      "outputs": [],
      "source": [
        "X_uds = np.array(X_res).reshape(len(X_res), 12, 12)\n",
        "y_uds = y_res"
      ]
    },
    {
      "cell_type": "code",
      "source": [
        "data_uds = pd.concat([X_res, y_res], axis=1)"
      ],
      "metadata": {
        "id": "R0-DFU4zueYf"
      },
      "execution_count": null,
      "outputs": []
    },
    {
      "cell_type": "code",
      "source": [
        "data_uds.to_csv('Session Behavior Count Undersampled Data.csv', index=False)"
      ],
      "metadata": {
        "id": "F90i2ZYXtEZQ"
      },
      "execution_count": null,
      "outputs": []
    },
    {
      "cell_type": "code",
      "execution_count": null,
      "metadata": {
        "colab": {
          "base_uri": "https://localhost:8080/"
        },
        "id": "ujkTeHi2A5Ms",
        "outputId": "69e28de9-7b39-41af-a3ad-c371f01a597c"
      },
      "outputs": [
        {
          "output_type": "execute_result",
          "data": {
            "text/plain": [
              "(12, 12)"
            ]
          },
          "metadata": {},
          "execution_count": 168
        }
      ],
      "source": [
        "X_uds[3].shape"
      ]
    },
    {
      "cell_type": "markdown",
      "metadata": {
        "id": "rQmuA0AG6uuF"
      },
      "source": [
        "## 切割訓練測試集"
      ]
    },
    {
      "cell_type": "code",
      "execution_count": null,
      "metadata": {
        "id": "PQWt_smrjwqC"
      },
      "outputs": [],
      "source": [
        "X_train, X_test, y_train, y_test = train_test_split(X_uds, y_uds, test_size=0.2, random_state=123)"
      ]
    },
    {
      "cell_type": "code",
      "execution_count": null,
      "metadata": {
        "colab": {
          "base_uri": "https://localhost:8080/"
        },
        "id": "sUXHJ7L6teKm",
        "outputId": "4960599e-5188-4455-8c89-6a5022d284d6"
      },
      "outputs": [
        {
          "output_type": "stream",
          "name": "stdout",
          "text": [
            "17916 17916 4480 4480\n"
          ]
        }
      ],
      "source": [
        "print(len(X_train), len(y_train), len(X_test), len(y_test))"
      ]
    },
    {
      "cell_type": "code",
      "execution_count": null,
      "metadata": {
        "colab": {
          "base_uri": "https://localhost:8080/"
        },
        "id": "QIpCBr2JvP7R",
        "outputId": "35c0af1e-b0b7-4d09-ccfc-ace2aff7e7b7"
      },
      "outputs": [
        {
          "output_type": "execute_result",
          "data": {
            "text/plain": [
              "(17916, 12, 12)"
            ]
          },
          "metadata": {},
          "execution_count": 171
        }
      ],
      "source": [
        "X_train.shape"
      ]
    },
    {
      "cell_type": "code",
      "execution_count": null,
      "metadata": {
        "colab": {
          "base_uri": "https://localhost:8080/"
        },
        "id": "WrRfFlENxBtP",
        "outputId": "4215bf4d-1fbb-470e-f604-cd9cb30287b7"
      },
      "outputs": [
        {
          "output_type": "execute_result",
          "data": {
            "text/plain": [
              "(17916,)"
            ]
          },
          "metadata": {},
          "execution_count": 172
        }
      ],
      "source": [
        "y_train.shape"
      ]
    },
    {
      "cell_type": "code",
      "execution_count": null,
      "metadata": {
        "id": "wQDQwE4eJteH",
        "colab": {
          "base_uri": "https://localhost:8080/"
        },
        "outputId": "497528c8-9bbc-4bf8-a317-4a0b77cf2ad8"
      },
      "outputs": [
        {
          "output_type": "execute_result",
          "data": {
            "text/plain": [
              "Counter({0.0: 9004, 1.0: 8912})"
            ]
          },
          "metadata": {},
          "execution_count": 173
        }
      ],
      "source": [
        "Counter(y_train)"
      ]
    },
    {
      "cell_type": "code",
      "source": [
        "Counter(y_test)"
      ],
      "metadata": {
        "colab": {
          "base_uri": "https://localhost:8080/"
        },
        "id": "Is8CO4bc5GtG",
        "outputId": "9c0db631-302f-4b65-8053-48828d14c4d3"
      },
      "execution_count": null,
      "outputs": [
        {
          "output_type": "execute_result",
          "data": {
            "text/plain": [
              "Counter({0.0: 2194, 1.0: 2286})"
            ]
          },
          "metadata": {},
          "execution_count": 174
        }
      ]
    },
    {
      "cell_type": "code",
      "source": [
        "data_uds['Train/Test'] = ['Test'] * len(data_uds)\n",
        "data_uds.loc[y_train.index, 'Train/Test'] = 'Train'"
      ],
      "metadata": {
        "id": "yUGWzncHt5-w"
      },
      "execution_count": null,
      "outputs": []
    },
    {
      "cell_type": "code",
      "source": [
        "data_uds.to_csv('Train Test Data.csv', index=False)"
      ],
      "metadata": {
        "id": "eh1JGtYntfLy"
      },
      "execution_count": null,
      "outputs": []
    },
    {
      "cell_type": "markdown",
      "metadata": {
        "id": "r5g081O0jJ57"
      },
      "source": [
        "## LSTM"
      ]
    },
    {
      "cell_type": "markdown",
      "metadata": {
        "id": "_caFvn8L1PAA"
      },
      "source": [
        "## model 試驗"
      ]
    },
    {
      "cell_type": "code",
      "execution_count": null,
      "metadata": {
        "colab": {
          "base_uri": "https://localhost:8080/"
        },
        "id": "-wL7tSzQLcMq",
        "outputId": "d85e0ce8-19fa-4f63-b9a0-86bd35e8b4db"
      },
      "outputs": [
        {
          "output_type": "stream",
          "name": "stdout",
          "text": [
            "Model: \"sequential_2\"\n",
            "_________________________________________________________________\n",
            " Layer (type)                Output Shape              Param #   \n",
            "=================================================================\n",
            " lstm_2 (LSTM)               (None, 12, 64)            19712     \n",
            "                                                                 \n",
            " dense_2 (Dense)             (None, 12, 1)             65        \n",
            "                                                                 \n",
            "=================================================================\n",
            "Total params: 19,777\n",
            "Trainable params: 19,777\n",
            "Non-trainable params: 0\n",
            "_________________________________________________________________\n"
          ]
        },
        {
          "output_type": "stream",
          "name": "stderr",
          "text": [
            "/usr/local/lib/python3.7/dist-packages/keras/optimizer_v2/adam.py:105: UserWarning: The `lr` argument is deprecated, use `learning_rate` instead.\n",
            "  super(Adam, self).__init__(name, **kwargs)\n"
          ]
        }
      ],
      "source": [
        "model = Sequential()\n",
        "\n",
        "model.add(LSTM(64, input_shape=(12, 12), return_sequences=True))       \n",
        "model.add(Dense(1, activation='sigmoid'))\n",
        "\n",
        "opt = Adam(lr=0.01)\n",
        "\n",
        "model.compile(loss='binary_crossentropy', optimizer=opt, metrics=['accuracy'])\n",
        "model.summary()"
      ]
    },
    {
      "cell_type": "code",
      "execution_count": null,
      "metadata": {
        "colab": {
          "base_uri": "https://localhost:8080/"
        },
        "id": "m5DGN4tdDJlH",
        "outputId": "a556e2e9-dd28-41fc-b744-d85c04ffdf59"
      },
      "outputs": [
        {
          "output_type": "stream",
          "name": "stdout",
          "text": [
            "Epoch 1/30\n",
            "47/47 [==============================] - 5s 66ms/step - loss: 0.6037 - accuracy: 0.7046 - val_loss: 0.5448 - val_accuracy: 0.7563\n",
            "Epoch 2/30\n",
            "47/47 [==============================] - 2s 53ms/step - loss: 0.5192 - accuracy: 0.7694 - val_loss: 0.4863 - val_accuracy: 0.7964\n",
            "Epoch 3/30\n",
            "47/47 [==============================] - 3s 54ms/step - loss: 0.4907 - accuracy: 0.7887 - val_loss: 0.4813 - val_accuracy: 0.7997\n",
            "Epoch 4/30\n",
            "47/47 [==============================] - 2s 52ms/step - loss: 0.4874 - accuracy: 0.7904 - val_loss: 0.4725 - val_accuracy: 0.8023\n",
            "Epoch 5/30\n",
            "47/47 [==============================] - 3s 54ms/step - loss: 0.4793 - accuracy: 0.7961 - val_loss: 0.4792 - val_accuracy: 0.7998\n",
            "Epoch 6/30\n",
            "47/47 [==============================] - 3s 54ms/step - loss: 0.4793 - accuracy: 0.7964 - val_loss: 0.4653 - val_accuracy: 0.8059\n",
            "Epoch 7/30\n",
            "47/47 [==============================] - 3s 55ms/step - loss: 0.4752 - accuracy: 0.7988 - val_loss: 0.4635 - val_accuracy: 0.8066\n",
            "Epoch 8/30\n",
            "47/47 [==============================] - 2s 53ms/step - loss: 0.4721 - accuracy: 0.8005 - val_loss: 0.4622 - val_accuracy: 0.8078\n",
            "Epoch 9/30\n",
            "47/47 [==============================] - 2s 53ms/step - loss: 0.4707 - accuracy: 0.8013 - val_loss: 0.4589 - val_accuracy: 0.8087\n",
            "Epoch 10/30\n",
            "47/47 [==============================] - 3s 55ms/step - loss: 0.4697 - accuracy: 0.8020 - val_loss: 0.4580 - val_accuracy: 0.8102\n",
            "Epoch 11/30\n",
            "47/47 [==============================] - 3s 55ms/step - loss: 0.4674 - accuracy: 0.8032 - val_loss: 0.4589 - val_accuracy: 0.8092\n",
            "Epoch 12/30\n",
            "47/47 [==============================] - 3s 54ms/step - loss: 0.4664 - accuracy: 0.8037 - val_loss: 0.4629 - val_accuracy: 0.8076\n",
            "Epoch 13/30\n",
            "47/47 [==============================] - 2s 53ms/step - loss: 0.4676 - accuracy: 0.8031 - val_loss: 0.4579 - val_accuracy: 0.8099\n",
            "Epoch 14/30\n",
            "47/47 [==============================] - 3s 54ms/step - loss: 0.4664 - accuracy: 0.8037 - val_loss: 0.4586 - val_accuracy: 0.8101\n",
            "Epoch 15/30\n",
            "47/47 [==============================] - 2s 53ms/step - loss: 0.4660 - accuracy: 0.8040 - val_loss: 0.4614 - val_accuracy: 0.8091\n",
            "Epoch 16/30\n",
            "47/47 [==============================] - 3s 54ms/step - loss: 0.4673 - accuracy: 0.8043 - val_loss: 0.4554 - val_accuracy: 0.8111\n",
            "Epoch 17/30\n",
            "47/47 [==============================] - 2s 53ms/step - loss: 0.4658 - accuracy: 0.8048 - val_loss: 0.4556 - val_accuracy: 0.8112\n",
            "Epoch 18/30\n",
            "47/47 [==============================] - 2s 53ms/step - loss: 0.4634 - accuracy: 0.8056 - val_loss: 0.4541 - val_accuracy: 0.8113\n",
            "Epoch 19/30\n",
            "47/47 [==============================] - 3s 54ms/step - loss: 0.4630 - accuracy: 0.8058 - val_loss: 0.4541 - val_accuracy: 0.8115\n",
            "Epoch 20/30\n",
            "47/47 [==============================] - 2s 51ms/step - loss: 0.4627 - accuracy: 0.8063 - val_loss: 0.4562 - val_accuracy: 0.8106\n",
            "Epoch 21/30\n",
            "47/47 [==============================] - 2s 53ms/step - loss: 0.4623 - accuracy: 0.8062 - val_loss: 0.4553 - val_accuracy: 0.8109\n",
            "Epoch 22/30\n",
            "47/47 [==============================] - 2s 53ms/step - loss: 0.4619 - accuracy: 0.8064 - val_loss: 0.4527 - val_accuracy: 0.8124\n",
            "Epoch 23/30\n",
            "47/47 [==============================] - 3s 53ms/step - loss: 0.4629 - accuracy: 0.8060 - val_loss: 0.4548 - val_accuracy: 0.8121\n",
            "Epoch 24/30\n",
            "47/47 [==============================] - 3s 55ms/step - loss: 0.4623 - accuracy: 0.8062 - val_loss: 0.4545 - val_accuracy: 0.8110\n",
            "Epoch 25/30\n",
            "47/47 [==============================] - 2s 53ms/step - loss: 0.4616 - accuracy: 0.8067 - val_loss: 0.4552 - val_accuracy: 0.8111\n",
            "Epoch 26/30\n",
            "47/47 [==============================] - 2s 52ms/step - loss: 0.4605 - accuracy: 0.8070 - val_loss: 0.4543 - val_accuracy: 0.8123\n",
            "Epoch 27/30\n",
            "47/47 [==============================] - 2s 53ms/step - loss: 0.4606 - accuracy: 0.8071 - val_loss: 0.4531 - val_accuracy: 0.8120\n",
            "Epoch 28/30\n",
            "47/47 [==============================] - 2s 53ms/step - loss: 0.4604 - accuracy: 0.8073 - val_loss: 0.4533 - val_accuracy: 0.8119\n",
            "Epoch 29/30\n",
            "47/47 [==============================] - 3s 54ms/step - loss: 0.4620 - accuracy: 0.8064 - val_loss: 0.4539 - val_accuracy: 0.8118\n",
            "Epoch 30/30\n",
            "47/47 [==============================] - 3s 54ms/step - loss: 0.4607 - accuracy: 0.8072 - val_loss: 0.4544 - val_accuracy: 0.8121\n"
          ]
        }
      ],
      "source": [
        "callback = EarlyStopping(monitor='loss', patience=3)\n",
        "EPOCHS = 30\n",
        "BATCH_SIZE = 512\n",
        "history = model.fit(X_train, y_train, batch_size=BATCH_SIZE, epochs=EPOCHS, validation_split=0.2, callbacks=[callback], verbose=1)"
      ]
    },
    {
      "cell_type": "code",
      "execution_count": null,
      "metadata": {
        "colab": {
          "base_uri": "https://localhost:8080/",
          "height": 279
        },
        "id": "iQU2lWj98eQ0",
        "outputId": "9deda8b5-12f8-4fc6-a8a7-74a42035be71"
      },
      "outputs": [
        {
          "output_type": "display_data",
          "data": {
            "text/plain": [
              "<Figure size 432x288 with 1 Axes>"
            ],
            "image/png": "[encoded data removed]"
          },
          "metadata": {
            "needs_background": "light"
          }
        }
      ],
      "source": [
        "plt.plot(history.history['accuracy'], label='train')\n",
        "plt.plot(history.history['val_accuracy'], label='test')\n",
        "plt.xlabel('Epoch')\n",
        "plt.ylabel('Accuracy')\n",
        "plt.legend()\n",
        "plt.show()"
      ]
    },
    {
      "cell_type": "code",
      "execution_count": null,
      "metadata": {
        "id": "6zKui5stA-dc"
      },
      "outputs": [],
      "source": [
        "prediction = model.predict(X_test)"
      ]
    },
    {
      "cell_type": "code",
      "execution_count": null,
      "metadata": {
        "colab": {
          "base_uri": "https://localhost:8080/"
        },
        "id": "PkPbjShl55MX",
        "outputId": "7013d5b9-966e-48e9-fce0-b59a3e8715fd"
      },
      "outputs": [
        {
          "output_type": "stream",
          "name": "stdout",
          "text": [
            "Accuracy of the model :  0.8648540048218591\n",
            "F1 score:  0.7279590186033971\n",
            "AUC score:  0.897432812433607\n",
            "Confusion matrix:\n"
          ]
        },
        {
          "output_type": "execute_result",
          "data": {
            "text/plain": [
              "array([[5107,   71],\n",
              "       [ 938, 1350]])"
            ]
          },
          "metadata": {},
          "execution_count": 154
        }
      ],
      "source": [
        "y_pred = (prediction[:, -1] > 0.5)\n",
        "print(\"Accuracy of the model : \", accuracy_score(y_pred, y_test))\n",
        "print('F1 score: ', f1_score(y_pred, y_test))\n",
        "print('AUC score: ', roc_auc_score(y_pred, y_test))\n",
        "print('Confusion matrix:')\n",
        "confusion_matrix(y_test,y_pred)"
      ]
    },
    {
      "cell_type": "code",
      "execution_count": null,
      "metadata": {
        "id": "qK2xvtrxApt8"
      },
      "outputs": [],
      "source": [
        "labels = ['NotVIP', 'VIP']"
      ]
    },
    {
      "cell_type": "code",
      "execution_count": null,
      "metadata": {
        "colab": {
          "base_uri": "https://localhost:8080/"
        },
        "id": "zjoY_NAyE6QP",
        "outputId": "4459e9da-0f8b-4672-fdbc-9aeea4a30df6"
      },
      "outputs": [
        {
          "output_type": "execute_result",
          "data": {
            "text/plain": [
              "Counter({0.0: 5178, 1.0: 2288})"
            ]
          },
          "metadata": {},
          "execution_count": 156
        }
      ],
      "source": [
        "Counter(y_test)"
      ]
    },
    {
      "cell_type": "code",
      "execution_count": null,
      "metadata": {
        "colab": {
          "base_uri": "https://localhost:8080/",
          "height": 295
        },
        "id": "Y83PCR4Dx31B",
        "outputId": "078bc576-ce6f-4178-d7a1-05a2d0603564"
      },
      "outputs": [
        {
          "output_type": "display_data",
          "data": {
            "text/plain": [
              "<Figure size 288x288 with 1 Axes>"
            ],
            "image/png": "[encoded data removed]"
          },
          "metadata": {
            "needs_background": "light"
          }
        }
      ],
      "source": [
        "matric = confusion_matrix(y_pred, y_test)\n",
        "plt.figure(figsize=(4,4))\n",
        "sns.heatmap(matric,square=True,annot=True,cbar=False,fmt='d',xticklabels=labels, yticklabels=labels)\n",
        "plt.ylabel(\"predict value\")\n",
        "plt.xlabel(\"true value\")\n",
        "plt.title(\"confusion matrix\")\n",
        "plt.show()"
      ]
    },
    {
      "cell_type": "code",
      "execution_count": null,
      "metadata": {
        "colab": {
          "base_uri": "https://localhost:8080/"
        },
        "id": "IYNaD_tp6psV",
        "outputId": "afeac98d-e3c1-40f2-8b9d-b3c7741c96e7"
      },
      "outputs": [
        {
          "output_type": "stream",
          "name": "stdout",
          "text": [
            "report:\n",
            "               precision    recall  f1-score   support\n",
            "\n",
            "      NotVIP       0.99      0.84      0.91      6045\n",
            "         VIP       0.59      0.95      0.73      1421\n",
            "\n",
            "    accuracy                           0.86      7466\n",
            "   macro avg       0.79      0.90      0.82      7466\n",
            "weighted avg       0.91      0.86      0.88      7466\n",
            "\n"
          ]
        }
      ],
      "source": [
        "print(\"report:\\n\",classification_report(y_pred, y_test,labels=[0, 1],target_names=labels))"
      ]
    },
    {
      "cell_type": "code",
      "execution_count": null,
      "metadata": {
        "id": "EoIRhjEw3NTN"
      },
      "outputs": [],
      "source": [
        "prediction_all = model.predict(np.array(X).reshape(len(X), 12, 12))"
      ]
    },
    {
      "cell_type": "code",
      "execution_count": null,
      "metadata": {
        "colab": {
          "base_uri": "https://localhost:8080/"
        },
        "id": "yTcxR3X-3NTQ",
        "outputId": "a3a206ac-5a34-4d59-fddb-8a8772e4c9b6"
      },
      "outputs": [
        {
          "output_type": "stream",
          "name": "stdout",
          "text": [
            "Accuracy of the model :  0.4339874420655062\n",
            "F1 score:  0.2179567378922069\n",
            "AUC score:  0.5002303099048644\n",
            "Confusion matrix:\n"
          ]
        },
        {
          "output_type": "execute_result",
          "data": {
            "text/plain": [
              "array([[29805,  4578],\n",
              "       [42928,  6620]])"
            ]
          },
          "metadata": {},
          "execution_count": 160
        }
      ],
      "source": [
        "y_pred_all = (prediction_all[:, -1] > 0.5)\n",
        "print(\"Accuracy of the model : \", accuracy_score(y_pred_all, y))\n",
        "print('F1 score: ', f1_score(y_pred_all, y))\n",
        "print('AUC score: ', roc_auc_score(y_pred_all, y))\n",
        "print('Confusion matrix:')\n",
        "confusion_matrix(y_pred_all, y)"
      ]
    },
    {
      "cell_type": "code",
      "execution_count": null,
      "metadata": {
        "colab": {
          "base_uri": "https://localhost:8080/",
          "height": 295
        },
        "id": "LuUKVuPg3NTR",
        "outputId": "c0b3e27c-78a6-45fe-e9ea-2a741d0c553f"
      },
      "outputs": [
        {
          "output_type": "display_data",
          "data": {
            "text/plain": [
              "<Figure size 288x288 with 1 Axes>"
            ],
            "image/png": "[encoded data removed]"
          },
          "metadata": {
            "needs_background": "light"
          }
        }
      ],
      "source": [
        "matric = confusion_matrix(y_pred_all, y)\n",
        "plt.figure(figsize=(4,4))\n",
        "sns.heatmap(matric,square=True,annot=True,cbar=False,fmt='d',xticklabels=labels, yticklabels=labels)\n",
        "plt.ylabel(\"predict value\")\n",
        "plt.xlabel(\"true value\")\n",
        "plt.title(\"confusion matrix\")\n",
        "plt.show()"
      ]
    },
    {
      "cell_type": "code",
      "execution_count": null,
      "metadata": {
        "colab": {
          "base_uri": "https://localhost:8080/"
        },
        "id": "h2pNzxek3NTR",
        "outputId": "347d711a-b3d7-4a04-ae20-094721e5b914"
      },
      "outputs": [
        {
          "output_type": "stream",
          "name": "stdout",
          "text": [
            "report:\n",
            "               precision    recall  f1-score   support\n",
            "\n",
            "      NotVIP       0.41      0.87      0.56     34383\n",
            "         VIP       0.59      0.13      0.22     49548\n",
            "\n",
            "    accuracy                           0.43     83931\n",
            "   macro avg       0.50      0.50      0.39     83931\n",
            "weighted avg       0.52      0.43      0.36     83931\n",
            "\n"
          ]
        }
      ],
      "source": [
        "print(\"report:\\n\",classification_report(y_pred_all, y,labels=[0, 1],target_names=labels))"
      ]
    },
    {
      "cell_type": "code",
      "execution_count": null,
      "metadata": {
        "colab": {
          "base_uri": "https://localhost:8080/"
        },
        "id": "br2rpSbQFhDY",
        "outputId": "f2369302-a3af-49b7-b111-8564bb945594"
      },
      "outputs": [
        {
          "output_type": "execute_result",
          "data": {
            "text/plain": [
              "(12, 256)"
            ]
          },
          "metadata": {},
          "execution_count": 64
        }
      ],
      "source": [
        "model.layers[0].get_weights()[0].shape"
      ]
    },
    {
      "cell_type": "code",
      "execution_count": null,
      "metadata": {
        "id": "hyty4I989Rtx"
      },
      "outputs": [],
      "source": [
        "def get_layer_output(X, idx):\n",
        "  get_output = K.function([model.layers[0].input], [model.layers[idx].output])\n",
        "  return get_output([X])"
      ]
    },
    {
      "cell_type": "code",
      "execution_count": null,
      "metadata": {
        "id": "hTWIA-o_8Dfx"
      },
      "outputs": [],
      "source": [
        "layer_output_1 = get_layer_output(X_test, 0)\n",
        "layer_output_2 = get_layer_output(X_test, 1)\n",
        "# layer_output_3 = get_layer_output(X_test, 2)\n",
        "# layer_output_5 = get_layer_output(X_test, 4)"
      ]
    },
    {
      "cell_type": "code",
      "execution_count": null,
      "metadata": {
        "colab": {
          "base_uri": "https://localhost:8080/",
          "height": 423
        },
        "id": "lK760e-gXqyu",
        "outputId": "b7bf61eb-ffdc-4e49-b798-2b0af50ca64c"
      },
      "outputs": [
        {
          "output_type": "execute_result",
          "data": {
            "text/plain": [
              "             P\n",
              "2     0.999998\n",
              "3     1.000000\n",
              "4     1.000000\n",
              "5     1.000000\n",
              "6     1.000000\n",
              "...        ...\n",
              "4471  0.999999\n",
              "4472  1.000000\n",
              "4475  1.000000\n",
              "4476  1.000000\n",
              "4477  1.000000\n",
              "\n",
              "[1927 rows x 1 columns]"
            ],
            "text/html": [
              "\n",
              "  <div id=\"df-fc0eaa52-c3ab-4290-86d9-439cbbdec541\">\n",
              "    <div class=\"colab-df-container\">\n",
              "      <div>\n",
              "<style scoped>\n",
              "    .dataframe tbody tr th:only-of-type {\n",
              "        vertical-align: middle;\n",
              "    }\n",
              "\n",
              "    .dataframe tbody tr th {\n",
              "        vertical-align: top;\n",
              "    }\n",
              "\n",
              "    .dataframe thead th {\n",
              "        text-align: right;\n",
              "    }\n",
              "</style>\n",
              "<table border=\"1\" class=\"dataframe\">\n",
              "  <thead>\n",
              "    <tr style=\"text-align: right;\">\n",
              "      <th></th>\n",
              "      <th>P</th>\n",
              "    </tr>\n",
              "  </thead>\n",
              "  <tbody>\n",
              "    <tr>\n",
              "      <th>2</th>\n",
              "      <td>0.999998</td>\n",
              "    </tr>\n",
              "    <tr>\n",
              "      <th>3</th>\n",
              "      <td>1.000000</td>\n",
              "    </tr>\n",
              "    <tr>\n",
              "      <th>4</th>\n",
              "      <td>1.000000</td>\n",
              "    </tr>\n",
              "    <tr>\n",
              "      <th>5</th>\n",
              "      <td>1.000000</td>\n",
              "    </tr>\n",
              "    <tr>\n",
              "      <th>6</th>\n",
              "      <td>1.000000</td>\n",
              "    </tr>\n",
              "    <tr>\n",
              "      <th>...</th>\n",
              "      <td>...</td>\n",
              "    </tr>\n",
              "    <tr>\n",
              "      <th>4471</th>\n",
              "      <td>0.999999</td>\n",
              "    </tr>\n",
              "    <tr>\n",
              "      <th>4472</th>\n",
              "      <td>1.000000</td>\n",
              "    </tr>\n",
              "    <tr>\n",
              "      <th>4475</th>\n",
              "      <td>1.000000</td>\n",
              "    </tr>\n",
              "    <tr>\n",
              "      <th>4476</th>\n",
              "      <td>1.000000</td>\n",
              "    </tr>\n",
              "    <tr>\n",
              "      <th>4477</th>\n",
              "      <td>1.000000</td>\n",
              "    </tr>\n",
              "  </tbody>\n",
              "</table>\n",
              "<p>1927 rows × 1 columns</p>\n",
              "</div>\n",
              "      <button class=\"colab-df-convert\" onclick=\"convertToInteractive('df-fc0eaa52-c3ab-4290-86d9-439cbbdec541')\"\n",
              "              title=\"Convert this dataframe to an interactive table.\"\n",
              "              style=\"display:none;\">\n",
              "        \n",
              "  <svg xmlns=\"http://www.w3.org/2000/svg\" height=\"24px\"viewBox=\"0 0 24 24\"\n",
              "       width=\"24px\">\n",
              "    <path d=\"M0 0h24v24H0V0z\" fill=\"none\"/>\n",
              "    <path d=\"M18.56 5.44l.94 2.06.94-2.06 2.06-.94-2.06-.94-.94-2.06-.94 2.06-2.06.94zm-11 1L8.5 8.5l.94-2.06 2.06-.94-2.06-.94L8.5 2.5l-.94 2.06-2.06.94zm10 10l.94 2.06.94-2.06 2.06-.94-2.06-.94-.94-2.06-.94 2.06-2.06.94z\"/><path d=\"M17.41 7.96l-1.37-1.37c-.4-.4-.92-.59-1.43-.59-.52 0-1.04.2-1.43.59L10.3 9.45l-7.72 7.72c-.78.78-.78 2.05 0 2.83L4 21.41c.39.39.9.59 1.41.59.51 0 1.02-.2 1.41-.59l7.78-7.78 2.81-2.81c.8-.78.8-2.07 0-2.86zM5.41 20L4 18.59l7.72-7.72 1.47 1.35L5.41 20z\"/>\n",
              "  </svg>\n",
              "      </button>\n",
              "      \n",
              "  <style>\n",
              "    .colab-df-container {\n",
              "      display:flex;\n",
              "      flex-wrap:wrap;\n",
              "      gap: 12px;\n",
              "    }\n",
              "\n",
              "    .colab-df-convert {\n",
              "      background-color: #E8F0FE;\n",
              "      border: none;\n",
              "      border-radius: 50%;\n",
              "      cursor: pointer;\n",
              "      display: none;\n",
              "      fill: #1967D2;\n",
              "      height: 32px;\n",
              "      padding: 0 0 0 0;\n",
              "      width: 32px;\n",
              "    }\n",
              "\n",
              "    .colab-df-convert:hover {\n",
              "      background-color: #E2EBFA;\n",
              "      box-shadow: 0px 1px 2px rgba(60, 64, 67, 0.3), 0px 1px 3px 1px rgba(60, 64, 67, 0.15);\n",
              "      fill: #174EA6;\n",
              "    }\n",
              "\n",
              "    [theme=dark] .colab-df-convert {\n",
              "      background-color: #3B4455;\n",
              "      fill: #D2E3FC;\n",
              "    }\n",
              "\n",
              "    [theme=dark] .colab-df-convert:hover {\n",
              "      background-color: #434B5C;\n",
              "      box-shadow: 0px 1px 3px 1px rgba(0, 0, 0, 0.15);\n",
              "      filter: drop-shadow(0px 1px 2px rgba(0, 0, 0, 0.3));\n",
              "      fill: #FFFFFF;\n",
              "    }\n",
              "  </style>\n",
              "\n",
              "      <script>\n",
              "        const buttonEl =\n",
              "          document.querySelector('#df-fc0eaa52-c3ab-4290-86d9-439cbbdec541 button.colab-df-convert');\n",
              "        buttonEl.style.display =\n",
              "          google.colab.kernel.accessAllowed ? 'block' : 'none';\n",
              "\n",
              "        async function convertToInteractive(key) {\n",
              "          const element = document.querySelector('#df-fc0eaa52-c3ab-4290-86d9-439cbbdec541');\n",
              "          const dataTable =\n",
              "            await google.colab.kernel.invokeFunction('convertToInteractive',\n",
              "                                                     [key], {});\n",
              "          if (!dataTable) return;\n",
              "\n",
              "          const docLinkHtml = 'Like what you see? Visit the ' +\n",
              "            '<a target=\"_blank\" href=https://colab.research.google.com/notebooks/data_table.ipynb>data table notebook</a>'\n",
              "            + ' to learn more about interactive tables.';\n",
              "          element.innerHTML = '';\n",
              "          dataTable['output_type'] = 'display_data';\n",
              "          await google.colab.output.renderOutput(dataTable, element);\n",
              "          const docLink = document.createElement('div');\n",
              "          docLink.innerHTML = docLinkHtml;\n",
              "          element.appendChild(docLink);\n",
              "        }\n",
              "      </script>\n",
              "    </div>\n",
              "  </div>\n",
              "  "
            ]
          },
          "metadata": {},
          "execution_count": 67
        }
      ],
      "source": [
        "ot = pd.DataFrame(layer_output_2[0][:, -1], columns=['P'])\n",
        "ot[ot['P']>0.5]"
      ]
    },
    {
      "cell_type": "code",
      "execution_count": null,
      "metadata": {
        "id": "8fRnTCg9ZMhY"
      },
      "outputs": [],
      "source": [
        "def inverse_normalize(data, scaler):\n",
        "  scaled_df = pd.DataFrame(scaler.inverse_transform(data[cols].values.reshape(-1,12)), columns=cols)\n",
        "  return scaled_df"
      ]
    },
    {
      "cell_type": "code",
      "source": [
        "bh_cols = ['add', 'checkout', 'purchase', 'register', 'search', 'traffic', 'viewactivity', 'viewcategory', 'viewmainpage', 'viewproduct']"
      ],
      "metadata": {
        "id": "JOIHhomES3hz"
      },
      "execution_count": null,
      "outputs": []
    },
    {
      "cell_type": "code",
      "execution_count": null,
      "metadata": {
        "id": "XDfvYb_8VDbj"
      },
      "outputs": [],
      "source": [
        "X_test_tp = X_test.transpose(0, 1 ,2)\n",
        "test_data_df = pd.concat([pd.DataFrame(x, columns=cols) for x in X_test_tp], keys=np.arange(X_test_tp.shape[0]))\n",
        "test_data_df.reset_index(inplace=True)\n",
        "test_data_df = test_data_df.drop(['level_0', 'level_1'], axis=1)\n",
        "test_original = inverse_normalize(test_data_df, scaler)\n",
        "test_original[cols] = test_original[cols].astype(int)"
      ]
    },
    {
      "cell_type": "code",
      "execution_count": null,
      "metadata": {
        "id": "ywK5kPeBTG-_"
      },
      "outputs": [],
      "source": [
        "test_original['bh'] = test_original[bh_cols].apply(lambda x: '\\n'.join([y+':'+str(z) for y, z in x.items() if z != 0]), axis=1).to_list()\n",
        "test_original['x_label'] = (test_original['bh']  \n",
        "    + ['\\n△time:'] * len(test_original) + test_original['TimeDiff'].astype(str)\n",
        "    + ['\\nTotalTime:'] * len(test_original) + test_original['TotalTime'].astype(str))"
      ]
    },
    {
      "cell_type": "code",
      "execution_count": null,
      "metadata": {
        "colab": {
          "base_uri": "https://localhost:8080/",
          "height": 35
        },
        "id": "CR_IXHV-Xi-S",
        "outputId": "49edd467-20f8-405b-e363-a5e4126dc5ef"
      },
      "outputs": [
        {
          "output_type": "execute_result",
          "data": {
            "text/plain": [
              "'traffic:1\\n△time:0\\nTotalTime:0'"
            ],
            "application/vnd.google.colaboratory.intrinsic+json": {
              "type": "string"
            }
          },
          "metadata": {},
          "execution_count": 95
        }
      ],
      "source": [
        "test_original['x_label'][0]"
      ]
    },
    {
      "cell_type": "code",
      "execution_count": null,
      "metadata": {
        "colab": {
          "base_uri": "https://localhost:8080/"
        },
        "id": "uQYwXm_gV57J",
        "outputId": "a7c73346-c3e1-4ae6-8492-d44fede2296f"
      },
      "outputs": [
        {
          "output_type": "execute_result",
          "data": {
            "text/plain": [
              "(12, 1)"
            ]
          },
          "metadata": {},
          "execution_count": 96
        }
      ],
      "source": [
        "layer_output_2[0][0].shape"
      ]
    },
    {
      "cell_type": "markdown",
      "metadata": {
        "id": "0RhgZ-_BKxW8"
      },
      "source": [
        "## 結果解釋"
      ]
    },
    {
      "cell_type": "code",
      "execution_count": null,
      "metadata": {
        "id": "OJZEN3YIKuz2"
      },
      "outputs": [],
      "source": [
        "def output_ex(idx):\n",
        "  start_idx = idx * 12\n",
        "  end_idx = start_idx + 12\n",
        "  eg = test_original.iloc[start_idx: end_idx]\n",
        "  eg = eg.loc[~(eg[bh_cols]==0).all(axis=1)]\n",
        "  x_label =  list(eg['x_label'])\n",
        "  output_eg = list(layer_output_2[0][idx].reshape(1,12)[0])[-len(x_label):]\n",
        "  x_axis = range(len(x_label))\n",
        "  base = [0.5] * len(x_axis)\n",
        "\n",
        "  plt.figure(figsize=(20,10))\n",
        "  plt.plot(x_axis, output_eg, color=\"red\", marker='o', markerfacecolor='black', markersize=4)\n",
        "  plt.plot(x_axis, base, color=\"blue\", linestyle='dashed')\n",
        "  plt.xticks(x_axis,x_label)\n",
        "  plt.xlabel('Behavior')\n",
        "  plt.ylabel('P(VIP)')\n",
        "  plt.show()"
      ]
    },
    {
      "cell_type": "code",
      "execution_count": null,
      "metadata": {
        "colab": {
          "base_uri": "https://localhost:8080/",
          "height": 647
        },
        "id": "1cVyhFfPKu81",
        "outputId": "911ee083-c149-4a03-8977-9f7471bcfe8a"
      },
      "outputs": [
        {
          "output_type": "display_data",
          "data": {
            "text/plain": [
              "<Figure size 1440x720 with 1 Axes>"
            ],
            "image/png": "[encoded data removed]"
          },
          "metadata": {
            "needs_background": "light"
          }
        }
      ],
      "source": [
        "output_ex(2)"
      ]
    },
    {
      "cell_type": "code",
      "execution_count": null,
      "metadata": {
        "colab": {
          "base_uri": "https://localhost:8080/",
          "height": 675
        },
        "id": "Y8ypcZE8PbIQ",
        "outputId": "ac770a5c-2005-4f8a-e293-76d2c5d3b407"
      },
      "outputs": [
        {
          "data": {
            "image/png": "[encoded data removed]",
            "text/plain": [
              "<Figure size 1080x720 with 1 Axes>"
            ]
          },
          "metadata": {},
          "output_type": "display_data"
        }
      ],
      "source": [
        "output_ex(200)"
      ]
    },
    {
      "cell_type": "code",
      "execution_count": null,
      "metadata": {
        "id": "cpJY2yu9QNOr"
      },
      "outputs": [],
      "source": [
        ""
      ]
    },
    {
      "cell_type": "markdown",
      "metadata": {
        "id": "wS3Ii4JoUc3N"
      },
      "source": [
        "## Tune LSTM"
      ]
    },
    {
      "cell_type": "code",
      "execution_count": null,
      "metadata": {
        "id": "4QyZyl1XUetP"
      },
      "outputs": [],
      "source": [
        "def tune_LSTM(X_train, y_train, X_test, y_test, layers, neurons, lr, epochs, batch_size):\n",
        "  model = Sequential()\n",
        "  model.add(LSTM(neurons, input_shape=(12, 12), return_sequences=True))\n",
        "\n",
        "  if layers > 1:\n",
        "    for i in range(1, layers):\n",
        "      model.add(LSTM(neurons, return_sequences=True))\n",
        "\n",
        "  model.add(Dense(1, activation='sigmoid'))\n",
        "\n",
        "  decay_rate = lr / epochs\n",
        "  opt = Adam(learning_rate=lr, decay=decay_rate)\n",
        "\n",
        "  # Classification\n",
        "  model.compile(loss='binary_crossentropy', optimizer=opt, metrics=['accuracy'])\n",
        "  callback = EarlyStopping(monitor='loss', patience=3)\n",
        "  history = model.fit(X_train, y_train, batch_size=batch_size, epochs=epochs, validation_split=0.2, callbacks=[callback])\n",
        "\n",
        "  prediction = model.predict(X_test)\n",
        "  y_pred = (prediction[:, -1] > 0.5)\n",
        "  test_acc = accuracy_score(y_pred, y_test)\n",
        "  test_f1 = f1_score(y_pred, y_test)\n",
        "  test_AUC = roc_auc_score(y_pred, y_test)\n",
        "\n",
        "  result = {\n",
        "      'train_acc': history.history['accuracy'][-1],\n",
        "      'val_acc': history.history['val_accuracy'][-1],\n",
        "      'test_acc': test_acc,\n",
        "      'test_f1': test_f1,\n",
        "      'test_AUC': test_AUC\n",
        "  }\n",
        "  return result"
      ]
    },
    {
      "cell_type": "code",
      "source": [
        "EPOCHS = 30\n",
        "BATCH_SIZE = 512\n",
        "LR = 0.01 "
      ],
      "metadata": {
        "id": "SBRzD6stz4Xm"
      },
      "execution_count": null,
      "outputs": []
    },
    {
      "cell_type": "code",
      "source": [
        "layers = [1, 2, 3]\n",
        "neurons = [8, 16, 32, 64]"
      ],
      "metadata": {
        "id": "ezOM_B1EvxUW"
      },
      "execution_count": null,
      "outputs": []
    },
    {
      "cell_type": "markdown",
      "source": [
        "### LSTM Layers"
      ],
      "metadata": {
        "id": "nGmb5j-R0GZW"
      }
    },
    {
      "cell_type": "code",
      "source": [
        "NEURONS = 32"
      ],
      "metadata": {
        "id": "g4gbMSNC0GZW"
      },
      "execution_count": null,
      "outputs": []
    },
    {
      "cell_type": "code",
      "source": [
        "model_list = []\n",
        "\n",
        "for layer in layers:\n",
        "  print(layer)\n",
        "  model = tune_LSTM(X_train, y_train, X_test, y_test, layer, NEURONS, LR, EPOCHS, BATCH_SIZE)\n",
        "  model_list.append(model)"
      ],
      "metadata": {
        "colab": {
          "base_uri": "https://localhost:8080/"
        },
        "outputId": "f054a4c7-4ba0-4d27-8c5b-cf75d83998ba",
        "id": "7nN3MRRF0GZW"
      },
      "execution_count": null,
      "outputs": [
        {
          "output_type": "stream",
          "name": "stdout",
          "text": [
            "1\n",
            "Epoch 1/30\n",
            "28/28 [==============================] - 4s 45ms/step - loss: 0.6749 - accuracy: 0.5706 - val_loss: 0.6674 - val_accuracy: 0.6109\n",
            "Epoch 2/30\n",
            "28/28 [==============================] - 1s 24ms/step - loss: 0.6026 - accuracy: 0.6715 - val_loss: 0.5672 - val_accuracy: 0.6887\n",
            "Epoch 3/30\n",
            "28/28 [==============================] - 1s 26ms/step - loss: 0.5612 - accuracy: 0.6989 - val_loss: 0.5430 - val_accuracy: 0.7119\n",
            "Epoch 4/30\n",
            "28/28 [==============================] - 1s 24ms/step - loss: 0.5500 - accuracy: 0.7090 - val_loss: 0.5253 - val_accuracy: 0.7246\n",
            "Epoch 5/30\n",
            "28/28 [==============================] - 1s 24ms/step - loss: 0.5302 - accuracy: 0.7191 - val_loss: 0.5096 - val_accuracy: 0.7359\n",
            "Epoch 6/30\n",
            "28/28 [==============================] - 1s 24ms/step - loss: 0.5109 - accuracy: 0.7306 - val_loss: 0.4962 - val_accuracy: 0.7364\n",
            "Epoch 7/30\n",
            "28/28 [==============================] - 1s 25ms/step - loss: 0.5060 - accuracy: 0.7308 - val_loss: 0.5041 - val_accuracy: 0.7264\n",
            "Epoch 8/30\n",
            "28/28 [==============================] - 1s 24ms/step - loss: 0.5014 - accuracy: 0.7361 - val_loss: 0.4950 - val_accuracy: 0.7427\n",
            "Epoch 9/30\n",
            "28/28 [==============================] - 1s 24ms/step - loss: 0.4957 - accuracy: 0.7395 - val_loss: 0.4846 - val_accuracy: 0.7453\n",
            "Epoch 10/30\n",
            "28/28 [==============================] - 1s 25ms/step - loss: 0.4892 - accuracy: 0.7428 - val_loss: 0.4834 - val_accuracy: 0.7496\n",
            "Epoch 11/30\n",
            "28/28 [==============================] - 1s 24ms/step - loss: 0.4902 - accuracy: 0.7438 - val_loss: 0.4820 - val_accuracy: 0.7442\n",
            "Epoch 12/30\n",
            "28/28 [==============================] - 1s 25ms/step - loss: 0.4878 - accuracy: 0.7450 - val_loss: 0.4744 - val_accuracy: 0.7516\n",
            "Epoch 13/30\n",
            "28/28 [==============================] - 1s 27ms/step - loss: 0.4911 - accuracy: 0.7431 - val_loss: 0.4761 - val_accuracy: 0.7516\n",
            "Epoch 14/30\n",
            "28/28 [==============================] - 1s 25ms/step - loss: 0.4889 - accuracy: 0.7457 - val_loss: 0.4745 - val_accuracy: 0.7503\n",
            "Epoch 15/30\n",
            "28/28 [==============================] - 1s 24ms/step - loss: 0.4831 - accuracy: 0.7471 - val_loss: 0.4724 - val_accuracy: 0.7546\n",
            "Epoch 16/30\n",
            "28/28 [==============================] - 1s 25ms/step - loss: 0.4837 - accuracy: 0.7476 - val_loss: 0.4709 - val_accuracy: 0.7535\n",
            "Epoch 17/30\n",
            "28/28 [==============================] - 1s 25ms/step - loss: 0.4803 - accuracy: 0.7491 - val_loss: 0.4688 - val_accuracy: 0.7548\n",
            "Epoch 18/30\n",
            "28/28 [==============================] - 1s 25ms/step - loss: 0.4825 - accuracy: 0.7487 - val_loss: 0.4783 - val_accuracy: 0.7496\n",
            "Epoch 19/30\n",
            "28/28 [==============================] - 1s 26ms/step - loss: 0.4855 - accuracy: 0.7466 - val_loss: 0.4688 - val_accuracy: 0.7527\n",
            "Epoch 20/30\n",
            "28/28 [==============================] - 1s 25ms/step - loss: 0.4795 - accuracy: 0.7498 - val_loss: 0.4688 - val_accuracy: 0.7573\n",
            "Epoch 21/30\n",
            "28/28 [==============================] - 1s 25ms/step - loss: 0.4801 - accuracy: 0.7503 - val_loss: 0.4713 - val_accuracy: 0.7551\n",
            "Epoch 22/30\n",
            "28/28 [==============================] - 1s 27ms/step - loss: 0.4774 - accuracy: 0.7510 - val_loss: 0.4718 - val_accuracy: 0.7526\n",
            "Epoch 23/30\n",
            "28/28 [==============================] - 1s 26ms/step - loss: 0.4772 - accuracy: 0.7516 - val_loss: 0.4649 - val_accuracy: 0.7564\n",
            "Epoch 24/30\n",
            "28/28 [==============================] - 1s 25ms/step - loss: 0.4756 - accuracy: 0.7514 - val_loss: 0.4645 - val_accuracy: 0.7569\n",
            "Epoch 25/30\n",
            "28/28 [==============================] - 1s 24ms/step - loss: 0.4748 - accuracy: 0.7522 - val_loss: 0.4688 - val_accuracy: 0.7530\n",
            "Epoch 26/30\n",
            "28/28 [==============================] - 1s 25ms/step - loss: 0.4764 - accuracy: 0.7521 - val_loss: 0.4649 - val_accuracy: 0.7562\n",
            "Epoch 27/30\n",
            "28/28 [==============================] - 1s 25ms/step - loss: 0.4750 - accuracy: 0.7516 - val_loss: 0.4633 - val_accuracy: 0.7573\n",
            "Epoch 28/30\n",
            "28/28 [==============================] - 1s 25ms/step - loss: 0.4734 - accuracy: 0.7535 - val_loss: 0.4623 - val_accuracy: 0.7591\n",
            "Epoch 29/30\n",
            "28/28 [==============================] - 1s 25ms/step - loss: 0.4727 - accuracy: 0.7534 - val_loss: 0.4614 - val_accuracy: 0.7572\n",
            "Epoch 30/30\n",
            "28/28 [==============================] - 1s 24ms/step - loss: 0.4731 - accuracy: 0.7529 - val_loss: 0.4619 - val_accuracy: 0.7573\n",
            "2\n",
            "Epoch 1/30\n",
            "28/28 [==============================] - 6s 86ms/step - loss: 0.6777 - accuracy: 0.5663 - val_loss: 0.6300 - val_accuracy: 0.6333\n",
            "Epoch 2/30\n",
            "28/28 [==============================] - 1s 48ms/step - loss: 0.5979 - accuracy: 0.6591 - val_loss: 0.5692 - val_accuracy: 0.6838\n",
            "Epoch 3/30\n",
            "28/28 [==============================] - 1s 47ms/step - loss: 0.5402 - accuracy: 0.7030 - val_loss: 0.5102 - val_accuracy: 0.7347\n",
            "Epoch 4/30\n",
            "28/28 [==============================] - 1s 47ms/step - loss: 0.5125 - accuracy: 0.7309 - val_loss: 0.5193 - val_accuracy: 0.7153\n",
            "Epoch 5/30\n",
            "28/28 [==============================] - 1s 49ms/step - loss: 0.5058 - accuracy: 0.7303 - val_loss: 0.4942 - val_accuracy: 0.7386\n",
            "Epoch 6/30\n",
            "28/28 [==============================] - 1s 50ms/step - loss: 0.4938 - accuracy: 0.7398 - val_loss: 0.4995 - val_accuracy: 0.7324\n",
            "Epoch 7/30\n",
            "28/28 [==============================] - 1s 48ms/step - loss: 0.5001 - accuracy: 0.7351 - val_loss: 0.4914 - val_accuracy: 0.7209\n",
            "Epoch 8/30\n",
            "28/28 [==============================] - 1s 49ms/step - loss: 0.4941 - accuracy: 0.7389 - val_loss: 0.4789 - val_accuracy: 0.7553\n",
            "Epoch 9/30\n",
            "28/28 [==============================] - 1s 48ms/step - loss: 0.4823 - accuracy: 0.7480 - val_loss: 0.4683 - val_accuracy: 0.7574\n",
            "Epoch 10/30\n",
            "28/28 [==============================] - 1s 48ms/step - loss: 0.4773 - accuracy: 0.7509 - val_loss: 0.4676 - val_accuracy: 0.7561\n",
            "Epoch 11/30\n",
            "28/28 [==============================] - 1s 49ms/step - loss: 0.4757 - accuracy: 0.7518 - val_loss: 0.4702 - val_accuracy: 0.7504\n",
            "Epoch 12/30\n",
            "28/28 [==============================] - 1s 49ms/step - loss: 0.4750 - accuracy: 0.7517 - val_loss: 0.4668 - val_accuracy: 0.7575\n",
            "Epoch 13/30\n",
            "28/28 [==============================] - 1s 47ms/step - loss: 0.4733 - accuracy: 0.7531 - val_loss: 0.4614 - val_accuracy: 0.7595\n",
            "Epoch 14/30\n",
            "28/28 [==============================] - 1s 48ms/step - loss: 0.4725 - accuracy: 0.7536 - val_loss: 0.4605 - val_accuracy: 0.7603\n",
            "Epoch 15/30\n",
            "28/28 [==============================] - 1s 48ms/step - loss: 0.4712 - accuracy: 0.7538 - val_loss: 0.4595 - val_accuracy: 0.7594\n",
            "Epoch 16/30\n",
            "28/28 [==============================] - 1s 48ms/step - loss: 0.4716 - accuracy: 0.7535 - val_loss: 0.4725 - val_accuracy: 0.7500\n",
            "Epoch 17/30\n",
            "28/28 [==============================] - 1s 48ms/step - loss: 0.4698 - accuracy: 0.7539 - val_loss: 0.4600 - val_accuracy: 0.7572\n",
            "Epoch 18/30\n",
            "28/28 [==============================] - 1s 47ms/step - loss: 0.4683 - accuracy: 0.7561 - val_loss: 0.4571 - val_accuracy: 0.7623\n",
            "Epoch 19/30\n",
            "28/28 [==============================] - 1s 49ms/step - loss: 0.4669 - accuracy: 0.7566 - val_loss: 0.4548 - val_accuracy: 0.7618\n",
            "Epoch 20/30\n",
            "28/28 [==============================] - 1s 49ms/step - loss: 0.4679 - accuracy: 0.7559 - val_loss: 0.4621 - val_accuracy: 0.7572\n",
            "Epoch 21/30\n",
            "28/28 [==============================] - 1s 50ms/step - loss: 0.4692 - accuracy: 0.7546 - val_loss: 0.4585 - val_accuracy: 0.7588\n",
            "Epoch 22/30\n",
            "28/28 [==============================] - 1s 48ms/step - loss: 0.4699 - accuracy: 0.7545 - val_loss: 0.4594 - val_accuracy: 0.7580\n",
            "3\n",
            "Epoch 1/30\n",
            "28/28 [==============================] - 9s 124ms/step - loss: 0.6683 - accuracy: 0.5734 - val_loss: 0.5907 - val_accuracy: 0.6815\n",
            "Epoch 2/30\n",
            "28/28 [==============================] - 2s 74ms/step - loss: 0.6162 - accuracy: 0.6164 - val_loss: 0.5895 - val_accuracy: 0.6523\n",
            "Epoch 3/30\n",
            "28/28 [==============================] - 2s 75ms/step - loss: 0.5753 - accuracy: 0.6640 - val_loss: 0.5635 - val_accuracy: 0.6665\n",
            "Epoch 4/30\n",
            "28/28 [==============================] - 2s 78ms/step - loss: 0.5410 - accuracy: 0.6984 - val_loss: 0.5204 - val_accuracy: 0.6868\n",
            "Epoch 5/30\n",
            "28/28 [==============================] - 2s 77ms/step - loss: 0.5166 - accuracy: 0.7176 - val_loss: 0.5189 - val_accuracy: 0.7063\n",
            "Epoch 6/30\n",
            "28/28 [==============================] - 2s 79ms/step - loss: 0.5097 - accuracy: 0.7201 - val_loss: 0.4969 - val_accuracy: 0.7279\n",
            "Epoch 7/30\n",
            "28/28 [==============================] - 2s 76ms/step - loss: 0.4930 - accuracy: 0.7357 - val_loss: 0.4782 - val_accuracy: 0.7418\n",
            "Epoch 8/30\n",
            "28/28 [==============================] - 2s 74ms/step - loss: 0.4813 - accuracy: 0.7474 - val_loss: 0.4743 - val_accuracy: 0.7536\n",
            "Epoch 9/30\n",
            "28/28 [==============================] - 2s 77ms/step - loss: 0.4832 - accuracy: 0.7396 - val_loss: 0.4658 - val_accuracy: 0.7565\n",
            "Epoch 10/30\n",
            "28/28 [==============================] - 2s 75ms/step - loss: 0.4771 - accuracy: 0.7496 - val_loss: 0.4651 - val_accuracy: 0.7560\n",
            "Epoch 11/30\n",
            "28/28 [==============================] - 2s 78ms/step - loss: 0.4727 - accuracy: 0.7518 - val_loss: 0.4619 - val_accuracy: 0.7564\n",
            "Epoch 12/30\n",
            "28/28 [==============================] - 2s 77ms/step - loss: 0.4723 - accuracy: 0.7525 - val_loss: 0.4605 - val_accuracy: 0.7571\n",
            "Epoch 13/30\n",
            "28/28 [==============================] - 2s 77ms/step - loss: 0.4706 - accuracy: 0.7542 - val_loss: 0.4590 - val_accuracy: 0.7589\n",
            "Epoch 14/30\n",
            "28/28 [==============================] - 2s 77ms/step - loss: 0.4689 - accuracy: 0.7548 - val_loss: 0.4561 - val_accuracy: 0.7597\n",
            "Epoch 15/30\n",
            "28/28 [==============================] - 2s 79ms/step - loss: 0.4698 - accuracy: 0.7549 - val_loss: 0.4606 - val_accuracy: 0.7559\n",
            "Epoch 16/30\n",
            "28/28 [==============================] - 2s 77ms/step - loss: 0.4690 - accuracy: 0.7546 - val_loss: 0.4579 - val_accuracy: 0.7603\n",
            "Epoch 17/30\n",
            "28/28 [==============================] - 2s 76ms/step - loss: 0.4669 - accuracy: 0.7558 - val_loss: 0.4569 - val_accuracy: 0.7596\n",
            "Epoch 18/30\n",
            "28/28 [==============================] - 2s 75ms/step - loss: 0.4680 - accuracy: 0.7547 - val_loss: 0.4602 - val_accuracy: 0.7595\n",
            "Epoch 19/30\n",
            "28/28 [==============================] - 2s 77ms/step - loss: 0.4668 - accuracy: 0.7558 - val_loss: 0.4547 - val_accuracy: 0.7614\n",
            "Epoch 20/30\n",
            "28/28 [==============================] - 2s 77ms/step - loss: 0.4656 - accuracy: 0.7562 - val_loss: 0.4574 - val_accuracy: 0.7593\n",
            "Epoch 21/30\n",
            "28/28 [==============================] - 2s 76ms/step - loss: 0.4675 - accuracy: 0.7543 - val_loss: 0.4598 - val_accuracy: 0.7576\n",
            "Epoch 22/30\n",
            "28/28 [==============================] - 2s 76ms/step - loss: 0.4675 - accuracy: 0.7555 - val_loss: 0.4698 - val_accuracy: 0.7505\n",
            "Epoch 23/30\n",
            "28/28 [==============================] - 2s 75ms/step - loss: 0.4691 - accuracy: 0.7530 - val_loss: 0.4558 - val_accuracy: 0.7605\n"
          ]
        }
      ]
    },
    {
      "cell_type": "code",
      "source": [
        "result_df = pd.DataFrame(model_list)"
      ],
      "metadata": {
        "id": "SkjkaSdO9jgJ"
      },
      "execution_count": null,
      "outputs": []
    },
    {
      "cell_type": "code",
      "source": [
        "result_df"
      ],
      "metadata": {
        "colab": {
          "base_uri": "https://localhost:8080/",
          "height": 143
        },
        "outputId": "fa779d58-d776-4e65-f6e5-abe63264b02d",
        "id": "34ERL0D29jgK"
      },
      "execution_count": null,
      "outputs": [
        {
          "output_type": "execute_result",
          "data": {
            "text/plain": [
              "   train_acc   val_acc  test_acc   test_f1  test_AUC\n",
              "0   0.752890  0.757347  0.887054  0.882106  0.892408\n",
              "1   0.754512  0.757998  0.897991  0.889800  0.911509\n",
              "2   0.753012  0.760486  0.891964  0.882752  0.906626"
            ],
            "text/html": [
              "\n",
              "  <div id=\"df-a2c6fd63-d9f0-4d7b-9862-ce9751e939d6\">\n",
              "    <div class=\"colab-df-container\">\n",
              "      <div>\n",
              "<style scoped>\n",
              "    .dataframe tbody tr th:only-of-type {\n",
              "        vertical-align: middle;\n",
              "    }\n",
              "\n",
              "    .dataframe tbody tr th {\n",
              "        vertical-align: top;\n",
              "    }\n",
              "\n",
              "    .dataframe thead th {\n",
              "        text-align: right;\n",
              "    }\n",
              "</style>\n",
              "<table border=\"1\" class=\"dataframe\">\n",
              "  <thead>\n",
              "    <tr style=\"text-align: right;\">\n",
              "      <th></th>\n",
              "      <th>train_acc</th>\n",
              "      <th>val_acc</th>\n",
              "      <th>test_acc</th>\n",
              "      <th>test_f1</th>\n",
              "      <th>test_AUC</th>\n",
              "    </tr>\n",
              "  </thead>\n",
              "  <tbody>\n",
              "    <tr>\n",
              "      <th>0</th>\n",
              "      <td>0.752890</td>\n",
              "      <td>0.757347</td>\n",
              "      <td>0.887054</td>\n",
              "      <td>0.882106</td>\n",
              "      <td>0.892408</td>\n",
              "    </tr>\n",
              "    <tr>\n",
              "      <th>1</th>\n",
              "      <td>0.754512</td>\n",
              "      <td>0.757998</td>\n",
              "      <td>0.897991</td>\n",
              "      <td>0.889800</td>\n",
              "      <td>0.911509</td>\n",
              "    </tr>\n",
              "    <tr>\n",
              "      <th>2</th>\n",
              "      <td>0.753012</td>\n",
              "      <td>0.760486</td>\n",
              "      <td>0.891964</td>\n",
              "      <td>0.882752</td>\n",
              "      <td>0.906626</td>\n",
              "    </tr>\n",
              "  </tbody>\n",
              "</table>\n",
              "</div>\n",
              "      <button class=\"colab-df-convert\" onclick=\"convertToInteractive('df-a2c6fd63-d9f0-4d7b-9862-ce9751e939d6')\"\n",
              "              title=\"Convert this dataframe to an interactive table.\"\n",
              "              style=\"display:none;\">\n",
              "        \n",
              "  <svg xmlns=\"http://www.w3.org/2000/svg\" height=\"24px\"viewBox=\"0 0 24 24\"\n",
              "       width=\"24px\">\n",
              "    <path d=\"M0 0h24v24H0V0z\" fill=\"none\"/>\n",
              "    <path d=\"M18.56 5.44l.94 2.06.94-2.06 2.06-.94-2.06-.94-.94-2.06-.94 2.06-2.06.94zm-11 1L8.5 8.5l.94-2.06 2.06-.94-2.06-.94L8.5 2.5l-.94 2.06-2.06.94zm10 10l.94 2.06.94-2.06 2.06-.94-2.06-.94-.94-2.06-.94 2.06-2.06.94z\"/><path d=\"M17.41 7.96l-1.37-1.37c-.4-.4-.92-.59-1.43-.59-.52 0-1.04.2-1.43.59L10.3 9.45l-7.72 7.72c-.78.78-.78 2.05 0 2.83L4 21.41c.39.39.9.59 1.41.59.51 0 1.02-.2 1.41-.59l7.78-7.78 2.81-2.81c.8-.78.8-2.07 0-2.86zM5.41 20L4 18.59l7.72-7.72 1.47 1.35L5.41 20z\"/>\n",
              "  </svg>\n",
              "      </button>\n",
              "      \n",
              "  <style>\n",
              "    .colab-df-container {\n",
              "      display:flex;\n",
              "      flex-wrap:wrap;\n",
              "      gap: 12px;\n",
              "    }\n",
              "\n",
              "    .colab-df-convert {\n",
              "      background-color: #E8F0FE;\n",
              "      border: none;\n",
              "      border-radius: 50%;\n",
              "      cursor: pointer;\n",
              "      display: none;\n",
              "      fill: #1967D2;\n",
              "      height: 32px;\n",
              "      padding: 0 0 0 0;\n",
              "      width: 32px;\n",
              "    }\n",
              "\n",
              "    .colab-df-convert:hover {\n",
              "      background-color: #E2EBFA;\n",
              "      box-shadow: 0px 1px 2px rgba(60, 64, 67, 0.3), 0px 1px 3px 1px rgba(60, 64, 67, 0.15);\n",
              "      fill: #174EA6;\n",
              "    }\n",
              "\n",
              "    [theme=dark] .colab-df-convert {\n",
              "      background-color: #3B4455;\n",
              "      fill: #D2E3FC;\n",
              "    }\n",
              "\n",
              "    [theme=dark] .colab-df-convert:hover {\n",
              "      background-color: #434B5C;\n",
              "      box-shadow: 0px 1px 3px 1px rgba(0, 0, 0, 0.15);\n",
              "      filter: drop-shadow(0px 1px 2px rgba(0, 0, 0, 0.3));\n",
              "      fill: #FFFFFF;\n",
              "    }\n",
              "  </style>\n",
              "\n",
              "      <script>\n",
              "        const buttonEl =\n",
              "          document.querySelector('#df-a2c6fd63-d9f0-4d7b-9862-ce9751e939d6 button.colab-df-convert');\n",
              "        buttonEl.style.display =\n",
              "          google.colab.kernel.accessAllowed ? 'block' : 'none';\n",
              "\n",
              "        async function convertToInteractive(key) {\n",
              "          const element = document.querySelector('#df-a2c6fd63-d9f0-4d7b-9862-ce9751e939d6');\n",
              "          const dataTable =\n",
              "            await google.colab.kernel.invokeFunction('convertToInteractive',\n",
              "                                                     [key], {});\n",
              "          if (!dataTable) return;\n",
              "\n",
              "          const docLinkHtml = 'Like what you see? Visit the ' +\n",
              "            '<a target=\"_blank\" href=https://colab.research.google.com/notebooks/data_table.ipynb>data table notebook</a>'\n",
              "            + ' to learn more about interactive tables.';\n",
              "          element.innerHTML = '';\n",
              "          dataTable['output_type'] = 'display_data';\n",
              "          await google.colab.output.renderOutput(dataTable, element);\n",
              "          const docLink = document.createElement('div');\n",
              "          docLink.innerHTML = docLinkHtml;\n",
              "          element.appendChild(docLink);\n",
              "        }\n",
              "      </script>\n",
              "    </div>\n",
              "  </div>\n",
              "  "
            ]
          },
          "metadata": {},
          "execution_count": 191
        }
      ]
    },
    {
      "cell_type": "code",
      "source": [
        "plt.figure(figsize=(4,3))\n",
        "plt.plot(range(len(layers)), result_df['train_acc'], color=\"blue\", marker='o', markerfacecolor='black', markersize=4,  label='train acc')\n",
        "plt.plot(range(len(layers)), result_df['val_acc'], color=\"darkblue\", marker='o', markerfacecolor='black', markersize=4, label='val acc')\n",
        "plt.plot(range(len(layers)), result_df['test_acc'], color=\"green\", marker='o', markerfacecolor='black', markersize=4, label='test acc')\n",
        "plt.plot(range(len(layers)), result_df['test_f1'], color=\"red\", marker='o', markerfacecolor='black', markersize=4, label='test f1')\n",
        "plt.plot(range(len(layers)), result_df['test_AUC'], color=\"orange\", marker='o', markerfacecolor='black', markersize=4, label='test auc')\n",
        "plt.xticks(range(len(layers)), layers)\n",
        "plt.title('Numbers of LSTM Layer')\n",
        "plt.xlabel('Layers')\n",
        "plt.ylabel('Score')\n",
        "plt.legend()\n",
        "plt.show()"
      ],
      "metadata": {
        "colab": {
          "base_uri": "https://localhost:8080/",
          "height": 241
        },
        "outputId": "75f90a8b-a5db-4b20-dc5f-20974372ad68",
        "id": "-plKFDKs9jgK"
      },
      "execution_count": null,
      "outputs": [
        {
          "output_type": "display_data",
          "data": {
            "text/plain": [
              "<Figure size 288x216 with 1 Axes>"
            ],
            "image/png": "[encoded data removed]"
          },
          "metadata": {
            "needs_background": "light"
          }
        }
      ]
    },
    {
      "cell_type": "markdown",
      "source": [
        "### Hidden Neurons of LSTM Layers"
      ],
      "metadata": {
        "id": "Azg7G4WA0gui"
      }
    },
    {
      "cell_type": "code",
      "source": [
        "LAYERS = 2"
      ],
      "metadata": {
        "id": "f8_TpKL50gui"
      },
      "execution_count": null,
      "outputs": []
    },
    {
      "cell_type": "code",
      "source": [
        "model_list = []\n",
        "\n",
        "for neuron in neurons:\n",
        "  print(neuron)\n",
        "  model = tune_LSTM(X_train, y_train, X_test, y_test, LAYERS, neuron, LR, EPOCHS, BATCH_SIZE)\n",
        "  model_list.append(model)"
      ],
      "metadata": {
        "colab": {
          "base_uri": "https://localhost:8080/"
        },
        "outputId": "d7d3eeb6-de48-475c-8d82-d59b4e967044",
        "id": "BqW0ENWc0gui"
      },
      "execution_count": null,
      "outputs": [
        {
          "output_type": "stream",
          "name": "stdout",
          "text": [
            "8\n",
            "Epoch 1/30\n",
            "28/28 [==============================] - 10s 106ms/step - loss: 0.6843 - accuracy: 0.5570 - val_loss: 0.6438 - val_accuracy: 0.6510\n",
            "Epoch 2/30\n",
            "28/28 [==============================] - 1s 38ms/step - loss: 0.6120 - accuracy: 0.6441 - val_loss: 0.5644 - val_accuracy: 0.6971\n",
            "Epoch 3/30\n",
            "28/28 [==============================] - 1s 32ms/step - loss: 0.5516 - accuracy: 0.7075 - val_loss: 0.5278 - val_accuracy: 0.7234\n",
            "Epoch 4/30\n",
            "28/28 [==============================] - 1s 33ms/step - loss: 0.5254 - accuracy: 0.7208 - val_loss: 0.5032 - val_accuracy: 0.7302\n",
            "Epoch 5/30\n",
            "28/28 [==============================] - 1s 37ms/step - loss: 0.5159 - accuracy: 0.7262 - val_loss: 0.5437 - val_accuracy: 0.7061\n",
            "Epoch 6/30\n",
            "28/28 [==============================] - 1s 34ms/step - loss: 0.5132 - accuracy: 0.7246 - val_loss: 0.4867 - val_accuracy: 0.7469\n",
            "Epoch 7/30\n",
            "28/28 [==============================] - 1s 36ms/step - loss: 0.5711 - accuracy: 0.6924 - val_loss: 0.5539 - val_accuracy: 0.6872\n",
            "Epoch 8/30\n",
            "28/28 [==============================] - 1s 29ms/step - loss: 0.5411 - accuracy: 0.6854 - val_loss: 0.5076 - val_accuracy: 0.7106\n",
            "Epoch 9/30\n",
            "28/28 [==============================] - 1s 48ms/step - loss: 0.5088 - accuracy: 0.7276 - val_loss: 0.4914 - val_accuracy: 0.7398\n",
            "Epoch 10/30\n",
            "28/28 [==============================] - 1s 25ms/step - loss: 0.4976 - accuracy: 0.7401 - val_loss: 0.4832 - val_accuracy: 0.7490\n",
            "Epoch 11/30\n",
            "28/28 [==============================] - 1s 22ms/step - loss: 0.4913 - accuracy: 0.7443 - val_loss: 0.4814 - val_accuracy: 0.7473\n",
            "Epoch 12/30\n",
            "28/28 [==============================] - 1s 22ms/step - loss: 0.4898 - accuracy: 0.7452 - val_loss: 0.4808 - val_accuracy: 0.7461\n",
            "Epoch 13/30\n",
            "28/28 [==============================] - 1s 21ms/step - loss: 0.4866 - accuracy: 0.7464 - val_loss: 0.4729 - val_accuracy: 0.7541\n",
            "Epoch 14/30\n",
            "28/28 [==============================] - 1s 20ms/step - loss: 0.4843 - accuracy: 0.7470 - val_loss: 0.4700 - val_accuracy: 0.7541\n",
            "Epoch 15/30\n",
            "28/28 [==============================] - 1s 23ms/step - loss: 0.4815 - accuracy: 0.7483 - val_loss: 0.4681 - val_accuracy: 0.7550\n",
            "Epoch 16/30\n",
            "28/28 [==============================] - 1s 20ms/step - loss: 0.4792 - accuracy: 0.7491 - val_loss: 0.4676 - val_accuracy: 0.7549\n",
            "Epoch 17/30\n",
            "28/28 [==============================] - 1s 21ms/step - loss: 0.4782 - accuracy: 0.7500 - val_loss: 0.4687 - val_accuracy: 0.7523\n",
            "Epoch 18/30\n",
            "28/28 [==============================] - 1s 22ms/step - loss: 0.4778 - accuracy: 0.7507 - val_loss: 0.4681 - val_accuracy: 0.7553\n",
            "Epoch 19/30\n",
            "28/28 [==============================] - 1s 22ms/step - loss: 0.4772 - accuracy: 0.7500 - val_loss: 0.4691 - val_accuracy: 0.7530\n",
            "Epoch 20/30\n",
            "28/28 [==============================] - 1s 20ms/step - loss: 0.4754 - accuracy: 0.7516 - val_loss: 0.4653 - val_accuracy: 0.7557\n",
            "Epoch 21/30\n",
            "28/28 [==============================] - 1s 21ms/step - loss: 0.4743 - accuracy: 0.7523 - val_loss: 0.4705 - val_accuracy: 0.7530\n",
            "Epoch 22/30\n",
            "28/28 [==============================] - 1s 20ms/step - loss: 0.4756 - accuracy: 0.7511 - val_loss: 0.4693 - val_accuracy: 0.7528\n",
            "Epoch 23/30\n",
            "28/28 [==============================] - 1s 20ms/step - loss: 0.4740 - accuracy: 0.7527 - val_loss: 0.4725 - val_accuracy: 0.7529\n",
            "Epoch 24/30\n",
            "28/28 [==============================] - 1s 21ms/step - loss: 0.4757 - accuracy: 0.7505 - val_loss: 0.4643 - val_accuracy: 0.7575\n",
            "Epoch 25/30\n",
            "28/28 [==============================] - 1s 20ms/step - loss: 0.4720 - accuracy: 0.7540 - val_loss: 0.4595 - val_accuracy: 0.7596\n",
            "Epoch 26/30\n",
            "28/28 [==============================] - 1s 22ms/step - loss: 0.4708 - accuracy: 0.7541 - val_loss: 0.4627 - val_accuracy: 0.7586\n",
            "Epoch 27/30\n",
            "28/28 [==============================] - 1s 22ms/step - loss: 0.4706 - accuracy: 0.7544 - val_loss: 0.4595 - val_accuracy: 0.7608\n",
            "Epoch 28/30\n",
            "28/28 [==============================] - 1s 20ms/step - loss: 0.4693 - accuracy: 0.7547 - val_loss: 0.4581 - val_accuracy: 0.7602\n",
            "Epoch 29/30\n",
            "28/28 [==============================] - 1s 20ms/step - loss: 0.4716 - accuracy: 0.7534 - val_loss: 0.4705 - val_accuracy: 0.7520\n",
            "Epoch 30/30\n",
            "28/28 [==============================] - 1s 20ms/step - loss: 0.4702 - accuracy: 0.7550 - val_loss: 0.4590 - val_accuracy: 0.7599\n",
            "16\n",
            "Epoch 1/30\n",
            "28/28 [==============================] - 7s 67ms/step - loss: 0.6826 - accuracy: 0.5559 - val_loss: 0.6341 - val_accuracy: 0.6400\n",
            "Epoch 2/30\n",
            "28/28 [==============================] - 1s 33ms/step - loss: 0.6118 - accuracy: 0.6564 - val_loss: 0.5861 - val_accuracy: 0.6595\n",
            "Epoch 3/30\n",
            "28/28 [==============================] - 1s 28ms/step - loss: 0.5616 - accuracy: 0.6758 - val_loss: 0.5291 - val_accuracy: 0.7125\n",
            "Epoch 4/30\n",
            "28/28 [==============================] - 1s 31ms/step - loss: 0.5274 - accuracy: 0.7175 - val_loss: 0.5056 - val_accuracy: 0.7294\n",
            "Epoch 5/30\n",
            "28/28 [==============================] - 1s 29ms/step - loss: 0.5195 - accuracy: 0.7174 - val_loss: 0.4996 - val_accuracy: 0.7375\n",
            "Epoch 6/30\n",
            "28/28 [==============================] - 1s 29ms/step - loss: 0.5061 - accuracy: 0.7294 - val_loss: 0.4937 - val_accuracy: 0.7362\n",
            "Epoch 7/30\n",
            "28/28 [==============================] - 1s 32ms/step - loss: 0.5033 - accuracy: 0.7343 - val_loss: 0.5113 - val_accuracy: 0.7240\n",
            "Epoch 8/30\n",
            "28/28 [==============================] - 1s 30ms/step - loss: 0.5070 - accuracy: 0.7286 - val_loss: 0.4906 - val_accuracy: 0.7418\n",
            "Epoch 9/30\n",
            "28/28 [==============================] - 1s 30ms/step - loss: 0.4920 - accuracy: 0.7409 - val_loss: 0.4806 - val_accuracy: 0.7465\n",
            "Epoch 10/30\n",
            "28/28 [==============================] - 1s 30ms/step - loss: 0.4869 - accuracy: 0.7455 - val_loss: 0.4785 - val_accuracy: 0.7463\n",
            "Epoch 11/30\n",
            "28/28 [==============================] - 1s 30ms/step - loss: 0.4825 - accuracy: 0.7476 - val_loss: 0.4758 - val_accuracy: 0.7490\n",
            "Epoch 12/30\n",
            "28/28 [==============================] - 1s 34ms/step - loss: 0.5125 - accuracy: 0.7250 - val_loss: 0.4781 - val_accuracy: 0.7375\n",
            "Epoch 13/30\n",
            "28/28 [==============================] - 1s 30ms/step - loss: 0.4888 - accuracy: 0.7427 - val_loss: 0.4789 - val_accuracy: 0.7483\n",
            "Epoch 14/30\n",
            "28/28 [==============================] - 1s 31ms/step - loss: 0.4819 - accuracy: 0.7475 - val_loss: 0.4716 - val_accuracy: 0.7514\n",
            "Epoch 15/30\n",
            "28/28 [==============================] - 1s 34ms/step - loss: 0.4771 - accuracy: 0.7500 - val_loss: 0.4668 - val_accuracy: 0.7543\n",
            "Epoch 16/30\n",
            "28/28 [==============================] - 1s 31ms/step - loss: 0.4784 - accuracy: 0.7502 - val_loss: 0.4667 - val_accuracy: 0.7537\n",
            "Epoch 17/30\n",
            "28/28 [==============================] - 1s 31ms/step - loss: 0.4752 - accuracy: 0.7515 - val_loss: 0.4631 - val_accuracy: 0.7583\n",
            "Epoch 18/30\n",
            "28/28 [==============================] - 1s 30ms/step - loss: 0.4727 - accuracy: 0.7521 - val_loss: 0.4625 - val_accuracy: 0.7578\n",
            "Epoch 19/30\n",
            "28/28 [==============================] - 1s 30ms/step - loss: 0.4738 - accuracy: 0.7520 - val_loss: 0.4687 - val_accuracy: 0.7535\n",
            "Epoch 20/30\n",
            "28/28 [==============================] - 1s 29ms/step - loss: 0.4738 - accuracy: 0.7522 - val_loss: 0.4649 - val_accuracy: 0.7544\n",
            "Epoch 21/30\n",
            "28/28 [==============================] - 1s 30ms/step - loss: 0.4755 - accuracy: 0.7507 - val_loss: 0.4613 - val_accuracy: 0.7590\n",
            "32\n",
            "Epoch 1/30\n",
            "28/28 [==============================] - 6s 82ms/step - loss: 0.6715 - accuracy: 0.5676 - val_loss: 0.6158 - val_accuracy: 0.6793\n",
            "Epoch 2/30\n",
            "28/28 [==============================] - 1s 49ms/step - loss: 0.5734 - accuracy: 0.6796 - val_loss: 0.5189 - val_accuracy: 0.7362\n",
            "Epoch 3/30\n",
            "28/28 [==============================] - 1s 51ms/step - loss: 0.5374 - accuracy: 0.7079 - val_loss: 0.5391 - val_accuracy: 0.6934\n",
            "Epoch 4/30\n",
            "28/28 [==============================] - 1s 50ms/step - loss: 0.5196 - accuracy: 0.7144 - val_loss: 0.4921 - val_accuracy: 0.7467\n",
            "Epoch 5/30\n",
            "28/28 [==============================] - 1s 52ms/step - loss: 0.4996 - accuracy: 0.7371 - val_loss: 0.4825 - val_accuracy: 0.7503\n",
            "Epoch 6/30\n",
            "28/28 [==============================] - 1s 48ms/step - loss: 0.4909 - accuracy: 0.7416 - val_loss: 0.4834 - val_accuracy: 0.7427\n",
            "Epoch 7/30\n",
            "28/28 [==============================] - 1s 48ms/step - loss: 0.4880 - accuracy: 0.7433 - val_loss: 0.4816 - val_accuracy: 0.7242\n",
            "Epoch 8/30\n",
            "28/28 [==============================] - 1s 52ms/step - loss: 0.4869 - accuracy: 0.7435 - val_loss: 0.4716 - val_accuracy: 0.7539\n",
            "Epoch 9/30\n",
            "28/28 [==============================] - 1s 48ms/step - loss: 0.4822 - accuracy: 0.7471 - val_loss: 0.4687 - val_accuracy: 0.7545\n",
            "Epoch 10/30\n",
            "28/28 [==============================] - 1s 49ms/step - loss: 0.4777 - accuracy: 0.7502 - val_loss: 0.4633 - val_accuracy: 0.7581\n",
            "Epoch 11/30\n",
            "28/28 [==============================] - 1s 50ms/step - loss: 0.4847 - accuracy: 0.7456 - val_loss: 0.4856 - val_accuracy: 0.7436\n",
            "Epoch 12/30\n",
            "28/28 [==============================] - 1s 50ms/step - loss: 0.4791 - accuracy: 0.7477 - val_loss: 0.4654 - val_accuracy: 0.7539\n",
            "Epoch 13/30\n",
            "28/28 [==============================] - 1s 53ms/step - loss: 0.4717 - accuracy: 0.7532 - val_loss: 0.4625 - val_accuracy: 0.7574\n",
            "Epoch 14/30\n",
            "28/28 [==============================] - 1s 50ms/step - loss: 0.4703 - accuracy: 0.7542 - val_loss: 0.4571 - val_accuracy: 0.7607\n",
            "Epoch 15/30\n",
            "28/28 [==============================] - 1s 51ms/step - loss: 0.4695 - accuracy: 0.7543 - val_loss: 0.4617 - val_accuracy: 0.7570\n",
            "Epoch 16/30\n",
            "28/28 [==============================] - 1s 50ms/step - loss: 0.4702 - accuracy: 0.7547 - val_loss: 0.4557 - val_accuracy: 0.7616\n",
            "Epoch 17/30\n",
            "28/28 [==============================] - 1s 50ms/step - loss: 0.4713 - accuracy: 0.7540 - val_loss: 0.4580 - val_accuracy: 0.7600\n",
            "Epoch 18/30\n",
            "28/28 [==============================] - 1s 49ms/step - loss: 0.4688 - accuracy: 0.7554 - val_loss: 0.4568 - val_accuracy: 0.7586\n",
            "Epoch 19/30\n",
            "28/28 [==============================] - 1s 50ms/step - loss: 0.4648 - accuracy: 0.7576 - val_loss: 0.4594 - val_accuracy: 0.7598\n",
            "Epoch 20/30\n",
            "28/28 [==============================] - 1s 51ms/step - loss: 0.4667 - accuracy: 0.7567 - val_loss: 0.4567 - val_accuracy: 0.7596\n",
            "Epoch 21/30\n",
            "28/28 [==============================] - 1s 53ms/step - loss: 0.4657 - accuracy: 0.7573 - val_loss: 0.4552 - val_accuracy: 0.7619\n",
            "Epoch 22/30\n",
            "28/28 [==============================] - 1s 50ms/step - loss: 0.4650 - accuracy: 0.7577 - val_loss: 0.4564 - val_accuracy: 0.7601\n",
            "64\n",
            "Epoch 1/30\n",
            "28/28 [==============================] - 8s 157ms/step - loss: 0.6690 - accuracy: 0.5682 - val_loss: 0.6580 - val_accuracy: 0.5938\n",
            "Epoch 2/30\n",
            "28/28 [==============================] - 4s 152ms/step - loss: 0.6255 - accuracy: 0.6183 - val_loss: 0.6315 - val_accuracy: 0.6150\n",
            "Epoch 3/30\n",
            "28/28 [==============================] - 3s 122ms/step - loss: 0.5730 - accuracy: 0.6666 - val_loss: 0.5226 - val_accuracy: 0.7012\n",
            "Epoch 4/30\n",
            "28/28 [==============================] - 3s 124ms/step - loss: 0.5758 - accuracy: 0.6741 - val_loss: 0.5553 - val_accuracy: 0.6857\n",
            "Epoch 5/30\n",
            "28/28 [==============================] - 3s 118ms/step - loss: 0.5418 - accuracy: 0.7013 - val_loss: 0.5156 - val_accuracy: 0.7213\n",
            "Epoch 6/30\n",
            "28/28 [==============================] - 3s 122ms/step - loss: 0.5229 - accuracy: 0.7192 - val_loss: 0.5028 - val_accuracy: 0.7325\n",
            "Epoch 7/30\n",
            "28/28 [==============================] - 3s 117ms/step - loss: 0.4988 - accuracy: 0.7375 - val_loss: 0.4806 - val_accuracy: 0.7457\n",
            "Epoch 8/30\n",
            "28/28 [==============================] - 3s 121ms/step - loss: 0.4879 - accuracy: 0.7447 - val_loss: 0.4751 - val_accuracy: 0.7511\n",
            "Epoch 9/30\n",
            "28/28 [==============================] - 3s 121ms/step - loss: 0.4818 - accuracy: 0.7474 - val_loss: 0.4704 - val_accuracy: 0.7535\n",
            "Epoch 10/30\n",
            "28/28 [==============================] - 3s 120ms/step - loss: 0.4832 - accuracy: 0.7469 - val_loss: 0.4702 - val_accuracy: 0.7529\n",
            "Epoch 11/30\n",
            "28/28 [==============================] - 3s 119ms/step - loss: 0.4805 - accuracy: 0.7482 - val_loss: 0.4666 - val_accuracy: 0.7535\n",
            "Epoch 12/30\n",
            "28/28 [==============================] - 3s 121ms/step - loss: 0.4772 - accuracy: 0.7497 - val_loss: 0.4695 - val_accuracy: 0.7509\n",
            "Epoch 13/30\n",
            "28/28 [==============================] - 3s 121ms/step - loss: 0.4775 - accuracy: 0.7500 - val_loss: 0.4690 - val_accuracy: 0.7557\n",
            "Epoch 14/30\n",
            "28/28 [==============================] - 3s 119ms/step - loss: 0.4749 - accuracy: 0.7517 - val_loss: 0.4615 - val_accuracy: 0.7572\n",
            "Epoch 15/30\n",
            "28/28 [==============================] - 3s 124ms/step - loss: 0.4726 - accuracy: 0.7537 - val_loss: 0.4647 - val_accuracy: 0.7552\n",
            "Epoch 16/30\n",
            "28/28 [==============================] - 3s 117ms/step - loss: 0.4719 - accuracy: 0.7531 - val_loss: 0.4613 - val_accuracy: 0.7582\n",
            "Epoch 17/30\n",
            "28/28 [==============================] - 3s 116ms/step - loss: 0.4715 - accuracy: 0.7541 - val_loss: 0.4625 - val_accuracy: 0.7570\n",
            "Epoch 18/30\n",
            "28/28 [==============================] - 3s 121ms/step - loss: 0.4688 - accuracy: 0.7551 - val_loss: 0.4580 - val_accuracy: 0.7604\n",
            "Epoch 19/30\n",
            "28/28 [==============================] - 3s 118ms/step - loss: 0.4691 - accuracy: 0.7552 - val_loss: 0.4550 - val_accuracy: 0.7617\n",
            "Epoch 20/30\n",
            "28/28 [==============================] - 3s 117ms/step - loss: 0.4685 - accuracy: 0.7555 - val_loss: 0.4558 - val_accuracy: 0.7617\n",
            "Epoch 21/30\n",
            "28/28 [==============================] - 3s 119ms/step - loss: 0.4693 - accuracy: 0.7551 - val_loss: 0.4564 - val_accuracy: 0.7615\n",
            "Epoch 22/30\n",
            "28/28 [==============================] - 3s 118ms/step - loss: 0.4669 - accuracy: 0.7563 - val_loss: 0.4561 - val_accuracy: 0.7610\n",
            "Epoch 23/30\n",
            "28/28 [==============================] - 3s 119ms/step - loss: 0.4672 - accuracy: 0.7564 - val_loss: 0.4623 - val_accuracy: 0.7560\n",
            "Epoch 24/30\n",
            "28/28 [==============================] - 4s 126ms/step - loss: 0.4668 - accuracy: 0.7561 - val_loss: 0.4553 - val_accuracy: 0.7616\n",
            "Epoch 25/30\n",
            "28/28 [==============================] - 3s 120ms/step - loss: 0.4679 - accuracy: 0.7558 - val_loss: 0.4586 - val_accuracy: 0.7587\n",
            "Epoch 26/30\n",
            "28/28 [==============================] - 3s 119ms/step - loss: 0.4669 - accuracy: 0.7564 - val_loss: 0.4553 - val_accuracy: 0.7605\n",
            "Epoch 27/30\n",
            "28/28 [==============================] - 3s 120ms/step - loss: 0.4680 - accuracy: 0.7563 - val_loss: 0.4548 - val_accuracy: 0.7623\n"
          ]
        }
      ]
    },
    {
      "cell_type": "code",
      "source": [
        "result_df = pd.DataFrame(model_list)"
      ],
      "metadata": {
        "id": "0xpgDwQt91cg"
      },
      "execution_count": null,
      "outputs": []
    },
    {
      "cell_type": "code",
      "source": [
        "result_df"
      ],
      "metadata": {
        "colab": {
          "base_uri": "https://localhost:8080/",
          "height": 175
        },
        "outputId": "fc797ddb-1bec-4218-de85-dff0d3a0e1dc",
        "id": "tASLg7QZ91ch"
      },
      "execution_count": null,
      "outputs": [
        {
          "output_type": "execute_result",
          "data": {
            "text/plain": [
              "   train_acc   val_acc  test_acc   test_f1  test_AUC\n",
              "0   0.755012  0.759882  0.893973  0.885404  0.907509\n",
              "1   0.750692  0.758975  0.893750  0.887470  0.902129\n",
              "2   0.757698  0.760138  0.890625  0.881700  0.904266\n",
              "3   0.756251  0.762323  0.895536  0.889518  0.903630"
            ],
            "text/html": [
              "\n",
              "  <div id=\"df-cfdc8dc9-a004-4ca8-91eb-32678d1ecac8\">\n",
              "    <div class=\"colab-df-container\">\n",
              "      <div>\n",
              "<style scoped>\n",
              "    .dataframe tbody tr th:only-of-type {\n",
              "        vertical-align: middle;\n",
              "    }\n",
              "\n",
              "    .dataframe tbody tr th {\n",
              "        vertical-align: top;\n",
              "    }\n",
              "\n",
              "    .dataframe thead th {\n",
              "        text-align: right;\n",
              "    }\n",
              "</style>\n",
              "<table border=\"1\" class=\"dataframe\">\n",
              "  <thead>\n",
              "    <tr style=\"text-align: right;\">\n",
              "      <th></th>\n",
              "      <th>train_acc</th>\n",
              "      <th>val_acc</th>\n",
              "      <th>test_acc</th>\n",
              "      <th>test_f1</th>\n",
              "      <th>test_AUC</th>\n",
              "    </tr>\n",
              "  </thead>\n",
              "  <tbody>\n",
              "    <tr>\n",
              "      <th>0</th>\n",
              "      <td>0.755012</td>\n",
              "      <td>0.759882</td>\n",
              "      <td>0.893973</td>\n",
              "      <td>0.885404</td>\n",
              "      <td>0.907509</td>\n",
              "    </tr>\n",
              "    <tr>\n",
              "      <th>1</th>\n",
              "      <td>0.750692</td>\n",
              "      <td>0.758975</td>\n",
              "      <td>0.893750</td>\n",
              "      <td>0.887470</td>\n",
              "      <td>0.902129</td>\n",
              "    </tr>\n",
              "    <tr>\n",
              "      <th>2</th>\n",
              "      <td>0.757698</td>\n",
              "      <td>0.760138</td>\n",
              "      <td>0.890625</td>\n",
              "      <td>0.881700</td>\n",
              "      <td>0.904266</td>\n",
              "    </tr>\n",
              "    <tr>\n",
              "      <th>3</th>\n",
              "      <td>0.756251</td>\n",
              "      <td>0.762323</td>\n",
              "      <td>0.895536</td>\n",
              "      <td>0.889518</td>\n",
              "      <td>0.903630</td>\n",
              "    </tr>\n",
              "  </tbody>\n",
              "</table>\n",
              "</div>\n",
              "      <button class=\"colab-df-convert\" onclick=\"convertToInteractive('df-cfdc8dc9-a004-4ca8-91eb-32678d1ecac8')\"\n",
              "              title=\"Convert this dataframe to an interactive table.\"\n",
              "              style=\"display:none;\">\n",
              "        \n",
              "  <svg xmlns=\"http://www.w3.org/2000/svg\" height=\"24px\"viewBox=\"0 0 24 24\"\n",
              "       width=\"24px\">\n",
              "    <path d=\"M0 0h24v24H0V0z\" fill=\"none\"/>\n",
              "    <path d=\"M18.56 5.44l.94 2.06.94-2.06 2.06-.94-2.06-.94-.94-2.06-.94 2.06-2.06.94zm-11 1L8.5 8.5l.94-2.06 2.06-.94-2.06-.94L8.5 2.5l-.94 2.06-2.06.94zm10 10l.94 2.06.94-2.06 2.06-.94-2.06-.94-.94-2.06-.94 2.06-2.06.94z\"/><path d=\"M17.41 7.96l-1.37-1.37c-.4-.4-.92-.59-1.43-.59-.52 0-1.04.2-1.43.59L10.3 9.45l-7.72 7.72c-.78.78-.78 2.05 0 2.83L4 21.41c.39.39.9.59 1.41.59.51 0 1.02-.2 1.41-.59l7.78-7.78 2.81-2.81c.8-.78.8-2.07 0-2.86zM5.41 20L4 18.59l7.72-7.72 1.47 1.35L5.41 20z\"/>\n",
              "  </svg>\n",
              "      </button>\n",
              "      \n",
              "  <style>\n",
              "    .colab-df-container {\n",
              "      display:flex;\n",
              "      flex-wrap:wrap;\n",
              "      gap: 12px;\n",
              "    }\n",
              "\n",
              "    .colab-df-convert {\n",
              "      background-color: #E8F0FE;\n",
              "      border: none;\n",
              "      border-radius: 50%;\n",
              "      cursor: pointer;\n",
              "      display: none;\n",
              "      fill: #1967D2;\n",
              "      height: 32px;\n",
              "      padding: 0 0 0 0;\n",
              "      width: 32px;\n",
              "    }\n",
              "\n",
              "    .colab-df-convert:hover {\n",
              "      background-color: #E2EBFA;\n",
              "      box-shadow: 0px 1px 2px rgba(60, 64, 67, 0.3), 0px 1px 3px 1px rgba(60, 64, 67, 0.15);\n",
              "      fill: #174EA6;\n",
              "    }\n",
              "\n",
              "    [theme=dark] .colab-df-convert {\n",
              "      background-color: #3B4455;\n",
              "      fill: #D2E3FC;\n",
              "    }\n",
              "\n",
              "    [theme=dark] .colab-df-convert:hover {\n",
              "      background-color: #434B5C;\n",
              "      box-shadow: 0px 1px 3px 1px rgba(0, 0, 0, 0.15);\n",
              "      filter: drop-shadow(0px 1px 2px rgba(0, 0, 0, 0.3));\n",
              "      fill: #FFFFFF;\n",
              "    }\n",
              "  </style>\n",
              "\n",
              "      <script>\n",
              "        const buttonEl =\n",
              "          document.querySelector('#df-cfdc8dc9-a004-4ca8-91eb-32678d1ecac8 button.colab-df-convert');\n",
              "        buttonEl.style.display =\n",
              "          google.colab.kernel.accessAllowed ? 'block' : 'none';\n",
              "\n",
              "        async function convertToInteractive(key) {\n",
              "          const element = document.querySelector('#df-cfdc8dc9-a004-4ca8-91eb-32678d1ecac8');\n",
              "          const dataTable =\n",
              "            await google.colab.kernel.invokeFunction('convertToInteractive',\n",
              "                                                     [key], {});\n",
              "          if (!dataTable) return;\n",
              "\n",
              "          const docLinkHtml = 'Like what you see? Visit the ' +\n",
              "            '<a target=\"_blank\" href=https://colab.research.google.com/notebooks/data_table.ipynb>data table notebook</a>'\n",
              "            + ' to learn more about interactive tables.';\n",
              "          element.innerHTML = '';\n",
              "          dataTable['output_type'] = 'display_data';\n",
              "          await google.colab.output.renderOutput(dataTable, element);\n",
              "          const docLink = document.createElement('div');\n",
              "          docLink.innerHTML = docLinkHtml;\n",
              "          element.appendChild(docLink);\n",
              "        }\n",
              "      </script>\n",
              "    </div>\n",
              "  </div>\n",
              "  "
            ]
          },
          "metadata": {},
          "execution_count": 196
        }
      ]
    },
    {
      "cell_type": "code",
      "source": [
        "plt.figure(figsize=(4,3))\n",
        "plt.plot(range(len(neurons)), result_df['train_acc'], color=\"blue\", marker='o', markerfacecolor='black', markersize=4,  label='train acc')\n",
        "plt.plot(range(len(neurons)), result_df['val_acc'], color=\"darkblue\", marker='o', markerfacecolor='black', markersize=4, label='val acc')\n",
        "plt.plot(range(len(neurons)), result_df['test_acc'], color=\"green\", marker='o', markerfacecolor='black', markersize=4, label='test acc')\n",
        "plt.plot(range(len(neurons)), result_df['test_f1'], color=\"red\", marker='o', markerfacecolor='black', markersize=4, label='test f1')\n",
        "plt.plot(range(len(neurons)), result_df['test_AUC'], color=\"orange\", marker='o', markerfacecolor='black', markersize=4, label='test auc')\n",
        "plt.xticks(range(len(neurons)), neurons)\n",
        "plt.title('Hidden Neurons of LSTM Layer')\n",
        "plt.xlabel('neurons')\n",
        "plt.ylabel('Scores')\n",
        "plt.legend()\n",
        "plt.show()"
      ],
      "metadata": {
        "colab": {
          "base_uri": "https://localhost:8080/",
          "height": 241
        },
        "outputId": "98e2c799-682e-406f-bbbb-497131f5ec8f",
        "id": "3g0vN09o91ch"
      },
      "execution_count": null,
      "outputs": [
        {
          "output_type": "display_data",
          "data": {
            "text/plain": [
              "<Figure size 288x216 with 1 Axes>"
            ],
            "image/png": "[encoded data removed]"
          },
          "metadata": {
            "needs_background": "light"
          }
        }
      ]
    },
    {
      "cell_type": "markdown",
      "source": [
        "### 決定 learning rate"
      ],
      "metadata": {
        "id": "zc1fmk92qrgQ"
      }
    },
    {
      "cell_type": "code",
      "source": [
        "LAYERS = 2\n",
        "NEURONS = 32\n",
        "\n",
        "EPOCHS = 30\n",
        "BATCH_SIZE = 512\n",
        "LRs = [0.1, 0.01, 0.001]"
      ],
      "metadata": {
        "id": "sLORmcecpFDy"
      },
      "execution_count": null,
      "outputs": []
    },
    {
      "cell_type": "code",
      "source": [
        "model_list = []\n",
        "\n",
        "for LR in LRs:\n",
        "  print(LR)\n",
        "  model = tune_LSTM(X_train, y_train, X_test, y_test, LAYERS, NEURONS, LR, EPOCHS, BATCH_SIZE)\n",
        "  model_list.append(model)"
      ],
      "metadata": {
        "colab": {
          "base_uri": "https://localhost:8080/"
        },
        "id": "8UwFY02hrN4z",
        "outputId": "35459a9b-40c4-4616-aafa-6709aa2d390b"
      },
      "execution_count": null,
      "outputs": [
        {
          "output_type": "stream",
          "name": "stdout",
          "text": [
            "0.1\n",
            "Epoch 1/30\n",
            "28/28 [==============================] - 9s 101ms/step - loss: 0.7042 - accuracy: 0.5343 - val_loss: 0.6982 - val_accuracy: 0.4997\n",
            "Epoch 2/30\n",
            "28/28 [==============================] - 1s 49ms/step - loss: 0.6541 - accuracy: 0.5757 - val_loss: 0.6610 - val_accuracy: 0.6143\n",
            "Epoch 3/30\n",
            "28/28 [==============================] - 1s 47ms/step - loss: 0.6519 - accuracy: 0.5820 - val_loss: 0.6046 - val_accuracy: 0.6471\n",
            "Epoch 4/30\n",
            "28/28 [==============================] - 1s 48ms/step - loss: 0.5672 - accuracy: 0.6936 - val_loss: 0.5694 - val_accuracy: 0.6935\n",
            "Epoch 5/30\n",
            "28/28 [==============================] - 1s 48ms/step - loss: 0.5861 - accuracy: 0.6662 - val_loss: 0.6114 - val_accuracy: 0.6442\n",
            "Epoch 6/30\n",
            "28/28 [==============================] - 1s 48ms/step - loss: 0.5833 - accuracy: 0.6629 - val_loss: 0.5196 - val_accuracy: 0.7170\n",
            "Epoch 7/30\n",
            "28/28 [==============================] - 1s 51ms/step - loss: 0.5491 - accuracy: 0.6999 - val_loss: 0.5319 - val_accuracy: 0.7063\n",
            "Epoch 8/30\n",
            "28/28 [==============================] - 1s 49ms/step - loss: 0.5220 - accuracy: 0.7205 - val_loss: 0.5063 - val_accuracy: 0.7215\n",
            "Epoch 9/30\n",
            "28/28 [==============================] - 1s 51ms/step - loss: 0.4998 - accuracy: 0.7325 - val_loss: 0.4921 - val_accuracy: 0.7364\n",
            "Epoch 10/30\n",
            "28/28 [==============================] - 1s 50ms/step - loss: 0.4929 - accuracy: 0.7387 - val_loss: 0.4904 - val_accuracy: 0.7330\n",
            "Epoch 11/30\n",
            "28/28 [==============================] - 1s 48ms/step - loss: 0.5261 - accuracy: 0.7128 - val_loss: 0.5433 - val_accuracy: 0.6921\n",
            "Epoch 12/30\n",
            "28/28 [==============================] - 1s 49ms/step - loss: 0.5201 - accuracy: 0.7138 - val_loss: 0.4905 - val_accuracy: 0.7344\n",
            "Epoch 13/30\n",
            "28/28 [==============================] - 1s 48ms/step - loss: 0.4905 - accuracy: 0.7395 - val_loss: 0.4786 - val_accuracy: 0.7451\n",
            "Epoch 14/30\n",
            "28/28 [==============================] - 1s 48ms/step - loss: 0.4831 - accuracy: 0.7458 - val_loss: 0.4695 - val_accuracy: 0.7536\n",
            "Epoch 15/30\n",
            "28/28 [==============================] - 1s 50ms/step - loss: 0.4913 - accuracy: 0.7399 - val_loss: 0.4782 - val_accuracy: 0.7447\n",
            "Epoch 16/30\n",
            "28/28 [==============================] - 1s 49ms/step - loss: 0.4848 - accuracy: 0.7420 - val_loss: 0.4849 - val_accuracy: 0.7437\n",
            "Epoch 17/30\n",
            "28/28 [==============================] - 1s 49ms/step - loss: 0.4833 - accuracy: 0.7454 - val_loss: 0.4762 - val_accuracy: 0.7417\n",
            "0.01\n",
            "Epoch 1/30\n",
            "28/28 [==============================] - 6s 84ms/step - loss: 0.6674 - accuracy: 0.5807 - val_loss: 0.6371 - val_accuracy: 0.6199\n",
            "Epoch 2/30\n",
            "28/28 [==============================] - 1s 48ms/step - loss: 0.6143 - accuracy: 0.6506 - val_loss: 0.5370 - val_accuracy: 0.7069\n",
            "Epoch 3/30\n",
            "28/28 [==============================] - 1s 47ms/step - loss: 0.5990 - accuracy: 0.6515 - val_loss: 0.5807 - val_accuracy: 0.6372\n",
            "Epoch 4/30\n",
            "28/28 [==============================] - 1s 48ms/step - loss: 0.5720 - accuracy: 0.6610 - val_loss: 0.5562 - val_accuracy: 0.6769\n",
            "Epoch 5/30\n",
            "28/28 [==============================] - 1s 49ms/step - loss: 0.5483 - accuracy: 0.6893 - val_loss: 0.5217 - val_accuracy: 0.7128\n",
            "Epoch 6/30\n",
            "28/28 [==============================] - 1s 47ms/step - loss: 0.5298 - accuracy: 0.7009 - val_loss: 0.5139 - val_accuracy: 0.7208\n",
            "Epoch 7/30\n",
            "28/28 [==============================] - 1s 49ms/step - loss: 0.5069 - accuracy: 0.7269 - val_loss: 0.4882 - val_accuracy: 0.7355\n",
            "Epoch 8/30\n",
            "28/28 [==============================] - 1s 48ms/step - loss: 0.5200 - accuracy: 0.7148 - val_loss: 0.5075 - val_accuracy: 0.6997\n",
            "Epoch 9/30\n",
            "28/28 [==============================] - 1s 48ms/step - loss: 0.5027 - accuracy: 0.7277 - val_loss: 0.4830 - val_accuracy: 0.7517\n",
            "Epoch 10/30\n",
            "28/28 [==============================] - 1s 50ms/step - loss: 0.4866 - accuracy: 0.7454 - val_loss: 0.4808 - val_accuracy: 0.7528\n",
            "Epoch 11/30\n",
            "28/28 [==============================] - 1s 48ms/step - loss: 0.4812 - accuracy: 0.7486 - val_loss: 0.4673 - val_accuracy: 0.7542\n",
            "Epoch 12/30\n",
            "28/28 [==============================] - 1s 48ms/step - loss: 0.4768 - accuracy: 0.7512 - val_loss: 0.4660 - val_accuracy: 0.7573\n",
            "Epoch 13/30\n",
            "28/28 [==============================] - 1s 48ms/step - loss: 0.4754 - accuracy: 0.7509 - val_loss: 0.4921 - val_accuracy: 0.7200\n",
            "Epoch 14/30\n",
            "28/28 [==============================] - 1s 49ms/step - loss: 0.4801 - accuracy: 0.7474 - val_loss: 0.4657 - val_accuracy: 0.7553\n",
            "Epoch 15/30\n",
            "28/28 [==============================] - 1s 49ms/step - loss: 0.4733 - accuracy: 0.7525 - val_loss: 0.4602 - val_accuracy: 0.7594\n",
            "Epoch 16/30\n",
            "28/28 [==============================] - 1s 49ms/step - loss: 0.4721 - accuracy: 0.7532 - val_loss: 0.4670 - val_accuracy: 0.7589\n",
            "Epoch 17/30\n",
            "28/28 [==============================] - 1s 48ms/step - loss: 0.4731 - accuracy: 0.7541 - val_loss: 0.4665 - val_accuracy: 0.7555\n",
            "Epoch 18/30\n",
            "28/28 [==============================] - 1s 49ms/step - loss: 0.4711 - accuracy: 0.7542 - val_loss: 0.4596 - val_accuracy: 0.7605\n",
            "Epoch 19/30\n",
            "28/28 [==============================] - 1s 49ms/step - loss: 0.4695 - accuracy: 0.7547 - val_loss: 0.4589 - val_accuracy: 0.7586\n",
            "Epoch 20/30\n",
            "28/28 [==============================] - 1s 47ms/step - loss: 0.4677 - accuracy: 0.7565 - val_loss: 0.4569 - val_accuracy: 0.7609\n",
            "Epoch 21/30\n",
            "28/28 [==============================] - 1s 48ms/step - loss: 0.4672 - accuracy: 0.7561 - val_loss: 0.4565 - val_accuracy: 0.7607\n",
            "Epoch 22/30\n",
            "28/28 [==============================] - 1s 49ms/step - loss: 0.4664 - accuracy: 0.7568 - val_loss: 0.4633 - val_accuracy: 0.7556\n",
            "Epoch 23/30\n",
            "28/28 [==============================] - 1s 50ms/step - loss: 0.4675 - accuracy: 0.7569 - val_loss: 0.4563 - val_accuracy: 0.7616\n",
            "Epoch 24/30\n",
            "28/28 [==============================] - 1s 48ms/step - loss: 0.4682 - accuracy: 0.7562 - val_loss: 0.4640 - val_accuracy: 0.7555\n",
            "Epoch 25/30\n",
            "28/28 [==============================] - 1s 48ms/step - loss: 0.4683 - accuracy: 0.7553 - val_loss: 0.4555 - val_accuracy: 0.7617\n",
            "0.001\n",
            "Epoch 1/30\n",
            "28/28 [==============================] - 7s 84ms/step - loss: 0.6923 - accuracy: 0.5243 - val_loss: 0.6909 - val_accuracy: 0.5772\n",
            "Epoch 2/30\n",
            "28/28 [==============================] - 1s 48ms/step - loss: 0.6876 - accuracy: 0.5832 - val_loss: 0.6782 - val_accuracy: 0.6284\n",
            "Epoch 3/30\n",
            "28/28 [==============================] - 1s 50ms/step - loss: 0.6628 - accuracy: 0.6359 - val_loss: 0.6269 - val_accuracy: 0.6618\n",
            "Epoch 4/30\n",
            "28/28 [==============================] - 1s 47ms/step - loss: 0.6181 - accuracy: 0.6655 - val_loss: 0.5999 - val_accuracy: 0.6684\n",
            "Epoch 5/30\n",
            "28/28 [==============================] - 1s 48ms/step - loss: 0.5961 - accuracy: 0.6839 - val_loss: 0.5760 - val_accuracy: 0.6980\n",
            "Epoch 6/30\n",
            "28/28 [==============================] - 1s 51ms/step - loss: 0.5796 - accuracy: 0.6891 - val_loss: 0.5639 - val_accuracy: 0.6945\n",
            "Epoch 7/30\n",
            "28/28 [==============================] - 1s 48ms/step - loss: 0.5794 - accuracy: 0.6845 - val_loss: 0.5637 - val_accuracy: 0.6947\n",
            "Epoch 8/30\n",
            "28/28 [==============================] - 1s 49ms/step - loss: 0.5676 - accuracy: 0.6941 - val_loss: 0.5535 - val_accuracy: 0.7022\n",
            "Epoch 9/30\n",
            "28/28 [==============================] - 1s 48ms/step - loss: 0.5634 - accuracy: 0.6955 - val_loss: 0.5507 - val_accuracy: 0.7097\n",
            "Epoch 10/30\n",
            "28/28 [==============================] - 1s 48ms/step - loss: 0.5614 - accuracy: 0.6984 - val_loss: 0.5493 - val_accuracy: 0.6996\n",
            "Epoch 11/30\n",
            "28/28 [==============================] - 1s 47ms/step - loss: 0.5580 - accuracy: 0.7017 - val_loss: 0.5413 - val_accuracy: 0.7124\n",
            "Epoch 12/30\n",
            "28/28 [==============================] - 1s 50ms/step - loss: 0.5511 - accuracy: 0.7077 - val_loss: 0.5371 - val_accuracy: 0.7111\n",
            "Epoch 13/30\n",
            "28/28 [==============================] - 1s 47ms/step - loss: 0.5468 - accuracy: 0.7095 - val_loss: 0.5356 - val_accuracy: 0.7117\n",
            "Epoch 14/30\n",
            "28/28 [==============================] - 1s 49ms/step - loss: 0.5441 - accuracy: 0.7123 - val_loss: 0.5283 - val_accuracy: 0.7207\n",
            "Epoch 15/30\n",
            "28/28 [==============================] - 1s 49ms/step - loss: 0.5368 - accuracy: 0.7172 - val_loss: 0.5238 - val_accuracy: 0.7226\n",
            "Epoch 16/30\n",
            "28/28 [==============================] - 1s 48ms/step - loss: 0.5369 - accuracy: 0.7163 - val_loss: 0.5245 - val_accuracy: 0.7205\n",
            "Epoch 17/30\n",
            "28/28 [==============================] - 1s 48ms/step - loss: 0.5335 - accuracy: 0.7208 - val_loss: 0.5210 - val_accuracy: 0.7234\n",
            "Epoch 18/30\n",
            "28/28 [==============================] - 1s 47ms/step - loss: 0.5297 - accuracy: 0.7220 - val_loss: 0.5193 - val_accuracy: 0.7311\n",
            "Epoch 19/30\n",
            "28/28 [==============================] - 1s 47ms/step - loss: 0.5252 - accuracy: 0.7253 - val_loss: 0.5116 - val_accuracy: 0.7337\n",
            "Epoch 20/30\n",
            "28/28 [==============================] - 1s 47ms/step - loss: 0.5216 - accuracy: 0.7253 - val_loss: 0.5106 - val_accuracy: 0.7328\n",
            "Epoch 21/30\n",
            "28/28 [==============================] - 1s 49ms/step - loss: 0.5198 - accuracy: 0.7260 - val_loss: 0.5076 - val_accuracy: 0.7353\n",
            "Epoch 22/30\n",
            "28/28 [==============================] - 1s 48ms/step - loss: 0.5153 - accuracy: 0.7285 - val_loss: 0.5021 - val_accuracy: 0.7358\n",
            "Epoch 23/30\n",
            "28/28 [==============================] - 1s 50ms/step - loss: 0.5117 - accuracy: 0.7293 - val_loss: 0.5024 - val_accuracy: 0.7303\n",
            "Epoch 24/30\n",
            "28/28 [==============================] - 1s 49ms/step - loss: 0.5119 - accuracy: 0.7289 - val_loss: 0.4996 - val_accuracy: 0.7331\n",
            "Epoch 25/30\n",
            "28/28 [==============================] - 1s 49ms/step - loss: 0.5086 - accuracy: 0.7305 - val_loss: 0.4949 - val_accuracy: 0.7367\n",
            "Epoch 26/30\n",
            "28/28 [==============================] - 1s 49ms/step - loss: 0.5041 - accuracy: 0.7326 - val_loss: 0.4950 - val_accuracy: 0.7346\n",
            "Epoch 27/30\n",
            "28/28 [==============================] - 1s 49ms/step - loss: 0.5029 - accuracy: 0.7326 - val_loss: 0.4923 - val_accuracy: 0.7373\n",
            "Epoch 28/30\n",
            "28/28 [==============================] - 1s 48ms/step - loss: 0.5017 - accuracy: 0.7334 - val_loss: 0.4905 - val_accuracy: 0.7381\n",
            "Epoch 29/30\n",
            "28/28 [==============================] - 1s 49ms/step - loss: 0.5027 - accuracy: 0.7333 - val_loss: 0.4896 - val_accuracy: 0.7389\n",
            "Epoch 30/30\n",
            "28/28 [==============================] - 1s 47ms/step - loss: 0.4982 - accuracy: 0.7354 - val_loss: 0.4877 - val_accuracy: 0.7390\n"
          ]
        }
      ]
    },
    {
      "cell_type": "code",
      "source": [
        "result_df = pd.DataFrame(model_list)"
      ],
      "metadata": {
        "id": "p7pqD_Ek-BD2"
      },
      "execution_count": null,
      "outputs": []
    },
    {
      "cell_type": "code",
      "source": [
        "result_df"
      ],
      "metadata": {
        "colab": {
          "base_uri": "https://localhost:8080/",
          "height": 143
        },
        "outputId": "01e5952d-1fc5-460f-e2a0-1f94807156c4",
        "id": "D1rw3F3E-BD3"
      },
      "execution_count": null,
      "outputs": [
        {
          "output_type": "execute_result",
          "data": {
            "text/plain": [
              "   train_acc   val_acc  test_acc   test_f1  test_AUC\n",
              "0   0.745430  0.741676  0.866741  0.867481  0.866870\n",
              "1   0.755332  0.761696  0.896652  0.890414  0.905351\n",
              "2   0.735400  0.738979  0.876116  0.868327  0.884962"
            ],
            "text/html": [
              "\n",
              "  <div id=\"df-7b7272db-4f97-4d4c-8f54-41d2097ea657\">\n",
              "    <div class=\"colab-df-container\">\n",
              "      <div>\n",
              "<style scoped>\n",
              "    .dataframe tbody tr th:only-of-type {\n",
              "        vertical-align: middle;\n",
              "    }\n",
              "\n",
              "    .dataframe tbody tr th {\n",
              "        vertical-align: top;\n",
              "    }\n",
              "\n",
              "    .dataframe thead th {\n",
              "        text-align: right;\n",
              "    }\n",
              "</style>\n",
              "<table border=\"1\" class=\"dataframe\">\n",
              "  <thead>\n",
              "    <tr style=\"text-align: right;\">\n",
              "      <th></th>\n",
              "      <th>train_acc</th>\n",
              "      <th>val_acc</th>\n",
              "      <th>test_acc</th>\n",
              "      <th>test_f1</th>\n",
              "      <th>test_AUC</th>\n",
              "    </tr>\n",
              "  </thead>\n",
              "  <tbody>\n",
              "    <tr>\n",
              "      <th>0</th>\n",
              "      <td>0.745430</td>\n",
              "      <td>0.741676</td>\n",
              "      <td>0.866741</td>\n",
              "      <td>0.867481</td>\n",
              "      <td>0.866870</td>\n",
              "    </tr>\n",
              "    <tr>\n",
              "      <th>1</th>\n",
              "      <td>0.755332</td>\n",
              "      <td>0.761696</td>\n",
              "      <td>0.896652</td>\n",
              "      <td>0.890414</td>\n",
              "      <td>0.905351</td>\n",
              "    </tr>\n",
              "    <tr>\n",
              "      <th>2</th>\n",
              "      <td>0.735400</td>\n",
              "      <td>0.738979</td>\n",
              "      <td>0.876116</td>\n",
              "      <td>0.868327</td>\n",
              "      <td>0.884962</td>\n",
              "    </tr>\n",
              "  </tbody>\n",
              "</table>\n",
              "</div>\n",
              "      <button class=\"colab-df-convert\" onclick=\"convertToInteractive('df-7b7272db-4f97-4d4c-8f54-41d2097ea657')\"\n",
              "              title=\"Convert this dataframe to an interactive table.\"\n",
              "              style=\"display:none;\">\n",
              "        \n",
              "  <svg xmlns=\"http://www.w3.org/2000/svg\" height=\"24px\"viewBox=\"0 0 24 24\"\n",
              "       width=\"24px\">\n",
              "    <path d=\"M0 0h24v24H0V0z\" fill=\"none\"/>\n",
              "    <path d=\"M18.56 5.44l.94 2.06.94-2.06 2.06-.94-2.06-.94-.94-2.06-.94 2.06-2.06.94zm-11 1L8.5 8.5l.94-2.06 2.06-.94-2.06-.94L8.5 2.5l-.94 2.06-2.06.94zm10 10l.94 2.06.94-2.06 2.06-.94-2.06-.94-.94-2.06-.94 2.06-2.06.94z\"/><path d=\"M17.41 7.96l-1.37-1.37c-.4-.4-.92-.59-1.43-.59-.52 0-1.04.2-1.43.59L10.3 9.45l-7.72 7.72c-.78.78-.78 2.05 0 2.83L4 21.41c.39.39.9.59 1.41.59.51 0 1.02-.2 1.41-.59l7.78-7.78 2.81-2.81c.8-.78.8-2.07 0-2.86zM5.41 20L4 18.59l7.72-7.72 1.47 1.35L5.41 20z\"/>\n",
              "  </svg>\n",
              "      </button>\n",
              "      \n",
              "  <style>\n",
              "    .colab-df-container {\n",
              "      display:flex;\n",
              "      flex-wrap:wrap;\n",
              "      gap: 12px;\n",
              "    }\n",
              "\n",
              "    .colab-df-convert {\n",
              "      background-color: #E8F0FE;\n",
              "      border: none;\n",
              "      border-radius: 50%;\n",
              "      cursor: pointer;\n",
              "      display: none;\n",
              "      fill: #1967D2;\n",
              "      height: 32px;\n",
              "      padding: 0 0 0 0;\n",
              "      width: 32px;\n",
              "    }\n",
              "\n",
              "    .colab-df-convert:hover {\n",
              "      background-color: #E2EBFA;\n",
              "      box-shadow: 0px 1px 2px rgba(60, 64, 67, 0.3), 0px 1px 3px 1px rgba(60, 64, 67, 0.15);\n",
              "      fill: #174EA6;\n",
              "    }\n",
              "\n",
              "    [theme=dark] .colab-df-convert {\n",
              "      background-color: #3B4455;\n",
              "      fill: #D2E3FC;\n",
              "    }\n",
              "\n",
              "    [theme=dark] .colab-df-convert:hover {\n",
              "      background-color: #434B5C;\n",
              "      box-shadow: 0px 1px 3px 1px rgba(0, 0, 0, 0.15);\n",
              "      filter: drop-shadow(0px 1px 2px rgba(0, 0, 0, 0.3));\n",
              "      fill: #FFFFFF;\n",
              "    }\n",
              "  </style>\n",
              "\n",
              "      <script>\n",
              "        const buttonEl =\n",
              "          document.querySelector('#df-7b7272db-4f97-4d4c-8f54-41d2097ea657 button.colab-df-convert');\n",
              "        buttonEl.style.display =\n",
              "          google.colab.kernel.accessAllowed ? 'block' : 'none';\n",
              "\n",
              "        async function convertToInteractive(key) {\n",
              "          const element = document.querySelector('#df-7b7272db-4f97-4d4c-8f54-41d2097ea657');\n",
              "          const dataTable =\n",
              "            await google.colab.kernel.invokeFunction('convertToInteractive',\n",
              "                                                     [key], {});\n",
              "          if (!dataTable) return;\n",
              "\n",
              "          const docLinkHtml = 'Like what you see? Visit the ' +\n",
              "            '<a target=\"_blank\" href=https://colab.research.google.com/notebooks/data_table.ipynb>data table notebook</a>'\n",
              "            + ' to learn more about interactive tables.';\n",
              "          element.innerHTML = '';\n",
              "          dataTable['output_type'] = 'display_data';\n",
              "          await google.colab.output.renderOutput(dataTable, element);\n",
              "          const docLink = document.createElement('div');\n",
              "          docLink.innerHTML = docLinkHtml;\n",
              "          element.appendChild(docLink);\n",
              "        }\n",
              "      </script>\n",
              "    </div>\n",
              "  </div>\n",
              "  "
            ]
          },
          "metadata": {},
          "execution_count": 201
        }
      ]
    },
    {
      "cell_type": "code",
      "source": [
        "plt.figure(figsize=(4,3))\n",
        "plt.plot(range(len(LRs)), result_df['train_acc'], color=\"blue\", marker='o', markerfacecolor='black', markersize=4,  label='train acc')\n",
        "plt.plot(range(len(LRs)), result_df['val_acc'], color=\"darkblue\", marker='o', markerfacecolor='black', markersize=4, label='val acc')\n",
        "plt.plot(range(len(LRs)), result_df['test_acc'], color=\"green\", marker='o', markerfacecolor='black', markersize=4, label='test acc')\n",
        "plt.plot(range(len(LRs)), result_df['test_f1'], color=\"red\", marker='o', markerfacecolor='black', markersize=4, label='test f1')\n",
        "plt.plot(range(len(LRs)), result_df['test_AUC'], color=\"orange\", marker='o', markerfacecolor='black', markersize=4, label='test auc')\n",
        "plt.xticks(range(len(LRs)), LRs)\n",
        "plt.title('Learning rate')\n",
        "plt.xlabel('Learning rate')\n",
        "plt.ylabel('Scores')\n",
        "plt.legend()\n",
        "plt.show()"
      ],
      "metadata": {
        "colab": {
          "base_uri": "https://localhost:8080/",
          "height": 241
        },
        "outputId": "c5ecb385-ef3d-4e81-ba78-e2655510d05c",
        "id": "EeAjanWk-BD3"
      },
      "execution_count": null,
      "outputs": [
        {
          "output_type": "display_data",
          "data": {
            "text/plain": [
              "<Figure size 288x216 with 1 Axes>"
            ],
            "image/png": "[encoded data removed]"
          },
          "metadata": {
            "needs_background": "light"
          }
        }
      ]
    },
    {
      "cell_type": "code",
      "source": [
        "model_list[1]"
      ],
      "metadata": {
        "colab": {
          "base_uri": "https://localhost:8080/"
        },
        "id": "OmKITeNx4-Gc",
        "outputId": "7c46ca09-f0f8-41f3-fa82-4894e3308093"
      },
      "execution_count": null,
      "outputs": [
        {
          "output_type": "execute_result",
          "data": {
            "text/plain": [
              "{'test_AUC': 0.9053508027909077,\n",
              " 'test_acc': 0.8966517857142857,\n",
              " 'test_f1': 0.890414201183432,\n",
              " 'train_acc': 0.7553319334983826,\n",
              " 'val_acc': 0.7616955041885376}"
            ]
          },
          "metadata": {},
          "execution_count": 203
        }
      ]
    },
    {
      "cell_type": "markdown",
      "metadata": {
        "id": "U9EHNrEntKh3"
      },
      "source": [
        "## 最佳 model 訓練"
      ]
    },
    {
      "cell_type": "code",
      "execution_count": null,
      "metadata": {
        "colab": {
          "base_uri": "https://localhost:8080/"
        },
        "id": "C4NDaBYctKh9",
        "outputId": "bc09961c-5a2d-47fd-dc50-7ca31b21672e"
      },
      "outputs": [
        {
          "output_type": "stream",
          "name": "stdout",
          "text": [
            "Model: \"sequential_15\"\n",
            "_________________________________________________________________\n",
            " Layer (type)                Output Shape              Param #   \n",
            "=================================================================\n",
            " lstm_26 (LSTM)              (None, 12, 32)            5760      \n",
            "                                                                 \n",
            " lstm_27 (LSTM)              (None, 12, 32)            8320      \n",
            "                                                                 \n",
            " dense_15 (Dense)            (None, 12, 1)             33        \n",
            "                                                                 \n",
            "=================================================================\n",
            "Total params: 14,113\n",
            "Trainable params: 14,113\n",
            "Non-trainable params: 0\n",
            "_________________________________________________________________\n"
          ]
        },
        {
          "output_type": "stream",
          "name": "stderr",
          "text": [
            "/usr/local/lib/python3.7/dist-packages/keras/optimizer_v2/adam.py:105: UserWarning: The `lr` argument is deprecated, use `learning_rate` instead.\n",
            "  super(Adam, self).__init__(name, **kwargs)\n"
          ]
        }
      ],
      "source": [
        "model = Sequential()\n",
        "  \n",
        "model.add(LSTM(32, input_shape=(12, 12), return_sequences=True))\n",
        "model.add(LSTM(32, return_sequences=True))   \n",
        "model.add(Dense(1, activation='sigmoid'))\n",
        "\n",
        "decay_rate = 0.01 / 30\n",
        "opt = Adam(lr=0.01, decay=decay_rate)\n",
        "model.compile(loss='binary_crossentropy', optimizer=opt, metrics=['accuracy'])\n",
        "model.summary()"
      ]
    },
    {
      "cell_type": "code",
      "execution_count": null,
      "metadata": {
        "colab": {
          "base_uri": "https://localhost:8080/"
        },
        "id": "zK5EtuZmtKh9",
        "outputId": "5524424d-b0cb-44f4-bd11-d170403c4f92"
      },
      "outputs": [
        {
          "output_type": "stream",
          "name": "stdout",
          "text": [
            "Epoch 1/30\n",
            "28/28 [==============================] - 7s 85ms/step - loss: 0.6695 - accuracy: 0.5673 - val_loss: 0.6003 - val_accuracy: 0.6550\n",
            "Epoch 2/30\n",
            "28/28 [==============================] - 1s 50ms/step - loss: 0.6016 - accuracy: 0.6549 - val_loss: 0.5655 - val_accuracy: 0.6433\n",
            "Epoch 3/30\n",
            "28/28 [==============================] - 1s 51ms/step - loss: 0.5415 - accuracy: 0.6838 - val_loss: 0.5285 - val_accuracy: 0.7063\n",
            "Epoch 4/30\n",
            "28/28 [==============================] - 1s 49ms/step - loss: 0.5714 - accuracy: 0.6735 - val_loss: 0.5453 - val_accuracy: 0.6858\n",
            "Epoch 5/30\n",
            "28/28 [==============================] - 1s 51ms/step - loss: 0.5354 - accuracy: 0.6903 - val_loss: 0.5072 - val_accuracy: 0.7309\n",
            "Epoch 6/30\n",
            "28/28 [==============================] - 1s 50ms/step - loss: 0.5299 - accuracy: 0.7165 - val_loss: 0.5758 - val_accuracy: 0.6629\n",
            "Epoch 7/30\n",
            "28/28 [==============================] - 1s 49ms/step - loss: 0.5719 - accuracy: 0.6695 - val_loss: 0.5561 - val_accuracy: 0.6731\n",
            "Epoch 8/30\n",
            "28/28 [==============================] - 1s 51ms/step - loss: 0.5539 - accuracy: 0.6822 - val_loss: 0.5337 - val_accuracy: 0.6957\n",
            "Epoch 9/30\n",
            "28/28 [==============================] - 1s 49ms/step - loss: 0.5264 - accuracy: 0.7085 - val_loss: 0.5070 - val_accuracy: 0.7228\n",
            "Epoch 10/30\n",
            "28/28 [==============================] - 1s 48ms/step - loss: 0.5115 - accuracy: 0.7142 - val_loss: 0.4962 - val_accuracy: 0.7224\n",
            "Epoch 11/30\n",
            "28/28 [==============================] - 2s 79ms/step - loss: 0.4978 - accuracy: 0.7257 - val_loss: 0.4990 - val_accuracy: 0.7205\n",
            "Epoch 12/30\n",
            "28/28 [==============================] - 3s 101ms/step - loss: 0.5055 - accuracy: 0.7176 - val_loss: 0.4846 - val_accuracy: 0.7324\n",
            "Epoch 13/30\n",
            "28/28 [==============================] - 3s 114ms/step - loss: 0.4877 - accuracy: 0.7369 - val_loss: 0.4737 - val_accuracy: 0.7416\n",
            "Epoch 14/30\n",
            "28/28 [==============================] - 3s 98ms/step - loss: 0.4820 - accuracy: 0.7417 - val_loss: 0.4669 - val_accuracy: 0.7551\n",
            "Epoch 15/30\n",
            "28/28 [==============================] - 3s 99ms/step - loss: 0.4768 - accuracy: 0.7497 - val_loss: 0.4671 - val_accuracy: 0.7533\n",
            "Epoch 16/30\n",
            "28/28 [==============================] - 3s 116ms/step - loss: 0.4760 - accuracy: 0.7503 - val_loss: 0.4679 - val_accuracy: 0.7539\n",
            "Epoch 17/30\n",
            "28/28 [==============================] - 3s 89ms/step - loss: 0.4740 - accuracy: 0.7518 - val_loss: 0.4615 - val_accuracy: 0.7565\n",
            "Epoch 18/30\n",
            "28/28 [==============================] - 2s 78ms/step - loss: 0.4727 - accuracy: 0.7526 - val_loss: 0.4628 - val_accuracy: 0.7583\n",
            "Epoch 19/30\n",
            "28/28 [==============================] - 2s 79ms/step - loss: 0.4711 - accuracy: 0.7540 - val_loss: 0.4604 - val_accuracy: 0.7595\n",
            "Epoch 20/30\n",
            "28/28 [==============================] - 2s 76ms/step - loss: 0.4695 - accuracy: 0.7543 - val_loss: 0.4605 - val_accuracy: 0.7598\n",
            "Epoch 21/30\n",
            "28/28 [==============================] - 2s 79ms/step - loss: 0.4709 - accuracy: 0.7541 - val_loss: 0.4596 - val_accuracy: 0.7593\n",
            "Epoch 22/30\n",
            "28/28 [==============================] - 2s 77ms/step - loss: 0.4714 - accuracy: 0.7534 - val_loss: 0.4590 - val_accuracy: 0.7579\n",
            "Epoch 23/30\n",
            "28/28 [==============================] - 2s 74ms/step - loss: 0.4692 - accuracy: 0.7546 - val_loss: 0.4599 - val_accuracy: 0.7577\n",
            "Epoch 24/30\n",
            "28/28 [==============================] - 1s 50ms/step - loss: 0.4677 - accuracy: 0.7553 - val_loss: 0.4559 - val_accuracy: 0.7608\n",
            "Epoch 25/30\n",
            "28/28 [==============================] - 1s 49ms/step - loss: 0.4680 - accuracy: 0.7553 - val_loss: 0.4582 - val_accuracy: 0.7591\n",
            "Epoch 26/30\n",
            "28/28 [==============================] - 1s 49ms/step - loss: 0.4665 - accuracy: 0.7562 - val_loss: 0.4546 - val_accuracy: 0.7607\n",
            "Epoch 27/30\n",
            "28/28 [==============================] - 2s 55ms/step - loss: 0.4685 - accuracy: 0.7549 - val_loss: 0.4582 - val_accuracy: 0.7612\n",
            "Epoch 28/30\n",
            "28/28 [==============================] - 2s 80ms/step - loss: 0.4672 - accuracy: 0.7560 - val_loss: 0.4592 - val_accuracy: 0.7602\n",
            "Epoch 29/30\n",
            "28/28 [==============================] - 2s 75ms/step - loss: 0.4663 - accuracy: 0.7566 - val_loss: 0.4577 - val_accuracy: 0.7591\n",
            "Epoch 30/30\n",
            "28/28 [==============================] - 2s 79ms/step - loss: 0.4667 - accuracy: 0.7564 - val_loss: 0.4542 - val_accuracy: 0.7615\n"
          ]
        }
      ],
      "source": [
        "callback = EarlyStopping(monitor='loss', patience=3)\n",
        "EPOCHS = 30\n",
        "BATCH_SIZE = 512\n",
        "history = model.fit(X_train, y_train, batch_size=BATCH_SIZE, epochs=EPOCHS, validation_split=0.2, callbacks=[callback], verbose=1)"
      ]
    },
    {
      "cell_type": "code",
      "execution_count": null,
      "metadata": {
        "colab": {
          "base_uri": "https://localhost:8080/",
          "height": 279
        },
        "id": "auEKEJumtKh-",
        "outputId": "a36db6fb-0197-448e-8a8d-81f2d57f4a4f"
      },
      "outputs": [
        {
          "output_type": "display_data",
          "data": {
            "text/plain": [
              "<Figure size 432x288 with 1 Axes>"
            ],
            "image/png": "[encoded data removed]"
          },
          "metadata": {
            "needs_background": "light"
          }
        }
      ],
      "source": [
        "plt.plot(history.history['accuracy'], label='train')\n",
        "plt.plot(history.history['val_accuracy'], label='test')\n",
        "plt.xlabel('Epoch')\n",
        "plt.ylabel('Accuracy')\n",
        "plt.legend()\n",
        "plt.show()"
      ]
    },
    {
      "cell_type": "code",
      "execution_count": null,
      "metadata": {
        "id": "NYVnZ4gZtKh-"
      },
      "outputs": [],
      "source": [
        "prediction = model.predict(X_test)"
      ]
    },
    {
      "cell_type": "code",
      "execution_count": null,
      "metadata": {
        "colab": {
          "base_uri": "https://localhost:8080/"
        },
        "id": "HJLLOBKytKh-",
        "outputId": "aa15efba-b716-4824-d0a7-f4f1dadf06d7"
      },
      "outputs": [
        {
          "output_type": "stream",
          "name": "stdout",
          "text": [
            "Accuracy of the model :  0.8863839285714286\n",
            "F1 score:  0.882366535706032\n",
            "AUC score:  0.8903771374803411\n",
            "Confusion matrix:\n"
          ]
        },
        {
          "output_type": "execute_result",
          "data": {
            "text/plain": [
              "array([[2062,  132],\n",
              "       [ 377, 1909]])"
            ]
          },
          "metadata": {},
          "execution_count": 218
        }
      ],
      "source": [
        "y_pred = (prediction[:, -1] > 0.5)\n",
        "print(\"Accuracy of the model : \", accuracy_score(y_pred, y_test))\n",
        "print('F1 score: ', f1_score(y_pred, y_test))\n",
        "print('AUC score: ', roc_auc_score(y_pred, y_test))\n",
        "print('Confusion matrix:')\n",
        "confusion_matrix(y_test,y_pred)"
      ]
    },
    {
      "cell_type": "code",
      "execution_count": null,
      "metadata": {
        "id": "5GLkE57GtKh-"
      },
      "outputs": [],
      "source": [
        "labels = ['NotVIP', 'VIP']"
      ]
    },
    {
      "cell_type": "code",
      "execution_count": null,
      "metadata": {
        "colab": {
          "base_uri": "https://localhost:8080/"
        },
        "id": "sK2pMLrotKh-",
        "outputId": "5849ef31-3883-4bb6-fbc5-e95b963f6628"
      },
      "outputs": [
        {
          "output_type": "execute_result",
          "data": {
            "text/plain": [
              "Counter({0.0: 2194, 1.0: 2286})"
            ]
          },
          "metadata": {},
          "execution_count": 220
        }
      ],
      "source": [
        "Counter(y_test)"
      ]
    },
    {
      "cell_type": "code",
      "execution_count": null,
      "metadata": {
        "colab": {
          "base_uri": "https://localhost:8080/",
          "height": 295
        },
        "id": "MC1sKFj9tKh-",
        "outputId": "c45bdab6-bd7c-461a-8e82-0c70b8f8f1f7"
      },
      "outputs": [
        {
          "output_type": "display_data",
          "data": {
            "text/plain": [
              "<Figure size 288x288 with 1 Axes>"
            ],
            "image/png": "[encoded data removed]"
          },
          "metadata": {
            "needs_background": "light"
          }
        }
      ],
      "source": [
        "matric = confusion_matrix(y_pred, y_test)\n",
        "plt.figure(figsize=(4,4))\n",
        "sns.heatmap(matric,square=True,annot=True,cbar=False,fmt='d',xticklabels=labels, yticklabels=labels)\n",
        "plt.ylabel(\"predict value\")\n",
        "plt.xlabel(\"true value\")\n",
        "plt.title(\"confusion matrix\")\n",
        "plt.show()"
      ]
    },
    {
      "cell_type": "code",
      "execution_count": null,
      "metadata": {
        "colab": {
          "base_uri": "https://localhost:8080/"
        },
        "id": "3uUKxr7htKh-",
        "outputId": "8707d85c-f681-4cea-9512-166b6db85341"
      },
      "outputs": [
        {
          "output_type": "stream",
          "name": "stdout",
          "text": [
            "report:\n",
            "               precision    recall  f1-score   support\n",
            "\n",
            "      NotVIP       0.94      0.85      0.89      2439\n",
            "         VIP       0.84      0.94      0.88      2041\n",
            "\n",
            "    accuracy                           0.89      4480\n",
            "   macro avg       0.89      0.89      0.89      4480\n",
            "weighted avg       0.89      0.89      0.89      4480\n",
            "\n"
          ]
        }
      ],
      "source": [
        "print(\"report:\\n\",classification_report(y_pred, y_test,labels=[0, 1],target_names=labels))"
      ]
    },
    {
      "cell_type": "code",
      "execution_count": null,
      "metadata": {
        "id": "5ToL-QTDtKh-"
      },
      "outputs": [],
      "source": [
        "prediction_all = model.predict(np.array(X).reshape(len(X), 12, 12))"
      ]
    },
    {
      "cell_type": "code",
      "execution_count": null,
      "metadata": {
        "colab": {
          "base_uri": "https://localhost:8080/"
        },
        "id": "NPoxSAd4tKh_",
        "outputId": "e3a09073-f735-4dc3-f6e2-d0db44298829"
      },
      "outputs": [
        {
          "output_type": "stream",
          "name": "stdout",
          "text": [
            "Accuracy of the model :  0.2528862994602709\n",
            "F1 score:  0.23012891344383057\n",
            "AUC score:  0.4999580822480945\n",
            "Confusion matrix:\n"
          ]
        },
        {
          "output_type": "execute_result",
          "data": {
            "text/plain": [
              "array([[11853,  1826],\n",
              "       [60880,  9372]])"
            ]
          },
          "metadata": {},
          "execution_count": 224
        }
      ],
      "source": [
        "y_pred_all = (prediction_all[:, -1] > 0.5)\n",
        "print(\"Accuracy of the model : \", accuracy_score(y_pred_all, y))\n",
        "print('F1 score: ', f1_score(y_pred_all, y))\n",
        "print('AUC score: ', roc_auc_score(y_pred_all, y))\n",
        "print('Confusion matrix:')\n",
        "confusion_matrix(y_pred_all, y)"
      ]
    },
    {
      "cell_type": "code",
      "execution_count": null,
      "metadata": {
        "colab": {
          "base_uri": "https://localhost:8080/",
          "height": 295
        },
        "id": "31coDIcmtKh_",
        "outputId": "5b02ba82-2aca-4a48-c7da-94de751b2f69"
      },
      "outputs": [
        {
          "output_type": "display_data",
          "data": {
            "text/plain": [
              "<Figure size 288x288 with 1 Axes>"
            ],
            "image/png": "[encoded data removed]"
          },
          "metadata": {
            "needs_background": "light"
          }
        }
      ],
      "source": [
        "matric = confusion_matrix(y_pred_all, y)\n",
        "plt.figure(figsize=(4,4))\n",
        "sns.heatmap(matric,square=True,annot=True,cbar=False,fmt='d',xticklabels=labels, yticklabels=labels)\n",
        "plt.ylabel(\"predict value\")\n",
        "plt.xlabel(\"true value\")\n",
        "plt.title(\"confusion matrix\")\n",
        "plt.show()"
      ]
    },
    {
      "cell_type": "code",
      "execution_count": null,
      "metadata": {
        "colab": {
          "base_uri": "https://localhost:8080/"
        },
        "id": "XVVDU8autKh_",
        "outputId": "bd5e1e1e-428b-4d56-de36-3dc9677b3b32"
      },
      "outputs": [
        {
          "output_type": "stream",
          "name": "stdout",
          "text": [
            "report:\n",
            "               precision    recall  f1-score   support\n",
            "\n",
            "      NotVIP       0.16      0.87      0.27     13679\n",
            "         VIP       0.84      0.13      0.23     70252\n",
            "\n",
            "    accuracy                           0.25     83931\n",
            "   macro avg       0.50      0.50      0.25     83931\n",
            "weighted avg       0.73      0.25      0.24     83931\n",
            "\n"
          ]
        }
      ],
      "source": [
        "print(\"report:\\n\",classification_report(y_pred_all, y,labels=[0, 1],target_names=labels))"
      ]
    },
    {
      "cell_type": "markdown",
      "source": [
        "## 取得每層 output"
      ],
      "metadata": {
        "id": "78MFip3OLkgq"
      }
    },
    {
      "cell_type": "code",
      "execution_count": null,
      "metadata": {
        "colab": {
          "base_uri": "https://localhost:8080/"
        },
        "id": "b5ZgACmJtKh_",
        "outputId": "7b5bcdd9-166c-4fe4-cecb-34ba006453fc"
      },
      "outputs": [
        {
          "output_type": "execute_result",
          "data": {
            "text/plain": [
              "(12, 128)"
            ]
          },
          "metadata": {},
          "execution_count": 227
        }
      ],
      "source": [
        "model.layers[0].get_weights()[0].shape"
      ]
    },
    {
      "cell_type": "code",
      "execution_count": null,
      "metadata": {
        "id": "bOcsBC-8tKh_"
      },
      "outputs": [],
      "source": [
        "def get_layer_output(X, idx):\n",
        "  get_output = K.function([model.layers[0].input], [model.layers[idx].output])\n",
        "  return get_output([X])"
      ]
    },
    {
      "cell_type": "code",
      "execution_count": null,
      "metadata": {
        "id": "TA1SAIODtKh_"
      },
      "outputs": [],
      "source": [
        "output_layer = get_layer_output(X_test, 2)\n",
        "all_output_layer = get_layer_output(X_uds, 2)"
      ]
    },
    {
      "cell_type": "code",
      "execution_count": null,
      "metadata": {
        "colab": {
          "base_uri": "https://localhost:8080/"
        },
        "id": "WUrbZLwTtKh_",
        "outputId": "7d1cc22b-b17c-44c5-fc72-af1c8ad50648"
      },
      "outputs": [
        {
          "output_type": "execute_result",
          "data": {
            "text/plain": [
              "array([ 181,  233,  234,  289,  511,  515,  521,  623,  684,  699,  710,\n",
              "        816,  928,  950,  965,  981, 1235, 1357, 1473, 1484, 1530, 1602,\n",
              "       1681, 1784, 1820, 1838, 1929, 1947, 2017, 2018, 2020, 2050, 2178,\n",
              "       2206, 2269, 2314, 2418, 2456, 2472, 2542, 2675, 2684, 2787, 2797,\n",
              "       2852, 2892, 2896, 2912, 2998, 3055, 3105, 3118, 3135, 3161, 3209,\n",
              "       3300, 3328, 3354, 3398, 3428, 3479, 3574, 3586, 3700, 3716, 3776,\n",
              "       3920, 3970, 4011, 4021, 4139, 4363, 4406])"
            ]
          },
          "metadata": {},
          "execution_count": 231
        }
      ],
      "source": [
        "ot = pd.DataFrame(output_layer[0][:, -1], columns=['P'])\n",
        "ot[(ot['P']<0.5)&(ot['P']>0.4)].index.values"
      ]
    },
    {
      "cell_type": "markdown",
      "source": [
        "## inverse scaler of X data"
      ],
      "metadata": {
        "id": "eLC_3BiCL6E-"
      }
    },
    {
      "cell_type": "code",
      "execution_count": null,
      "metadata": {
        "id": "8Di7ece_enEt"
      },
      "outputs": [],
      "source": [
        "def inverse_normalize(data, scaler):\n",
        "  scaled_df = pd.DataFrame(scaler.inverse_transform(data[cols].values.reshape(-1,12)), columns=cols)\n",
        "  return scaled_df"
      ]
    },
    {
      "cell_type": "code",
      "source": [
        "bh_cols = ['add', 'checkout', 'purchase', 'register', 'search', 'traffic', 'viewactivity', 'viewcategory', 'viewmainpage', 'viewproduct']"
      ],
      "metadata": {
        "id": "bjv03oXkenEt"
      },
      "execution_count": null,
      "outputs": []
    },
    {
      "cell_type": "markdown",
      "source": [
        "### Test Data"
      ],
      "metadata": {
        "id": "SKul5LbhMAlT"
      }
    },
    {
      "cell_type": "code",
      "execution_count": null,
      "metadata": {
        "id": "z3W4cvRmenEt"
      },
      "outputs": [],
      "source": [
        "X_test_tp = X_test.transpose(0, 1 ,2)\n",
        "test_data_df = pd.concat([pd.DataFrame(x, columns=cols) for x in X_test_tp], keys=np.arange(X_test_tp.shape[0]))\n",
        "test_data_df.reset_index(inplace=True)\n",
        "test_data_df = test_data_df.drop(['level_0', 'level_1'], axis=1)\n",
        "test_original = inverse_normalize(test_data_df, scaler)\n",
        "test_original[cols] = test_original[cols].astype(int)"
      ]
    },
    {
      "cell_type": "code",
      "execution_count": null,
      "metadata": {
        "id": "Fcr4_OrXenEt"
      },
      "outputs": [],
      "source": [
        "test_original['bh'] = test_original[bh_cols].apply(lambda x: '\\n'.join([y+':'+str(z) for y, z in x.items() if z != 0]), axis=1).to_list()\n",
        "test_original['x_label'] = (test_original['bh']  \n",
        "    + ['\\n△time:'] * len(test_original) + test_original['TimeDiff'].astype(str)\n",
        "    + ['\\nTotalTime:'] * len(test_original) + test_original['TotalTime'].astype(str))"
      ]
    },
    {
      "cell_type": "markdown",
      "source": [
        "### All Undersampled Data"
      ],
      "metadata": {
        "id": "aVS-mpV-MEwx"
      }
    },
    {
      "cell_type": "code",
      "execution_count": null,
      "metadata": {
        "id": "e9P9xOIiMEwx"
      },
      "outputs": [],
      "source": [
        "X_uds_tp = X_uds.transpose(0, 1 ,2)\n",
        "all_data_df = pd.concat([pd.DataFrame(x, columns=cols) for x in X_uds_tp], keys=np.arange(X_uds_tp.shape[0]))\n",
        "all_data_df.reset_index(inplace=True)\n",
        "all_data_df = all_data_df.drop(['level_0', 'level_1'], axis=1)\n",
        "all_data_original = inverse_normalize(all_data_df, scaler)\n",
        "all_data_original[cols] = all_data_original[cols].astype(int)"
      ]
    },
    {
      "cell_type": "code",
      "execution_count": null,
      "metadata": {
        "id": "8Ve-0P0AMEwx"
      },
      "outputs": [],
      "source": [
        "all_data_original['bh'] = all_data_original[bh_cols].apply(lambda x: '\\n'.join([y+':'+str(z) for y, z in x.items() if z != 0]), axis=1).to_list()\n",
        "all_data_original['x_label'] = (all_data_original['bh']  \n",
        "    + ['\\n△time:'] * len(all_data_original) + all_data_original['TimeDiff'].astype(str)\n",
        "    + ['\\nTotalTime:'] * len(all_data_original) + all_data_original['TotalTime'].astype(str))"
      ]
    },
    {
      "cell_type": "code",
      "execution_count": null,
      "metadata": {
        "colab": {
          "base_uri": "https://localhost:8080/",
          "height": 35
        },
        "outputId": "11de9ffc-54e1-47f3-cbbf-bf3e5230c264",
        "id": "p__IVCmlMEwx"
      },
      "outputs": [
        {
          "output_type": "execute_result",
          "data": {
            "text/plain": [
              "'\\n△time:0\\nTotalTime:0'"
            ],
            "application/vnd.google.colaboratory.intrinsic+json": {
              "type": "string"
            }
          },
          "metadata": {},
          "execution_count": 238
        }
      ],
      "source": [
        "all_data_original['x_label'][0]"
      ]
    },
    {
      "cell_type": "markdown",
      "metadata": {
        "id": "Slw9PML7eaby"
      },
      "source": [
        "## 結果解釋"
      ]
    },
    {
      "cell_type": "code",
      "source": [
        "def get_output_df(idx, data, output_layer):\n",
        "  start_idx = idx * 12\n",
        "  end_idx = (idx + 1) * 12\n",
        "  df_eg = data.iloc[start_idx: end_idx]\n",
        "  df_eg = df_eg.loc[~(df_eg[bh_cols]==0).all(axis=1)]\n",
        "  df_eg['Output'] = list(output_layer[0][idx].reshape(1,12)[0])[-len(df_eg):]\n",
        "  df_eg['Member'] = ['Member' + str(idx)] *len(df_eg)\n",
        "\n",
        "  return df_eg"
      ],
      "metadata": {
        "id": "T6EX5vB1F5f_"
      },
      "execution_count": null,
      "outputs": []
    },
    {
      "cell_type": "markdown",
      "source": [
        "### 取得 all output of test data"
      ],
      "metadata": {
        "id": "Y8CQwzzZIp1L"
      }
    },
    {
      "cell_type": "code",
      "source": [
        "len(get_output_df(1069, test_original, output_layer))"
      ],
      "metadata": {
        "colab": {
          "base_uri": "https://localhost:8080/"
        },
        "id": "Z5svKQXlOMcY",
        "outputId": "bdced978-6185-4c82-ab93-e83ed6809518"
      },
      "execution_count": null,
      "outputs": [
        {
          "output_type": "execute_result",
          "data": {
            "text/plain": [
              "12"
            ]
          },
          "metadata": {},
          "execution_count": 241
        }
      ]
    },
    {
      "cell_type": "code",
      "source": [
        "df_egs = []\n",
        "for i in range(len(X_test)):\n",
        "  df_eg = get_output_df(i, test_original, output_layer)\n",
        "  df_egs.append(df_eg)"
      ],
      "metadata": {
        "id": "l_2PTzB4GG_-",
        "colab": {
          "base_uri": "https://localhost:8080/"
        },
        "outputId": "c9a19d70-b5cf-4d46-e0b6-c373eb6c4ec6"
      },
      "execution_count": null,
      "outputs": [
        {
          "output_type": "stream",
          "name": "stderr",
          "text": [
            "/usr/local/lib/python3.7/dist-packages/ipykernel_launcher.py:6: SettingWithCopyWarning: \n",
            "A value is trying to be set on a copy of a slice from a DataFrame.\n",
            "Try using .loc[row_indexer,col_indexer] = value instead\n",
            "\n",
            "See the caveats in the documentation: https://pandas.pydata.org/pandas-docs/stable/user_guide/indexing.html#returning-a-view-versus-a-copy\n",
            "  \n",
            "/usr/local/lib/python3.7/dist-packages/ipykernel_launcher.py:7: SettingWithCopyWarning: \n",
            "A value is trying to be set on a copy of a slice from a DataFrame.\n",
            "Try using .loc[row_indexer,col_indexer] = value instead\n",
            "\n",
            "See the caveats in the documentation: https://pandas.pydata.org/pandas-docs/stable/user_guide/indexing.html#returning-a-view-versus-a-copy\n",
            "  import sys\n"
          ]
        }
      ]
    },
    {
      "cell_type": "code",
      "source": [
        "test_output = pd.concat(df_egs)"
      ],
      "metadata": {
        "id": "WI5zQ5qVGgVY"
      },
      "execution_count": null,
      "outputs": []
    },
    {
      "cell_type": "code",
      "source": [
        "len(test_output['Member'].unique())"
      ],
      "metadata": {
        "colab": {
          "base_uri": "https://localhost:8080/"
        },
        "id": "nNWH5xn3l1nd",
        "outputId": "515c144c-108b-4eb8-e332-aac73e0dcbd5"
      },
      "execution_count": null,
      "outputs": [
        {
          "output_type": "execute_result",
          "data": {
            "text/plain": [
              "4480"
            ]
          },
          "metadata": {},
          "execution_count": 244
        }
      ]
    },
    {
      "cell_type": "code",
      "source": [
        "test_output.to_csv('Session Behavior Count Outputs for test data.csv', index=False)"
      ],
      "metadata": {
        "id": "GUxenwV8GyVk"
      },
      "execution_count": null,
      "outputs": []
    },
    {
      "cell_type": "markdown",
      "source": [
        "### 取得 all output of all undersampled data"
      ],
      "metadata": {
        "id": "HFwLZxN-I4xk"
      }
    },
    {
      "cell_type": "code",
      "source": [
        "df_egs = []\n",
        "for i in range(len(X_uds)):\n",
        "  df_eg = get_output_df(i, all_data_original, all_output_layer)\n",
        "  df_egs.append(df_eg)"
      ],
      "metadata": {
        "id": "A4qkrDwxI4xl",
        "colab": {
          "base_uri": "https://localhost:8080/"
        },
        "outputId": "ebb5143c-cd9a-40c6-cb84-bcfe809678fb"
      },
      "execution_count": null,
      "outputs": [
        {
          "output_type": "stream",
          "name": "stderr",
          "text": [
            "/usr/local/lib/python3.7/dist-packages/ipykernel_launcher.py:6: SettingWithCopyWarning: \n",
            "A value is trying to be set on a copy of a slice from a DataFrame.\n",
            "Try using .loc[row_indexer,col_indexer] = value instead\n",
            "\n",
            "See the caveats in the documentation: https://pandas.pydata.org/pandas-docs/stable/user_guide/indexing.html#returning-a-view-versus-a-copy\n",
            "  \n",
            "/usr/local/lib/python3.7/dist-packages/ipykernel_launcher.py:7: SettingWithCopyWarning: \n",
            "A value is trying to be set on a copy of a slice from a DataFrame.\n",
            "Try using .loc[row_indexer,col_indexer] = value instead\n",
            "\n",
            "See the caveats in the documentation: https://pandas.pydata.org/pandas-docs/stable/user_guide/indexing.html#returning-a-view-versus-a-copy\n",
            "  import sys\n"
          ]
        }
      ]
    },
    {
      "cell_type": "code",
      "source": [
        "all_output = pd.concat(df_egs)"
      ],
      "metadata": {
        "id": "olKhImZxI4xl"
      },
      "execution_count": null,
      "outputs": []
    },
    {
      "cell_type": "code",
      "source": [
        "len(all_output['Member'].unique())"
      ],
      "metadata": {
        "colab": {
          "base_uri": "https://localhost:8080/"
        },
        "id": "dHmTqiw1lUvR",
        "outputId": "ecd1ca08-7d35-475c-9a70-af5b9ab5d504"
      },
      "execution_count": null,
      "outputs": [
        {
          "output_type": "execute_result",
          "data": {
            "text/plain": [
              "22396"
            ]
          },
          "metadata": {},
          "execution_count": 248
        }
      ]
    },
    {
      "cell_type": "code",
      "source": [
        "all_output.to_csv('Session Behavior Count Outputs.csv', index=False)"
      ],
      "metadata": {
        "id": "y8mokspYI4xl"
      },
      "execution_count": null,
      "outputs": []
    },
    {
      "cell_type": "markdown",
      "source": [
        "## 繪圖"
      ],
      "metadata": {
        "id": "MH4azESbPOg0"
      }
    },
    {
      "cell_type": "code",
      "execution_count": null,
      "metadata": {
        "id": "Ep1KIgEGeabz"
      },
      "outputs": [],
      "source": [
        "def output_ex(idx):\n",
        "  start_idx = idx * 12\n",
        "  end_idx = start_idx + 12\n",
        "  eg = test_original.iloc[start_idx: end_idx]\n",
        "  eg = eg.loc[~(eg[bh_cols]==0).all(axis=1)]\n",
        "  x_label =  list(eg['x_label'])\n",
        "  output_eg = list(layer_output_2[0][idx].reshape(1,12)[0])[-len(x_label):]\n",
        "  x_axis = range(len(x_label))\n",
        "  base = [0.5] * len(x_axis)\n",
        "\n",
        "  plt.figure(figsize=(18,10))\n",
        "  plt.plot(x_axis, output_eg, color=\"red\", marker='o', markerfacecolor='black', markersize=4)\n",
        "  plt.plot(x_axis, base, color=\"blue\", linestyle='dashed')\n",
        "  plt.xticks(x_axis,x_label)\n",
        "  plt.xlabel('Behavior')\n",
        "  plt.ylabel('P(VIP)')\n",
        "  plt.show()"
      ]
    },
    {
      "cell_type": "code",
      "execution_count": null,
      "metadata": {
        "colab": {
          "base_uri": "https://localhost:8080/",
          "height": 652
        },
        "outputId": "bca9aa08-093d-4c68-8271-3ddf85df391c",
        "id": "OozWyhBrpUaD"
      },
      "outputs": [
        {
          "output_type": "display_data",
          "data": {
            "text/plain": [
              "<Figure size 1296x720 with 1 Axes>"
            ],
            "image/png": "[encoded data removed]"
          },
          "metadata": {
            "needs_background": "light"
          }
        }
      ],
      "source": [
        "output_ex(6)"
      ]
    },
    {
      "cell_type": "code",
      "execution_count": null,
      "metadata": {
        "colab": {
          "base_uri": "https://localhost:8080/",
          "height": 629
        },
        "outputId": "877d9cfd-9b71-41ac-e66f-2f17a3562153",
        "id": "YxIPBlSTpUaD"
      },
      "outputs": [
        {
          "output_type": "display_data",
          "data": {
            "text/plain": [
              "<Figure size 1296x720 with 1 Axes>"
            ],
            "image/png": "[encoded data removed]"
          },
          "metadata": {
            "needs_background": "light"
          }
        }
      ],
      "source": [
        "output_ex(200)"
      ]
    },
    {
      "cell_type": "code",
      "execution_count": null,
      "metadata": {
        "id": "rBHLwLiNpUaD"
      },
      "outputs": [],
      "source": [
        ""
      ]
    }
  ],
  "metadata": {
    "colab": {
      "collapsed_sections": [],
      "name": "Session Behavior Count Prediction",
      "provenance": []
    },
    "kernelspec": {
      "display_name": "Python 3",
      "name": "python3"
    },
    "language_info": {
      "name": "python"
    }
  },
  "nbformat": 4,
  "nbformat_minor": 0
}