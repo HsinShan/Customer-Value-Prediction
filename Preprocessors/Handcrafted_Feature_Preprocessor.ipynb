{
  "cells": [
    {
      "cell_type": "code",
      "execution_count": null,
      "metadata": {
        "colab": {
          "base_uri": "https://localhost:8080/"
        },
        "id": "TOWIMqE4bScp",
        "outputId": "85173e10-06e1-493a-8425-bb0531813a7b"
      },
      "outputs": [
        {
          "output_type": "stream",
          "name": "stdout",
          "text": [
            "Mounted at /content/drive\n"
          ]
        }
      ],
      "source": [
        "from google.colab import drive\n",
        "drive.mount('/content/drive')"
      ]
    },
    {
      "cell_type": "code",
      "execution_count": null,
      "metadata": {
        "colab": {
          "base_uri": "https://localhost:8080/"
        },
        "id": "E9vDxSuibW_T",
        "outputId": "e88698d3-5dad-4011-ad93-139cc5a44172"
      },
      "outputs": [
        {
          "output_type": "stream",
          "name": "stdout",
          "text": [
            "/content/drive/Shareddrives/My paper\n"
          ]
        }
      ],
      "source": [
        "%cd /content/drive/Shareddrives/My\\ paper"
      ]
    },
    {
      "cell_type": "code",
      "execution_count": null,
      "metadata": {
        "id": "kccKnbTybjMI"
      },
      "outputs": [],
      "source": [
        "import pandas as pd\n",
        "import numpy as np\n",
        "from datetime import date, timedelta"
      ]
    },
    {
      "cell_type": "code",
      "execution_count": null,
      "metadata": {
        "id": "TKZvlm6Kblfx"
      },
      "outputs": [],
      "source": [
        "member = pd.read_csv('dataset/91APP_MemberData.csv')"
      ]
    },
    {
      "cell_type": "code",
      "execution_count": null,
      "metadata": {
        "colab": {
          "base_uri": "https://localhost:8080/"
        },
        "id": "feq5WIbP5PAk",
        "outputId": "7b380dd7-428c-40c8-d0c9-1d997934507e"
      },
      "outputs": [
        {
          "output_type": "stream",
          "name": "stderr",
          "text": [
            "/usr/local/lib/python3.7/dist-packages/IPython/core/interactiveshell.py:2882: DtypeWarning: Columns (4) have mixed types.Specify dtype option on import or set low_memory=False.\n",
            "  exec(code_obj, self.user_global_ns, self.user_ns)\n"
          ]
        }
      ],
      "source": [
        "order = pd.read_csv('dataset/91APP_OrderData.csv')"
      ]
    },
    {
      "cell_type": "markdown",
      "metadata": {
        "id": "1SY4BKs_Lbae"
      },
      "source": [
        "## 處理行為資料"
      ]
    },
    {
      "cell_type": "code",
      "execution_count": null,
      "metadata": {
        "id": "xx5CeZR26cxm"
      },
      "outputs": [],
      "source": [
        "# 十大事件\n",
        "event_list = ['trafficSource', 'userRegisteration', 'mainPageView', 'productPageView', 'categoryPageView', \n",
        "              'activityPageView', 'search', 'addToCart', 'checkout', 'purchase']\n",
        "\n",
        "bh_list = ['traffic', 'register', 'viewmainpage', 'viewproduct', 'viewcategory', 'viewactivity', 'search', 'add', 'checkout', 'purchase']"
      ]
    },
    {
      "cell_type": "code",
      "execution_count": null,
      "metadata": {
        "id": "nIDXegFXGi75"
      },
      "outputs": [],
      "source": [
        "months = range(1,13)\n",
        "paths = []\n",
        "for m in months:\n",
        "  path = './Customer Value Prediction/TABLES/Behavior Data/Month '+ str(m) + '.csv'\n",
        "  paths.append(path) \n",
        "\n",
        "behavior_data = [pd.read_csv(path, low_memory=False, encoding = \"utf-8\")[['did', 'uid', 'DateTime', 'bh']] for path in paths]"
      ]
    },
    {
      "cell_type": "code",
      "source": [
        "label_data = pd.read_csv('./Customer Value Prediction/TABLES/Label Data.csv')"
      ],
      "metadata": {
        "id": "ecVQ-ZvrEYto"
      },
      "execution_count": null,
      "outputs": []
    },
    {
      "cell_type": "code",
      "source": [
        "label_data.head()"
      ],
      "metadata": {
        "colab": {
          "base_uri": "https://localhost:8080/",
          "height": 206
        },
        "id": "qDgnPc9kRik0",
        "outputId": "298949a8-5716-48f1-afc3-bf7b8838bf9d"
      },
      "execution_count": null,
      "outputs": [
        {
          "output_type": "execute_result",
          "data": {
            "text/plain": [
              "                                       MemberID  TotalSalesAmount  Active  VIP\n",
              "0  RSQpIPxqSK2ooLPuUwWw8HhTN73mFGsmGPEmdarbdGM=               0.0     0.0  0.0\n",
              "1  AqBrlkHltks4neA3Fmtq+yfiI4F7aZGODqKPeF3zGsA=               0.0     0.0  0.0\n",
              "2  x/e5hrkgQCnCkhBzvk8Hs8i5dnX4tHRlrjHtKm6yvLg=               0.0     0.0  0.0\n",
              "3  r/d/6e+NmTz+PFg45srs0HNMcUh1sWlRP27kZifm69I=            7612.0     1.0  1.0\n",
              "4  wouxhlfcOpZcJH6lJhyuQ+4lV8b7X0foxY7YQiOQwC4=               0.0     0.0  0.0"
            ],
            "text/html": [
              "\n",
              "  <div id=\"df-51f595e2-3b2f-41b2-bd21-585e43c4cb4e\">\n",
              "    <div class=\"colab-df-container\">\n",
              "      <div>\n",
              "<style scoped>\n",
              "    .dataframe tbody tr th:only-of-type {\n",
              "        vertical-align: middle;\n",
              "    }\n",
              "\n",
              "    .dataframe tbody tr th {\n",
              "        vertical-align: top;\n",
              "    }\n",
              "\n",
              "    .dataframe thead th {\n",
              "        text-align: right;\n",
              "    }\n",
              "</style>\n",
              "<table border=\"1\" class=\"dataframe\">\n",
              "  <thead>\n",
              "    <tr style=\"text-align: right;\">\n",
              "      <th></th>\n",
              "      <th>MemberID</th>\n",
              "      <th>TotalSalesAmount</th>\n",
              "      <th>Active</th>\n",
              "      <th>VIP</th>\n",
              "    </tr>\n",
              "  </thead>\n",
              "  <tbody>\n",
              "    <tr>\n",
              "      <th>0</th>\n",
              "      <td>RSQpIPxqSK2ooLPuUwWw8HhTN73mFGsmGPEmdarbdGM=</td>\n",
              "      <td>0.0</td>\n",
              "      <td>0.0</td>\n",
              "      <td>0.0</td>\n",
              "    </tr>\n",
              "    <tr>\n",
              "      <th>1</th>\n",
              "      <td>AqBrlkHltks4neA3Fmtq+yfiI4F7aZGODqKPeF3zGsA=</td>\n",
              "      <td>0.0</td>\n",
              "      <td>0.0</td>\n",
              "      <td>0.0</td>\n",
              "    </tr>\n",
              "    <tr>\n",
              "      <th>2</th>\n",
              "      <td>x/e5hrkgQCnCkhBzvk8Hs8i5dnX4tHRlrjHtKm6yvLg=</td>\n",
              "      <td>0.0</td>\n",
              "      <td>0.0</td>\n",
              "      <td>0.0</td>\n",
              "    </tr>\n",
              "    <tr>\n",
              "      <th>3</th>\n",
              "      <td>r/d/6e+NmTz+PFg45srs0HNMcUh1sWlRP27kZifm69I=</td>\n",
              "      <td>7612.0</td>\n",
              "      <td>1.0</td>\n",
              "      <td>1.0</td>\n",
              "    </tr>\n",
              "    <tr>\n",
              "      <th>4</th>\n",
              "      <td>wouxhlfcOpZcJH6lJhyuQ+4lV8b7X0foxY7YQiOQwC4=</td>\n",
              "      <td>0.0</td>\n",
              "      <td>0.0</td>\n",
              "      <td>0.0</td>\n",
              "    </tr>\n",
              "  </tbody>\n",
              "</table>\n",
              "</div>\n",
              "      <button class=\"colab-df-convert\" onclick=\"convertToInteractive('df-51f595e2-3b2f-41b2-bd21-585e43c4cb4e')\"\n",
              "              title=\"Convert this dataframe to an interactive table.\"\n",
              "              style=\"display:none;\">\n",
              "        \n",
              "  <svg xmlns=\"http://www.w3.org/2000/svg\" height=\"24px\"viewBox=\"0 0 24 24\"\n",
              "       width=\"24px\">\n",
              "    <path d=\"M0 0h24v24H0V0z\" fill=\"none\"/>\n",
              "    <path d=\"M18.56 5.44l.94 2.06.94-2.06 2.06-.94-2.06-.94-.94-2.06-.94 2.06-2.06.94zm-11 1L8.5 8.5l.94-2.06 2.06-.94-2.06-.94L8.5 2.5l-.94 2.06-2.06.94zm10 10l.94 2.06.94-2.06 2.06-.94-2.06-.94-.94-2.06-.94 2.06-2.06.94z\"/><path d=\"M17.41 7.96l-1.37-1.37c-.4-.4-.92-.59-1.43-.59-.52 0-1.04.2-1.43.59L10.3 9.45l-7.72 7.72c-.78.78-.78 2.05 0 2.83L4 21.41c.39.39.9.59 1.41.59.51 0 1.02-.2 1.41-.59l7.78-7.78 2.81-2.81c.8-.78.8-2.07 0-2.86zM5.41 20L4 18.59l7.72-7.72 1.47 1.35L5.41 20z\"/>\n",
              "  </svg>\n",
              "      </button>\n",
              "      \n",
              "  <style>\n",
              "    .colab-df-container {\n",
              "      display:flex;\n",
              "      flex-wrap:wrap;\n",
              "      gap: 12px;\n",
              "    }\n",
              "\n",
              "    .colab-df-convert {\n",
              "      background-color: #E8F0FE;\n",
              "      border: none;\n",
              "      border-radius: 50%;\n",
              "      cursor: pointer;\n",
              "      display: none;\n",
              "      fill: #1967D2;\n",
              "      height: 32px;\n",
              "      padding: 0 0 0 0;\n",
              "      width: 32px;\n",
              "    }\n",
              "\n",
              "    .colab-df-convert:hover {\n",
              "      background-color: #E2EBFA;\n",
              "      box-shadow: 0px 1px 2px rgba(60, 64, 67, 0.3), 0px 1px 3px 1px rgba(60, 64, 67, 0.15);\n",
              "      fill: #174EA6;\n",
              "    }\n",
              "\n",
              "    [theme=dark] .colab-df-convert {\n",
              "      background-color: #3B4455;\n",
              "      fill: #D2E3FC;\n",
              "    }\n",
              "\n",
              "    [theme=dark] .colab-df-convert:hover {\n",
              "      background-color: #434B5C;\n",
              "      box-shadow: 0px 1px 3px 1px rgba(0, 0, 0, 0.15);\n",
              "      filter: drop-shadow(0px 1px 2px rgba(0, 0, 0, 0.3));\n",
              "      fill: #FFFFFF;\n",
              "    }\n",
              "  </style>\n",
              "\n",
              "      <script>\n",
              "        const buttonEl =\n",
              "          document.querySelector('#df-51f595e2-3b2f-41b2-bd21-585e43c4cb4e button.colab-df-convert');\n",
              "        buttonEl.style.display =\n",
              "          google.colab.kernel.accessAllowed ? 'block' : 'none';\n",
              "\n",
              "        async function convertToInteractive(key) {\n",
              "          const element = document.querySelector('#df-51f595e2-3b2f-41b2-bd21-585e43c4cb4e');\n",
              "          const dataTable =\n",
              "            await google.colab.kernel.invokeFunction('convertToInteractive',\n",
              "                                                     [key], {});\n",
              "          if (!dataTable) return;\n",
              "\n",
              "          const docLinkHtml = 'Like what you see? Visit the ' +\n",
              "            '<a target=\"_blank\" href=https://colab.research.google.com/notebooks/data_table.ipynb>data table notebook</a>'\n",
              "            + ' to learn more about interactive tables.';\n",
              "          element.innerHTML = '';\n",
              "          dataTable['output_type'] = 'display_data';\n",
              "          await google.colab.output.renderOutput(dataTable, element);\n",
              "          const docLink = document.createElement('div');\n",
              "          docLink.innerHTML = docLinkHtml;\n",
              "          element.appendChild(docLink);\n",
              "        }\n",
              "      </script>\n",
              "    </div>\n",
              "  </div>\n",
              "  "
            ]
          },
          "metadata": {},
          "execution_count": 9
        }
      ]
    },
    {
      "cell_type": "code",
      "source": [
        "memberIDs = list(label_data['MemberID'].unique())\n",
        "len(memberIDs)"
      ],
      "metadata": {
        "colab": {
          "base_uri": "https://localhost:8080/"
        },
        "id": "hHCvyUrZsYMM",
        "outputId": "df26c20c-4009-427e-b6d8-996660b32a82"
      },
      "execution_count": null,
      "outputs": [
        {
          "output_type": "execute_result",
          "data": {
            "text/plain": [
              "83931"
            ]
          },
          "metadata": {},
          "execution_count": 10
        }
      ]
    },
    {
      "cell_type": "code",
      "source": [
        "member_data = member[member['MemberID'].isin(memberIDs)]\n",
        "order_data = order[order['MemberID'].isin(memberIDs)]"
      ],
      "metadata": {
        "id": "ANW501IkB7RK"
      },
      "execution_count": null,
      "outputs": []
    },
    {
      "cell_type": "code",
      "execution_count": null,
      "metadata": {
        "id": "37NffTRTbnBB"
      },
      "outputs": [],
      "source": [
        "import collections\n",
        "from datetime import date, timedelta, datetime\n",
        "from sklearn.preprocessing import LabelEncoder\n",
        "\n",
        "class DataPreprocessor:\n",
        "  def __init__(self, member_data, order_data, behavior_data, memberIDs, predict_date, train_period):\n",
        "    self.member_data = member_data\n",
        "    self.order_data = order_data\n",
        "    self.behavior_data = behavior_data # array: 每個位置為一個月的資料\n",
        "    self.label_data = label_data\n",
        "    self.train_period = train_period\n",
        "    self.predict_start_date = datetime.strptime(predict_date, '%Y-%m-%d')\n",
        "    self.feature_start_date = self.predict_start_date - timedelta(days=train_period)\n",
        "    self.feature_end_date = self.predict_start_date - timedelta(days=1)\n",
        "    print(self.feature_start_date, ',', self.feature_end_date,',', self.predict_start_date,)\n",
        "\n",
        "    self.reset()\n",
        "\n",
        "  def reset(self):\n",
        "    self.memberIDs = list(self.label_data['MemberID'].unique())\n",
        "    print('--------------Start to init member and order data--------------')\n",
        "    self.preprocess_member_data()\n",
        "    self.preprocess_order_data()\n",
        "    print('--------------Finished: init member and order data--------------')\n",
        "\n",
        "    # init data by processed member data\n",
        "    self.complete_data = self.member_data\n",
        "    self.feature_data= []\n",
        "    self.feature_label_data = []\n",
        "\n",
        "  def preprocess_member_data(self):\n",
        "    print('Process member data')\n",
        "    # extract register date\n",
        "    member_date = self.member_data['RegisterDateTime'].str.split(' ', expand= True)\n",
        "    member_date = member_date.rename(columns = {0: 'Date', 1: 'Time'}, inplace = False)\n",
        "    self.member_data['Register_date'] = pd.to_datetime(member_date['Date'])\n",
        "\n",
        "  def preprocess_order_data(self):\n",
        "    print('Process order data')\n",
        "    order_date = self.order_data['TradesDateTime'].str.split(' ', expand= True)\n",
        "    order_date = order_date.rename(columns = {0: 'Date', 1: 'Time'}, inplace = False)\n",
        "    self.order_data['Trade_date'] = pd.to_datetime(order_date['Date'], format = '%Y-%m-%d')\n",
        "    self.order_data = self.order_data.sort_values(['TradesDateTime'])\n",
        "    # only consider finish and return order\n",
        "    self.order_data = self.order_data.loc[(self.order_data['Status'] == 'Finish') | (self.order_data['Status'] == 'Return')]\n",
        "  \n",
        "  def calculate_age(self, born, current):\n",
        "    if born == '1900-01-01': # default age value\n",
        "        return 0\n",
        "\n",
        "    born = datetime.strptime(str(born).split(' ')[0], '%Y-%m-%d')\n",
        "    return current.year - born.year - ((current.month, current.day) < (born.month, born.day))\n",
        "\n",
        "  def add_age_col(self, df, date):\n",
        "    df['Age'] = [0] * len(df)\n",
        "\n",
        "    for index, row in df.iterrows():\n",
        "        df.at[index, 'Age'] = self.calculate_age(row['Birthday'], date) \n",
        "\n",
        "  def calculate_lifespan(self, register, current):\n",
        "    if register == '1900-01-01':\n",
        "        return 10\n",
        "\n",
        "    y = current.year - register.year - ((current.month, current.day) < (register.month, register.day))\n",
        "    d = (current - register).days\n",
        "  \n",
        "    return [y, d]\n",
        "  \n",
        "  def add_lifespan_col(self, df, date):\n",
        "    df['Lifespan'] = [0] * len(df)\n",
        "    df['Lifespan_days'] = [0] * len(df)\n",
        "\n",
        "    for index, row in df.iterrows():\n",
        "        y, d = self.calculate_lifespan(row['Register_date'], date)\n",
        "        df.at[index, 'Lifespan'] = y\n",
        "        df.at[index, 'Lifespan_days'] = d\n",
        "\n",
        "  def add_uid_col(self, df):\n",
        "    df['uid'] = df['MemberID'].str.replace('+', '%2B')\n",
        "    df['uid'] = df['uid'].str.replace('/', '%2F')\n",
        "    df['uid'] = df['uid'].str.replace('=', '%3D')\n",
        "\n",
        "  def get_session_data(self, uids):\n",
        "    print('-------------------Start to process session times-------------------')\n",
        "    id_dfs = []\n",
        "\n",
        "    print('Get id table')\n",
        "    for m in list(range(12)):\n",
        "      df = behavior_data[m]\n",
        "      id_dfs.append(df.loc[df['uid'].isin(uids)][['did', 'uid']].drop_duplicates(subset=['did'], keep='last'))\n",
        "    id_table = pd.concat(id_dfs).drop_duplicates(subset=['did'], keep='last')\n",
        "    \n",
        "    print('Get behavior data of members')\n",
        "    dfs = []\n",
        "\n",
        "    for m in list(range(12)):\n",
        "      df = behavior_data[m]\n",
        "      dfs.append(df.loc[(df['did'].isin(id_table['did']))])\n",
        "    \n",
        "    behaviors = pd.concat(dfs)\n",
        "\n",
        "    print('Process ids of member')\n",
        "    # 一個 uid 有多個 did 的問題\n",
        "    fill_uid = pd.merge(behaviors[['did']], id_table, how='left', on='did').rename(columns = {'uid': 'uid_filled'}, inplace = False)\n",
        "    behaviors['uid_filled'] = list(fill_uid['uid_filled'])\n",
        "    behaviors = behaviors.sort_values(by = ['uid_filled', 'DateTime'])   \n",
        "\n",
        "    return self.get_session_sum(id_table, behaviors)\n",
        "\n",
        "  def get_session_sum(self, id_table, df):\n",
        "    print('Calculate session count')\n",
        "    df_copy = df.copy()\n",
        "    df_copy['Date'] = pd.to_datetime(df_copy['DateTime'], format='%Y-%m-%d %H:%M:%S').dt.date\n",
        "    df_copy = df_copy.drop_duplicates(subset=['uid_filled', 'Date'], keep='first')\n",
        "    result = pd.DataFrame(df_copy.groupby(by=['uid_filled']).size(), columns=['ActiveDays'])\n",
        "\n",
        "    id_table_list = df.groupby('uid')['did'].apply(list).reset_index(name='did_list')\n",
        "    result = pd.merge(id_table_list, result, left_on='uid', right_on='uid_filled', how='left')\n",
        "    print('-------------------Finished: process session times-------------------')\n",
        "    return result[['uid', 'ActiveDays']]\n",
        "\n",
        "  # 更新: 只看哪幾天有 session ↑\n",
        "  ## session 切換三種狀況的 code: https://colab.research.google.com/drive/1oTpPJxZ_GRdsqlib7KPgVo5LDd7QJd-W?usp=sharing\n",
        "\n",
        "  def get_recency_data(self, date):\n",
        "    finished_order = self.order_data.loc[(self.order_data['Status'] == 'Finish') & (self.order_data['Trade_date'] <= date)]\n",
        "    finished_order = finished_order.drop_duplicates(subset=['MemberID'], keep='last') # only retain last order record of each member\n",
        "    finished_order['today'] = [date]*len(finished_order)\n",
        "    finished_order['Recency'] = (finished_order['today'] - finished_order['Trade_date']).dt.days + 1\n",
        "\n",
        "    return(finished_order[['MemberID', 'Recency']])\n",
        "\n",
        "  def get_freqency_data(self, start_date, end_date):\n",
        "    order = self.order_data.loc[(self.order_data['Status'] == 'Finish') & (self.order_data['Trade_date'] >= start_date) & (self.order_data['Trade_date'] <= end_date)]\n",
        "    order_count = pd.DataFrame(order.groupby(by=['MemberID']).size(), columns=['Frequency'])\n",
        "    print(start_date, '-', end_date, 'has total ', len(order_count), 'members has order records.')\n",
        "\n",
        "    return order_count\n",
        "\n",
        "  def get_complete_order_data(self, end_date):\n",
        "    order = self.order_data.loc[(self.order_data['Status'] == 'Finish') & (self.order_data['Trade_date'] <= end_date)]\n",
        "    order_count = pd.DataFrame(order.groupby(by=['MemberID']).size(), columns=['CompleteOrders'])\n",
        "\n",
        "    return order_count\n",
        "\n",
        "  def get_promotion_data(self, end_date):\n",
        "    order = self.order_data.loc[(self.order_data['Status'] == 'Finish') & (self.order_data['Trade_date'] <= end_date)]\n",
        "    order_count = pd.DataFrame(order[order['TotalDiscount']!=0].groupby(by=['MemberID']).size(), columns=['PromotionUsed'])\n",
        "\n",
        "    return order_count\n",
        "  \n",
        "  def get_return_order_data(self, end_date):\n",
        "    order = self.order_data.loc[(self.order_data['Status'] == 'Return') & (self.order_data['Trade_date'] <= end_date)]\n",
        "    order_count = pd.DataFrame(order.groupby(by=['MemberID']).size(), columns=['ReturnOrders'])\n",
        "\n",
        "    return order_count\n",
        "  \n",
        "  def get_CAI_data(self, date):\n",
        "    finished_order = self.order_data.loc[(self.order_data['Status'] == 'Finish') & (self.order_data['Trade_date'] <= date)]\n",
        "    finished_order = finished_order.sort_values(['MemberID', 'TradesDateTime'])\n",
        "    order = pd.merge(finished_order, self.member_data[['MemberID', 'Register_date']],on='MemberID', how='left')\n",
        "\n",
        "    order['Weight'] = order.groupby(['MemberID']).cumcount()+1\n",
        "    order['Shift_date'] = order['Trade_date'].shift(1)\n",
        "    order['DateDiff'] = ((order['Trade_date'] - order['Shift_date']).dt.days) + 1 # 同一天也算一天\n",
        "    order['DateDiff_Register'] = ((order['Trade_date'] - order['Register_date']).dt.days) + 1\n",
        "\n",
        "    order.loc[order['Weight'] == 1, 'DateDiff'] = order['DateDiff_Register']\n",
        "    order.loc[order['DateDiff'] < 0, 'DateDiff'] = 1 ## 修正 register date < trade date 的狀況\n",
        "\n",
        "    order['DateDiff_w'] = (order['DateDiff'] * order['Weight']).astype(int)\n",
        "\n",
        "    df_1 = pd.DataFrame(order.groupby(by=['MemberID']).sum().groupby(level=[0]).cumsum())\n",
        "    df_2 = pd.DataFrame(order.groupby(by=['MemberID']).size(), columns=['count'])\n",
        "\n",
        "    df_3 = pd.merge(df_1, df_2, on='MemberID')\n",
        "    df_3['CAI'] = ((df_3['DateDiff'] / df_3['count']) - (df_3['DateDiff_w'] / df_3['Weight'])) / (df_3['DateDiff'] / df_3['count'])\n",
        "\n",
        "    return pd.DataFrame(df_3['CAI'])\n",
        "\n",
        "  def get_monetary_data(self, start_date, end_date):\n",
        "    order = self.order_data.loc[(self.order_data['Trade_date'] >= start_date) & (self.order_data['Trade_date'] <= end_date)]\n",
        "    monetary_data = order.groupby(by=['MemberID'])['TotalSalesAmount'].sum()\n",
        "\n",
        "    finished_order = order.loc[(self.order_data['Status'] == 'Finish')]\n",
        "    order_count = pd.DataFrame(finished_order.groupby(by=['MemberID']).size(), columns=['Frequency'])\n",
        "    \n",
        "    data = pd.merge(monetary_data, order_count, on='MemberID')\n",
        "    data['Monetary'] = data['TotalSalesAmount'] / data['Frequency']\n",
        "\n",
        "    return data[['Monetary']]\n",
        "\n",
        "\n",
        "  def get_total_monetary_data(self, date):\n",
        "    order = self.order_data.loc[self.order_data['Trade_date'] <= date]\n",
        "    order_label= pd.DataFrame(order.groupby(by=['MemberID']).sum().groupby(level=[0]).cumsum()['TotalSalesAmount']).rename(columns={'TotalSalesAmount': 'Monetary_total'}) # get total net spending\n",
        "\n",
        "    return order_label\n",
        "\n",
        "\n",
        "  def get_data(self, df, start_date, end_date):\n",
        "    print('-------------------Start to add some columns to member data------------------')\n",
        "    self.add_age_col(df, end_date)\n",
        "    self.add_lifespan_col(df, end_date)\n",
        "    self.add_uid_col(df)\n",
        "    print('------------------Finished: Add some columns to member data-------------------------')\n",
        "    \n",
        "    print('-------------------Start to add some columns to order data----------------------')\n",
        "    order = self.get_freqency_data(start_date, end_date)\n",
        "    data = pd.merge(df, order, on='MemberID', how='outer')\n",
        "\n",
        "    recency_data = self.get_recency_data(end_date)\n",
        "    data = pd.merge(data, recency_data, on='MemberID', how='left')\n",
        "\n",
        "    complete_order_data = self.get_complete_order_data(end_date)\n",
        "    data = pd.merge(data, complete_order_data, on='MemberID', how='left')\n",
        "\n",
        "    promotion_data = self.get_promotion_data(end_date)\n",
        "    data = pd.merge(data, promotion_data, on='MemberID', how='left')\n",
        "\n",
        "    return_order_data = self.get_return_order_data(end_date)\n",
        "    data = pd.merge(data, return_order_data, on='MemberID', how='left')\n",
        "  \n",
        "    CAI_data = self.get_CAI_data(end_date)\n",
        "    data = pd.merge(data, CAI_data, on='MemberID', how='left')\n",
        "\n",
        "    monetary_data = self.get_monetary_data(start_date, end_date)\n",
        "    data = pd.merge(data, monetary_data, on='MemberID', how='left')\n",
        "\n",
        "    total_monetary_data = self.get_total_monetary_data(end_date)\n",
        "    data = pd.merge(data, total_monetary_data, on='MemberID', how='left')\n",
        "\n",
        "    print('------------------Finished: Add some columns to order data-------------------------')\n",
        "    uids = list(data['uid'])\n",
        "    session_data = self.get_session_data(uids)\n",
        "    print('Session data uid number: ', len(session_data['uid']), 'unique: ', len(session_data['uid'].unique()))\n",
        "    data = pd.merge(data, session_data, on='uid', how='left')\n",
        " \n",
        "    return data\n",
        "\n",
        "  def preprocess_feature_data(self, df):\n",
        "    columns = ['MemberID', 'Age', 'Lifespan', 'Lifespan_days', 'Recency', \n",
        "               'Frequency', 'Monetary', 'Monetary_total', 'CAI', \n",
        "               'ActiveDays', 'CompleteOrders', 'ReturnOrders', 'PromotionUsed'\n",
        "          ]\n",
        "    data = df[columns]\n",
        "    \n",
        "    recency_na = data['Recency'].max() + 1 # fill non recency\n",
        "    \n",
        "    data['Recency'] = data['Recency'].fillna(recency_na)\n",
        "    data['CAI'] = data['CAI'].fillna(-1)\n",
        "    data = data.fillna(0)\n",
        "    \n",
        "    data['PromotionUsedRate'] = data['PromotionUsed'] / data['CompleteOrders']\n",
        "    data['PromotionUsedRate'] = data['PromotionUsedRate'].replace({ np.nan :  0, np.inf: 0})\n",
        "\n",
        "    data['FinishedOrders'] = data['CompleteOrders'] - data['ReturnOrders']\n",
        "    data['ReturnRate'] = data['ReturnOrders'] / data['CompleteOrders']\n",
        "    data['ReturnRate'] = data['ReturnRate'].replace({ np.nan :  0, np.inf: 0})\n",
        "\n",
        "    return data\n",
        "\n",
        "  def merge_feature_label_data(self):\n",
        "    data = pd.merge(self.feature_data, self.label_data, on='MemberID', how='left')\n",
        "\n",
        "    return data\n",
        "\n",
        "  def run(self):\n",
        "    self.complete_data = self.get_data(self.complete_data, self.feature_start_date, self.feature_end_date)\n",
        "    self.feature_data = self.preprocess_feature_data(self.complete_data)\n",
        "    self.feature_label_data = self.merge_feature_label_data()\n",
        "\n",
        "    self.feature_data = self.feature_label_data.drop(['TotalSalesAmount', 'Active', 'VIP'], axis=1)\n",
        "    self.label_data = self.feature_label_data[['MemberID', 'TotalSalesAmount', 'Active', 'VIP']]"
      ]
    },
    {
      "cell_type": "code",
      "execution_count": null,
      "metadata": {
        "colab": {
          "base_uri": "https://localhost:8080/"
        },
        "id": "UN9EeInG-ndp",
        "outputId": "a34fdebd-d43d-4b15-d18b-106d3ab687b5"
      },
      "outputs": [
        {
          "output_type": "stream",
          "name": "stdout",
          "text": [
            "2019-05-01 00:00:00 , 2020-04-30 00:00:00 , 2020-05-01 00:00:00\n",
            "--------------Start to init member and order data--------------\n",
            "Process member data\n"
          ]
        },
        {
          "output_type": "stream",
          "name": "stderr",
          "text": [
            "/usr/local/lib/python3.7/dist-packages/ipykernel_launcher.py:36: SettingWithCopyWarning: \n",
            "A value is trying to be set on a copy of a slice from a DataFrame.\n",
            "Try using .loc[row_indexer,col_indexer] = value instead\n",
            "\n",
            "See the caveats in the documentation: https://pandas.pydata.org/pandas-docs/stable/user_guide/indexing.html#returning-a-view-versus-a-copy\n"
          ]
        },
        {
          "output_type": "stream",
          "name": "stdout",
          "text": [
            "Process order data\n"
          ]
        },
        {
          "output_type": "stream",
          "name": "stderr",
          "text": [
            "/usr/local/lib/python3.7/dist-packages/ipykernel_launcher.py:42: SettingWithCopyWarning: \n",
            "A value is trying to be set on a copy of a slice from a DataFrame.\n",
            "Try using .loc[row_indexer,col_indexer] = value instead\n",
            "\n",
            "See the caveats in the documentation: https://pandas.pydata.org/pandas-docs/stable/user_guide/indexing.html#returning-a-view-versus-a-copy\n"
          ]
        },
        {
          "output_type": "stream",
          "name": "stdout",
          "text": [
            "--------------Finished: init member and order data--------------\n",
            "-------------------Start to add some columns to member data------------------\n"
          ]
        },
        {
          "output_type": "stream",
          "name": "stderr",
          "text": [
            "/usr/local/lib/python3.7/dist-packages/ipykernel_launcher.py:55: SettingWithCopyWarning: \n",
            "A value is trying to be set on a copy of a slice from a DataFrame.\n",
            "Try using .loc[row_indexer,col_indexer] = value instead\n",
            "\n",
            "See the caveats in the documentation: https://pandas.pydata.org/pandas-docs/stable/user_guide/indexing.html#returning-a-view-versus-a-copy\n",
            "/usr/local/lib/python3.7/dist-packages/ipykernel_launcher.py:70: SettingWithCopyWarning: \n",
            "A value is trying to be set on a copy of a slice from a DataFrame.\n",
            "Try using .loc[row_indexer,col_indexer] = value instead\n",
            "\n",
            "See the caveats in the documentation: https://pandas.pydata.org/pandas-docs/stable/user_guide/indexing.html#returning-a-view-versus-a-copy\n",
            "/usr/local/lib/python3.7/dist-packages/ipykernel_launcher.py:71: SettingWithCopyWarning: \n",
            "A value is trying to be set on a copy of a slice from a DataFrame.\n",
            "Try using .loc[row_indexer,col_indexer] = value instead\n",
            "\n",
            "See the caveats in the documentation: https://pandas.pydata.org/pandas-docs/stable/user_guide/indexing.html#returning-a-view-versus-a-copy\n",
            "/usr/local/lib/python3.7/dist-packages/ipykernel_launcher.py:79: FutureWarning: The default value of regex will change from True to False in a future version. In addition, single character regular expressions will *not* be treated as literal strings when regex=True.\n",
            "/usr/local/lib/python3.7/dist-packages/ipykernel_launcher.py:79: SettingWithCopyWarning: \n",
            "A value is trying to be set on a copy of a slice from a DataFrame.\n",
            "Try using .loc[row_indexer,col_indexer] = value instead\n",
            "\n",
            "See the caveats in the documentation: https://pandas.pydata.org/pandas-docs/stable/user_guide/indexing.html#returning-a-view-versus-a-copy\n",
            "/usr/local/lib/python3.7/dist-packages/ipykernel_launcher.py:80: SettingWithCopyWarning: \n",
            "A value is trying to be set on a copy of a slice from a DataFrame.\n",
            "Try using .loc[row_indexer,col_indexer] = value instead\n",
            "\n",
            "See the caveats in the documentation: https://pandas.pydata.org/pandas-docs/stable/user_guide/indexing.html#returning-a-view-versus-a-copy\n",
            "/usr/local/lib/python3.7/dist-packages/ipykernel_launcher.py:81: SettingWithCopyWarning: \n",
            "A value is trying to be set on a copy of a slice from a DataFrame.\n",
            "Try using .loc[row_indexer,col_indexer] = value instead\n",
            "\n",
            "See the caveats in the documentation: https://pandas.pydata.org/pandas-docs/stable/user_guide/indexing.html#returning-a-view-versus-a-copy\n"
          ]
        },
        {
          "output_type": "stream",
          "name": "stdout",
          "text": [
            "------------------Finished: Add some columns to member data-------------------------\n",
            "-------------------Start to add some columns to order data----------------------\n",
            "2019-05-01 00:00:00 - 2020-04-30 00:00:00 has total  56040 members has order records.\n",
            "------------------Finished: Add some columns to order data-------------------------\n",
            "-------------------Start to process session times-------------------\n",
            "Get id table\n",
            "Get behavior data of members\n",
            "Process ids of member\n",
            "Calculate session count\n",
            "-------------------Finished: process session times-------------------\n",
            "Session data uid number:  85055 unique:  85055\n"
          ]
        },
        {
          "output_type": "stream",
          "name": "stderr",
          "text": [
            "/usr/local/lib/python3.7/dist-packages/ipykernel_launcher.py:250: SettingWithCopyWarning: \n",
            "A value is trying to be set on a copy of a slice from a DataFrame.\n",
            "Try using .loc[row_indexer,col_indexer] = value instead\n",
            "\n",
            "See the caveats in the documentation: https://pandas.pydata.org/pandas-docs/stable/user_guide/indexing.html#returning-a-view-versus-a-copy\n",
            "/usr/local/lib/python3.7/dist-packages/ipykernel_launcher.py:251: SettingWithCopyWarning: \n",
            "A value is trying to be set on a copy of a slice from a DataFrame.\n",
            "Try using .loc[row_indexer,col_indexer] = value instead\n",
            "\n",
            "See the caveats in the documentation: https://pandas.pydata.org/pandas-docs/stable/user_guide/indexing.html#returning-a-view-versus-a-copy\n"
          ]
        }
      ],
      "source": [
        "data = DataPreprocessor(member_data, order_data, behavior_data, label_data, '2020-05-01', 366)\n",
        "data.run()"
      ]
    },
    {
      "cell_type": "code",
      "execution_count": null,
      "metadata": {
        "colab": {
          "base_uri": "https://localhost:8080/",
          "height": 113
        },
        "id": "N3Jzy1xIwXZ4",
        "outputId": "27a5f790-15d7-4bac-a752-d7b1e9bcb9b4"
      },
      "outputs": [
        {
          "output_type": "execute_result",
          "data": {
            "text/plain": [
              "Empty DataFrame\n",
              "Columns: [MemberID, Age, Lifespan, Lifespan_days, Recency, Frequency, Monetary, Monetary_total, CAI, ActiveDays, CompleteOrders, ReturnOrders, PromotionUsed, PromotionUsedRate, FinishedOrders, ReturnRate, TotalSalesAmount, Active, VIP]\n",
              "Index: []"
            ],
            "text/html": [
              "\n",
              "  <div id=\"df-c1f781d9-178b-408c-8374-8368c949c8a1\">\n",
              "    <div class=\"colab-df-container\">\n",
              "      <div>\n",
              "<style scoped>\n",
              "    .dataframe tbody tr th:only-of-type {\n",
              "        vertical-align: middle;\n",
              "    }\n",
              "\n",
              "    .dataframe tbody tr th {\n",
              "        vertical-align: top;\n",
              "    }\n",
              "\n",
              "    .dataframe thead th {\n",
              "        text-align: right;\n",
              "    }\n",
              "</style>\n",
              "<table border=\"1\" class=\"dataframe\">\n",
              "  <thead>\n",
              "    <tr style=\"text-align: right;\">\n",
              "      <th></th>\n",
              "      <th>MemberID</th>\n",
              "      <th>Age</th>\n",
              "      <th>Lifespan</th>\n",
              "      <th>Lifespan_days</th>\n",
              "      <th>Recency</th>\n",
              "      <th>Frequency</th>\n",
              "      <th>Monetary</th>\n",
              "      <th>Monetary_total</th>\n",
              "      <th>CAI</th>\n",
              "      <th>ActiveDays</th>\n",
              "      <th>CompleteOrders</th>\n",
              "      <th>ReturnOrders</th>\n",
              "      <th>PromotionUsed</th>\n",
              "      <th>PromotionUsedRate</th>\n",
              "      <th>FinishedOrders</th>\n",
              "      <th>ReturnRate</th>\n",
              "      <th>TotalSalesAmount</th>\n",
              "      <th>Active</th>\n",
              "      <th>VIP</th>\n",
              "    </tr>\n",
              "  </thead>\n",
              "  <tbody>\n",
              "  </tbody>\n",
              "</table>\n",
              "</div>\n",
              "      <button class=\"colab-df-convert\" onclick=\"convertToInteractive('df-c1f781d9-178b-408c-8374-8368c949c8a1')\"\n",
              "              title=\"Convert this dataframe to an interactive table.\"\n",
              "              style=\"display:none;\">\n",
              "        \n",
              "  <svg xmlns=\"http://www.w3.org/2000/svg\" height=\"24px\"viewBox=\"0 0 24 24\"\n",
              "       width=\"24px\">\n",
              "    <path d=\"M0 0h24v24H0V0z\" fill=\"none\"/>\n",
              "    <path d=\"M18.56 5.44l.94 2.06.94-2.06 2.06-.94-2.06-.94-.94-2.06-.94 2.06-2.06.94zm-11 1L8.5 8.5l.94-2.06 2.06-.94-2.06-.94L8.5 2.5l-.94 2.06-2.06.94zm10 10l.94 2.06.94-2.06 2.06-.94-2.06-.94-.94-2.06-.94 2.06-2.06.94z\"/><path d=\"M17.41 7.96l-1.37-1.37c-.4-.4-.92-.59-1.43-.59-.52 0-1.04.2-1.43.59L10.3 9.45l-7.72 7.72c-.78.78-.78 2.05 0 2.83L4 21.41c.39.39.9.59 1.41.59.51 0 1.02-.2 1.41-.59l7.78-7.78 2.81-2.81c.8-.78.8-2.07 0-2.86zM5.41 20L4 18.59l7.72-7.72 1.47 1.35L5.41 20z\"/>\n",
              "  </svg>\n",
              "      </button>\n",
              "      \n",
              "  <style>\n",
              "    .colab-df-container {\n",
              "      display:flex;\n",
              "      flex-wrap:wrap;\n",
              "      gap: 12px;\n",
              "    }\n",
              "\n",
              "    .colab-df-convert {\n",
              "      background-color: #E8F0FE;\n",
              "      border: none;\n",
              "      border-radius: 50%;\n",
              "      cursor: pointer;\n",
              "      display: none;\n",
              "      fill: #1967D2;\n",
              "      height: 32px;\n",
              "      padding: 0 0 0 0;\n",
              "      width: 32px;\n",
              "    }\n",
              "\n",
              "    .colab-df-convert:hover {\n",
              "      background-color: #E2EBFA;\n",
              "      box-shadow: 0px 1px 2px rgba(60, 64, 67, 0.3), 0px 1px 3px 1px rgba(60, 64, 67, 0.15);\n",
              "      fill: #174EA6;\n",
              "    }\n",
              "\n",
              "    [theme=dark] .colab-df-convert {\n",
              "      background-color: #3B4455;\n",
              "      fill: #D2E3FC;\n",
              "    }\n",
              "\n",
              "    [theme=dark] .colab-df-convert:hover {\n",
              "      background-color: #434B5C;\n",
              "      box-shadow: 0px 1px 3px 1px rgba(0, 0, 0, 0.15);\n",
              "      filter: drop-shadow(0px 1px 2px rgba(0, 0, 0, 0.3));\n",
              "      fill: #FFFFFF;\n",
              "    }\n",
              "  </style>\n",
              "\n",
              "      <script>\n",
              "        const buttonEl =\n",
              "          document.querySelector('#df-c1f781d9-178b-408c-8374-8368c949c8a1 button.colab-df-convert');\n",
              "        buttonEl.style.display =\n",
              "          google.colab.kernel.accessAllowed ? 'block' : 'none';\n",
              "\n",
              "        async function convertToInteractive(key) {\n",
              "          const element = document.querySelector('#df-c1f781d9-178b-408c-8374-8368c949c8a1');\n",
              "          const dataTable =\n",
              "            await google.colab.kernel.invokeFunction('convertToInteractive',\n",
              "                                                     [key], {});\n",
              "          if (!dataTable) return;\n",
              "\n",
              "          const docLinkHtml = 'Like what you see? Visit the ' +\n",
              "            '<a target=\"_blank\" href=https://colab.research.google.com/notebooks/data_table.ipynb>data table notebook</a>'\n",
              "            + ' to learn more about interactive tables.';\n",
              "          element.innerHTML = '';\n",
              "          dataTable['output_type'] = 'display_data';\n",
              "          await google.colab.output.renderOutput(dataTable, element);\n",
              "          const docLink = document.createElement('div');\n",
              "          docLink.innerHTML = docLinkHtml;\n",
              "          element.appendChild(docLink);\n",
              "        }\n",
              "      </script>\n",
              "    </div>\n",
              "  </div>\n",
              "  "
            ]
          },
          "metadata": {},
          "execution_count": 26
        }
      ],
      "source": [
        "data.feature_label_data.loc[~data.feature_label_data['MemberID'].isin(list(data.label_data['MemberID']))]"
      ]
    },
    {
      "cell_type": "code",
      "execution_count": null,
      "metadata": {
        "colab": {
          "base_uri": "https://localhost:8080/",
          "height": 113
        },
        "id": "qDemBC4OJ_8R",
        "outputId": "e16726b0-aea8-4571-cd4c-733616e9fcf0"
      },
      "outputs": [
        {
          "output_type": "execute_result",
          "data": {
            "text/plain": [
              "Empty DataFrame\n",
              "Columns: [MemberID, Age, Lifespan, Lifespan_days, Recency, Frequency, Monetary, Monetary_total, CAI, ActiveDays, CompleteOrders, ReturnOrders, PromotionUsed, PromotionUsedRate, FinishedOrders, ReturnRate]\n",
              "Index: []"
            ],
            "text/html": [
              "\n",
              "  <div id=\"df-6eee6993-55b2-4bb2-846d-81a32960eae4\">\n",
              "    <div class=\"colab-df-container\">\n",
              "      <div>\n",
              "<style scoped>\n",
              "    .dataframe tbody tr th:only-of-type {\n",
              "        vertical-align: middle;\n",
              "    }\n",
              "\n",
              "    .dataframe tbody tr th {\n",
              "        vertical-align: top;\n",
              "    }\n",
              "\n",
              "    .dataframe thead th {\n",
              "        text-align: right;\n",
              "    }\n",
              "</style>\n",
              "<table border=\"1\" class=\"dataframe\">\n",
              "  <thead>\n",
              "    <tr style=\"text-align: right;\">\n",
              "      <th></th>\n",
              "      <th>MemberID</th>\n",
              "      <th>Age</th>\n",
              "      <th>Lifespan</th>\n",
              "      <th>Lifespan_days</th>\n",
              "      <th>Recency</th>\n",
              "      <th>Frequency</th>\n",
              "      <th>Monetary</th>\n",
              "      <th>Monetary_total</th>\n",
              "      <th>CAI</th>\n",
              "      <th>ActiveDays</th>\n",
              "      <th>CompleteOrders</th>\n",
              "      <th>ReturnOrders</th>\n",
              "      <th>PromotionUsed</th>\n",
              "      <th>PromotionUsedRate</th>\n",
              "      <th>FinishedOrders</th>\n",
              "      <th>ReturnRate</th>\n",
              "    </tr>\n",
              "  </thead>\n",
              "  <tbody>\n",
              "  </tbody>\n",
              "</table>\n",
              "</div>\n",
              "      <button class=\"colab-df-convert\" onclick=\"convertToInteractive('df-6eee6993-55b2-4bb2-846d-81a32960eae4')\"\n",
              "              title=\"Convert this dataframe to an interactive table.\"\n",
              "              style=\"display:none;\">\n",
              "        \n",
              "  <svg xmlns=\"http://www.w3.org/2000/svg\" height=\"24px\"viewBox=\"0 0 24 24\"\n",
              "       width=\"24px\">\n",
              "    <path d=\"M0 0h24v24H0V0z\" fill=\"none\"/>\n",
              "    <path d=\"M18.56 5.44l.94 2.06.94-2.06 2.06-.94-2.06-.94-.94-2.06-.94 2.06-2.06.94zm-11 1L8.5 8.5l.94-2.06 2.06-.94-2.06-.94L8.5 2.5l-.94 2.06-2.06.94zm10 10l.94 2.06.94-2.06 2.06-.94-2.06-.94-.94-2.06-.94 2.06-2.06.94z\"/><path d=\"M17.41 7.96l-1.37-1.37c-.4-.4-.92-.59-1.43-.59-.52 0-1.04.2-1.43.59L10.3 9.45l-7.72 7.72c-.78.78-.78 2.05 0 2.83L4 21.41c.39.39.9.59 1.41.59.51 0 1.02-.2 1.41-.59l7.78-7.78 2.81-2.81c.8-.78.8-2.07 0-2.86zM5.41 20L4 18.59l7.72-7.72 1.47 1.35L5.41 20z\"/>\n",
              "  </svg>\n",
              "      </button>\n",
              "      \n",
              "  <style>\n",
              "    .colab-df-container {\n",
              "      display:flex;\n",
              "      flex-wrap:wrap;\n",
              "      gap: 12px;\n",
              "    }\n",
              "\n",
              "    .colab-df-convert {\n",
              "      background-color: #E8F0FE;\n",
              "      border: none;\n",
              "      border-radius: 50%;\n",
              "      cursor: pointer;\n",
              "      display: none;\n",
              "      fill: #1967D2;\n",
              "      height: 32px;\n",
              "      padding: 0 0 0 0;\n",
              "      width: 32px;\n",
              "    }\n",
              "\n",
              "    .colab-df-convert:hover {\n",
              "      background-color: #E2EBFA;\n",
              "      box-shadow: 0px 1px 2px rgba(60, 64, 67, 0.3), 0px 1px 3px 1px rgba(60, 64, 67, 0.15);\n",
              "      fill: #174EA6;\n",
              "    }\n",
              "\n",
              "    [theme=dark] .colab-df-convert {\n",
              "      background-color: #3B4455;\n",
              "      fill: #D2E3FC;\n",
              "    }\n",
              "\n",
              "    [theme=dark] .colab-df-convert:hover {\n",
              "      background-color: #434B5C;\n",
              "      box-shadow: 0px 1px 3px 1px rgba(0, 0, 0, 0.15);\n",
              "      filter: drop-shadow(0px 1px 2px rgba(0, 0, 0, 0.3));\n",
              "      fill: #FFFFFF;\n",
              "    }\n",
              "  </style>\n",
              "\n",
              "      <script>\n",
              "        const buttonEl =\n",
              "          document.querySelector('#df-6eee6993-55b2-4bb2-846d-81a32960eae4 button.colab-df-convert');\n",
              "        buttonEl.style.display =\n",
              "          google.colab.kernel.accessAllowed ? 'block' : 'none';\n",
              "\n",
              "        async function convertToInteractive(key) {\n",
              "          const element = document.querySelector('#df-6eee6993-55b2-4bb2-846d-81a32960eae4');\n",
              "          const dataTable =\n",
              "            await google.colab.kernel.invokeFunction('convertToInteractive',\n",
              "                                                     [key], {});\n",
              "          if (!dataTable) return;\n",
              "\n",
              "          const docLinkHtml = 'Like what you see? Visit the ' +\n",
              "            '<a target=\"_blank\" href=https://colab.research.google.com/notebooks/data_table.ipynb>data table notebook</a>'\n",
              "            + ' to learn more about interactive tables.';\n",
              "          element.innerHTML = '';\n",
              "          dataTable['output_type'] = 'display_data';\n",
              "          await google.colab.output.renderOutput(dataTable, element);\n",
              "          const docLink = document.createElement('div');\n",
              "          docLink.innerHTML = docLinkHtml;\n",
              "          element.appendChild(docLink);\n",
              "        }\n",
              "      </script>\n",
              "    </div>\n",
              "  </div>\n",
              "  "
            ]
          },
          "metadata": {},
          "execution_count": 27
        }
      ],
      "source": [
        "data.feature_data.loc[~((data.feature_data['CAI']<=1)&(data.feature_data['CAI']>=-1))]"
      ]
    },
    {
      "cell_type": "code",
      "execution_count": null,
      "metadata": {
        "colab": {
          "base_uri": "https://localhost:8080/"
        },
        "id": "o6af1XppQvv3",
        "outputId": "04611879-b649-4bf6-be80-89feb4a2b731"
      },
      "outputs": [
        {
          "output_type": "stream",
          "name": "stdout",
          "text": [
            "<class 'pandas.core.frame.DataFrame'>\n",
            "Int64Index: 83931 entries, 0 to 83930\n",
            "Data columns (total 4 columns):\n",
            " #   Column            Non-Null Count  Dtype  \n",
            "---  ------            --------------  -----  \n",
            " 0   MemberID          83931 non-null  object \n",
            " 1   TotalSalesAmount  83931 non-null  float64\n",
            " 2   Active            83931 non-null  float64\n",
            " 3   VIP               83931 non-null  float64\n",
            "dtypes: float64(3), object(1)\n",
            "memory usage: 3.2+ MB\n"
          ]
        }
      ],
      "source": [
        "data.label_data.info()"
      ]
    },
    {
      "cell_type": "code",
      "execution_count": null,
      "metadata": {
        "colab": {
          "base_uri": "https://localhost:8080/"
        },
        "id": "QsMdTsajQyrQ",
        "outputId": "51a4776b-6527-4cf1-e7fa-dd61323aa8e9"
      },
      "outputs": [
        {
          "output_type": "stream",
          "name": "stdout",
          "text": [
            "<class 'pandas.core.frame.DataFrame'>\n",
            "Int64Index: 83931 entries, 0 to 83930\n",
            "Data columns (total 24 columns):\n",
            " #   Column                    Non-Null Count  Dtype         \n",
            "---  ------                    --------------  -----         \n",
            " 0   MemberID                  83931 non-null  object        \n",
            " 1   RegisterSourceTypeDef     80792 non-null  object        \n",
            " 2   RegisterDateTime          83931 non-null  object        \n",
            " 3   Gender                    61750 non-null  object        \n",
            " 4   Birthday                  83931 non-null  object        \n",
            " 5   IsAppInstalled            83931 non-null  bool          \n",
            " 6   IsEnableEmail             83931 non-null  bool          \n",
            " 7   IsEnablePushNotification  83931 non-null  bool          \n",
            " 8   IsEnableShortMessage      83931 non-null  bool          \n",
            " 9   MemberCardLevel           83931 non-null  int64         \n",
            " 10  Register_date             83931 non-null  datetime64[ns]\n",
            " 11  Age                       83931 non-null  int64         \n",
            " 12  Lifespan                  83931 non-null  int64         \n",
            " 13  Lifespan_days             83931 non-null  int64         \n",
            " 14  uid                       83931 non-null  object        \n",
            " 15  Frequency                 56040 non-null  float64       \n",
            " 16  Recency                   83931 non-null  int64         \n",
            " 17  CompleteOrders            83931 non-null  int64         \n",
            " 18  PromotionUsed             48989 non-null  float64       \n",
            " 19  ReturnOrders              35283 non-null  float64       \n",
            " 20  CAI                       83919 non-null  float64       \n",
            " 21  Monetary                  56040 non-null  float64       \n",
            " 22  Monetary_total            83931 non-null  float64       \n",
            " 23  ActiveDays                83931 non-null  float64       \n",
            "dtypes: bool(4), datetime64[ns](1), float64(7), int64(6), object(6)\n",
            "memory usage: 13.8+ MB\n"
          ]
        }
      ],
      "source": [
        "data.complete_data.info()"
      ]
    },
    {
      "cell_type": "code",
      "execution_count": null,
      "metadata": {
        "colab": {
          "base_uri": "https://localhost:8080/"
        },
        "id": "YqY0CEpVwkHS",
        "outputId": "915aa421-9c62-4bb0-8628-42f9edeeb6aa"
      },
      "outputs": [
        {
          "output_type": "stream",
          "name": "stdout",
          "text": [
            "<class 'pandas.core.frame.DataFrame'>\n",
            "Int64Index: 83931 entries, 0 to 83930\n",
            "Data columns (total 16 columns):\n",
            " #   Column             Non-Null Count  Dtype  \n",
            "---  ------             --------------  -----  \n",
            " 0   MemberID           83931 non-null  object \n",
            " 1   Age                83931 non-null  int64  \n",
            " 2   Lifespan           83931 non-null  int64  \n",
            " 3   Lifespan_days      83931 non-null  int64  \n",
            " 4   Recency            83931 non-null  int64  \n",
            " 5   Frequency          83931 non-null  float64\n",
            " 6   Monetary           83931 non-null  float64\n",
            " 7   Monetary_total     83931 non-null  float64\n",
            " 8   CAI                83931 non-null  float64\n",
            " 9   ActiveDays         83931 non-null  float64\n",
            " 10  CompleteOrders     83931 non-null  int64  \n",
            " 11  ReturnOrders       83931 non-null  float64\n",
            " 12  PromotionUsed      83931 non-null  float64\n",
            " 13  PromotionUsedRate  83931 non-null  float64\n",
            " 14  FinishedOrders     83931 non-null  float64\n",
            " 15  ReturnRate         83931 non-null  float64\n",
            "dtypes: float64(10), int64(5), object(1)\n",
            "memory usage: 10.9+ MB\n"
          ]
        }
      ],
      "source": [
        "data.feature_data.info()"
      ]
    },
    {
      "cell_type": "code",
      "execution_count": null,
      "metadata": {
        "colab": {
          "base_uri": "https://localhost:8080/"
        },
        "id": "u38BaenJwBVf",
        "outputId": "23d0248d-3f56-4360-e27d-fad4064d6795"
      },
      "outputs": [
        {
          "output_type": "stream",
          "name": "stdout",
          "text": [
            "<class 'pandas.core.frame.DataFrame'>\n",
            "Int64Index: 83931 entries, 0 to 83930\n",
            "Data columns (total 19 columns):\n",
            " #   Column             Non-Null Count  Dtype  \n",
            "---  ------             --------------  -----  \n",
            " 0   MemberID           83931 non-null  object \n",
            " 1   Age                83931 non-null  int64  \n",
            " 2   Lifespan           83931 non-null  int64  \n",
            " 3   Lifespan_days      83931 non-null  int64  \n",
            " 4   Recency            83931 non-null  int64  \n",
            " 5   Frequency          83931 non-null  float64\n",
            " 6   Monetary           83931 non-null  float64\n",
            " 7   Monetary_total     83931 non-null  float64\n",
            " 8   CAI                83931 non-null  float64\n",
            " 9   ActiveDays         83931 non-null  float64\n",
            " 10  CompleteOrders     83931 non-null  int64  \n",
            " 11  ReturnOrders       83931 non-null  float64\n",
            " 12  PromotionUsed      83931 non-null  float64\n",
            " 13  PromotionUsedRate  83931 non-null  float64\n",
            " 14  FinishedOrders     83931 non-null  float64\n",
            " 15  ReturnRate         83931 non-null  float64\n",
            " 16  TotalSalesAmount   83931 non-null  float64\n",
            " 17  Active             83931 non-null  float64\n",
            " 18  VIP                83931 non-null  float64\n",
            "dtypes: float64(13), int64(5), object(1)\n",
            "memory usage: 12.8+ MB\n"
          ]
        }
      ],
      "source": [
        "data.feature_label_data.info()"
      ]
    },
    {
      "cell_type": "code",
      "execution_count": null,
      "metadata": {
        "colab": {
          "base_uri": "https://localhost:8080/",
          "height": 270
        },
        "id": "yI432IaSZ1aq",
        "outputId": "50ca29da-533a-41d3-9de3-6b5072b1dde5"
      },
      "outputs": [
        {
          "output_type": "execute_result",
          "data": {
            "text/plain": [
              "                                       MemberID  Age  Lifespan  Lifespan_days  \\\n",
              "0  sq6A9cXpkm6osmubTCLs8bWeANzqL5qGj9eHJszdQSU=   26         4           1517   \n",
              "1  5zctnMgeBBnl88Ncab+TgtLtTv4IKqEqHZOVDdMbzp0=   31         3           1225   \n",
              "2  CFwUYZ8qzgF+9DlCOT+VyjhQFqB3VoHz/83rwJoodFY=   30         3           1414   \n",
              "3  Sln7tpbmaTY2lN9m/PFIjHMFr8oWt2x5BpTAoQ5wV8I=   24         3           1427   \n",
              "4  MJYoc2LF9yz2q+mJ7IlBbEf/oT5TvTP5s0Tu8t1pNMY=   27         4           1520   \n",
              "\n",
              "   Recency  Frequency  Monetary  Monetary_total       CAI  ActiveDays  \\\n",
              "0      123        2.0    840.00          5820.0  0.138333        16.0   \n",
              "1        8        4.0   2212.25         31367.0  0.090855        50.0   \n",
              "2     1035        0.0      0.00         10980.0 -0.186684         3.0   \n",
              "3      271        2.0    703.00         11979.0 -0.059084         2.0   \n",
              "4      244        1.0   1016.00         10165.0 -0.318323         8.0   \n",
              "\n",
              "   CompleteOrders  ReturnOrders  PromotionUsed  PromotionUsedRate  \\\n",
              "0               5           5.0            1.0           0.200000   \n",
              "1              13           0.0           12.0           0.923077   \n",
              "2               3           2.0            0.0           0.000000   \n",
              "3               6           5.0            2.0           0.333333   \n",
              "4              11           4.0            4.0           0.363636   \n",
              "\n",
              "   FinishedOrders  ReturnRate  TotalSalesAmount  Active  VIP  \n",
              "0             0.0    1.000000               0.0     0.0  0.0  \n",
              "1            13.0    0.000000            3635.0     1.0  1.0  \n",
              "2             1.0    0.666667               0.0     0.0  0.0  \n",
              "3             1.0    0.833333               0.0     0.0  0.0  \n",
              "4             7.0    0.363636            4840.0     1.0  1.0  "
            ],
            "text/html": [
              "\n",
              "  <div id=\"df-4c4875ea-4e3a-4911-9acc-ed70105fda3f\">\n",
              "    <div class=\"colab-df-container\">\n",
              "      <div>\n",
              "<style scoped>\n",
              "    .dataframe tbody tr th:only-of-type {\n",
              "        vertical-align: middle;\n",
              "    }\n",
              "\n",
              "    .dataframe tbody tr th {\n",
              "        vertical-align: top;\n",
              "    }\n",
              "\n",
              "    .dataframe thead th {\n",
              "        text-align: right;\n",
              "    }\n",
              "</style>\n",
              "<table border=\"1\" class=\"dataframe\">\n",
              "  <thead>\n",
              "    <tr style=\"text-align: right;\">\n",
              "      <th></th>\n",
              "      <th>MemberID</th>\n",
              "      <th>Age</th>\n",
              "      <th>Lifespan</th>\n",
              "      <th>Lifespan_days</th>\n",
              "      <th>Recency</th>\n",
              "      <th>Frequency</th>\n",
              "      <th>Monetary</th>\n",
              "      <th>Monetary_total</th>\n",
              "      <th>CAI</th>\n",
              "      <th>ActiveDays</th>\n",
              "      <th>CompleteOrders</th>\n",
              "      <th>ReturnOrders</th>\n",
              "      <th>PromotionUsed</th>\n",
              "      <th>PromotionUsedRate</th>\n",
              "      <th>FinishedOrders</th>\n",
              "      <th>ReturnRate</th>\n",
              "      <th>TotalSalesAmount</th>\n",
              "      <th>Active</th>\n",
              "      <th>VIP</th>\n",
              "    </tr>\n",
              "  </thead>\n",
              "  <tbody>\n",
              "    <tr>\n",
              "      <th>0</th>\n",
              "      <td>sq6A9cXpkm6osmubTCLs8bWeANzqL5qGj9eHJszdQSU=</td>\n",
              "      <td>26</td>\n",
              "      <td>4</td>\n",
              "      <td>1517</td>\n",
              "      <td>123</td>\n",
              "      <td>2.0</td>\n",
              "      <td>840.00</td>\n",
              "      <td>5820.0</td>\n",
              "      <td>0.138333</td>\n",
              "      <td>16.0</td>\n",
              "      <td>5</td>\n",
              "      <td>5.0</td>\n",
              "      <td>1.0</td>\n",
              "      <td>0.200000</td>\n",
              "      <td>0.0</td>\n",
              "      <td>1.000000</td>\n",
              "      <td>0.0</td>\n",
              "      <td>0.0</td>\n",
              "      <td>0.0</td>\n",
              "    </tr>\n",
              "    <tr>\n",
              "      <th>1</th>\n",
              "      <td>5zctnMgeBBnl88Ncab+TgtLtTv4IKqEqHZOVDdMbzp0=</td>\n",
              "      <td>31</td>\n",
              "      <td>3</td>\n",
              "      <td>1225</td>\n",
              "      <td>8</td>\n",
              "      <td>4.0</td>\n",
              "      <td>2212.25</td>\n",
              "      <td>31367.0</td>\n",
              "      <td>0.090855</td>\n",
              "      <td>50.0</td>\n",
              "      <td>13</td>\n",
              "      <td>0.0</td>\n",
              "      <td>12.0</td>\n",
              "      <td>0.923077</td>\n",
              "      <td>13.0</td>\n",
              "      <td>0.000000</td>\n",
              "      <td>3635.0</td>\n",
              "      <td>1.0</td>\n",
              "      <td>1.0</td>\n",
              "    </tr>\n",
              "    <tr>\n",
              "      <th>2</th>\n",
              "      <td>CFwUYZ8qzgF+9DlCOT+VyjhQFqB3VoHz/83rwJoodFY=</td>\n",
              "      <td>30</td>\n",
              "      <td>3</td>\n",
              "      <td>1414</td>\n",
              "      <td>1035</td>\n",
              "      <td>0.0</td>\n",
              "      <td>0.00</td>\n",
              "      <td>10980.0</td>\n",
              "      <td>-0.186684</td>\n",
              "      <td>3.0</td>\n",
              "      <td>3</td>\n",
              "      <td>2.0</td>\n",
              "      <td>0.0</td>\n",
              "      <td>0.000000</td>\n",
              "      <td>1.0</td>\n",
              "      <td>0.666667</td>\n",
              "      <td>0.0</td>\n",
              "      <td>0.0</td>\n",
              "      <td>0.0</td>\n",
              "    </tr>\n",
              "    <tr>\n",
              "      <th>3</th>\n",
              "      <td>Sln7tpbmaTY2lN9m/PFIjHMFr8oWt2x5BpTAoQ5wV8I=</td>\n",
              "      <td>24</td>\n",
              "      <td>3</td>\n",
              "      <td>1427</td>\n",
              "      <td>271</td>\n",
              "      <td>2.0</td>\n",
              "      <td>703.00</td>\n",
              "      <td>11979.0</td>\n",
              "      <td>-0.059084</td>\n",
              "      <td>2.0</td>\n",
              "      <td>6</td>\n",
              "      <td>5.0</td>\n",
              "      <td>2.0</td>\n",
              "      <td>0.333333</td>\n",
              "      <td>1.0</td>\n",
              "      <td>0.833333</td>\n",
              "      <td>0.0</td>\n",
              "      <td>0.0</td>\n",
              "      <td>0.0</td>\n",
              "    </tr>\n",
              "    <tr>\n",
              "      <th>4</th>\n",
              "      <td>MJYoc2LF9yz2q+mJ7IlBbEf/oT5TvTP5s0Tu8t1pNMY=</td>\n",
              "      <td>27</td>\n",
              "      <td>4</td>\n",
              "      <td>1520</td>\n",
              "      <td>244</td>\n",
              "      <td>1.0</td>\n",
              "      <td>1016.00</td>\n",
              "      <td>10165.0</td>\n",
              "      <td>-0.318323</td>\n",
              "      <td>8.0</td>\n",
              "      <td>11</td>\n",
              "      <td>4.0</td>\n",
              "      <td>4.0</td>\n",
              "      <td>0.363636</td>\n",
              "      <td>7.0</td>\n",
              "      <td>0.363636</td>\n",
              "      <td>4840.0</td>\n",
              "      <td>1.0</td>\n",
              "      <td>1.0</td>\n",
              "    </tr>\n",
              "  </tbody>\n",
              "</table>\n",
              "</div>\n",
              "      <button class=\"colab-df-convert\" onclick=\"convertToInteractive('df-4c4875ea-4e3a-4911-9acc-ed70105fda3f')\"\n",
              "              title=\"Convert this dataframe to an interactive table.\"\n",
              "              style=\"display:none;\">\n",
              "        \n",
              "  <svg xmlns=\"http://www.w3.org/2000/svg\" height=\"24px\"viewBox=\"0 0 24 24\"\n",
              "       width=\"24px\">\n",
              "    <path d=\"M0 0h24v24H0V0z\" fill=\"none\"/>\n",
              "    <path d=\"M18.56 5.44l.94 2.06.94-2.06 2.06-.94-2.06-.94-.94-2.06-.94 2.06-2.06.94zm-11 1L8.5 8.5l.94-2.06 2.06-.94-2.06-.94L8.5 2.5l-.94 2.06-2.06.94zm10 10l.94 2.06.94-2.06 2.06-.94-2.06-.94-.94-2.06-.94 2.06-2.06.94z\"/><path d=\"M17.41 7.96l-1.37-1.37c-.4-.4-.92-.59-1.43-.59-.52 0-1.04.2-1.43.59L10.3 9.45l-7.72 7.72c-.78.78-.78 2.05 0 2.83L4 21.41c.39.39.9.59 1.41.59.51 0 1.02-.2 1.41-.59l7.78-7.78 2.81-2.81c.8-.78.8-2.07 0-2.86zM5.41 20L4 18.59l7.72-7.72 1.47 1.35L5.41 20z\"/>\n",
              "  </svg>\n",
              "      </button>\n",
              "      \n",
              "  <style>\n",
              "    .colab-df-container {\n",
              "      display:flex;\n",
              "      flex-wrap:wrap;\n",
              "      gap: 12px;\n",
              "    }\n",
              "\n",
              "    .colab-df-convert {\n",
              "      background-color: #E8F0FE;\n",
              "      border: none;\n",
              "      border-radius: 50%;\n",
              "      cursor: pointer;\n",
              "      display: none;\n",
              "      fill: #1967D2;\n",
              "      height: 32px;\n",
              "      padding: 0 0 0 0;\n",
              "      width: 32px;\n",
              "    }\n",
              "\n",
              "    .colab-df-convert:hover {\n",
              "      background-color: #E2EBFA;\n",
              "      box-shadow: 0px 1px 2px rgba(60, 64, 67, 0.3), 0px 1px 3px 1px rgba(60, 64, 67, 0.15);\n",
              "      fill: #174EA6;\n",
              "    }\n",
              "\n",
              "    [theme=dark] .colab-df-convert {\n",
              "      background-color: #3B4455;\n",
              "      fill: #D2E3FC;\n",
              "    }\n",
              "\n",
              "    [theme=dark] .colab-df-convert:hover {\n",
              "      background-color: #434B5C;\n",
              "      box-shadow: 0px 1px 3px 1px rgba(0, 0, 0, 0.15);\n",
              "      filter: drop-shadow(0px 1px 2px rgba(0, 0, 0, 0.3));\n",
              "      fill: #FFFFFF;\n",
              "    }\n",
              "  </style>\n",
              "\n",
              "      <script>\n",
              "        const buttonEl =\n",
              "          document.querySelector('#df-4c4875ea-4e3a-4911-9acc-ed70105fda3f button.colab-df-convert');\n",
              "        buttonEl.style.display =\n",
              "          google.colab.kernel.accessAllowed ? 'block' : 'none';\n",
              "\n",
              "        async function convertToInteractive(key) {\n",
              "          const element = document.querySelector('#df-4c4875ea-4e3a-4911-9acc-ed70105fda3f');\n",
              "          const dataTable =\n",
              "            await google.colab.kernel.invokeFunction('convertToInteractive',\n",
              "                                                     [key], {});\n",
              "          if (!dataTable) return;\n",
              "\n",
              "          const docLinkHtml = 'Like what you see? Visit the ' +\n",
              "            '<a target=\"_blank\" href=https://colab.research.google.com/notebooks/data_table.ipynb>data table notebook</a>'\n",
              "            + ' to learn more about interactive tables.';\n",
              "          element.innerHTML = '';\n",
              "          dataTable['output_type'] = 'display_data';\n",
              "          await google.colab.output.renderOutput(dataTable, element);\n",
              "          const docLink = document.createElement('div');\n",
              "          docLink.innerHTML = docLinkHtml;\n",
              "          element.appendChild(docLink);\n",
              "        }\n",
              "      </script>\n",
              "    </div>\n",
              "  </div>\n",
              "  "
            ]
          },
          "metadata": {},
          "execution_count": 32
        }
      ],
      "source": [
        "data.feature_label_data.head()"
      ]
    },
    {
      "cell_type": "code",
      "source": [
        "data.feature_label_data.groupby(by=['VIP']).size()"
      ],
      "metadata": {
        "colab": {
          "base_uri": "https://localhost:8080/"
        },
        "id": "lNguXO64TxwQ",
        "outputId": "221d1bb9-056b-483f-df04-f6c7115e7868"
      },
      "execution_count": null,
      "outputs": [
        {
          "output_type": "execute_result",
          "data": {
            "text/plain": [
              "VIP\n",
              "0.0    72733\n",
              "1.0    11198\n",
              "dtype: int64"
            ]
          },
          "metadata": {},
          "execution_count": 33
        }
      ]
    },
    {
      "cell_type": "code",
      "execution_count": null,
      "metadata": {
        "id": "EFo-6K8gMM3H"
      },
      "outputs": [],
      "source": [
        "# data.complete_data.to_csv('feature_data(complete).csv', index=False, encoding = 'utf-8')\n",
        "# data.feature_data.to_csv('feature_data.csv', index=False, encoding = 'utf-8')\n",
        "# data.label_data.to_csv('label_data.csv', index=False, encoding = 'utf-8')\n",
        "data.feature_label_data.to_csv('Handcrafted Features.csv', index=False, encoding = 'utf-8')"
      ]
    },
    {
      "cell_type": "markdown",
      "source": [
        "## 變數關係"
      ],
      "metadata": {
        "id": "fBK6j0sza2L0"
      }
    },
    {
      "cell_type": "code",
      "execution_count": null,
      "metadata": {
        "id": "YUo0dM4Wa-sq",
        "colab": {
          "base_uri": "https://localhost:8080/"
        },
        "outputId": "7631f7d3-7f72-4ca7-ecf9-4251d4deecac"
      },
      "outputs": [
        {
          "output_type": "execute_result",
          "data": {
            "text/plain": [
              "Index(['MemberID', 'Age', 'Lifespan', 'Lifespan_days', 'Recency', 'Frequency',\n",
              "       'Monetary', 'Monetary_total', 'CAI', 'ActiveDays', 'CompleteOrders',\n",
              "       'ReturnOrders', 'PromotionUsed', 'PromotionUsedRate', 'FinishedOrders',\n",
              "       'ReturnRate', 'PurchaseRatio', 'TotalSalesAmount', 'Active', 'VIP'],\n",
              "      dtype='object')"
            ]
          },
          "metadata": {},
          "execution_count": 23
        }
      ],
      "source": [
        "data.feature_label_data.columns"
      ]
    },
    {
      "cell_type": "code",
      "source": [
        "X_cols = ['Age', 'Lifespan', 'Lifespan_days', 'Recency', 'Frequency',\n",
        "       'Monetary', 'Monetary_total', 'CAI', 'ActiveDays', 'CompleteOrders',\n",
        "       'ReturnOrders', 'PromotionUsed', 'PromotionUsedRate', 'FinishedOrders',\n",
        "       'ReturnRate']"
      ],
      "metadata": {
        "id": "MOBsPaHu_1Lb"
      },
      "execution_count": null,
      "outputs": []
    },
    {
      "cell_type": "code",
      "source": [
        "X = data.feature_label_data[X_cols]\n",
        "y = data.feature_label_data['VIP']"
      ],
      "metadata": {
        "id": "sNZzDCWL-Bwo"
      },
      "execution_count": null,
      "outputs": []
    },
    {
      "cell_type": "code",
      "source": [
        "import statsmodels.api as sm\n",
        "X_cons = sm.add_constant(X.astype(float))\n",
        "model = sm.OLS(y, X_cons)\n",
        "model_fit = model.fit()\n",
        "print(model_fit.summary())"
      ],
      "metadata": {
        "colab": {
          "base_uri": "https://localhost:8080/"
        },
        "id": "lmICYPT9WLHo",
        "outputId": "f934755d-54b6-4dc2-c259-dd15e09423a5"
      },
      "execution_count": null,
      "outputs": [
        {
          "output_type": "stream",
          "name": "stderr",
          "text": [
            "/usr/local/lib/python3.7/dist-packages/statsmodels/tools/_testing.py:19: FutureWarning: pandas.util.testing is deprecated. Use the functions in the public API at pandas.testing instead.\n",
            "  import pandas.util.testing as tm\n"
          ]
        },
        {
          "output_type": "stream",
          "name": "stdout",
          "text": [
            "                            OLS Regression Results                            \n",
            "==============================================================================\n",
            "Dep. Variable:                    VIP   R-squared:                       0.136\n",
            "Model:                            OLS   Adj. R-squared:                  0.136\n",
            "Method:                 Least Squares   F-statistic:                     881.7\n",
            "Date:                Thu, 07 Apr 2022   Prob (F-statistic):               0.00\n",
            "Time:                        07:55:18   Log-Likelihood:                -22412.\n",
            "No. Observations:               83931   AIC:                         4.486e+04\n",
            "Df Residuals:                   83915   BIC:                         4.501e+04\n",
            "Df Model:                          15                                         \n",
            "Covariance Type:            nonrobust                                         \n",
            "=====================================================================================\n",
            "                        coef    std err          t      P>|t|      [0.025      0.975]\n",
            "-------------------------------------------------------------------------------------\n",
            "const                 0.0091      0.005      1.944      0.052   -7.43e-05       0.018\n",
            "Age                4.021e-05    1.4e-05      2.866      0.004    1.27e-05    6.77e-05\n",
            "Lifespan              0.0250      0.004      6.436      0.000       0.017       0.033\n",
            "Lifespan_days     -3.176e-05   1.08e-05     -2.931      0.003    -5.3e-05   -1.05e-05\n",
            "Recency           -5.748e-05   5.02e-06    -11.462      0.000   -6.73e-05   -4.77e-05\n",
            "Frequency             0.0196      0.001     16.334      0.000       0.017       0.022\n",
            "Monetary           1.293e-05   1.49e-06      8.699      0.000       1e-05    1.58e-05\n",
            "Monetary_total     7.871e-06   5.84e-07     13.486      0.000    6.73e-06    9.02e-06\n",
            "CAI                   0.0420      0.006      6.902      0.000       0.030       0.054\n",
            "ActiveDays            0.0019   7.34e-05     25.457      0.000       0.002       0.002\n",
            "CompleteOrders        0.0083      0.001      9.180      0.000       0.007       0.010\n",
            "ReturnOrders         -0.0021      0.001     -2.429      0.015      -0.004      -0.000\n",
            "PromotionUsed        -0.0176      0.002    -11.163      0.000      -0.021      -0.014\n",
            "PromotionUsedRate     0.0451      0.004     11.849      0.000       0.038       0.053\n",
            "FinishedOrders        0.0103      0.001      9.259      0.000       0.008       0.013\n",
            "ReturnRate            0.0144      0.004      3.412      0.001       0.006       0.023\n",
            "PurchaseRatio        -0.0003      0.000     -2.550      0.011      -0.001   -7.56e-05\n",
            "==============================================================================\n",
            "Omnibus:                    30664.742   Durbin-Watson:                   1.991\n",
            "Prob(Omnibus):                  0.000   Jarque-Bera (JB):            98981.438\n",
            "Skew:                           1.913   Prob(JB):                         0.00\n",
            "Kurtosis:                       6.697   Cond. No.                     7.12e+18\n",
            "==============================================================================\n",
            "\n",
            "Warnings:\n",
            "[1] Standard Errors assume that the covariance matrix of the errors is correctly specified.\n",
            "[2] The smallest eigenvalue is 7.74e-26. This might indicate that there are\n",
            "strong multicollinearity problems or that the design matrix is singular.\n"
          ]
        },
        {
          "output_type": "stream",
          "name": "stderr",
          "text": [
            "/usr/local/lib/python3.7/dist-packages/statsmodels/tsa/tsatools.py:117: FutureWarning: In a future version of pandas all arguments of concat except for the argument 'objs' will be keyword-only\n",
            "  x = pd.concat(x[::order], 1)\n"
          ]
        }
      ]
    },
    {
      "cell_type": "code",
      "source": [
        ""
      ],
      "metadata": {
        "id": "a2dmHGK0bmKr"
      },
      "execution_count": null,
      "outputs": []
    }
  ],
  "metadata": {
    "colab": {
      "collapsed_sections": [],
      "name": "Handcrafted Feature Preprocessor",
      "provenance": []
    },
    "kernelspec": {
      "display_name": "Python 3",
      "name": "python3"
    },
    "language_info": {
      "name": "python"
    }
  },
  "nbformat": 4,
  "nbformat_minor": 0
}