{
  "cells": [
    {
      "cell_type": "code",
      "execution_count": null,
      "metadata": {
        "colab": {
          "base_uri": "https://localhost:8080/"
        },
        "id": "TOWIMqE4bScp",
        "outputId": "d9e20b88-5654-4a53-f5ab-377b11b38a53"
      },
      "outputs": [
        {
          "output_type": "stream",
          "name": "stdout",
          "text": [
            "Mounted at /content/drive\n"
          ]
        }
      ],
      "source": [
        "from google.colab import drive\n",
        "drive.mount('/content/drive')"
      ]
    },
    {
      "cell_type": "code",
      "execution_count": null,
      "metadata": {
        "colab": {
          "base_uri": "https://localhost:8080/"
        },
        "id": "E9vDxSuibW_T",
        "outputId": "bf2a09cb-b8e1-4fe6-f8f4-ac90c40c2164"
      },
      "outputs": [
        {
          "output_type": "stream",
          "name": "stdout",
          "text": [
            "/content/drive/Shareddrives/My paper\n"
          ]
        }
      ],
      "source": [
        "%cd /content/drive/Shareddrives/My\\ paper"
      ]
    },
    {
      "cell_type": "code",
      "execution_count": null,
      "metadata": {
        "id": "kccKnbTybjMI"
      },
      "outputs": [],
      "source": [
        "import pandas as pd\n",
        "import numpy as np\n",
        "from datetime import date, timedelta, datetime"
      ]
    },
    {
      "cell_type": "code",
      "execution_count": null,
      "metadata": {
        "id": "TKZvlm6Kblfx"
      },
      "outputs": [],
      "source": [
        "member = pd.read_csv('dataset/91APP_MemberData.csv')"
      ]
    },
    {
      "cell_type": "code",
      "execution_count": null,
      "metadata": {
        "colab": {
          "base_uri": "https://localhost:8080/"
        },
        "id": "feq5WIbP5PAk",
        "outputId": "8ee7e296-44c8-476d-b464-541505decacb"
      },
      "outputs": [
        {
          "output_type": "stream",
          "name": "stderr",
          "text": [
            "/usr/local/lib/python3.7/dist-packages/IPython/core/interactiveshell.py:2882: DtypeWarning: Columns (4) have mixed types.Specify dtype option on import or set low_memory=False.\n",
            "  exec(code_obj, self.user_global_ns, self.user_ns)\n"
          ]
        }
      ],
      "source": [
        "order = pd.read_csv('dataset/91APP_OrderData.csv')"
      ]
    },
    {
      "cell_type": "code",
      "source": [
        "print(len(member['MemberID'].unique()), len(order['MemberID'].unique()))"
      ],
      "metadata": {
        "colab": {
          "base_uri": "https://localhost:8080/"
        },
        "id": "Z-1rJO_cqsqh",
        "outputId": "bebd7e21-d1d4-4c7e-c194-baca4563bd10"
      },
      "execution_count": null,
      "outputs": [
        {
          "output_type": "stream",
          "name": "stdout",
          "text": [
            "377133 235493\n"
          ]
        }
      ]
    },
    {
      "cell_type": "code",
      "source": [
        "order['TradesDateTime'] = pd.to_datetime(order['TradesDateTime'])\n",
        "order = order.sort_values(by='TradesDateTime')"
      ],
      "metadata": {
        "id": "VOm5BSfJlVyw"
      },
      "execution_count": null,
      "outputs": []
    },
    {
      "cell_type": "code",
      "source": [
        "member['RegisterDateTime'] = pd.to_datetime(member['RegisterDateTime'])\n",
        "member = member.sort_values(by='RegisterDateTime')\n",
        "member = member.drop_duplicates(subset=['MemberID'], keep=False)"
      ],
      "metadata": {
        "id": "98_TYCtIwOMQ"
      },
      "execution_count": null,
      "outputs": []
    },
    {
      "cell_type": "code",
      "source": [
        "len(member)"
      ],
      "metadata": {
        "colab": {
          "base_uri": "https://localhost:8080/"
        },
        "id": "DIOBXdT0xYiw",
        "outputId": "b15b2398-b6f9-44f2-e253-596cc682ce25"
      },
      "execution_count": null,
      "outputs": [
        {
          "output_type": "execute_result",
          "data": {
            "text/plain": [
              "377132"
            ]
          },
          "metadata": {},
          "execution_count": 9
        }
      ]
    },
    {
      "cell_type": "code",
      "source": [
        "label_data = pd.read_csv('./Customer Value Prediction/TABLES/Label Data.csv')"
      ],
      "metadata": {
        "id": "PVWwwl_c-7lT"
      },
      "execution_count": null,
      "outputs": []
    },
    {
      "cell_type": "code",
      "source": [
        "memberIDs = list(label_data['MemberID'].unique())"
      ],
      "metadata": {
        "id": "yom3GAaOrX4o"
      },
      "execution_count": null,
      "outputs": []
    },
    {
      "cell_type": "markdown",
      "metadata": {
        "id": "1SY4BKs_Lbae"
      },
      "source": [
        "## 加上 UID 欄位\n"
      ]
    },
    {
      "cell_type": "code",
      "source": [
        "def add_uid_col(data):\n",
        "  df = data.copy()\n",
        "  df['uid'] = df['MemberID'].str.replace('+', '%2B')\n",
        "  df['uid'] = df['uid'].str.replace('/', '%2F')\n",
        "  df['uid'] = df['uid'].str.replace('=', '%3D')\n",
        "\n",
        "  return df['uid']"
      ],
      "metadata": {
        "id": "67v-mY2DoknY"
      },
      "execution_count": null,
      "outputs": []
    },
    {
      "cell_type": "code",
      "source": [
        "label_data['uid'] = add_uid_col(label_data)"
      ],
      "metadata": {
        "colab": {
          "base_uri": "https://localhost:8080/"
        },
        "id": "8wzcZ7lssiZa",
        "outputId": "6b2ec2ac-05c9-4e59-d020-d862db4aaad8"
      },
      "execution_count": null,
      "outputs": [
        {
          "output_type": "stream",
          "name": "stderr",
          "text": [
            "/usr/local/lib/python3.7/dist-packages/ipykernel_launcher.py:3: FutureWarning: The default value of regex will change from True to False in a future version. In addition, single character regular expressions will *not* be treated as literal strings when regex=True.\n",
            "  This is separate from the ipykernel package so we can avoid doing imports until\n"
          ]
        }
      ]
    },
    {
      "cell_type": "code",
      "source": [
        "uids = list(label_data['uid'].unique())"
      ],
      "metadata": {
        "id": "8ysBUQ0Ys31Z"
      },
      "execution_count": null,
      "outputs": []
    },
    {
      "cell_type": "code",
      "source": [
        "print(len(memberIDs), len(uids))"
      ],
      "metadata": {
        "colab": {
          "base_uri": "https://localhost:8080/"
        },
        "id": "NiDYzntPs-ol",
        "outputId": "044943d6-d3b6-48e0-dac1-6bc76e75d016"
      },
      "execution_count": null,
      "outputs": [
        {
          "output_type": "stream",
          "name": "stdout",
          "text": [
            "83931 83931\n"
          ]
        }
      ]
    },
    {
      "cell_type": "markdown",
      "source": [
        "## 讀取所有行為資料"
      ],
      "metadata": {
        "id": "Vy2gLDSzwPwW"
      }
    },
    {
      "cell_type": "code",
      "source": [
        "behaviors = pd.read_csv('all behaviors data.csv')"
      ],
      "metadata": {
        "id": "n4UCJ3nFwEba"
      },
      "execution_count": null,
      "outputs": []
    },
    {
      "cell_type": "code",
      "source": [
        "behaviors.columns"
      ],
      "metadata": {
        "colab": {
          "base_uri": "https://localhost:8080/"
        },
        "id": "AbGA33z9AkHg",
        "outputId": "1927865a-2894-43f2-9d56-bd9b753398d2"
      },
      "execution_count": null,
      "outputs": [
        {
          "output_type": "execute_result",
          "data": {
            "text/plain": [
              "Index(['Unnamed: 0', 'dc', 'did', 'uid', 'DateTime', 'bh', 'uid_filled'], dtype='object')"
            ]
          },
          "metadata": {},
          "execution_count": 17
        }
      ]
    },
    {
      "cell_type": "code",
      "source": [
        "behaviors = behaviors[behaviors['uid_filled'].isin(uids)][['did', 'uid', 'DateTime', 'bh', 'uid_filled']]"
      ],
      "metadata": {
        "id": "qbLTjA_3_-my"
      },
      "execution_count": null,
      "outputs": []
    },
    {
      "cell_type": "code",
      "source": [
        "len(behaviors)"
      ],
      "metadata": {
        "colab": {
          "base_uri": "https://localhost:8080/"
        },
        "id": "Fix3h-bAX-D5",
        "outputId": "2c1ab0cf-b57f-41c9-d3d0-7b4f3e0a6b7e"
      },
      "execution_count": null,
      "outputs": [
        {
          "output_type": "execute_result",
          "data": {
            "text/plain": [
              "12879698"
            ]
          },
          "metadata": {},
          "execution_count": 19
        }
      ]
    },
    {
      "cell_type": "code",
      "source": [
        "behaviors = behaviors.sort_values(by=['uid_filled', 'DateTime'])"
      ],
      "metadata": {
        "id": "M2a9jAqY59V6"
      },
      "execution_count": null,
      "outputs": []
    },
    {
      "cell_type": "code",
      "source": [
        "## session 切換三種狀況:\n",
        "### 1. 隔天\n",
        "### 2. 不同 traffic source\n",
        "### 3. 閒置 30 min\n",
        "def split_session(df):\n",
        "  df_copy = df.copy()\n",
        "  df_copy['Session'] = [0] * len(df)\n",
        "\n",
        "  df_copy['DateTime'] = pd.to_datetime(df_copy['DateTime'], format='%Y-%m-%d %H:%M:%S')\n",
        "  df_copy['datetime_previous'] = df_copy['DateTime'].shift(periods=1, fill_value=df_copy.iloc[0]['DateTime'])\n",
        "  df_copy['datetime_next'] = df_copy['DateTime'].shift(periods=-1, fill_value='2020-04-30 23:59:59.999')\n",
        "\n",
        "  df_copy['uid_pre'] = df_copy['uid_filled'].shift(periods=1, fill_value='first_member')\n",
        "  df_copy['uid_next'] = df_copy['uid_filled'].shift(periods=-1, fill_value='final_member')\n",
        "  df_copy.loc[(df_copy['uid_filled'] != df_copy['uid_next']), 'datetime_next'] = '2020-04-30 23:59:59.999'\n",
        "\n",
        "  df_copy['TimeDiff'] = (df_copy['datetime_next'] - df_copy['DateTime']).astype('timedelta64[m]')\n",
        "  df_copy.loc[(df_copy['uid_filled'] != df_copy['uid_next']), 'TimeDiff'] = 0\n",
        "  df_copy['DayDiff'] = df_copy['DateTime'].dt.day - df_copy['datetime_previous'].dt.day\n",
        "  df_copy['MinuteDiff'] = (df_copy['DateTime'] - df_copy['datetime_previous']).astype('timedelta64[m]')\n",
        "\n",
        "  df_copy.loc[(\n",
        "      (df_copy['bh'] == 'traffic') | \n",
        "      (df_copy['MinuteDiff']>=30) | \n",
        "      (df_copy['DayDiff'] != 0) | \n",
        "      (df_copy['uid_filled'] != df_copy['uid_pre'])\n",
        "      ), 'Session'] = 1\n",
        "\n",
        "  df_copy.loc[(df_copy['uid_filled'] != df_copy['uid_pre']), 'MinuteDiff'] = 0\n",
        "\n",
        "  return df_copy"
      ],
      "metadata": {
        "id": "sz7mzqam6hAM"
      },
      "execution_count": null,
      "outputs": []
    },
    {
      "cell_type": "code",
      "source": [
        "split_session_data = split_session(behaviors).reset_index()\n",
        "split_session_data['SessionOrder'] = split_session_data['Session'].cumsum()"
      ],
      "metadata": {
        "id": "O7c-xwBE6x2K",
        "colab": {
          "base_uri": "https://localhost:8080/"
        },
        "outputId": "9e07884a-6317-4746-8609-7b9ef79452c7"
      },
      "execution_count": null,
      "outputs": [
        {
          "output_type": "stream",
          "name": "stderr",
          "text": [
            "/usr/local/lib/python3.7/dist-packages/ipykernel_launcher.py:11: FutureWarning: Passing <class 'str'> to shift is deprecated and will raise in a future version, pass Timestamp instead.\n",
            "  # This is added back by InteractiveShellApp.init_path()\n"
          ]
        }
      ]
    },
    {
      "cell_type": "code",
      "source": [
        "len(split_session_data['uid_filled'].unique())"
      ],
      "metadata": {
        "colab": {
          "base_uri": "https://localhost:8080/"
        },
        "id": "n8Kgk7IXeVIo",
        "outputId": "b6dc3cf0-6698-447c-87e5-00a54fcccbaa"
      },
      "execution_count": null,
      "outputs": [
        {
          "output_type": "execute_result",
          "data": {
            "text/plain": [
              "83931"
            ]
          },
          "metadata": {},
          "execution_count": 23
        }
      ]
    },
    {
      "cell_type": "code",
      "source": [
        "pd.DataFrame(split_session_data.groupby(by=['SessionOrder','bh']).size().unstack()).fillna(0).astype(int)"
      ],
      "metadata": {
        "colab": {
          "base_uri": "https://localhost:8080/",
          "height": 455
        },
        "id": "TIqy_p_6LwQb",
        "outputId": "3c895511-a50b-4f91-8bb7-669db782dd03"
      },
      "execution_count": null,
      "outputs": [
        {
          "output_type": "execute_result",
          "data": {
            "text/plain": [
              "bh            add  checkout  purchase  register  search  traffic  \\\n",
              "SessionOrder                                                       \n",
              "1               0         0         0         0       0        0   \n",
              "2               2         0         0         0       0        0   \n",
              "3               0         0         0         0       0        0   \n",
              "4               1         0         0         1       0        1   \n",
              "5               2         9         0         0       0        1   \n",
              "...           ...       ...       ...       ...     ...      ...   \n",
              "4610620         0         0         0         0       0        0   \n",
              "4610621         0         0         0         0       1        0   \n",
              "4610622         2         0         0         0       0        0   \n",
              "4610623         0         0         0         0       1        0   \n",
              "4610624         0         0         0         0       1        0   \n",
              "\n",
              "bh            viewactivity  viewcategory  viewmainpage  viewproduct  \n",
              "SessionOrder                                                         \n",
              "1                        1             0             6            3  \n",
              "2                        0             6            17            6  \n",
              "3                        0             0             6            1  \n",
              "4                        0             7             3           12  \n",
              "5                        4            10            19           13  \n",
              "...                    ...           ...           ...          ...  \n",
              "4610620                  0             0             2            1  \n",
              "4610621                  0             2             2            1  \n",
              "4610622                  0            11             2           11  \n",
              "4610623                  0             0             1            4  \n",
              "4610624                  0             0             3            0  \n",
              "\n",
              "[4610624 rows x 10 columns]"
            ],
            "text/html": [
              "\n",
              "  <div id=\"df-b229daf9-08d2-461d-b123-7c73ce99d939\">\n",
              "    <div class=\"colab-df-container\">\n",
              "      <div>\n",
              "<style scoped>\n",
              "    .dataframe tbody tr th:only-of-type {\n",
              "        vertical-align: middle;\n",
              "    }\n",
              "\n",
              "    .dataframe tbody tr th {\n",
              "        vertical-align: top;\n",
              "    }\n",
              "\n",
              "    .dataframe thead th {\n",
              "        text-align: right;\n",
              "    }\n",
              "</style>\n",
              "<table border=\"1\" class=\"dataframe\">\n",
              "  <thead>\n",
              "    <tr style=\"text-align: right;\">\n",
              "      <th>bh</th>\n",
              "      <th>add</th>\n",
              "      <th>checkout</th>\n",
              "      <th>purchase</th>\n",
              "      <th>register</th>\n",
              "      <th>search</th>\n",
              "      <th>traffic</th>\n",
              "      <th>viewactivity</th>\n",
              "      <th>viewcategory</th>\n",
              "      <th>viewmainpage</th>\n",
              "      <th>viewproduct</th>\n",
              "    </tr>\n",
              "    <tr>\n",
              "      <th>SessionOrder</th>\n",
              "      <th></th>\n",
              "      <th></th>\n",
              "      <th></th>\n",
              "      <th></th>\n",
              "      <th></th>\n",
              "      <th></th>\n",
              "      <th></th>\n",
              "      <th></th>\n",
              "      <th></th>\n",
              "      <th></th>\n",
              "    </tr>\n",
              "  </thead>\n",
              "  <tbody>\n",
              "    <tr>\n",
              "      <th>1</th>\n",
              "      <td>0</td>\n",
              "      <td>0</td>\n",
              "      <td>0</td>\n",
              "      <td>0</td>\n",
              "      <td>0</td>\n",
              "      <td>0</td>\n",
              "      <td>1</td>\n",
              "      <td>0</td>\n",
              "      <td>6</td>\n",
              "      <td>3</td>\n",
              "    </tr>\n",
              "    <tr>\n",
              "      <th>2</th>\n",
              "      <td>2</td>\n",
              "      <td>0</td>\n",
              "      <td>0</td>\n",
              "      <td>0</td>\n",
              "      <td>0</td>\n",
              "      <td>0</td>\n",
              "      <td>0</td>\n",
              "      <td>6</td>\n",
              "      <td>17</td>\n",
              "      <td>6</td>\n",
              "    </tr>\n",
              "    <tr>\n",
              "      <th>3</th>\n",
              "      <td>0</td>\n",
              "      <td>0</td>\n",
              "      <td>0</td>\n",
              "      <td>0</td>\n",
              "      <td>0</td>\n",
              "      <td>0</td>\n",
              "      <td>0</td>\n",
              "      <td>0</td>\n",
              "      <td>6</td>\n",
              "      <td>1</td>\n",
              "    </tr>\n",
              "    <tr>\n",
              "      <th>4</th>\n",
              "      <td>1</td>\n",
              "      <td>0</td>\n",
              "      <td>0</td>\n",
              "      <td>1</td>\n",
              "      <td>0</td>\n",
              "      <td>1</td>\n",
              "      <td>0</td>\n",
              "      <td>7</td>\n",
              "      <td>3</td>\n",
              "      <td>12</td>\n",
              "    </tr>\n",
              "    <tr>\n",
              "      <th>5</th>\n",
              "      <td>2</td>\n",
              "      <td>9</td>\n",
              "      <td>0</td>\n",
              "      <td>0</td>\n",
              "      <td>0</td>\n",
              "      <td>1</td>\n",
              "      <td>4</td>\n",
              "      <td>10</td>\n",
              "      <td>19</td>\n",
              "      <td>13</td>\n",
              "    </tr>\n",
              "    <tr>\n",
              "      <th>...</th>\n",
              "      <td>...</td>\n",
              "      <td>...</td>\n",
              "      <td>...</td>\n",
              "      <td>...</td>\n",
              "      <td>...</td>\n",
              "      <td>...</td>\n",
              "      <td>...</td>\n",
              "      <td>...</td>\n",
              "      <td>...</td>\n",
              "      <td>...</td>\n",
              "    </tr>\n",
              "    <tr>\n",
              "      <th>4610620</th>\n",
              "      <td>0</td>\n",
              "      <td>0</td>\n",
              "      <td>0</td>\n",
              "      <td>0</td>\n",
              "      <td>0</td>\n",
              "      <td>0</td>\n",
              "      <td>0</td>\n",
              "      <td>0</td>\n",
              "      <td>2</td>\n",
              "      <td>1</td>\n",
              "    </tr>\n",
              "    <tr>\n",
              "      <th>4610621</th>\n",
              "      <td>0</td>\n",
              "      <td>0</td>\n",
              "      <td>0</td>\n",
              "      <td>0</td>\n",
              "      <td>1</td>\n",
              "      <td>0</td>\n",
              "      <td>0</td>\n",
              "      <td>2</td>\n",
              "      <td>2</td>\n",
              "      <td>1</td>\n",
              "    </tr>\n",
              "    <tr>\n",
              "      <th>4610622</th>\n",
              "      <td>2</td>\n",
              "      <td>0</td>\n",
              "      <td>0</td>\n",
              "      <td>0</td>\n",
              "      <td>0</td>\n",
              "      <td>0</td>\n",
              "      <td>0</td>\n",
              "      <td>11</td>\n",
              "      <td>2</td>\n",
              "      <td>11</td>\n",
              "    </tr>\n",
              "    <tr>\n",
              "      <th>4610623</th>\n",
              "      <td>0</td>\n",
              "      <td>0</td>\n",
              "      <td>0</td>\n",
              "      <td>0</td>\n",
              "      <td>1</td>\n",
              "      <td>0</td>\n",
              "      <td>0</td>\n",
              "      <td>0</td>\n",
              "      <td>1</td>\n",
              "      <td>4</td>\n",
              "    </tr>\n",
              "    <tr>\n",
              "      <th>4610624</th>\n",
              "      <td>0</td>\n",
              "      <td>0</td>\n",
              "      <td>0</td>\n",
              "      <td>0</td>\n",
              "      <td>1</td>\n",
              "      <td>0</td>\n",
              "      <td>0</td>\n",
              "      <td>0</td>\n",
              "      <td>3</td>\n",
              "      <td>0</td>\n",
              "    </tr>\n",
              "  </tbody>\n",
              "</table>\n",
              "<p>4610624 rows × 10 columns</p>\n",
              "</div>\n",
              "      <button class=\"colab-df-convert\" onclick=\"convertToInteractive('df-b229daf9-08d2-461d-b123-7c73ce99d939')\"\n",
              "              title=\"Convert this dataframe to an interactive table.\"\n",
              "              style=\"display:none;\">\n",
              "        \n",
              "  <svg xmlns=\"http://www.w3.org/2000/svg\" height=\"24px\"viewBox=\"0 0 24 24\"\n",
              "       width=\"24px\">\n",
              "    <path d=\"M0 0h24v24H0V0z\" fill=\"none\"/>\n",
              "    <path d=\"M18.56 5.44l.94 2.06.94-2.06 2.06-.94-2.06-.94-.94-2.06-.94 2.06-2.06.94zm-11 1L8.5 8.5l.94-2.06 2.06-.94-2.06-.94L8.5 2.5l-.94 2.06-2.06.94zm10 10l.94 2.06.94-2.06 2.06-.94-2.06-.94-.94-2.06-.94 2.06-2.06.94z\"/><path d=\"M17.41 7.96l-1.37-1.37c-.4-.4-.92-.59-1.43-.59-.52 0-1.04.2-1.43.59L10.3 9.45l-7.72 7.72c-.78.78-.78 2.05 0 2.83L4 21.41c.39.39.9.59 1.41.59.51 0 1.02-.2 1.41-.59l7.78-7.78 2.81-2.81c.8-.78.8-2.07 0-2.86zM5.41 20L4 18.59l7.72-7.72 1.47 1.35L5.41 20z\"/>\n",
              "  </svg>\n",
              "      </button>\n",
              "      \n",
              "  <style>\n",
              "    .colab-df-container {\n",
              "      display:flex;\n",
              "      flex-wrap:wrap;\n",
              "      gap: 12px;\n",
              "    }\n",
              "\n",
              "    .colab-df-convert {\n",
              "      background-color: #E8F0FE;\n",
              "      border: none;\n",
              "      border-radius: 50%;\n",
              "      cursor: pointer;\n",
              "      display: none;\n",
              "      fill: #1967D2;\n",
              "      height: 32px;\n",
              "      padding: 0 0 0 0;\n",
              "      width: 32px;\n",
              "    }\n",
              "\n",
              "    .colab-df-convert:hover {\n",
              "      background-color: #E2EBFA;\n",
              "      box-shadow: 0px 1px 2px rgba(60, 64, 67, 0.3), 0px 1px 3px 1px rgba(60, 64, 67, 0.15);\n",
              "      fill: #174EA6;\n",
              "    }\n",
              "\n",
              "    [theme=dark] .colab-df-convert {\n",
              "      background-color: #3B4455;\n",
              "      fill: #D2E3FC;\n",
              "    }\n",
              "\n",
              "    [theme=dark] .colab-df-convert:hover {\n",
              "      background-color: #434B5C;\n",
              "      box-shadow: 0px 1px 3px 1px rgba(0, 0, 0, 0.15);\n",
              "      filter: drop-shadow(0px 1px 2px rgba(0, 0, 0, 0.3));\n",
              "      fill: #FFFFFF;\n",
              "    }\n",
              "  </style>\n",
              "\n",
              "      <script>\n",
              "        const buttonEl =\n",
              "          document.querySelector('#df-b229daf9-08d2-461d-b123-7c73ce99d939 button.colab-df-convert');\n",
              "        buttonEl.style.display =\n",
              "          google.colab.kernel.accessAllowed ? 'block' : 'none';\n",
              "\n",
              "        async function convertToInteractive(key) {\n",
              "          const element = document.querySelector('#df-b229daf9-08d2-461d-b123-7c73ce99d939');\n",
              "          const dataTable =\n",
              "            await google.colab.kernel.invokeFunction('convertToInteractive',\n",
              "                                                     [key], {});\n",
              "          if (!dataTable) return;\n",
              "\n",
              "          const docLinkHtml = 'Like what you see? Visit the ' +\n",
              "            '<a target=\"_blank\" href=https://colab.research.google.com/notebooks/data_table.ipynb>data table notebook</a>'\n",
              "            + ' to learn more about interactive tables.';\n",
              "          element.innerHTML = '';\n",
              "          dataTable['output_type'] = 'display_data';\n",
              "          await google.colab.output.renderOutput(dataTable, element);\n",
              "          const docLink = document.createElement('div');\n",
              "          docLink.innerHTML = docLinkHtml;\n",
              "          element.appendChild(docLink);\n",
              "        }\n",
              "      </script>\n",
              "    </div>\n",
              "  </div>\n",
              "  "
            ]
          },
          "metadata": {},
          "execution_count": 27
        }
      ]
    },
    {
      "cell_type": "code",
      "source": [
        "sessions = list(split_session_data.drop_duplicates(subset=['SessionOrder'], keep='first').groupby(by=['uid_filled']).tail(12)['SessionOrder'].unique())\n",
        "sessions_df = split_session_data[split_session_data['SessionOrder'].isin(sessions)]\n",
        "\n",
        "bh_df = pd.DataFrame(sessions_df.groupby(by=['SessionOrder','bh']).size().unstack()).fillna(0).astype(int)"
      ],
      "metadata": {
        "id": "jL1qzV9Bk3FM"
      },
      "execution_count": null,
      "outputs": []
    },
    {
      "cell_type": "code",
      "source": [
        "session_group = sessions_df.groupby(by=['SessionOrder'])\n",
        "\n",
        "bh_df['TimeDiff'] = session_group.first()['MinuteDiff']\n",
        "bh_df['TotalTime'] = pd.DataFrame(session_group.sum())['MinuteDiff'] - bh_df['TimeDiff']\n",
        "bh_df = bh_df.fillna(0).astype(int)\n",
        "\n",
        "result_df = pd.merge(bh_df, session_group.tail(1)[['SessionOrder', 'uid_filled']], on='SessionOrder', how='left')"
      ],
      "metadata": {
        "id": "nsUPR3ARk3Iy"
      },
      "execution_count": null,
      "outputs": []
    },
    {
      "cell_type": "code",
      "source": [
        "result_df"
      ],
      "metadata": {
        "colab": {
          "base_uri": "https://localhost:8080/",
          "height": 487
        },
        "id": "942_hzO5N71y",
        "outputId": "0b6a122d-ffd9-43ad-e611-79e143229f49"
      },
      "execution_count": null,
      "outputs": [
        {
          "output_type": "execute_result",
          "data": {
            "text/plain": [
              "        SessionOrder  add  checkout  purchase  register  search  traffic  \\\n",
              "0                 74    0         0         0         0       0        1   \n",
              "1                 75    0         0         0         0       0        1   \n",
              "2                 76    0         0         0         0       0        1   \n",
              "3                 77    0         0         0         0       0        1   \n",
              "4                 78    0         0         0         0       0        0   \n",
              "...              ...  ...       ...       ...       ...     ...      ...   \n",
              "700508       4610620    0         0         0         0       0        0   \n",
              "700509       4610621    0         0         0         0       1        0   \n",
              "700510       4610622    2         0         0         0       0        0   \n",
              "700511       4610623    0         0         0         0       1        0   \n",
              "700512       4610624    0         0         0         0       1        0   \n",
              "\n",
              "        viewactivity  viewcategory  viewmainpage  viewproduct  TimeDiff  \\\n",
              "0                  0             0             0            0         0   \n",
              "1                  0             0             0            0         0   \n",
              "2                  0             0             0            0         0   \n",
              "3                  0             0             0            0         0   \n",
              "4                  0             0             4            1     49124   \n",
              "...              ...           ...           ...          ...       ...   \n",
              "700508             0             0             2            1     26912   \n",
              "700509             0             2             2            1     49404   \n",
              "700510             0            11             2           11      1220   \n",
              "700511             0             0             1            4     26979   \n",
              "700512             0             0             3            0     71064   \n",
              "\n",
              "        TotalTime                                         uid_filled  \n",
              "0               0  %2B%2B%2FsALKlNdkh585nb%2F9geIrN84FIZZLkD8qf90...  \n",
              "1               0  %2B%2B%2FsALKlNdkh585nb%2F9geIrN84FIZZLkD8qf90...  \n",
              "2               0  %2B%2B%2FsALKlNdkh585nb%2F9geIrN84FIZZLkD8qf90...  \n",
              "3               0  %2B%2B%2FsALKlNdkh585nb%2F9geIrN84FIZZLkD8qf90...  \n",
              "4               1  %2B%2B%2FsALKlNdkh585nb%2F9geIrN84FIZZLkD8qf90...  \n",
              "...           ...                                                ...  \n",
              "700508          0     zzwvJvTcevm90Q6BkxJqud94QGdwcvDOrWT88F1cTM4%3D  \n",
              "700509          0     zzwvJvTcevm90Q6BkxJqud94QGdwcvDOrWT88F1cTM4%3D  \n",
              "700510          3     zzwvJvTcevm90Q6BkxJqud94QGdwcvDOrWT88F1cTM4%3D  \n",
              "700511          1     zzwvJvTcevm90Q6BkxJqud94QGdwcvDOrWT88F1cTM4%3D  \n",
              "700512          0     zzwvJvTcevm90Q6BkxJqud94QGdwcvDOrWT88F1cTM4%3D  \n",
              "\n",
              "[700513 rows x 14 columns]"
            ],
            "text/html": [
              "\n",
              "  <div id=\"df-10aace4d-42e9-4f89-b496-88604a524895\">\n",
              "    <div class=\"colab-df-container\">\n",
              "      <div>\n",
              "<style scoped>\n",
              "    .dataframe tbody tr th:only-of-type {\n",
              "        vertical-align: middle;\n",
              "    }\n",
              "\n",
              "    .dataframe tbody tr th {\n",
              "        vertical-align: top;\n",
              "    }\n",
              "\n",
              "    .dataframe thead th {\n",
              "        text-align: right;\n",
              "    }\n",
              "</style>\n",
              "<table border=\"1\" class=\"dataframe\">\n",
              "  <thead>\n",
              "    <tr style=\"text-align: right;\">\n",
              "      <th></th>\n",
              "      <th>SessionOrder</th>\n",
              "      <th>add</th>\n",
              "      <th>checkout</th>\n",
              "      <th>purchase</th>\n",
              "      <th>register</th>\n",
              "      <th>search</th>\n",
              "      <th>traffic</th>\n",
              "      <th>viewactivity</th>\n",
              "      <th>viewcategory</th>\n",
              "      <th>viewmainpage</th>\n",
              "      <th>viewproduct</th>\n",
              "      <th>TimeDiff</th>\n",
              "      <th>TotalTime</th>\n",
              "      <th>uid_filled</th>\n",
              "    </tr>\n",
              "  </thead>\n",
              "  <tbody>\n",
              "    <tr>\n",
              "      <th>0</th>\n",
              "      <td>74</td>\n",
              "      <td>0</td>\n",
              "      <td>0</td>\n",
              "      <td>0</td>\n",
              "      <td>0</td>\n",
              "      <td>0</td>\n",
              "      <td>1</td>\n",
              "      <td>0</td>\n",
              "      <td>0</td>\n",
              "      <td>0</td>\n",
              "      <td>0</td>\n",
              "      <td>0</td>\n",
              "      <td>0</td>\n",
              "      <td>%2B%2B%2FsALKlNdkh585nb%2F9geIrN84FIZZLkD8qf90...</td>\n",
              "    </tr>\n",
              "    <tr>\n",
              "      <th>1</th>\n",
              "      <td>75</td>\n",
              "      <td>0</td>\n",
              "      <td>0</td>\n",
              "      <td>0</td>\n",
              "      <td>0</td>\n",
              "      <td>0</td>\n",
              "      <td>1</td>\n",
              "      <td>0</td>\n",
              "      <td>0</td>\n",
              "      <td>0</td>\n",
              "      <td>0</td>\n",
              "      <td>0</td>\n",
              "      <td>0</td>\n",
              "      <td>%2B%2B%2FsALKlNdkh585nb%2F9geIrN84FIZZLkD8qf90...</td>\n",
              "    </tr>\n",
              "    <tr>\n",
              "      <th>2</th>\n",
              "      <td>76</td>\n",
              "      <td>0</td>\n",
              "      <td>0</td>\n",
              "      <td>0</td>\n",
              "      <td>0</td>\n",
              "      <td>0</td>\n",
              "      <td>1</td>\n",
              "      <td>0</td>\n",
              "      <td>0</td>\n",
              "      <td>0</td>\n",
              "      <td>0</td>\n",
              "      <td>0</td>\n",
              "      <td>0</td>\n",
              "      <td>%2B%2B%2FsALKlNdkh585nb%2F9geIrN84FIZZLkD8qf90...</td>\n",
              "    </tr>\n",
              "    <tr>\n",
              "      <th>3</th>\n",
              "      <td>77</td>\n",
              "      <td>0</td>\n",
              "      <td>0</td>\n",
              "      <td>0</td>\n",
              "      <td>0</td>\n",
              "      <td>0</td>\n",
              "      <td>1</td>\n",
              "      <td>0</td>\n",
              "      <td>0</td>\n",
              "      <td>0</td>\n",
              "      <td>0</td>\n",
              "      <td>0</td>\n",
              "      <td>0</td>\n",
              "      <td>%2B%2B%2FsALKlNdkh585nb%2F9geIrN84FIZZLkD8qf90...</td>\n",
              "    </tr>\n",
              "    <tr>\n",
              "      <th>4</th>\n",
              "      <td>78</td>\n",
              "      <td>0</td>\n",
              "      <td>0</td>\n",
              "      <td>0</td>\n",
              "      <td>0</td>\n",
              "      <td>0</td>\n",
              "      <td>0</td>\n",
              "      <td>0</td>\n",
              "      <td>0</td>\n",
              "      <td>4</td>\n",
              "      <td>1</td>\n",
              "      <td>49124</td>\n",
              "      <td>1</td>\n",
              "      <td>%2B%2B%2FsALKlNdkh585nb%2F9geIrN84FIZZLkD8qf90...</td>\n",
              "    </tr>\n",
              "    <tr>\n",
              "      <th>...</th>\n",
              "      <td>...</td>\n",
              "      <td>...</td>\n",
              "      <td>...</td>\n",
              "      <td>...</td>\n",
              "      <td>...</td>\n",
              "      <td>...</td>\n",
              "      <td>...</td>\n",
              "      <td>...</td>\n",
              "      <td>...</td>\n",
              "      <td>...</td>\n",
              "      <td>...</td>\n",
              "      <td>...</td>\n",
              "      <td>...</td>\n",
              "      <td>...</td>\n",
              "    </tr>\n",
              "    <tr>\n",
              "      <th>700508</th>\n",
              "      <td>4610620</td>\n",
              "      <td>0</td>\n",
              "      <td>0</td>\n",
              "      <td>0</td>\n",
              "      <td>0</td>\n",
              "      <td>0</td>\n",
              "      <td>0</td>\n",
              "      <td>0</td>\n",
              "      <td>0</td>\n",
              "      <td>2</td>\n",
              "      <td>1</td>\n",
              "      <td>26912</td>\n",
              "      <td>0</td>\n",
              "      <td>zzwvJvTcevm90Q6BkxJqud94QGdwcvDOrWT88F1cTM4%3D</td>\n",
              "    </tr>\n",
              "    <tr>\n",
              "      <th>700509</th>\n",
              "      <td>4610621</td>\n",
              "      <td>0</td>\n",
              "      <td>0</td>\n",
              "      <td>0</td>\n",
              "      <td>0</td>\n",
              "      <td>1</td>\n",
              "      <td>0</td>\n",
              "      <td>0</td>\n",
              "      <td>2</td>\n",
              "      <td>2</td>\n",
              "      <td>1</td>\n",
              "      <td>49404</td>\n",
              "      <td>0</td>\n",
              "      <td>zzwvJvTcevm90Q6BkxJqud94QGdwcvDOrWT88F1cTM4%3D</td>\n",
              "    </tr>\n",
              "    <tr>\n",
              "      <th>700510</th>\n",
              "      <td>4610622</td>\n",
              "      <td>2</td>\n",
              "      <td>0</td>\n",
              "      <td>0</td>\n",
              "      <td>0</td>\n",
              "      <td>0</td>\n",
              "      <td>0</td>\n",
              "      <td>0</td>\n",
              "      <td>11</td>\n",
              "      <td>2</td>\n",
              "      <td>11</td>\n",
              "      <td>1220</td>\n",
              "      <td>3</td>\n",
              "      <td>zzwvJvTcevm90Q6BkxJqud94QGdwcvDOrWT88F1cTM4%3D</td>\n",
              "    </tr>\n",
              "    <tr>\n",
              "      <th>700511</th>\n",
              "      <td>4610623</td>\n",
              "      <td>0</td>\n",
              "      <td>0</td>\n",
              "      <td>0</td>\n",
              "      <td>0</td>\n",
              "      <td>1</td>\n",
              "      <td>0</td>\n",
              "      <td>0</td>\n",
              "      <td>0</td>\n",
              "      <td>1</td>\n",
              "      <td>4</td>\n",
              "      <td>26979</td>\n",
              "      <td>1</td>\n",
              "      <td>zzwvJvTcevm90Q6BkxJqud94QGdwcvDOrWT88F1cTM4%3D</td>\n",
              "    </tr>\n",
              "    <tr>\n",
              "      <th>700512</th>\n",
              "      <td>4610624</td>\n",
              "      <td>0</td>\n",
              "      <td>0</td>\n",
              "      <td>0</td>\n",
              "      <td>0</td>\n",
              "      <td>1</td>\n",
              "      <td>0</td>\n",
              "      <td>0</td>\n",
              "      <td>0</td>\n",
              "      <td>3</td>\n",
              "      <td>0</td>\n",
              "      <td>71064</td>\n",
              "      <td>0</td>\n",
              "      <td>zzwvJvTcevm90Q6BkxJqud94QGdwcvDOrWT88F1cTM4%3D</td>\n",
              "    </tr>\n",
              "  </tbody>\n",
              "</table>\n",
              "<p>700513 rows × 14 columns</p>\n",
              "</div>\n",
              "      <button class=\"colab-df-convert\" onclick=\"convertToInteractive('df-10aace4d-42e9-4f89-b496-88604a524895')\"\n",
              "              title=\"Convert this dataframe to an interactive table.\"\n",
              "              style=\"display:none;\">\n",
              "        \n",
              "  <svg xmlns=\"http://www.w3.org/2000/svg\" height=\"24px\"viewBox=\"0 0 24 24\"\n",
              "       width=\"24px\">\n",
              "    <path d=\"M0 0h24v24H0V0z\" fill=\"none\"/>\n",
              "    <path d=\"M18.56 5.44l.94 2.06.94-2.06 2.06-.94-2.06-.94-.94-2.06-.94 2.06-2.06.94zm-11 1L8.5 8.5l.94-2.06 2.06-.94-2.06-.94L8.5 2.5l-.94 2.06-2.06.94zm10 10l.94 2.06.94-2.06 2.06-.94-2.06-.94-.94-2.06-.94 2.06-2.06.94z\"/><path d=\"M17.41 7.96l-1.37-1.37c-.4-.4-.92-.59-1.43-.59-.52 0-1.04.2-1.43.59L10.3 9.45l-7.72 7.72c-.78.78-.78 2.05 0 2.83L4 21.41c.39.39.9.59 1.41.59.51 0 1.02-.2 1.41-.59l7.78-7.78 2.81-2.81c.8-.78.8-2.07 0-2.86zM5.41 20L4 18.59l7.72-7.72 1.47 1.35L5.41 20z\"/>\n",
              "  </svg>\n",
              "      </button>\n",
              "      \n",
              "  <style>\n",
              "    .colab-df-container {\n",
              "      display:flex;\n",
              "      flex-wrap:wrap;\n",
              "      gap: 12px;\n",
              "    }\n",
              "\n",
              "    .colab-df-convert {\n",
              "      background-color: #E8F0FE;\n",
              "      border: none;\n",
              "      border-radius: 50%;\n",
              "      cursor: pointer;\n",
              "      display: none;\n",
              "      fill: #1967D2;\n",
              "      height: 32px;\n",
              "      padding: 0 0 0 0;\n",
              "      width: 32px;\n",
              "    }\n",
              "\n",
              "    .colab-df-convert:hover {\n",
              "      background-color: #E2EBFA;\n",
              "      box-shadow: 0px 1px 2px rgba(60, 64, 67, 0.3), 0px 1px 3px 1px rgba(60, 64, 67, 0.15);\n",
              "      fill: #174EA6;\n",
              "    }\n",
              "\n",
              "    [theme=dark] .colab-df-convert {\n",
              "      background-color: #3B4455;\n",
              "      fill: #D2E3FC;\n",
              "    }\n",
              "\n",
              "    [theme=dark] .colab-df-convert:hover {\n",
              "      background-color: #434B5C;\n",
              "      box-shadow: 0px 1px 3px 1px rgba(0, 0, 0, 0.15);\n",
              "      filter: drop-shadow(0px 1px 2px rgba(0, 0, 0, 0.3));\n",
              "      fill: #FFFFFF;\n",
              "    }\n",
              "  </style>\n",
              "\n",
              "      <script>\n",
              "        const buttonEl =\n",
              "          document.querySelector('#df-10aace4d-42e9-4f89-b496-88604a524895 button.colab-df-convert');\n",
              "        buttonEl.style.display =\n",
              "          google.colab.kernel.accessAllowed ? 'block' : 'none';\n",
              "\n",
              "        async function convertToInteractive(key) {\n",
              "          const element = document.querySelector('#df-10aace4d-42e9-4f89-b496-88604a524895');\n",
              "          const dataTable =\n",
              "            await google.colab.kernel.invokeFunction('convertToInteractive',\n",
              "                                                     [key], {});\n",
              "          if (!dataTable) return;\n",
              "\n",
              "          const docLinkHtml = 'Like what you see? Visit the ' +\n",
              "            '<a target=\"_blank\" href=https://colab.research.google.com/notebooks/data_table.ipynb>data table notebook</a>'\n",
              "            + ' to learn more about interactive tables.';\n",
              "          element.innerHTML = '';\n",
              "          dataTable['output_type'] = 'display_data';\n",
              "          await google.colab.output.renderOutput(dataTable, element);\n",
              "          const docLink = document.createElement('div');\n",
              "          docLink.innerHTML = docLinkHtml;\n",
              "          element.appendChild(docLink);\n",
              "        }\n",
              "      </script>\n",
              "    </div>\n",
              "  </div>\n",
              "  "
            ]
          },
          "metadata": {},
          "execution_count": 45
        }
      ]
    },
    {
      "cell_type": "code",
      "source": [
        "len(result_df['uid_filled'].unique())"
      ],
      "metadata": {
        "colab": {
          "base_uri": "https://localhost:8080/"
        },
        "id": "O9eM2oJUk3L2",
        "outputId": "40619b95-49d7-453b-f073-0b1827d9bfcc"
      },
      "execution_count": null,
      "outputs": [
        {
          "output_type": "execute_result",
          "data": {
            "text/plain": [
              "83931"
            ]
          },
          "metadata": {},
          "execution_count": 46
        }
      ]
    },
    {
      "cell_type": "code",
      "source": [
        "result = pd.merge(label_data[['MemberID', 'uid']], result_df, left_on='uid', right_on='uid_filled', how='left').drop(['uid'], axis=1)"
      ],
      "metadata": {
        "id": "PAvm-2erzoNq"
      },
      "execution_count": null,
      "outputs": []
    },
    {
      "cell_type": "code",
      "source": [
        "len(result['uid_filled'].unique())"
      ],
      "metadata": {
        "colab": {
          "base_uri": "https://localhost:8080/"
        },
        "id": "frh08pkKnEhu",
        "outputId": "55b5148e-28a4-4d64-a1a4-09ac8c1ef4d1"
      },
      "execution_count": null,
      "outputs": [
        {
          "output_type": "execute_result",
          "data": {
            "text/plain": [
              "83931"
            ]
          },
          "metadata": {},
          "execution_count": 48
        }
      ]
    },
    {
      "cell_type": "code",
      "source": [
        "len(result)"
      ],
      "metadata": {
        "id": "lcQdbwO4ywAb",
        "outputId": "bbf5347b-ae03-439f-eff2-bec6db0d0df9",
        "colab": {
          "base_uri": "https://localhost:8080/"
        }
      },
      "execution_count": null,
      "outputs": [
        {
          "output_type": "execute_result",
          "data": {
            "text/plain": [
              "700513"
            ]
          },
          "metadata": {},
          "execution_count": 49
        }
      ]
    },
    {
      "cell_type": "code",
      "source": [
        "result = pd.merge(result, label_data[['MemberID', 'TotalSalesAmount', 'Active', 'VIP']], on='MemberID', how='left').fillna(0)"
      ],
      "metadata": {
        "id": "TYpJMvn8z9un"
      },
      "execution_count": null,
      "outputs": []
    },
    {
      "cell_type": "code",
      "source": [
        "len(result['uid_filled'].unique())"
      ],
      "metadata": {
        "colab": {
          "base_uri": "https://localhost:8080/"
        },
        "id": "A_vCz2NcnJ6L",
        "outputId": "4d6fad91-2fee-4e0e-9254-580877536944"
      },
      "execution_count": null,
      "outputs": [
        {
          "output_type": "execute_result",
          "data": {
            "text/plain": [
              "83931"
            ]
          },
          "metadata": {},
          "execution_count": 51
        }
      ]
    },
    {
      "cell_type": "code",
      "source": [
        "result.head()"
      ],
      "metadata": {
        "colab": {
          "base_uri": "https://localhost:8080/",
          "height": 270
        },
        "id": "OKbrb9AxyOcr",
        "outputId": "81c0a490-2e7f-461b-9efe-7da3ecc1289b"
      },
      "execution_count": null,
      "outputs": [
        {
          "output_type": "execute_result",
          "data": {
            "text/plain": [
              "                                       MemberID  SessionOrder  add  checkout  \\\n",
              "0  RSQpIPxqSK2ooLPuUwWw8HhTN73mFGsmGPEmdarbdGM=       2127581    1         2   \n",
              "1  AqBrlkHltks4neA3Fmtq+yfiI4F7aZGODqKPeF3zGsA=        921405    0         0   \n",
              "2  AqBrlkHltks4neA3Fmtq+yfiI4F7aZGODqKPeF3zGsA=        921406    3         2   \n",
              "3  AqBrlkHltks4neA3Fmtq+yfiI4F7aZGODqKPeF3zGsA=        921407    0         0   \n",
              "4  AqBrlkHltks4neA3Fmtq+yfiI4F7aZGODqKPeF3zGsA=        921408    1         1   \n",
              "\n",
              "   purchase  register  search  traffic  viewactivity  viewcategory  \\\n",
              "0         1         0       0        0             0             9   \n",
              "1         0         0       0        0             0             0   \n",
              "2         2         0       0        0             0             5   \n",
              "3         0         0       0        0             0             0   \n",
              "4         1         0       0        0             0             2   \n",
              "\n",
              "   viewmainpage  viewproduct  TimeDiff  TotalTime  \\\n",
              "0            15            4         0         22   \n",
              "1             1            0         0          0   \n",
              "2             6           22     17443          7   \n",
              "3             1            0      3896          0   \n",
              "4             4            9      1585         30   \n",
              "\n",
              "                                         uid_filled  TotalSalesAmount  Active  \\\n",
              "0    RSQpIPxqSK2ooLPuUwWw8HhTN73mFGsmGPEmdarbdGM%3D               0.0     0.0   \n",
              "1  AqBrlkHltks4neA3Fmtq%2ByfiI4F7aZGODqKPeF3zGsA%3D               0.0     0.0   \n",
              "2  AqBrlkHltks4neA3Fmtq%2ByfiI4F7aZGODqKPeF3zGsA%3D               0.0     0.0   \n",
              "3  AqBrlkHltks4neA3Fmtq%2ByfiI4F7aZGODqKPeF3zGsA%3D               0.0     0.0   \n",
              "4  AqBrlkHltks4neA3Fmtq%2ByfiI4F7aZGODqKPeF3zGsA%3D               0.0     0.0   \n",
              "\n",
              "   VIP  \n",
              "0  0.0  \n",
              "1  0.0  \n",
              "2  0.0  \n",
              "3  0.0  \n",
              "4  0.0  "
            ],
            "text/html": [
              "\n",
              "  <div id=\"df-5cafd36d-f6c3-4e1b-9f2c-39371d01e18f\">\n",
              "    <div class=\"colab-df-container\">\n",
              "      <div>\n",
              "<style scoped>\n",
              "    .dataframe tbody tr th:only-of-type {\n",
              "        vertical-align: middle;\n",
              "    }\n",
              "\n",
              "    .dataframe tbody tr th {\n",
              "        vertical-align: top;\n",
              "    }\n",
              "\n",
              "    .dataframe thead th {\n",
              "        text-align: right;\n",
              "    }\n",
              "</style>\n",
              "<table border=\"1\" class=\"dataframe\">\n",
              "  <thead>\n",
              "    <tr style=\"text-align: right;\">\n",
              "      <th></th>\n",
              "      <th>MemberID</th>\n",
              "      <th>SessionOrder</th>\n",
              "      <th>add</th>\n",
              "      <th>checkout</th>\n",
              "      <th>purchase</th>\n",
              "      <th>register</th>\n",
              "      <th>search</th>\n",
              "      <th>traffic</th>\n",
              "      <th>viewactivity</th>\n",
              "      <th>viewcategory</th>\n",
              "      <th>viewmainpage</th>\n",
              "      <th>viewproduct</th>\n",
              "      <th>TimeDiff</th>\n",
              "      <th>TotalTime</th>\n",
              "      <th>uid_filled</th>\n",
              "      <th>TotalSalesAmount</th>\n",
              "      <th>Active</th>\n",
              "      <th>VIP</th>\n",
              "    </tr>\n",
              "  </thead>\n",
              "  <tbody>\n",
              "    <tr>\n",
              "      <th>0</th>\n",
              "      <td>RSQpIPxqSK2ooLPuUwWw8HhTN73mFGsmGPEmdarbdGM=</td>\n",
              "      <td>2127581</td>\n",
              "      <td>1</td>\n",
              "      <td>2</td>\n",
              "      <td>1</td>\n",
              "      <td>0</td>\n",
              "      <td>0</td>\n",
              "      <td>0</td>\n",
              "      <td>0</td>\n",
              "      <td>9</td>\n",
              "      <td>15</td>\n",
              "      <td>4</td>\n",
              "      <td>0</td>\n",
              "      <td>22</td>\n",
              "      <td>RSQpIPxqSK2ooLPuUwWw8HhTN73mFGsmGPEmdarbdGM%3D</td>\n",
              "      <td>0.0</td>\n",
              "      <td>0.0</td>\n",
              "      <td>0.0</td>\n",
              "    </tr>\n",
              "    <tr>\n",
              "      <th>1</th>\n",
              "      <td>AqBrlkHltks4neA3Fmtq+yfiI4F7aZGODqKPeF3zGsA=</td>\n",
              "      <td>921405</td>\n",
              "      <td>0</td>\n",
              "      <td>0</td>\n",
              "      <td>0</td>\n",
              "      <td>0</td>\n",
              "      <td>0</td>\n",
              "      <td>0</td>\n",
              "      <td>0</td>\n",
              "      <td>0</td>\n",
              "      <td>1</td>\n",
              "      <td>0</td>\n",
              "      <td>0</td>\n",
              "      <td>0</td>\n",
              "      <td>AqBrlkHltks4neA3Fmtq%2ByfiI4F7aZGODqKPeF3zGsA%3D</td>\n",
              "      <td>0.0</td>\n",
              "      <td>0.0</td>\n",
              "      <td>0.0</td>\n",
              "    </tr>\n",
              "    <tr>\n",
              "      <th>2</th>\n",
              "      <td>AqBrlkHltks4neA3Fmtq+yfiI4F7aZGODqKPeF3zGsA=</td>\n",
              "      <td>921406</td>\n",
              "      <td>3</td>\n",
              "      <td>2</td>\n",
              "      <td>2</td>\n",
              "      <td>0</td>\n",
              "      <td>0</td>\n",
              "      <td>0</td>\n",
              "      <td>0</td>\n",
              "      <td>5</td>\n",
              "      <td>6</td>\n",
              "      <td>22</td>\n",
              "      <td>17443</td>\n",
              "      <td>7</td>\n",
              "      <td>AqBrlkHltks4neA3Fmtq%2ByfiI4F7aZGODqKPeF3zGsA%3D</td>\n",
              "      <td>0.0</td>\n",
              "      <td>0.0</td>\n",
              "      <td>0.0</td>\n",
              "    </tr>\n",
              "    <tr>\n",
              "      <th>3</th>\n",
              "      <td>AqBrlkHltks4neA3Fmtq+yfiI4F7aZGODqKPeF3zGsA=</td>\n",
              "      <td>921407</td>\n",
              "      <td>0</td>\n",
              "      <td>0</td>\n",
              "      <td>0</td>\n",
              "      <td>0</td>\n",
              "      <td>0</td>\n",
              "      <td>0</td>\n",
              "      <td>0</td>\n",
              "      <td>0</td>\n",
              "      <td>1</td>\n",
              "      <td>0</td>\n",
              "      <td>3896</td>\n",
              "      <td>0</td>\n",
              "      <td>AqBrlkHltks4neA3Fmtq%2ByfiI4F7aZGODqKPeF3zGsA%3D</td>\n",
              "      <td>0.0</td>\n",
              "      <td>0.0</td>\n",
              "      <td>0.0</td>\n",
              "    </tr>\n",
              "    <tr>\n",
              "      <th>4</th>\n",
              "      <td>AqBrlkHltks4neA3Fmtq+yfiI4F7aZGODqKPeF3zGsA=</td>\n",
              "      <td>921408</td>\n",
              "      <td>1</td>\n",
              "      <td>1</td>\n",
              "      <td>1</td>\n",
              "      <td>0</td>\n",
              "      <td>0</td>\n",
              "      <td>0</td>\n",
              "      <td>0</td>\n",
              "      <td>2</td>\n",
              "      <td>4</td>\n",
              "      <td>9</td>\n",
              "      <td>1585</td>\n",
              "      <td>30</td>\n",
              "      <td>AqBrlkHltks4neA3Fmtq%2ByfiI4F7aZGODqKPeF3zGsA%3D</td>\n",
              "      <td>0.0</td>\n",
              "      <td>0.0</td>\n",
              "      <td>0.0</td>\n",
              "    </tr>\n",
              "  </tbody>\n",
              "</table>\n",
              "</div>\n",
              "      <button class=\"colab-df-convert\" onclick=\"convertToInteractive('df-5cafd36d-f6c3-4e1b-9f2c-39371d01e18f')\"\n",
              "              title=\"Convert this dataframe to an interactive table.\"\n",
              "              style=\"display:none;\">\n",
              "        \n",
              "  <svg xmlns=\"http://www.w3.org/2000/svg\" height=\"24px\"viewBox=\"0 0 24 24\"\n",
              "       width=\"24px\">\n",
              "    <path d=\"M0 0h24v24H0V0z\" fill=\"none\"/>\n",
              "    <path d=\"M18.56 5.44l.94 2.06.94-2.06 2.06-.94-2.06-.94-.94-2.06-.94 2.06-2.06.94zm-11 1L8.5 8.5l.94-2.06 2.06-.94-2.06-.94L8.5 2.5l-.94 2.06-2.06.94zm10 10l.94 2.06.94-2.06 2.06-.94-2.06-.94-.94-2.06-.94 2.06-2.06.94z\"/><path d=\"M17.41 7.96l-1.37-1.37c-.4-.4-.92-.59-1.43-.59-.52 0-1.04.2-1.43.59L10.3 9.45l-7.72 7.72c-.78.78-.78 2.05 0 2.83L4 21.41c.39.39.9.59 1.41.59.51 0 1.02-.2 1.41-.59l7.78-7.78 2.81-2.81c.8-.78.8-2.07 0-2.86zM5.41 20L4 18.59l7.72-7.72 1.47 1.35L5.41 20z\"/>\n",
              "  </svg>\n",
              "      </button>\n",
              "      \n",
              "  <style>\n",
              "    .colab-df-container {\n",
              "      display:flex;\n",
              "      flex-wrap:wrap;\n",
              "      gap: 12px;\n",
              "    }\n",
              "\n",
              "    .colab-df-convert {\n",
              "      background-color: #E8F0FE;\n",
              "      border: none;\n",
              "      border-radius: 50%;\n",
              "      cursor: pointer;\n",
              "      display: none;\n",
              "      fill: #1967D2;\n",
              "      height: 32px;\n",
              "      padding: 0 0 0 0;\n",
              "      width: 32px;\n",
              "    }\n",
              "\n",
              "    .colab-df-convert:hover {\n",
              "      background-color: #E2EBFA;\n",
              "      box-shadow: 0px 1px 2px rgba(60, 64, 67, 0.3), 0px 1px 3px 1px rgba(60, 64, 67, 0.15);\n",
              "      fill: #174EA6;\n",
              "    }\n",
              "\n",
              "    [theme=dark] .colab-df-convert {\n",
              "      background-color: #3B4455;\n",
              "      fill: #D2E3FC;\n",
              "    }\n",
              "\n",
              "    [theme=dark] .colab-df-convert:hover {\n",
              "      background-color: #434B5C;\n",
              "      box-shadow: 0px 1px 3px 1px rgba(0, 0, 0, 0.15);\n",
              "      filter: drop-shadow(0px 1px 2px rgba(0, 0, 0, 0.3));\n",
              "      fill: #FFFFFF;\n",
              "    }\n",
              "  </style>\n",
              "\n",
              "      <script>\n",
              "        const buttonEl =\n",
              "          document.querySelector('#df-5cafd36d-f6c3-4e1b-9f2c-39371d01e18f button.colab-df-convert');\n",
              "        buttonEl.style.display =\n",
              "          google.colab.kernel.accessAllowed ? 'block' : 'none';\n",
              "\n",
              "        async function convertToInteractive(key) {\n",
              "          const element = document.querySelector('#df-5cafd36d-f6c3-4e1b-9f2c-39371d01e18f');\n",
              "          const dataTable =\n",
              "            await google.colab.kernel.invokeFunction('convertToInteractive',\n",
              "                                                     [key], {});\n",
              "          if (!dataTable) return;\n",
              "\n",
              "          const docLinkHtml = 'Like what you see? Visit the ' +\n",
              "            '<a target=\"_blank\" href=https://colab.research.google.com/notebooks/data_table.ipynb>data table notebook</a>'\n",
              "            + ' to learn more about interactive tables.';\n",
              "          element.innerHTML = '';\n",
              "          dataTable['output_type'] = 'display_data';\n",
              "          await google.colab.output.renderOutput(dataTable, element);\n",
              "          const docLink = document.createElement('div');\n",
              "          docLink.innerHTML = docLinkHtml;\n",
              "          element.appendChild(docLink);\n",
              "        }\n",
              "      </script>\n",
              "    </div>\n",
              "  </div>\n",
              "  "
            ]
          },
          "metadata": {},
          "execution_count": 52
        }
      ]
    },
    {
      "cell_type": "code",
      "source": [
        "result.isna().sum()"
      ],
      "metadata": {
        "colab": {
          "base_uri": "https://localhost:8080/"
        },
        "id": "TDLm9fH8lxmB",
        "outputId": "d42ac06b-7227-4690-f16e-b7e5f20768d6"
      },
      "execution_count": null,
      "outputs": [
        {
          "output_type": "execute_result",
          "data": {
            "text/plain": [
              "MemberID            0\n",
              "SessionOrder        0\n",
              "add                 0\n",
              "checkout            0\n",
              "purchase            0\n",
              "register            0\n",
              "search              0\n",
              "traffic             0\n",
              "viewactivity        0\n",
              "viewcategory        0\n",
              "viewmainpage        0\n",
              "viewproduct         0\n",
              "TimeDiff            0\n",
              "TotalTime           0\n",
              "uid_filled          0\n",
              "TotalSalesAmount    0\n",
              "Active              0\n",
              "VIP                 0\n",
              "dtype: int64"
            ]
          },
          "metadata": {},
          "execution_count": 53
        }
      ]
    },
    {
      "cell_type": "code",
      "source": [
        "result.to_csv('Session Behaviors Count.csv', index=False)"
      ],
      "metadata": {
        "id": "LCou-W_s0cd-"
      },
      "execution_count": null,
      "outputs": []
    },
    {
      "cell_type": "code",
      "source": [
        "len(result)"
      ],
      "metadata": {
        "colab": {
          "base_uri": "https://localhost:8080/"
        },
        "id": "KE0Rb29utiud",
        "outputId": "5cb64419-37e3-4891-d6a9-38c24837a908"
      },
      "execution_count": null,
      "outputs": [
        {
          "output_type": "execute_result",
          "data": {
            "text/plain": [
              "700513"
            ]
          },
          "metadata": {},
          "execution_count": 55
        }
      ]
    },
    {
      "cell_type": "code",
      "source": [
        ""
      ],
      "metadata": {
        "id": "2z3xwz_n_yiz"
      },
      "execution_count": null,
      "outputs": []
    }
  ],
  "metadata": {
    "colab": {
      "collapsed_sections": [
        "KjAKa-eSnKzu"
      ],
      "name": "Session Behavior Count Preprocessor",
      "provenance": []
    },
    "kernelspec": {
      "display_name": "Python 3",
      "name": "python3"
    },
    "language_info": {
      "name": "python"
    }
  },
  "nbformat": 4,
  "nbformat_minor": 0
}