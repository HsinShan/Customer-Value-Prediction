{
  "cells": [
    {
      "cell_type": "code",
      "execution_count": null,
      "metadata": {
        "colab": {
          "base_uri": "https://localhost:8080/"
        },
        "id": "TOWIMqE4bScp",
        "outputId": "5d48a442-4685-44f6-cf36-213c8bb0b9a3"
      },
      "outputs": [
        {
          "output_type": "stream",
          "name": "stdout",
          "text": [
            "Mounted at /content/drive\n"
          ]
        }
      ],
      "source": [
        "from google.colab import drive\n",
        "drive.mount('/content/drive')"
      ]
    },
    {
      "cell_type": "code",
      "execution_count": null,
      "metadata": {
        "colab": {
          "base_uri": "https://localhost:8080/"
        },
        "id": "E9vDxSuibW_T",
        "outputId": "cd57ecf8-29b3-4cd8-ac31-370606af4ebd"
      },
      "outputs": [
        {
          "output_type": "stream",
          "name": "stdout",
          "text": [
            "/content/drive/Shareddrives/My paper\n"
          ]
        }
      ],
      "source": [
        "%cd /content/drive/Shareddrives/My\\ paper"
      ]
    },
    {
      "cell_type": "code",
      "execution_count": null,
      "metadata": {
        "id": "kccKnbTybjMI"
      },
      "outputs": [],
      "source": [
        "import pandas as pd\n",
        "import numpy as np\n",
        "from datetime import date, timedelta\n",
        "from collections import Counter"
      ]
    },
    {
      "cell_type": "code",
      "execution_count": null,
      "metadata": {
        "id": "TKZvlm6Kblfx"
      },
      "outputs": [],
      "source": [
        "member = pd.read_csv('dataset/91APP_MemberData.csv')"
      ]
    },
    {
      "cell_type": "code",
      "execution_count": null,
      "metadata": {
        "colab": {
          "base_uri": "https://localhost:8080/"
        },
        "id": "feq5WIbP5PAk",
        "outputId": "1144bd4e-b5f2-492f-f0f3-1fea7e621bb7"
      },
      "outputs": [
        {
          "output_type": "stream",
          "name": "stderr",
          "text": [
            "/usr/local/lib/python3.7/dist-packages/IPython/core/interactiveshell.py:2882: DtypeWarning: Columns (4) have mixed types.Specify dtype option on import or set low_memory=False.\n",
            "  exec(code_obj, self.user_global_ns, self.user_ns)\n"
          ]
        }
      ],
      "source": [
        "order = pd.read_csv('dataset/91APP_OrderData.csv')"
      ]
    },
    {
      "cell_type": "markdown",
      "source": [
        "## EDA: Member data & Order Data"
      ],
      "metadata": {
        "id": "vwUrn5SOuv3-"
      }
    },
    {
      "cell_type": "code",
      "source": [
        "print(len(member['MemberID'].unique()), len(order['MemberID'].unique()))"
      ],
      "metadata": {
        "colab": {
          "base_uri": "https://localhost:8080/"
        },
        "id": "Z-1rJO_cqsqh",
        "outputId": "380d6f30-4795-46e1-86ad-ada9795dddc9"
      },
      "execution_count": null,
      "outputs": [
        {
          "output_type": "stream",
          "name": "stdout",
          "text": [
            "377133 235493\n"
          ]
        }
      ]
    },
    {
      "cell_type": "code",
      "source": [
        "order['TradesDateTime'] = pd.to_datetime(order['TradesDateTime'])\n",
        "order = order.sort_values(by='TradesDateTime')\n",
        "order = order[(order['Status']=='Finish')|(order['Status']=='Return')]"
      ],
      "metadata": {
        "id": "VOm5BSfJlVyw"
      },
      "execution_count": null,
      "outputs": []
    },
    {
      "cell_type": "code",
      "source": [
        "order['TradeYear'] = order['TradesDateTime'].dt.year\n",
        "order['TradeMonth'] = order['TradesDateTime'].dt.month"
      ],
      "metadata": {
        "id": "9k6lyGIDrXtL"
      },
      "execution_count": null,
      "outputs": []
    },
    {
      "cell_type": "code",
      "source": [
        "member['RegisterDateTime'] = pd.to_datetime(member['RegisterDateTime'])\n",
        "member = member.sort_values(by='RegisterDateTime')\n",
        "member = member.drop_duplicates(subset=['MemberID'], keep=False)"
      ],
      "metadata": {
        "id": "98_TYCtIwOMQ"
      },
      "execution_count": null,
      "outputs": []
    },
    {
      "cell_type": "code",
      "source": [
        "len(member)"
      ],
      "metadata": {
        "colab": {
          "base_uri": "https://localhost:8080/"
        },
        "id": "DIOBXdT0xYiw",
        "outputId": "30c420c6-13d8-4c99-bc1a-db3cc3c8b905"
      },
      "execution_count": null,
      "outputs": [
        {
          "output_type": "execute_result",
          "data": {
            "text/plain": [
              "377132"
            ]
          },
          "metadata": {},
          "execution_count": 21
        }
      ]
    },
    {
      "cell_type": "code",
      "source": [
        "len(member[member['RegisterDateTime']<'2020-05-01']['MemberID'].unique())"
      ],
      "metadata": {
        "colab": {
          "base_uri": "https://localhost:8080/"
        },
        "id": "SJqBe6ycNdlH",
        "outputId": "2c6bdb7f-092b-46fc-ee89-ce71bb2f884a"
      },
      "execution_count": null,
      "outputs": [
        {
          "output_type": "execute_result",
          "data": {
            "text/plain": [
              "313647"
            ]
          },
          "metadata": {},
          "execution_count": 22
        }
      ]
    },
    {
      "cell_type": "code",
      "source": [
        "order_2019 = order[(order['TradesDateTime']>='2019-05-01')&(order['TradesDateTime']<'2020-05-01')]\n",
        "order_2020 = order[(order['TradesDateTime']>='2020-05-01')&(order['TradesDateTime']<'2021-05-01')]"
      ],
      "metadata": {
        "id": "llrGr6ujN4jo"
      },
      "execution_count": null,
      "outputs": []
    },
    {
      "cell_type": "code",
      "source": [
        "print(len(order_2019['MemberID'].unique()), len(order_2020['MemberID'].unique()))\n",
        "print(len(order_2020[order_2020['MemberID'].isin(order_2019['MemberID'])]['MemberID'].unique()))\n",
        "print(len(order_2019[order_2019['MemberID'].isin(member[member['RegisterDateTime']<'2020-05-01']['MemberID'])]['MemberID'].unique()))\n",
        "print(len(order_2020[order_2020['MemberID'].isin(member[member['RegisterDateTime']<'2020-05-01']['MemberID'])]['MemberID'].unique()))"
      ],
      "metadata": {
        "colab": {
          "base_uri": "https://localhost:8080/"
        },
        "id": "RZPJEW2-OY84",
        "outputId": "2dc3ba9b-2311-4ecd-856b-53388cf25e93"
      },
      "execution_count": null,
      "outputs": [
        {
          "output_type": "stream",
          "name": "stdout",
          "text": [
            "59417 71460\n",
            "16797\n",
            "59416\n",
            "33194\n"
          ]
        }
      ]
    },
    {
      "cell_type": "code",
      "source": [
        "member['RegisterYear'] = member['RegisterDateTime'].dt.year"
      ],
      "metadata": {
        "id": "CZ7iX9ywwXeR"
      },
      "execution_count": null,
      "outputs": []
    },
    {
      "cell_type": "code",
      "source": [
        "memberIDs = list(member[member['RegisterDateTime']<'2020-05-01']['MemberID'].unique())"
      ],
      "metadata": {
        "id": "yom3GAaOrX4o"
      },
      "execution_count": null,
      "outputs": []
    },
    {
      "cell_type": "code",
      "source": [
        "print('2020.05.01前註冊的會員:', len(memberIDs), '人')"
      ],
      "metadata": {
        "colab": {
          "base_uri": "https://localhost:8080/"
        },
        "id": "4XyIScR6u3KO",
        "outputId": "735ff194-2616-4141-e3c3-da244b1cfb40"
      },
      "execution_count": null,
      "outputs": [
        {
          "output_type": "stream",
          "name": "stdout",
          "text": [
            "2020.05.01前註冊的會員: 313647 人\n"
          ]
        }
      ]
    },
    {
      "cell_type": "markdown",
      "source": [
        "## 抓取有行為資料的 MemberID"
      ],
      "metadata": {
        "id": "0QA7edvips4M"
      }
    },
    {
      "cell_type": "markdown",
      "metadata": {
        "id": "1SY4BKs_Lbae"
      },
      "source": [
        "### Step 1: 處理行為資料"
      ]
    },
    {
      "cell_type": "code",
      "execution_count": null,
      "metadata": {
        "id": "xx5CeZR26cxm"
      },
      "outputs": [],
      "source": [
        "# 十大事件\n",
        "event_list = ['trafficSource', 'userRegisteration', 'mainPageView', 'productPageView', 'categoryPageView', \n",
        "              'activityPageView', 'search', 'addToCart', 'checkout', 'purchase']\n",
        "\n",
        "bh_list = ['traffic', 'register', 'viewmainpage', 'viewproduct', 'viewcategory', 'viewactivity', 'search', 'add', 'checkout', 'purchase']"
      ]
    },
    {
      "cell_type": "code",
      "execution_count": null,
      "metadata": {
        "id": "0OoliGg26dzD"
      },
      "outputs": [],
      "source": [
        "# 抓出期間內的所有行為資料\n",
        "def merge_data(events, dates):\n",
        "    i = 1\n",
        "    paths = []\n",
        "    for date_str in dates:\n",
        "        for event in events:\n",
        "            path = './dataset/91APP_BehaviorData/' + event + '_' + date_str + '.csv'\n",
        "            paths.append(path)\n",
        "  \n",
        "    dfs = [pd.read_csv(path, low_memory=False, encoding = \"utf-8\") for path in paths]\n",
        "    df = pd.concat(dfs)     \n",
        "\n",
        "    df['DateTime'] = pd.to_datetime(df.ht, unit='ms')\n",
        "\n",
        "    df = df.sort_values(by = ['did', 'DateTime'])\n",
        "    df = df[['dc', 'did', 'uid', 'DateTime', 'bh', 'cs', 'cm', 'cn', 'pr', 'pr1id', 'pr1pr', 'pr1qt', 'cu', 'tr', 'ti']]\n",
        "    \n",
        "    return df"
      ]
    },
    {
      "cell_type": "code",
      "execution_count": null,
      "metadata": {
        "id": "SaUSIX4j9_4A"
      },
      "outputs": [],
      "source": [
        "# 合併每個月的行為資料\n",
        "month_start = [x.strftime('%F')for x in pd.date_range(\"2019-05-01\", freq=\"MS\", periods=12)]\n",
        "month_end = [x.strftime('%F')for x in pd.date_range(\"2019-05-01\", freq=\"M\", periods=12)]\n",
        "\n",
        "for m in range(len(month_start)):\n",
        "  print(m) # month index\n",
        "  date_range = pd.date_range(month_start[m], month_end[m])\n",
        "  date_list = [x.strftime('%F')for x in date_range]\n",
        "\n",
        "  month_df = merge_data(event_list, date_list)\n",
        "  file_name = 'Month ' + str(m) + '.csv'\n",
        "  month_df.to_csv(file_name, index=False, encoding = 'utf-8')"
      ]
    },
    {
      "cell_type": "code",
      "execution_count": null,
      "metadata": {
        "id": "nIDXegFXGi75"
      },
      "outputs": [],
      "source": [
        "months = range(1,13)\n",
        "paths = []\n",
        "for m in months:\n",
        "  path = './Customer Value Prediction/TABLES/Behavior Data/Month '+ str(m) + '.csv'\n",
        "  paths.append(path) \n",
        "\n",
        "behavior_data = [pd.read_csv(path, low_memory=False, encoding = \"utf-8\")[['dc', 'did', 'uid', 'DateTime', 'bh']] for path in paths]"
      ]
    },
    {
      "cell_type": "markdown",
      "source": [
        "### Step 2: 轉換 UID 欄位"
      ],
      "metadata": {
        "id": "g6XhejLZyMzM"
      }
    },
    {
      "cell_type": "code",
      "source": [
        "member_data = member[member['MemberID'].isin(memberIDs)]"
      ],
      "metadata": {
        "id": "E1cjUrFAsWJA"
      },
      "execution_count": null,
      "outputs": []
    },
    {
      "cell_type": "code",
      "source": [
        "def add_uid_col(data):\n",
        "  df = data.copy()\n",
        "  df['uid'] = df['MemberID'].str.replace('+', '%2B')\n",
        "  df['uid'] = df['uid'].str.replace('/', '%2F')\n",
        "  df['uid'] = df['uid'].str.replace('=', '%3D')\n",
        "\n",
        "  return df['uid']"
      ],
      "metadata": {
        "id": "67v-mY2DoknY"
      },
      "execution_count": null,
      "outputs": []
    },
    {
      "cell_type": "code",
      "source": [
        "member_data['uid'] = add_uid_col(member_data)"
      ],
      "metadata": {
        "colab": {
          "base_uri": "https://localhost:8080/"
        },
        "id": "8wzcZ7lssiZa",
        "outputId": "872a22a5-bfee-4914-9ea7-dd9d4f82b1e0"
      },
      "execution_count": null,
      "outputs": [
        {
          "output_type": "stream",
          "name": "stderr",
          "text": [
            "/usr/local/lib/python3.7/dist-packages/ipykernel_launcher.py:3: FutureWarning: The default value of regex will change from True to False in a future version. In addition, single character regular expressions will *not* be treated as literal strings when regex=True.\n",
            "  This is separate from the ipykernel package so we can avoid doing imports until\n",
            "/usr/local/lib/python3.7/dist-packages/ipykernel_launcher.py:1: SettingWithCopyWarning: \n",
            "A value is trying to be set on a copy of a slice from a DataFrame.\n",
            "Try using .loc[row_indexer,col_indexer] = value instead\n",
            "\n",
            "See the caveats in the documentation: https://pandas.pydata.org/pandas-docs/stable/user_guide/indexing.html#returning-a-view-versus-a-copy\n",
            "  \"\"\"Entry point for launching an IPython kernel.\n"
          ]
        }
      ]
    },
    {
      "cell_type": "code",
      "source": [
        "uids = list(member_data['uid'].unique())"
      ],
      "metadata": {
        "id": "8ysBUQ0Ys31Z"
      },
      "execution_count": null,
      "outputs": []
    },
    {
      "cell_type": "code",
      "source": [
        "print(len(memberIDs), len(uids))"
      ],
      "metadata": {
        "colab": {
          "base_uri": "https://localhost:8080/"
        },
        "id": "NiDYzntPs-ol",
        "outputId": "2b298043-7786-40d9-cc78-62fe41803c6f"
      },
      "execution_count": null,
      "outputs": [
        {
          "output_type": "stream",
          "name": "stdout",
          "text": [
            "313647 313647\n"
          ]
        }
      ]
    },
    {
      "cell_type": "markdown",
      "source": [
        "### Step 3: 取得 MemberID, uid, did 對照表"
      ],
      "metadata": {
        "id": "-d1LokC7yTIj"
      }
    },
    {
      "cell_type": "code",
      "source": [
        "dfs = []\n",
        "for m in range(len(behavior_data)):\n",
        "  df = behavior_data[m][(behavior_data[m]['uid'].isin(uids))&(behavior_data[m]['did'].notna())].drop_duplicates(subset=['did', 'uid'], keep='last')[['did', 'uid']]\n",
        "\n",
        "  dfs.append(df)\n",
        "\n",
        "uid_df = pd.concat(dfs).drop_duplicates(subset=['did', 'uid'], keep='last')[['did', 'uid']]"
      ],
      "metadata": {
        "id": "nNc-YDFpsDjg"
      },
      "execution_count": null,
      "outputs": []
    },
    {
      "cell_type": "code",
      "source": [
        "len(uid_df['uid'].unique())"
      ],
      "metadata": {
        "colab": {
          "base_uri": "https://localhost:8080/"
        },
        "id": "z2PTS3Rlt5zQ",
        "outputId": "949a3a48-4581-4cfe-e8fc-7ad17f9b7d1b"
      },
      "execution_count": null,
      "outputs": [
        {
          "output_type": "execute_result",
          "data": {
            "text/plain": [
              "120080"
            ]
          },
          "metadata": {},
          "execution_count": 31
        }
      ]
    },
    {
      "cell_type": "code",
      "source": [
        "id_df = pd.merge(uid_df.drop_duplicates(subset=['uid'], keep='last')[['uid']], member_data[['MemberID', 'uid']], on='uid', how='left')"
      ],
      "metadata": {
        "id": "Dxr1canFzE6C"
      },
      "execution_count": null,
      "outputs": []
    },
    {
      "cell_type": "code",
      "source": [
        "memberIDs = list(id_df['MemberID'].unique())\n",
        "uids = list(id_df['uid'].unique())\n",
        "print(len(memberIDs), len(uids))"
      ],
      "metadata": {
        "colab": {
          "base_uri": "https://localhost:8080/"
        },
        "id": "WyyDZfwqaOWz",
        "outputId": "92a5f5a7-1330-48b5-8812-edd1fecae17b"
      },
      "execution_count": null,
      "outputs": [
        {
          "output_type": "stream",
          "name": "stdout",
          "text": [
            "120080 120080\n"
          ]
        }
      ]
    },
    {
      "cell_type": "code",
      "source": [
        "print(len(order_2020[order_2020['MemberID'].isin(memberIDs)]['MemberID'].unique()))"
      ],
      "metadata": {
        "colab": {
          "base_uri": "https://localhost:8080/"
        },
        "id": "HsXreHIYUlq5",
        "outputId": "315ca369-337e-43d3-d277-a8c7d6ffabd1"
      },
      "execution_count": null,
      "outputs": [
        {
          "output_type": "stream",
          "name": "stdout",
          "text": [
            "24169\n"
          ]
        }
      ]
    },
    {
      "cell_type": "markdown",
      "source": [
        "### Step 4: 合併行為資料\n"
      ],
      "metadata": {
        "id": "KjAKa-eSnKzu"
      }
    },
    {
      "cell_type": "code",
      "source": [
        "order_data = order[order['MemberID'].isin(memberIDs)]\n",
        "# only consider finish and return order\n",
        "order_data = order_data[(order_data['Status'] == 'Finish') | (order_data['Status'] == 'Return')]"
      ],
      "metadata": {
        "id": "hAZRXUiE5R0J"
      },
      "execution_count": null,
      "outputs": []
    },
    {
      "cell_type": "code",
      "source": [
        "print('-------------------Start to process session times-------------------')\n",
        "id_dfs = []\n",
        "\n",
        "print('Get id table')\n",
        "print('uid len:', len(uids))\n",
        "for m in list(range(12)):\n",
        "  df = behavior_data[m]\n",
        "  id_dfs.append(df.loc[df['uid'].isin(uids)][['did', 'uid']]) \n",
        "id_table = pd.concat(id_dfs).drop_duplicates(subset=['did'], keep='last')\n",
        "print('id_table len:', len(id_table))"
      ],
      "metadata": {
        "colab": {
          "base_uri": "https://localhost:8080/"
        },
        "id": "wnmaU3_R4_DI",
        "outputId": "4d37ea08-a005-4c23-8f21-e54e48a72715"
      },
      "execution_count": null,
      "outputs": [
        {
          "output_type": "stream",
          "name": "stdout",
          "text": [
            "-------------------Start to process session times-------------------\n",
            "Get id table\n",
            "uid len: 120080\n",
            "id_table len: 171045\n"
          ]
        }
      ]
    },
    {
      "cell_type": "code",
      "source": [
        "print('-------------------Get behavior data of members----------------------')\n",
        "dfs = []\n",
        "for m in list(range(12)):\n",
        "  df = behavior_data[m]\n",
        "  dfs.append(df.loc[(df['did'].isin(id_table['did']))])\n",
        "\n",
        "behaviors = pd.concat(dfs)\n",
        "print('Process ids of member')\n",
        "# 一個 uid 有多個 did 的問題\n",
        "fill_uid = pd.merge(behaviors[['did']], id_table, how='left', on='did').rename(columns = {'uid': 'uid_filled'}, inplace = False)\n",
        "behaviors['uid_filled'] = list(fill_uid['uid_filled'])\n",
        "behaviors = behaviors.sort_values(by = ['uid_filled', 'DateTime'])"
      ],
      "metadata": {
        "colab": {
          "base_uri": "https://localhost:8080/"
        },
        "id": "SM1hnKSD5zg9",
        "outputId": "c7aa2e34-e182-4998-aa9b-fb119404e08e"
      },
      "execution_count": null,
      "outputs": [
        {
          "output_type": "stream",
          "name": "stdout",
          "text": [
            "-------------------Get behavior data of members----------------------\n",
            "Process ids of member\n"
          ]
        }
      ]
    },
    {
      "cell_type": "code",
      "source": [
        "behaviors.to_csv('all behaviors data.csv')"
      ],
      "metadata": {
        "id": "EJgY-AFShAPh"
      },
      "execution_count": null,
      "outputs": []
    }
  ],
  "metadata": {
    "colab": {
      "collapsed_sections": [],
      "name": "Behavior Data Preprocessor",
      "provenance": []
    },
    "kernelspec": {
      "display_name": "Python 3",
      "name": "python3"
    },
    "language_info": {
      "name": "python"
    }
  },
  "nbformat": 4,
  "nbformat_minor": 0
}