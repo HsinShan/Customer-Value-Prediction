{
  "cells": [
    {
      "cell_type": "code",
      "execution_count": null,
      "metadata": {
        "colab": {
          "base_uri": "https://localhost:8080/"
        },
        "id": "TOWIMqE4bScp",
        "outputId": "7f495bc8-d500-4b0f-f078-2af7712f5d5d"
      },
      "outputs": [
        {
          "output_type": "stream",
          "name": "stdout",
          "text": [
            "Mounted at /content/drive\n"
          ]
        }
      ],
      "source": [
        "from google.colab import drive\n",
        "drive.mount('/content/drive')"
      ]
    },
    {
      "cell_type": "code",
      "execution_count": null,
      "metadata": {
        "colab": {
          "base_uri": "https://localhost:8080/"
        },
        "id": "E9vDxSuibW_T",
        "outputId": "560a8c42-8120-4eac-9dd9-d0613b460755"
      },
      "outputs": [
        {
          "output_type": "stream",
          "name": "stdout",
          "text": [
            "/content/drive/Shareddrives/My paper\n"
          ]
        }
      ],
      "source": [
        "%cd /content/drive/Shareddrives/My\\ paper"
      ]
    },
    {
      "cell_type": "code",
      "execution_count": null,
      "metadata": {
        "id": "kccKnbTybjMI"
      },
      "outputs": [],
      "source": [
        "import pandas as pd\n",
        "import numpy as np\n",
        "from datetime import date, timedelta, datetime"
      ]
    },
    {
      "cell_type": "code",
      "execution_count": null,
      "metadata": {
        "id": "TKZvlm6Kblfx"
      },
      "outputs": [],
      "source": [
        "member = pd.read_csv('dataset/91APP_MemberData.csv')"
      ]
    },
    {
      "cell_type": "code",
      "execution_count": null,
      "metadata": {
        "colab": {
          "base_uri": "https://localhost:8080/"
        },
        "id": "feq5WIbP5PAk",
        "outputId": "ef913766-d5c3-45b7-a64d-33a88342d2de"
      },
      "outputs": [
        {
          "output_type": "stream",
          "name": "stderr",
          "text": [
            "/usr/local/lib/python3.7/dist-packages/IPython/core/interactiveshell.py:2882: DtypeWarning: Columns (4) have mixed types.Specify dtype option on import or set low_memory=False.\n",
            "  exec(code_obj, self.user_global_ns, self.user_ns)\n"
          ]
        }
      ],
      "source": [
        "order = pd.read_csv('dataset/91APP_OrderData.csv')"
      ]
    },
    {
      "cell_type": "code",
      "source": [
        "print(len(member['MemberID'].unique()), len(order['MemberID'].unique()))"
      ],
      "metadata": {
        "colab": {
          "base_uri": "https://localhost:8080/"
        },
        "id": "Z-1rJO_cqsqh",
        "outputId": "025c4c84-451b-4544-d03d-cd5ebb366abf"
      },
      "execution_count": null,
      "outputs": [
        {
          "output_type": "stream",
          "name": "stdout",
          "text": [
            "377133 235493\n"
          ]
        }
      ]
    },
    {
      "cell_type": "code",
      "source": [
        "order['TradesDateTime'] = pd.to_datetime(order['TradesDateTime'])\n",
        "order = order.sort_values(by='TradesDateTime')"
      ],
      "metadata": {
        "id": "VOm5BSfJlVyw"
      },
      "execution_count": null,
      "outputs": []
    },
    {
      "cell_type": "code",
      "source": [
        "member['RegisterDateTime'] = pd.to_datetime(member['RegisterDateTime'])\n",
        "member = member.sort_values(by='RegisterDateTime')\n",
        "member = member.drop_duplicates(subset=['MemberID'], keep=False)"
      ],
      "metadata": {
        "id": "98_TYCtIwOMQ"
      },
      "execution_count": null,
      "outputs": []
    },
    {
      "cell_type": "code",
      "source": [
        "len(member)"
      ],
      "metadata": {
        "colab": {
          "base_uri": "https://localhost:8080/"
        },
        "id": "DIOBXdT0xYiw",
        "outputId": "8aafee17-4767-4171-80ed-b9e0c692a4b6"
      },
      "execution_count": null,
      "outputs": [
        {
          "output_type": "execute_result",
          "data": {
            "text/plain": [
              "377132"
            ]
          },
          "metadata": {},
          "execution_count": 9
        }
      ]
    },
    {
      "cell_type": "code",
      "source": [
        "label_data = pd.read_csv('./Customer Value Prediction/TABLES/Label Data.csv')"
      ],
      "metadata": {
        "id": "PVWwwl_c-7lT"
      },
      "execution_count": null,
      "outputs": []
    },
    {
      "cell_type": "code",
      "source": [
        "memberIDs = list(label_data['MemberID'].unique())"
      ],
      "metadata": {
        "id": "yom3GAaOrX4o"
      },
      "execution_count": null,
      "outputs": []
    },
    {
      "cell_type": "markdown",
      "metadata": {
        "id": "1SY4BKs_Lbae"
      },
      "source": [
        "## 加上 UID 欄位\n"
      ]
    },
    {
      "cell_type": "code",
      "source": [
        "def add_uid_col(data):\n",
        "  df = data.copy()\n",
        "  df['uid'] = df['MemberID'].str.replace('+', '%2B')\n",
        "  df['uid'] = df['uid'].str.replace('/', '%2F')\n",
        "  df['uid'] = df['uid'].str.replace('=', '%3D')\n",
        "\n",
        "  return df['uid']"
      ],
      "metadata": {
        "id": "67v-mY2DoknY"
      },
      "execution_count": null,
      "outputs": []
    },
    {
      "cell_type": "code",
      "source": [
        "label_data['uid'] = add_uid_col(label_data)"
      ],
      "metadata": {
        "colab": {
          "base_uri": "https://localhost:8080/"
        },
        "id": "8wzcZ7lssiZa",
        "outputId": "ae2c9049-6b0d-4839-fb6c-973def0c68e0"
      },
      "execution_count": null,
      "outputs": [
        {
          "output_type": "stream",
          "name": "stderr",
          "text": [
            "/usr/local/lib/python3.7/dist-packages/ipykernel_launcher.py:3: FutureWarning: The default value of regex will change from True to False in a future version. In addition, single character regular expressions will *not* be treated as literal strings when regex=True.\n",
            "  This is separate from the ipykernel package so we can avoid doing imports until\n"
          ]
        }
      ]
    },
    {
      "cell_type": "code",
      "source": [
        "uids = list(label_data['uid'].unique())"
      ],
      "metadata": {
        "id": "8ysBUQ0Ys31Z"
      },
      "execution_count": null,
      "outputs": []
    },
    {
      "cell_type": "code",
      "source": [
        "print(len(memberIDs), len(uids))"
      ],
      "metadata": {
        "colab": {
          "base_uri": "https://localhost:8080/"
        },
        "id": "NiDYzntPs-ol",
        "outputId": "b26d9c79-52af-4788-d6e3-30f8fe2d765c"
      },
      "execution_count": null,
      "outputs": [
        {
          "output_type": "stream",
          "name": "stdout",
          "text": [
            "83931 83931\n"
          ]
        }
      ]
    },
    {
      "cell_type": "markdown",
      "source": [
        "## 讀取所有行為資料"
      ],
      "metadata": {
        "id": "Vy2gLDSzwPwW"
      }
    },
    {
      "cell_type": "code",
      "source": [
        "behaviors = pd.read_csv('all behaviors data.csv')"
      ],
      "metadata": {
        "id": "n4UCJ3nFwEba"
      },
      "execution_count": null,
      "outputs": []
    },
    {
      "cell_type": "code",
      "source": [
        "behaviors.columns"
      ],
      "metadata": {
        "colab": {
          "base_uri": "https://localhost:8080/"
        },
        "id": "AbGA33z9AkHg",
        "outputId": "56ef57bc-47bb-4fdd-c319-3a3d91c202c0"
      },
      "execution_count": null,
      "outputs": [
        {
          "output_type": "execute_result",
          "data": {
            "text/plain": [
              "Index(['Unnamed: 0', 'dc', 'did', 'uid', 'DateTime', 'bh', 'uid_filled'], dtype='object')"
            ]
          },
          "metadata": {},
          "execution_count": 17
        }
      ]
    },
    {
      "cell_type": "code",
      "source": [
        "behaviors = behaviors[behaviors['uid_filled'].isin(uids)][['did', 'uid', 'DateTime', 'bh', 'uid_filled']]"
      ],
      "metadata": {
        "id": "qbLTjA_3_-my"
      },
      "execution_count": null,
      "outputs": []
    },
    {
      "cell_type": "code",
      "source": [
        "len(behaviors)"
      ],
      "metadata": {
        "colab": {
          "base_uri": "https://localhost:8080/"
        },
        "id": "Fix3h-bAX-D5",
        "outputId": "2ce48d7f-1fe6-45a7-a6cc-527f36f70e9a"
      },
      "execution_count": null,
      "outputs": [
        {
          "output_type": "execute_result",
          "data": {
            "text/plain": [
              "12879698"
            ]
          },
          "metadata": {},
          "execution_count": 19
        }
      ]
    },
    {
      "cell_type": "code",
      "source": [
        "behaviors = behaviors.sort_values(by=['uid_filled', 'DateTime']).groupby(by=['uid_filled']).tail(60)"
      ],
      "metadata": {
        "id": "M2a9jAqY59V6"
      },
      "execution_count": null,
      "outputs": []
    },
    {
      "cell_type": "code",
      "source": [
        "def calc_time(df, current_time):\n",
        "  df_copy = df.copy()\n",
        "\n",
        "  df_copy['DateTime'] = pd.to_datetime(df_copy['DateTime'], format='%Y-%m-%d %H:%M:%S')\n",
        "  df_copy['datetime_next'] = df_copy['DateTime'].shift(periods=-1, fill_value=current_time)\n",
        "\n",
        "  df_copy['uid_next'] = df_copy['uid_filled'].shift(periods=-1, fill_value='final_member')\n",
        "  df_copy.loc[(df_copy['uid_filled'] != df_copy['uid_next']), 'datetime_next'] = current_time\n",
        "\n",
        "  # 最後一個行為的 TimeDiff = 該行為到當今時間的時間差\n",
        "  df_copy['TimeDiff'] = (df_copy['datetime_next'] - df_copy['DateTime']).astype('timedelta64[s]')\n",
        "\n",
        "  return df_copy[['DateTime', 'bh', 'uid_filled', 'TimeDiff']]"
      ],
      "metadata": {
        "id": "7-yQvlIo7mb7"
      },
      "execution_count": null,
      "outputs": []
    },
    {
      "cell_type": "code",
      "source": [
        "bh_df = calc_time(behaviors, '2020-04-30 23:59:59.999')"
      ],
      "metadata": {
        "colab": {
          "base_uri": "https://localhost:8080/"
        },
        "id": "JO-LDTWR8HgK",
        "outputId": "a6d12710-ca56-477b-e68f-5e8622c38fed"
      },
      "execution_count": null,
      "outputs": [
        {
          "output_type": "stream",
          "name": "stderr",
          "text": [
            "/usr/local/lib/python3.7/dist-packages/ipykernel_launcher.py:5: FutureWarning: Passing <class 'str'> to shift is deprecated and will raise in a future version, pass Timestamp instead.\n",
            "  \"\"\"\n"
          ]
        }
      ]
    },
    {
      "cell_type": "code",
      "source": [
        "bh_df.drop_duplicates(subset=['uid_filled'], keep='last')"
      ],
      "metadata": {
        "colab": {
          "base_uri": "https://localhost:8080/",
          "height": 423
        },
        "id": "GQVOE70e9Qum",
        "outputId": "e3758d8f-d29f-4ad0-e1f4-0056e0f8e4fc"
      },
      "execution_count": null,
      "outputs": [
        {
          "output_type": "execute_result",
          "data": {
            "text/plain": [
              "                        DateTime            bh  \\\n",
              "311      2019-12-16 05:59:12.966  viewmainpage   \n",
              "401      2019-11-24 11:27:10.417  viewmainpage   \n",
              "776      2020-04-11 08:40:11.394   viewproduct   \n",
              "780      2019-07-18 12:04:25.985  viewcategory   \n",
              "888      2020-02-17 00:37:35.489  viewmainpage   \n",
              "...                          ...           ...   \n",
              "15356608 2019-12-08 11:45:38.296   viewproduct   \n",
              "15356645 2020-04-17 04:21:05.275  viewmainpage   \n",
              "15356812 2019-12-23 14:44:31.693  viewmainpage   \n",
              "15357012 2020-01-04 09:23:50.628       traffic   \n",
              "15357122 2020-04-13 08:45:03.579        search   \n",
              "\n",
              "                                                 uid_filled    TimeDiff  \n",
              "311       %2B%2B%2FsALKlNdkh585nb%2F9geIrN84FIZZLkD8qf90...  11815247.0  \n",
              "401       %2B%2B3XVjBiQPLoAXWc7gK%2BTdvTH4J4AmgkeFlB3mmN...  13696369.0  \n",
              "776       %2B%2B44iA8rzzl4lYN3dzParPLqAXetHBSwDFIBUBD%2B...   1696788.0  \n",
              "780       %2B%2B6Xs%2FwHblxbDDDYQ9osx6DMUooacHVpAJvv7KWg...  24839734.0  \n",
              "888       %2B%2B8lPULC%2BdY%2F3MWf4kbymzr1cx%2B3Eaktr2fv...   6391344.0  \n",
              "...                                                     ...         ...  \n",
              "15356608   zzrOAdwnKzCrEW7aUK%2FMkdXLVyQeo59HdxcfqMqwiwA%3D  12485661.0  \n",
              "15356645  zzvTsLQAKUueMvz%2Bvx%2FYptKHZIMMEu7nSWnkOiBhtR...   1193934.0  \n",
              "15356812   zzw%2Bk3PFtOtuOIu62cuXNkLNLUFDlgmXZj2XeMTwl2g%3D  11178928.0  \n",
              "15357012  zzw9O6yOUvVbxgrvUGCnmjjacARx%2FbQ%2F12aZDz27Tb...  10161369.0  \n",
              "15357122     zzwvJvTcevm90Q6BkxJqud94QGdwcvDOrWT88F1cTM4%3D   1523696.0  \n",
              "\n",
              "[83931 rows x 4 columns]"
            ],
            "text/html": [
              "\n",
              "  <div id=\"df-6a9694a1-95a9-4eba-ae99-226f37199ab2\">\n",
              "    <div class=\"colab-df-container\">\n",
              "      <div>\n",
              "<style scoped>\n",
              "    .dataframe tbody tr th:only-of-type {\n",
              "        vertical-align: middle;\n",
              "    }\n",
              "\n",
              "    .dataframe tbody tr th {\n",
              "        vertical-align: top;\n",
              "    }\n",
              "\n",
              "    .dataframe thead th {\n",
              "        text-align: right;\n",
              "    }\n",
              "</style>\n",
              "<table border=\"1\" class=\"dataframe\">\n",
              "  <thead>\n",
              "    <tr style=\"text-align: right;\">\n",
              "      <th></th>\n",
              "      <th>DateTime</th>\n",
              "      <th>bh</th>\n",
              "      <th>uid_filled</th>\n",
              "      <th>TimeDiff</th>\n",
              "    </tr>\n",
              "  </thead>\n",
              "  <tbody>\n",
              "    <tr>\n",
              "      <th>311</th>\n",
              "      <td>2019-12-16 05:59:12.966</td>\n",
              "      <td>viewmainpage</td>\n",
              "      <td>%2B%2B%2FsALKlNdkh585nb%2F9geIrN84FIZZLkD8qf90...</td>\n",
              "      <td>11815247.0</td>\n",
              "    </tr>\n",
              "    <tr>\n",
              "      <th>401</th>\n",
              "      <td>2019-11-24 11:27:10.417</td>\n",
              "      <td>viewmainpage</td>\n",
              "      <td>%2B%2B3XVjBiQPLoAXWc7gK%2BTdvTH4J4AmgkeFlB3mmN...</td>\n",
              "      <td>13696369.0</td>\n",
              "    </tr>\n",
              "    <tr>\n",
              "      <th>776</th>\n",
              "      <td>2020-04-11 08:40:11.394</td>\n",
              "      <td>viewproduct</td>\n",
              "      <td>%2B%2B44iA8rzzl4lYN3dzParPLqAXetHBSwDFIBUBD%2B...</td>\n",
              "      <td>1696788.0</td>\n",
              "    </tr>\n",
              "    <tr>\n",
              "      <th>780</th>\n",
              "      <td>2019-07-18 12:04:25.985</td>\n",
              "      <td>viewcategory</td>\n",
              "      <td>%2B%2B6Xs%2FwHblxbDDDYQ9osx6DMUooacHVpAJvv7KWg...</td>\n",
              "      <td>24839734.0</td>\n",
              "    </tr>\n",
              "    <tr>\n",
              "      <th>888</th>\n",
              "      <td>2020-02-17 00:37:35.489</td>\n",
              "      <td>viewmainpage</td>\n",
              "      <td>%2B%2B8lPULC%2BdY%2F3MWf4kbymzr1cx%2B3Eaktr2fv...</td>\n",
              "      <td>6391344.0</td>\n",
              "    </tr>\n",
              "    <tr>\n",
              "      <th>...</th>\n",
              "      <td>...</td>\n",
              "      <td>...</td>\n",
              "      <td>...</td>\n",
              "      <td>...</td>\n",
              "    </tr>\n",
              "    <tr>\n",
              "      <th>15356608</th>\n",
              "      <td>2019-12-08 11:45:38.296</td>\n",
              "      <td>viewproduct</td>\n",
              "      <td>zzrOAdwnKzCrEW7aUK%2FMkdXLVyQeo59HdxcfqMqwiwA%3D</td>\n",
              "      <td>12485661.0</td>\n",
              "    </tr>\n",
              "    <tr>\n",
              "      <th>15356645</th>\n",
              "      <td>2020-04-17 04:21:05.275</td>\n",
              "      <td>viewmainpage</td>\n",
              "      <td>zzvTsLQAKUueMvz%2Bvx%2FYptKHZIMMEu7nSWnkOiBhtR...</td>\n",
              "      <td>1193934.0</td>\n",
              "    </tr>\n",
              "    <tr>\n",
              "      <th>15356812</th>\n",
              "      <td>2019-12-23 14:44:31.693</td>\n",
              "      <td>viewmainpage</td>\n",
              "      <td>zzw%2Bk3PFtOtuOIu62cuXNkLNLUFDlgmXZj2XeMTwl2g%3D</td>\n",
              "      <td>11178928.0</td>\n",
              "    </tr>\n",
              "    <tr>\n",
              "      <th>15357012</th>\n",
              "      <td>2020-01-04 09:23:50.628</td>\n",
              "      <td>traffic</td>\n",
              "      <td>zzw9O6yOUvVbxgrvUGCnmjjacARx%2FbQ%2F12aZDz27Tb...</td>\n",
              "      <td>10161369.0</td>\n",
              "    </tr>\n",
              "    <tr>\n",
              "      <th>15357122</th>\n",
              "      <td>2020-04-13 08:45:03.579</td>\n",
              "      <td>search</td>\n",
              "      <td>zzwvJvTcevm90Q6BkxJqud94QGdwcvDOrWT88F1cTM4%3D</td>\n",
              "      <td>1523696.0</td>\n",
              "    </tr>\n",
              "  </tbody>\n",
              "</table>\n",
              "<p>83931 rows × 4 columns</p>\n",
              "</div>\n",
              "      <button class=\"colab-df-convert\" onclick=\"convertToInteractive('df-6a9694a1-95a9-4eba-ae99-226f37199ab2')\"\n",
              "              title=\"Convert this dataframe to an interactive table.\"\n",
              "              style=\"display:none;\">\n",
              "        \n",
              "  <svg xmlns=\"http://www.w3.org/2000/svg\" height=\"24px\"viewBox=\"0 0 24 24\"\n",
              "       width=\"24px\">\n",
              "    <path d=\"M0 0h24v24H0V0z\" fill=\"none\"/>\n",
              "    <path d=\"M18.56 5.44l.94 2.06.94-2.06 2.06-.94-2.06-.94-.94-2.06-.94 2.06-2.06.94zm-11 1L8.5 8.5l.94-2.06 2.06-.94-2.06-.94L8.5 2.5l-.94 2.06-2.06.94zm10 10l.94 2.06.94-2.06 2.06-.94-2.06-.94-.94-2.06-.94 2.06-2.06.94z\"/><path d=\"M17.41 7.96l-1.37-1.37c-.4-.4-.92-.59-1.43-.59-.52 0-1.04.2-1.43.59L10.3 9.45l-7.72 7.72c-.78.78-.78 2.05 0 2.83L4 21.41c.39.39.9.59 1.41.59.51 0 1.02-.2 1.41-.59l7.78-7.78 2.81-2.81c.8-.78.8-2.07 0-2.86zM5.41 20L4 18.59l7.72-7.72 1.47 1.35L5.41 20z\"/>\n",
              "  </svg>\n",
              "      </button>\n",
              "      \n",
              "  <style>\n",
              "    .colab-df-container {\n",
              "      display:flex;\n",
              "      flex-wrap:wrap;\n",
              "      gap: 12px;\n",
              "    }\n",
              "\n",
              "    .colab-df-convert {\n",
              "      background-color: #E8F0FE;\n",
              "      border: none;\n",
              "      border-radius: 50%;\n",
              "      cursor: pointer;\n",
              "      display: none;\n",
              "      fill: #1967D2;\n",
              "      height: 32px;\n",
              "      padding: 0 0 0 0;\n",
              "      width: 32px;\n",
              "    }\n",
              "\n",
              "    .colab-df-convert:hover {\n",
              "      background-color: #E2EBFA;\n",
              "      box-shadow: 0px 1px 2px rgba(60, 64, 67, 0.3), 0px 1px 3px 1px rgba(60, 64, 67, 0.15);\n",
              "      fill: #174EA6;\n",
              "    }\n",
              "\n",
              "    [theme=dark] .colab-df-convert {\n",
              "      background-color: #3B4455;\n",
              "      fill: #D2E3FC;\n",
              "    }\n",
              "\n",
              "    [theme=dark] .colab-df-convert:hover {\n",
              "      background-color: #434B5C;\n",
              "      box-shadow: 0px 1px 3px 1px rgba(0, 0, 0, 0.15);\n",
              "      filter: drop-shadow(0px 1px 2px rgba(0, 0, 0, 0.3));\n",
              "      fill: #FFFFFF;\n",
              "    }\n",
              "  </style>\n",
              "\n",
              "      <script>\n",
              "        const buttonEl =\n",
              "          document.querySelector('#df-6a9694a1-95a9-4eba-ae99-226f37199ab2 button.colab-df-convert');\n",
              "        buttonEl.style.display =\n",
              "          google.colab.kernel.accessAllowed ? 'block' : 'none';\n",
              "\n",
              "        async function convertToInteractive(key) {\n",
              "          const element = document.querySelector('#df-6a9694a1-95a9-4eba-ae99-226f37199ab2');\n",
              "          const dataTable =\n",
              "            await google.colab.kernel.invokeFunction('convertToInteractive',\n",
              "                                                     [key], {});\n",
              "          if (!dataTable) return;\n",
              "\n",
              "          const docLinkHtml = 'Like what you see? Visit the ' +\n",
              "            '<a target=\"_blank\" href=https://colab.research.google.com/notebooks/data_table.ipynb>data table notebook</a>'\n",
              "            + ' to learn more about interactive tables.';\n",
              "          element.innerHTML = '';\n",
              "          dataTable['output_type'] = 'display_data';\n",
              "          await google.colab.output.renderOutput(dataTable, element);\n",
              "          const docLink = document.createElement('div');\n",
              "          docLink.innerHTML = docLinkHtml;\n",
              "          element.appendChild(docLink);\n",
              "        }\n",
              "      </script>\n",
              "    </div>\n",
              "  </div>\n",
              "  "
            ]
          },
          "metadata": {},
          "execution_count": 54
        }
      ]
    },
    {
      "cell_type": "code",
      "source": [
        "pd.merge(label_data, bh_df, left_on='uid', right_on='uid_filled', how='right').drop(['uid', 'uid_filled', 'DateTime'], axis=1).to_csv('Event Sequence base on second.csv', index=False)"
      ],
      "metadata": {
        "id": "3oR9l_RtRJBB"
      },
      "execution_count": null,
      "outputs": []
    },
    {
      "cell_type": "code",
      "source": [
        "bh_df['bh_codes'] = pd.Categorical(bh_df.bh).codes\n",
        "bh_df['bh_codes'] = bh_df['bh_codes'] + 1 # 因為之後會補 0 "
      ],
      "metadata": {
        "id": "npU7sbpHyMkI"
      },
      "execution_count": null,
      "outputs": []
    },
    {
      "cell_type": "code",
      "source": [
        "bhs = pd.DataFrame(bh_df.groupby('uid_filled')['bh'].apply(list))\n",
        "bh_codes= pd.DataFrame(bh_df.groupby('uid_filled')['bh_codes'].apply(list))\n",
        "TimeDiffs = pd.DataFrame(bh_df.groupby('uid_filled')['TimeDiff'].apply(list))\n",
        "Lens = pd.DataFrame(bh_df.groupby('uid_filled').size(), columns=['Events'])"
      ],
      "metadata": {
        "id": "JPZ-UvI6xfdn"
      },
      "execution_count": null,
      "outputs": []
    },
    {
      "cell_type": "code",
      "source": [
        "result = pd.merge(bhs, bh_codes, on='uid_filled')\n",
        "result = pd.merge(result, TimeDiffs, on='uid_filled')\n",
        "result = pd.merge(result, Lens, on='uid_filled')"
      ],
      "metadata": {
        "id": "ght9ZPxefuZF"
      },
      "execution_count": null,
      "outputs": []
    },
    {
      "cell_type": "code",
      "source": [
        "len(result)"
      ],
      "metadata": {
        "colab": {
          "base_uri": "https://localhost:8080/"
        },
        "id": "whbTzoa3zEWG",
        "outputId": "ec9ffc65-82fe-4349-b721-79145fdd6df5"
      },
      "execution_count": null,
      "outputs": [
        {
          "output_type": "execute_result",
          "data": {
            "text/plain": [
              "83931"
            ]
          },
          "metadata": {},
          "execution_count": 37
        }
      ]
    },
    {
      "cell_type": "code",
      "source": [
        "result.describe()"
      ],
      "metadata": {
        "colab": {
          "base_uri": "https://localhost:8080/",
          "height": 300
        },
        "id": "SZFpM5hmzKGv",
        "outputId": "682805cb-a91c-4ab5-e668-c9ed52de2061"
      },
      "execution_count": null,
      "outputs": [
        {
          "output_type": "execute_result",
          "data": {
            "text/plain": [
              "             Events\n",
              "count  83931.000000\n",
              "mean      41.102620\n",
              "std       22.297833\n",
              "min        1.000000\n",
              "25%       18.000000\n",
              "50%       59.000000\n",
              "75%       60.000000\n",
              "max       60.000000"
            ],
            "text/html": [
              "\n",
              "  <div id=\"df-07f6d33d-55f2-4412-a998-f6b3d160185d\">\n",
              "    <div class=\"colab-df-container\">\n",
              "      <div>\n",
              "<style scoped>\n",
              "    .dataframe tbody tr th:only-of-type {\n",
              "        vertical-align: middle;\n",
              "    }\n",
              "\n",
              "    .dataframe tbody tr th {\n",
              "        vertical-align: top;\n",
              "    }\n",
              "\n",
              "    .dataframe thead th {\n",
              "        text-align: right;\n",
              "    }\n",
              "</style>\n",
              "<table border=\"1\" class=\"dataframe\">\n",
              "  <thead>\n",
              "    <tr style=\"text-align: right;\">\n",
              "      <th></th>\n",
              "      <th>Events</th>\n",
              "    </tr>\n",
              "  </thead>\n",
              "  <tbody>\n",
              "    <tr>\n",
              "      <th>count</th>\n",
              "      <td>83931.000000</td>\n",
              "    </tr>\n",
              "    <tr>\n",
              "      <th>mean</th>\n",
              "      <td>41.102620</td>\n",
              "    </tr>\n",
              "    <tr>\n",
              "      <th>std</th>\n",
              "      <td>22.297833</td>\n",
              "    </tr>\n",
              "    <tr>\n",
              "      <th>min</th>\n",
              "      <td>1.000000</td>\n",
              "    </tr>\n",
              "    <tr>\n",
              "      <th>25%</th>\n",
              "      <td>18.000000</td>\n",
              "    </tr>\n",
              "    <tr>\n",
              "      <th>50%</th>\n",
              "      <td>59.000000</td>\n",
              "    </tr>\n",
              "    <tr>\n",
              "      <th>75%</th>\n",
              "      <td>60.000000</td>\n",
              "    </tr>\n",
              "    <tr>\n",
              "      <th>max</th>\n",
              "      <td>60.000000</td>\n",
              "    </tr>\n",
              "  </tbody>\n",
              "</table>\n",
              "</div>\n",
              "      <button class=\"colab-df-convert\" onclick=\"convertToInteractive('df-07f6d33d-55f2-4412-a998-f6b3d160185d')\"\n",
              "              title=\"Convert this dataframe to an interactive table.\"\n",
              "              style=\"display:none;\">\n",
              "        \n",
              "  <svg xmlns=\"http://www.w3.org/2000/svg\" height=\"24px\"viewBox=\"0 0 24 24\"\n",
              "       width=\"24px\">\n",
              "    <path d=\"M0 0h24v24H0V0z\" fill=\"none\"/>\n",
              "    <path d=\"M18.56 5.44l.94 2.06.94-2.06 2.06-.94-2.06-.94-.94-2.06-.94 2.06-2.06.94zm-11 1L8.5 8.5l.94-2.06 2.06-.94-2.06-.94L8.5 2.5l-.94 2.06-2.06.94zm10 10l.94 2.06.94-2.06 2.06-.94-2.06-.94-.94-2.06-.94 2.06-2.06.94z\"/><path d=\"M17.41 7.96l-1.37-1.37c-.4-.4-.92-.59-1.43-.59-.52 0-1.04.2-1.43.59L10.3 9.45l-7.72 7.72c-.78.78-.78 2.05 0 2.83L4 21.41c.39.39.9.59 1.41.59.51 0 1.02-.2 1.41-.59l7.78-7.78 2.81-2.81c.8-.78.8-2.07 0-2.86zM5.41 20L4 18.59l7.72-7.72 1.47 1.35L5.41 20z\"/>\n",
              "  </svg>\n",
              "      </button>\n",
              "      \n",
              "  <style>\n",
              "    .colab-df-container {\n",
              "      display:flex;\n",
              "      flex-wrap:wrap;\n",
              "      gap: 12px;\n",
              "    }\n",
              "\n",
              "    .colab-df-convert {\n",
              "      background-color: #E8F0FE;\n",
              "      border: none;\n",
              "      border-radius: 50%;\n",
              "      cursor: pointer;\n",
              "      display: none;\n",
              "      fill: #1967D2;\n",
              "      height: 32px;\n",
              "      padding: 0 0 0 0;\n",
              "      width: 32px;\n",
              "    }\n",
              "\n",
              "    .colab-df-convert:hover {\n",
              "      background-color: #E2EBFA;\n",
              "      box-shadow: 0px 1px 2px rgba(60, 64, 67, 0.3), 0px 1px 3px 1px rgba(60, 64, 67, 0.15);\n",
              "      fill: #174EA6;\n",
              "    }\n",
              "\n",
              "    [theme=dark] .colab-df-convert {\n",
              "      background-color: #3B4455;\n",
              "      fill: #D2E3FC;\n",
              "    }\n",
              "\n",
              "    [theme=dark] .colab-df-convert:hover {\n",
              "      background-color: #434B5C;\n",
              "      box-shadow: 0px 1px 3px 1px rgba(0, 0, 0, 0.15);\n",
              "      filter: drop-shadow(0px 1px 2px rgba(0, 0, 0, 0.3));\n",
              "      fill: #FFFFFF;\n",
              "    }\n",
              "  </style>\n",
              "\n",
              "      <script>\n",
              "        const buttonEl =\n",
              "          document.querySelector('#df-07f6d33d-55f2-4412-a998-f6b3d160185d button.colab-df-convert');\n",
              "        buttonEl.style.display =\n",
              "          google.colab.kernel.accessAllowed ? 'block' : 'none';\n",
              "\n",
              "        async function convertToInteractive(key) {\n",
              "          const element = document.querySelector('#df-07f6d33d-55f2-4412-a998-f6b3d160185d');\n",
              "          const dataTable =\n",
              "            await google.colab.kernel.invokeFunction('convertToInteractive',\n",
              "                                                     [key], {});\n",
              "          if (!dataTable) return;\n",
              "\n",
              "          const docLinkHtml = 'Like what you see? Visit the ' +\n",
              "            '<a target=\"_blank\" href=https://colab.research.google.com/notebooks/data_table.ipynb>data table notebook</a>'\n",
              "            + ' to learn more about interactive tables.';\n",
              "          element.innerHTML = '';\n",
              "          dataTable['output_type'] = 'display_data';\n",
              "          await google.colab.output.renderOutput(dataTable, element);\n",
              "          const docLink = document.createElement('div');\n",
              "          docLink.innerHTML = docLinkHtml;\n",
              "          element.appendChild(docLink);\n",
              "        }\n",
              "      </script>\n",
              "    </div>\n",
              "  </div>\n",
              "  "
            ]
          },
          "metadata": {},
          "execution_count": 38
        }
      ]
    },
    {
      "cell_type": "code",
      "source": [
        "result.columns"
      ],
      "metadata": {
        "colab": {
          "base_uri": "https://localhost:8080/"
        },
        "id": "lk7Nc9uPzoJd",
        "outputId": "cbdc0970-9ca8-422b-b3dc-8b9115c845b0"
      },
      "execution_count": null,
      "outputs": [
        {
          "output_type": "execute_result",
          "data": {
            "text/plain": [
              "Index(['bh', 'bh_codes', 'TimeDiff', 'Events'], dtype='object')"
            ]
          },
          "metadata": {},
          "execution_count": 39
        }
      ]
    },
    {
      "cell_type": "code",
      "source": [
        "result = pd.merge(label_data[['MemberID', 'uid']], result, left_on='uid', right_on='uid_filled', how='right').drop(['uid'], axis=1)"
      ],
      "metadata": {
        "id": "PAvm-2erzoNq"
      },
      "execution_count": null,
      "outputs": []
    },
    {
      "cell_type": "code",
      "source": [
        "len(result)"
      ],
      "metadata": {
        "colab": {
          "base_uri": "https://localhost:8080/"
        },
        "id": "0y4fvL91BgOt",
        "outputId": "baa93196-20c3-48b0-9a48-24583a2ed68c"
      },
      "execution_count": null,
      "outputs": [
        {
          "output_type": "execute_result",
          "data": {
            "text/plain": [
              "83931"
            ]
          },
          "metadata": {},
          "execution_count": 41
        }
      ]
    },
    {
      "cell_type": "code",
      "source": [
        "result = pd.merge(result, label_data[['MemberID', 'TotalSalesAmount', 'VIP']], on='MemberID', how='right')"
      ],
      "metadata": {
        "id": "TYpJMvn8z9un"
      },
      "execution_count": null,
      "outputs": []
    },
    {
      "cell_type": "code",
      "source": [
        "result.to_csv('Session Event Sequence.csv', index=False)"
      ],
      "metadata": {
        "id": "LCou-W_s0cd-"
      },
      "execution_count": null,
      "outputs": []
    },
    {
      "cell_type": "code",
      "source": [
        "result.head()"
      ],
      "metadata": {
        "colab": {
          "base_uri": "https://localhost:8080/",
          "height": 424
        },
        "id": "KE0Rb29utiud",
        "outputId": "24ce8861-1e7e-427b-e1cb-3a80b054a4ba"
      },
      "execution_count": null,
      "outputs": [
        {
          "output_type": "execute_result",
          "data": {
            "text/plain": [
              "                                       MemberID  \\\n",
              "0  RSQpIPxqSK2ooLPuUwWw8HhTN73mFGsmGPEmdarbdGM=   \n",
              "1  AqBrlkHltks4neA3Fmtq+yfiI4F7aZGODqKPeF3zGsA=   \n",
              "2  x/e5hrkgQCnCkhBzvk8Hs8i5dnX4tHRlrjHtKm6yvLg=   \n",
              "3  r/d/6e+NmTz+PFg45srs0HNMcUh1sWlRP27kZifm69I=   \n",
              "4  wouxhlfcOpZcJH6lJhyuQ+4lV8b7X0foxY7YQiOQwC4=   \n",
              "\n",
              "                                                  bh  \\\n",
              "0  [viewmainpage, viewmainpage, viewmainpage, vie...   \n",
              "1  [viewcategory, viewproduct, viewproduct, viewp...   \n",
              "2  [traffic, viewcategory, traffic, traffic, traf...   \n",
              "3  [viewmainpage, viewmainpage, viewmainpage, vie...   \n",
              "4  [viewmainpage, viewmainpage, viewactivity, vie...   \n",
              "\n",
              "                                            bh_codes  \\\n",
              "0  [9, 9, 9, 9, 9, 9, 8, 9, 8, 9, 8, 8, 8, 8, 8, ...   \n",
              "1  [8, 10, 10, 10, 10, 10, 9, 9, 9, 8, 8, 10, 10,...   \n",
              "2  [6, 8, 6, 6, 6, 6, 6, 6, 6, 6, 6, 6, 6, 6, 6, ...   \n",
              "3  [9, 9, 9, 9, 9, 9, 9, 9, 10, 9, 9, 9, 8, 8, 9,...   \n",
              "4  [9, 9, 7, 9, 8, 8, 9, 8, 9, 8, 8, 9, 8, 9, 8, ...   \n",
              "\n",
              "                                            TimeDiff  Events  \\\n",
              "0  [0.0, 0.0, 0.0, 0.0, 0.0, 0.0, 0.0, 0.0, 0.0, ...      32   \n",
              "1  [0.0, 1.0, 0.0, 1.0, 0.0, 0.0, 0.0, 0.0, 0.0, ...      60   \n",
              "2  [0.0, 0.0, 0.0, 0.0, 0.0, 0.0, 0.0, 0.0, 0.0, ...      38   \n",
              "3  [0.0, 123.0, 0.0, 0.0, 79.0, 1.0, 1101.0, 0.0,...      60   \n",
              "4  [0.0, 0.0, 0.0, 0.0, 0.0, 0.0, 0.0, 0.0, 0.0, ...      56   \n",
              "\n",
              "   TotalSalesAmount  VIP  \n",
              "0               0.0  0.0  \n",
              "1               0.0  0.0  \n",
              "2               0.0  0.0  \n",
              "3            7612.0  1.0  \n",
              "4               0.0  0.0  "
            ],
            "text/html": [
              "\n",
              "  <div id=\"df-40a929c0-5826-40b6-93f6-f54b6f672335\">\n",
              "    <div class=\"colab-df-container\">\n",
              "      <div>\n",
              "<style scoped>\n",
              "    .dataframe tbody tr th:only-of-type {\n",
              "        vertical-align: middle;\n",
              "    }\n",
              "\n",
              "    .dataframe tbody tr th {\n",
              "        vertical-align: top;\n",
              "    }\n",
              "\n",
              "    .dataframe thead th {\n",
              "        text-align: right;\n",
              "    }\n",
              "</style>\n",
              "<table border=\"1\" class=\"dataframe\">\n",
              "  <thead>\n",
              "    <tr style=\"text-align: right;\">\n",
              "      <th></th>\n",
              "      <th>MemberID</th>\n",
              "      <th>bh</th>\n",
              "      <th>bh_codes</th>\n",
              "      <th>TimeDiff</th>\n",
              "      <th>Events</th>\n",
              "      <th>TotalSalesAmount</th>\n",
              "      <th>VIP</th>\n",
              "    </tr>\n",
              "  </thead>\n",
              "  <tbody>\n",
              "    <tr>\n",
              "      <th>0</th>\n",
              "      <td>RSQpIPxqSK2ooLPuUwWw8HhTN73mFGsmGPEmdarbdGM=</td>\n",
              "      <td>[viewmainpage, viewmainpage, viewmainpage, vie...</td>\n",
              "      <td>[9, 9, 9, 9, 9, 9, 8, 9, 8, 9, 8, 8, 8, 8, 8, ...</td>\n",
              "      <td>[0.0, 0.0, 0.0, 0.0, 0.0, 0.0, 0.0, 0.0, 0.0, ...</td>\n",
              "      <td>32</td>\n",
              "      <td>0.0</td>\n",
              "      <td>0.0</td>\n",
              "    </tr>\n",
              "    <tr>\n",
              "      <th>1</th>\n",
              "      <td>AqBrlkHltks4neA3Fmtq+yfiI4F7aZGODqKPeF3zGsA=</td>\n",
              "      <td>[viewcategory, viewproduct, viewproduct, viewp...</td>\n",
              "      <td>[8, 10, 10, 10, 10, 10, 9, 9, 9, 8, 8, 10, 10,...</td>\n",
              "      <td>[0.0, 1.0, 0.0, 1.0, 0.0, 0.0, 0.0, 0.0, 0.0, ...</td>\n",
              "      <td>60</td>\n",
              "      <td>0.0</td>\n",
              "      <td>0.0</td>\n",
              "    </tr>\n",
              "    <tr>\n",
              "      <th>2</th>\n",
              "      <td>x/e5hrkgQCnCkhBzvk8Hs8i5dnX4tHRlrjHtKm6yvLg=</td>\n",
              "      <td>[traffic, viewcategory, traffic, traffic, traf...</td>\n",
              "      <td>[6, 8, 6, 6, 6, 6, 6, 6, 6, 6, 6, 6, 6, 6, 6, ...</td>\n",
              "      <td>[0.0, 0.0, 0.0, 0.0, 0.0, 0.0, 0.0, 0.0, 0.0, ...</td>\n",
              "      <td>38</td>\n",
              "      <td>0.0</td>\n",
              "      <td>0.0</td>\n",
              "    </tr>\n",
              "    <tr>\n",
              "      <th>3</th>\n",
              "      <td>r/d/6e+NmTz+PFg45srs0HNMcUh1sWlRP27kZifm69I=</td>\n",
              "      <td>[viewmainpage, viewmainpage, viewmainpage, vie...</td>\n",
              "      <td>[9, 9, 9, 9, 9, 9, 9, 9, 10, 9, 9, 9, 8, 8, 9,...</td>\n",
              "      <td>[0.0, 123.0, 0.0, 0.0, 79.0, 1.0, 1101.0, 0.0,...</td>\n",
              "      <td>60</td>\n",
              "      <td>7612.0</td>\n",
              "      <td>1.0</td>\n",
              "    </tr>\n",
              "    <tr>\n",
              "      <th>4</th>\n",
              "      <td>wouxhlfcOpZcJH6lJhyuQ+4lV8b7X0foxY7YQiOQwC4=</td>\n",
              "      <td>[viewmainpage, viewmainpage, viewactivity, vie...</td>\n",
              "      <td>[9, 9, 7, 9, 8, 8, 9, 8, 9, 8, 8, 9, 8, 9, 8, ...</td>\n",
              "      <td>[0.0, 0.0, 0.0, 0.0, 0.0, 0.0, 0.0, 0.0, 0.0, ...</td>\n",
              "      <td>56</td>\n",
              "      <td>0.0</td>\n",
              "      <td>0.0</td>\n",
              "    </tr>\n",
              "  </tbody>\n",
              "</table>\n",
              "</div>\n",
              "      <button class=\"colab-df-convert\" onclick=\"convertToInteractive('df-40a929c0-5826-40b6-93f6-f54b6f672335')\"\n",
              "              title=\"Convert this dataframe to an interactive table.\"\n",
              "              style=\"display:none;\">\n",
              "        \n",
              "  <svg xmlns=\"http://www.w3.org/2000/svg\" height=\"24px\"viewBox=\"0 0 24 24\"\n",
              "       width=\"24px\">\n",
              "    <path d=\"M0 0h24v24H0V0z\" fill=\"none\"/>\n",
              "    <path d=\"M18.56 5.44l.94 2.06.94-2.06 2.06-.94-2.06-.94-.94-2.06-.94 2.06-2.06.94zm-11 1L8.5 8.5l.94-2.06 2.06-.94-2.06-.94L8.5 2.5l-.94 2.06-2.06.94zm10 10l.94 2.06.94-2.06 2.06-.94-2.06-.94-.94-2.06-.94 2.06-2.06.94z\"/><path d=\"M17.41 7.96l-1.37-1.37c-.4-.4-.92-.59-1.43-.59-.52 0-1.04.2-1.43.59L10.3 9.45l-7.72 7.72c-.78.78-.78 2.05 0 2.83L4 21.41c.39.39.9.59 1.41.59.51 0 1.02-.2 1.41-.59l7.78-7.78 2.81-2.81c.8-.78.8-2.07 0-2.86zM5.41 20L4 18.59l7.72-7.72 1.47 1.35L5.41 20z\"/>\n",
              "  </svg>\n",
              "      </button>\n",
              "      \n",
              "  <style>\n",
              "    .colab-df-container {\n",
              "      display:flex;\n",
              "      flex-wrap:wrap;\n",
              "      gap: 12px;\n",
              "    }\n",
              "\n",
              "    .colab-df-convert {\n",
              "      background-color: #E8F0FE;\n",
              "      border: none;\n",
              "      border-radius: 50%;\n",
              "      cursor: pointer;\n",
              "      display: none;\n",
              "      fill: #1967D2;\n",
              "      height: 32px;\n",
              "      padding: 0 0 0 0;\n",
              "      width: 32px;\n",
              "    }\n",
              "\n",
              "    .colab-df-convert:hover {\n",
              "      background-color: #E2EBFA;\n",
              "      box-shadow: 0px 1px 2px rgba(60, 64, 67, 0.3), 0px 1px 3px 1px rgba(60, 64, 67, 0.15);\n",
              "      fill: #174EA6;\n",
              "    }\n",
              "\n",
              "    [theme=dark] .colab-df-convert {\n",
              "      background-color: #3B4455;\n",
              "      fill: #D2E3FC;\n",
              "    }\n",
              "\n",
              "    [theme=dark] .colab-df-convert:hover {\n",
              "      background-color: #434B5C;\n",
              "      box-shadow: 0px 1px 3px 1px rgba(0, 0, 0, 0.15);\n",
              "      filter: drop-shadow(0px 1px 2px rgba(0, 0, 0, 0.3));\n",
              "      fill: #FFFFFF;\n",
              "    }\n",
              "  </style>\n",
              "\n",
              "      <script>\n",
              "        const buttonEl =\n",
              "          document.querySelector('#df-40a929c0-5826-40b6-93f6-f54b6f672335 button.colab-df-convert');\n",
              "        buttonEl.style.display =\n",
              "          google.colab.kernel.accessAllowed ? 'block' : 'none';\n",
              "\n",
              "        async function convertToInteractive(key) {\n",
              "          const element = document.querySelector('#df-40a929c0-5826-40b6-93f6-f54b6f672335');\n",
              "          const dataTable =\n",
              "            await google.colab.kernel.invokeFunction('convertToInteractive',\n",
              "                                                     [key], {});\n",
              "          if (!dataTable) return;\n",
              "\n",
              "          const docLinkHtml = 'Like what you see? Visit the ' +\n",
              "            '<a target=\"_blank\" href=https://colab.research.google.com/notebooks/data_table.ipynb>data table notebook</a>'\n",
              "            + ' to learn more about interactive tables.';\n",
              "          element.innerHTML = '';\n",
              "          dataTable['output_type'] = 'display_data';\n",
              "          await google.colab.output.renderOutput(dataTable, element);\n",
              "          const docLink = document.createElement('div');\n",
              "          docLink.innerHTML = docLinkHtml;\n",
              "          element.appendChild(docLink);\n",
              "        }\n",
              "      </script>\n",
              "    </div>\n",
              "  </div>\n",
              "  "
            ]
          },
          "metadata": {},
          "execution_count": 44
        }
      ]
    },
    {
      "cell_type": "code",
      "source": [
        ""
      ],
      "metadata": {
        "id": "2z3xwz_n_yiz"
      },
      "execution_count": null,
      "outputs": []
    }
  ],
  "metadata": {
    "colab": {
      "collapsed_sections": [],
      "name": "Event Sequence Preprocessor",
      "provenance": []
    },
    "kernelspec": {
      "display_name": "Python 3",
      "name": "python3"
    },
    "language_info": {
      "name": "python"
    }
  },
  "nbformat": 4,
  "nbformat_minor": 0
}